{
 "cells": [
  {
   "cell_type": "code",
   "execution_count": 1,
   "metadata": {
    "collapsed": true
   },
   "outputs": [],
   "source": [
    "import pandas as pd\n",
    "import nltk\n",
    "import numpy as np\n",
    "import matplotlib.pyplot as plt\n",
    "import matplotlib\n",
    "import seaborn as sns\n",
    "import statsmodels\n",
    "%matplotlib inline"
   ]
  },
  {
   "cell_type": "code",
   "execution_count": 2,
   "metadata": {
    "collapsed": false
   },
   "outputs": [
    {
     "data": {
      "text/html": [
       "<div>\n",
       "<table border=\"1\" class=\"dataframe\">\n",
       "  <thead>\n",
       "    <tr style=\"text-align: right;\">\n",
       "      <th></th>\n",
       "      <th>MESH_INTERVENTION_ID</th>\n",
       "      <th>NCT_ID</th>\n",
       "      <th>MESH_TERM</th>\n",
       "    </tr>\n",
       "  </thead>\n",
       "  <tbody>\n",
       "    <tr>\n",
       "      <th>0</th>\n",
       "      <td>42</td>\n",
       "      <td>NCT00000173</td>\n",
       "      <td>Vitamins</td>\n",
       "    </tr>\n",
       "    <tr>\n",
       "      <th>1</th>\n",
       "      <td>43</td>\n",
       "      <td>NCT00000174</td>\n",
       "      <td>Rivastigmine</td>\n",
       "    </tr>\n",
       "    <tr>\n",
       "      <th>2</th>\n",
       "      <td>44</td>\n",
       "      <td>NCT00000176</td>\n",
       "      <td>Estrogens</td>\n",
       "    </tr>\n",
       "    <tr>\n",
       "      <th>3</th>\n",
       "      <td>45</td>\n",
       "      <td>NCT00000177</td>\n",
       "      <td>Estrogens</td>\n",
       "    </tr>\n",
       "    <tr>\n",
       "      <th>4</th>\n",
       "      <td>46</td>\n",
       "      <td>NCT00000178</td>\n",
       "      <td>Prednisone</td>\n",
       "    </tr>\n",
       "  </tbody>\n",
       "</table>\n",
       "</div>"
      ],
      "text/plain": [
       "   MESH_INTERVENTION_ID       NCT_ID     MESH_TERM\n",
       "0                    42  NCT00000173      Vitamins\n",
       "1                    43  NCT00000174  Rivastigmine\n",
       "2                    44  NCT00000176     Estrogens\n",
       "3                    45  NCT00000177     Estrogens\n",
       "4                    46  NCT00000178    Prednisone"
      ]
     },
     "execution_count": 2,
     "metadata": {},
     "output_type": "execute_result"
    }
   ],
   "source": [
    "treatments = pd.read_csv(\"intervention_browse.txt\", sep='|')\n",
    "treatments.head()"
   ]
  },
  {
   "cell_type": "code",
   "execution_count": 5,
   "metadata": {
    "collapsed": false
   },
   "outputs": [
    {
     "data": {
      "text/plain": [
       "Paclitaxel                          1884\n",
       "Cyclophosphamide                    1666\n",
       "Gemcitabine                         1593\n",
       "Antibodies, Monoclonal              1569\n",
       "Bevacizumab                         1551\n",
       "Cisplatin                           1531\n",
       "Insulin                             1470\n",
       "Vitamins                            1466\n",
       "Carboplatin                         1439\n",
       "Dexamethasone                       1402\n",
       "Sirolimus                           1367\n",
       "Everolimus                          1334\n",
       "Docetaxel                           1304\n",
       "Dexamethasone acetate               1290\n",
       "BB 1101                             1290\n",
       "Dexamethasone 21-phosphate          1290\n",
       "Anesthetics                         1289\n",
       "Doxorubicin                         1261\n",
       "Rituximab                           1220\n",
       "Metformin                           1184\n",
       "Liposomal doxorubicin               1168\n",
       "Fluorouracil                        1119\n",
       "Pharmaceutical Solutions            1115\n",
       "Insulin, Globin Zinc                1073\n",
       "Vitamin D                           1046\n",
       "Capecitabine                        1015\n",
       "Oxaliplatin                          938\n",
       "Ergocalciferols                      901\n",
       "Antibodies                           869\n",
       "Interferon-alpha                     857\n",
       "Interferons                          839\n",
       "Methotrexate                         790\n",
       "Irinotecan                           783\n",
       "Fludarabine                          765\n",
       "Thalidomide                          758\n",
       "Prednisolone                         725\n",
       "Methylprednisolone                   699\n",
       "Mycophenolate mofetil                688\n",
       "Fludarabine phosphate                686\n",
       "Methylprednisolone acetate           683\n",
       "Prednisolone phosphate               682\n",
       "Prednisolone hemisuccinate           682\n",
       "Methylprednisolone Hemisuccinate     682\n",
       "Prednisolone acetate                 682\n",
       "Ribavirin                            681\n",
       "Bortezomib                           678\n",
       "Mycophenolic Acid                    676\n",
       "Erlotinib                            673\n",
       "Vincristine                          638\n",
       "Prednisone                           634\n",
       "Name: MESH_TERM, dtype: int64"
      ]
     },
     "execution_count": 5,
     "metadata": {},
     "output_type": "execute_result"
    }
   ],
   "source": [
    "treatments['MESH_TERM'].value_counts()[0:50]"
   ]
  },
  {
   "cell_type": "code",
   "execution_count": null,
   "metadata": {
    "collapsed": true
   },
   "outputs": [],
   "source": [
    "#would like to group by type of drug:\n",
    "categories = {'DNA/RNA disruption': ['Cisplatin', 'Fluorouracil', 'Doxorubicin',\n",
    "                                     'liposomal doxorubicin',\n",
    "                                     'Methotrexate', 'Oxaliplatin' 'Fludarabine *',\n",
    "                                    'Irinotecan', 'Capecitabine', 'Cyclophoshamide'],\n",
    "              'antibodies': ['Antibodies', 'Antibodies, Monoclonal', 'Bevacizumab', 'Rituximab'],\n",
    "              'immunosuppressants': ['Prednisolone *', 'Methylprendisolone *', 'Presidone',\n",
    "                          'Dexamethasone *', 'Everolimus', 'Sirolimus', 'Mycophenolate mofetil'],\n",
    "              'immune stimulators': ['Interferon*']\n",
    "              'growth inhibitor': ['Paclitaxel', 'Docetaxel', 'Vincristine'],\n",
    "              'antiviral': ['Ribavirin'],\n",
    "              'unstated': ['Pharmaceutical Solutions'],\n",
    "              'vitamins': ['Vitamins', 'Vitamin D', 'Ergocalciferols'], \n",
    "              'insulin/diabetes': ['Insulin', 'Insulin, Globin Zinc', 'Metformin']\n",
    "              'anesthetics': ['Anesthetics'],\n",
    "              'specific enzyme inhibitors': ['Erlotinib', 'Bortezomib', 'BB 1101']}\n",
    "\n",
    "\n"
   ]
  }
 ],
 "metadata": {
  "kernelspec": {
   "display_name": "Python 3",
   "language": "python",
   "name": "python3"
  },
  "language_info": {
   "codemirror_mode": {
    "name": "ipython",
    "version": 3
   },
   "file_extension": ".py",
   "mimetype": "text/x-python",
   "name": "python",
   "nbconvert_exporter": "python",
   "pygments_lexer": "ipython3",
   "version": "3.5.2"
  }
 },
 "nbformat": 4,
 "nbformat_minor": 0
}
