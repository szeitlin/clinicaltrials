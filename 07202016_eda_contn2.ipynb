{
 "cells": [
  {
   "cell_type": "code",
   "execution_count": 1,
   "metadata": {
    "collapsed": true
   },
   "outputs": [],
   "source": [
    "import pandas as pd\n",
    "import nltk\n",
    "from collections import defaultdict\n",
    "import numpy as np\n",
    "import matplotlib.pyplot as plt\n",
    "import matplotlib\n",
    "import seaborn as sns\n",
    "import statsmodels\n",
    "%matplotlib inline"
   ]
  },
  {
   "cell_type": "code",
   "execution_count": 2,
   "metadata": {
    "collapsed": false
   },
   "outputs": [
    {
     "data": {
      "text/html": [
       "<div>\n",
       "<table border=\"1\" class=\"dataframe\">\n",
       "  <thead>\n",
       "    <tr style=\"text-align: right;\">\n",
       "      <th></th>\n",
       "      <th>MESH_INTERVENTION_ID</th>\n",
       "      <th>NCT_ID</th>\n",
       "      <th>MESH_TERM</th>\n",
       "    </tr>\n",
       "  </thead>\n",
       "  <tbody>\n",
       "    <tr>\n",
       "      <th>0</th>\n",
       "      <td>42</td>\n",
       "      <td>NCT00000173</td>\n",
       "      <td>Vitamins</td>\n",
       "    </tr>\n",
       "    <tr>\n",
       "      <th>1</th>\n",
       "      <td>43</td>\n",
       "      <td>NCT00000174</td>\n",
       "      <td>Rivastigmine</td>\n",
       "    </tr>\n",
       "    <tr>\n",
       "      <th>2</th>\n",
       "      <td>44</td>\n",
       "      <td>NCT00000176</td>\n",
       "      <td>Estrogens</td>\n",
       "    </tr>\n",
       "    <tr>\n",
       "      <th>3</th>\n",
       "      <td>45</td>\n",
       "      <td>NCT00000177</td>\n",
       "      <td>Estrogens</td>\n",
       "    </tr>\n",
       "    <tr>\n",
       "      <th>4</th>\n",
       "      <td>46</td>\n",
       "      <td>NCT00000178</td>\n",
       "      <td>Prednisone</td>\n",
       "    </tr>\n",
       "  </tbody>\n",
       "</table>\n",
       "</div>"
      ],
      "text/plain": [
       "   MESH_INTERVENTION_ID       NCT_ID     MESH_TERM\n",
       "0                    42  NCT00000173      Vitamins\n",
       "1                    43  NCT00000174  Rivastigmine\n",
       "2                    44  NCT00000176     Estrogens\n",
       "3                    45  NCT00000177     Estrogens\n",
       "4                    46  NCT00000178    Prednisone"
      ]
     },
     "execution_count": 2,
     "metadata": {},
     "output_type": "execute_result"
    }
   ],
   "source": [
    "treatments = pd.read_csv(\"intervention_browse.txt\", sep='|')\n",
    "treatments.head()"
   ]
  },
  {
   "cell_type": "code",
   "execution_count": 5,
   "metadata": {
    "collapsed": false
   },
   "outputs": [
    {
     "data": {
      "text/plain": [
       "Paclitaxel                          1884\n",
       "Cyclophosphamide                    1666\n",
       "Gemcitabine                         1593\n",
       "Antibodies, Monoclonal              1569\n",
       "Bevacizumab                         1551\n",
       "Cisplatin                           1531\n",
       "Insulin                             1470\n",
       "Vitamins                            1466\n",
       "Carboplatin                         1439\n",
       "Dexamethasone                       1402\n",
       "Sirolimus                           1367\n",
       "Everolimus                          1334\n",
       "Docetaxel                           1304\n",
       "Dexamethasone acetate               1290\n",
       "BB 1101                             1290\n",
       "Dexamethasone 21-phosphate          1290\n",
       "Anesthetics                         1289\n",
       "Doxorubicin                         1261\n",
       "Rituximab                           1220\n",
       "Metformin                           1184\n",
       "Liposomal doxorubicin               1168\n",
       "Fluorouracil                        1119\n",
       "Pharmaceutical Solutions            1115\n",
       "Insulin, Globin Zinc                1073\n",
       "Vitamin D                           1046\n",
       "Capecitabine                        1015\n",
       "Oxaliplatin                          938\n",
       "Ergocalciferols                      901\n",
       "Antibodies                           869\n",
       "Interferon-alpha                     857\n",
       "Interferons                          839\n",
       "Methotrexate                         790\n",
       "Irinotecan                           783\n",
       "Fludarabine                          765\n",
       "Thalidomide                          758\n",
       "Prednisolone                         725\n",
       "Methylprednisolone                   699\n",
       "Mycophenolate mofetil                688\n",
       "Fludarabine phosphate                686\n",
       "Methylprednisolone acetate           683\n",
       "Prednisolone phosphate               682\n",
       "Prednisolone hemisuccinate           682\n",
       "Methylprednisolone Hemisuccinate     682\n",
       "Prednisolone acetate                 682\n",
       "Ribavirin                            681\n",
       "Bortezomib                           678\n",
       "Mycophenolic Acid                    676\n",
       "Erlotinib                            673\n",
       "Vincristine                          638\n",
       "Prednisone                           634\n",
       "Name: MESH_TERM, dtype: int64"
      ]
     },
     "execution_count": 5,
     "metadata": {},
     "output_type": "execute_result"
    }
   ],
   "source": [
    "treatments['MESH_TERM'].value_counts()[0:50]"
   ]
  },
  {
   "cell_type": "code",
   "execution_count": 8,
   "metadata": {
    "collapsed": false
   },
   "outputs": [],
   "source": [
    "#would like to group by type of drug:\n",
    "categories = {'DNA/RNA disruption': ['Cisplatin', 'Fluorouracil', 'Doxorubicin',\n",
    "                                     'liposomal doxorubicin',\n",
    "                                     'Methotrexate', 'Oxaliplatin', \n",
    "                                     'Fludarabine', 'Fludarabine phosphate',\n",
    "                                    'Irinotecan', 'Capecitabine', 'Cyclophoshamide'],\n",
    "              'antibodies': ['Antibodies', 'Antibodies, Monoclonal', 'Bevacizumab', 'Rituximab'],\n",
    "              'immunosuppressants': [['Prednisone', 'Prednisolone', 'Prednisolone acetate',\n",
    "                                       'Prednisolone hemisuccinate', 'Prednisolone phosphate',\n",
    "                                      'Methylprednisolone acetate', 'Methylprednisolone',\n",
    "                                       'Methylprednisolone Hemisuccinate', \n",
    "                                      'Methylprednisolone aceponate', 'Prednisone',\n",
    "                                      'Dexamethasone', 'Dexamethasone 21-phosphate',\n",
    "                                       'Dexamethasone acetate',\n",
    "                                       'Dexamethasone, neomycin, polymyxin B drug combination' \n",
    "                                      'Everolimus', 'Sirolimus', \n",
    "                                      'Mycophenolate mofetil'],\n",
    "              'immune stimulators': ['Interferon-alpha', 'Interferons', 'Interferon beta-1b',\n",
    "                                   'Interferon-beta', 'Interferon-gamma', 'Interferon beta 1a',\n",
    "                                   'Interferon Type I', 'Interferon omega 1', \n",
    "                                   'Interferon alfacon-1'],\n",
    "              'growth inhibitor': ['Paclitaxel', 'Docetaxel', 'Vincristine'],\n",
    "              'antiviral': ['Ribavirin'],\n",
    "              'unstated': ['Pharmaceutical Solutions'],\n",
    "              'vitamins': ['Vitamins', 'Vitamin D', 'Ergocalciferols'], \n",
    "              'insulin/diabetes': ['Insulin', 'Insulin, Globin Zinc', 'Metformin'],\n",
    "              'anesthetics': ['Anesthetics'],\n",
    "              'specific enzyme inhibitors': ['Erlotinib', 'Bortezomib', 'BB 1101']}\n",
    "\n",
    "\n",
    "#need to make custom stemmers for these, I guess"
   ]
  },
  {
   "cell_type": "code",
   "execution_count": 10,
   "metadata": {
    "collapsed": false
   },
   "outputs": [
    {
     "data": {
      "text/plain": [
       "array(['Prednisone', 'Prednisolone', 'Prednisolone acetate',\n",
       "       'Prednisolone hemisuccinate', 'Prednisolone phosphate'], dtype=object)"
      ]
     },
     "execution_count": 10,
     "metadata": {},
     "output_type": "execute_result"
    }
   ],
   "source": [
    "prednis = pd.Series([x for x in treatments['MESH_TERM'] if 'Prednis'in x]).unique()\n",
    "prednis"
   ]
  },
  {
   "cell_type": "code",
   "execution_count": 12,
   "metadata": {
    "collapsed": false
   },
   "outputs": [
    {
     "data": {
      "text/plain": [
       "array(['Methylprednisolone acetate', 'Methylprednisolone',\n",
       "       'Methylprednisolone Hemisuccinate', 'Methylprednisolone aceponate'], dtype=object)"
      ]
     },
     "execution_count": 12,
     "metadata": {},
     "output_type": "execute_result"
    }
   ],
   "source": [
    "methylprednis = pd.Series([x for x in treatments['MESH_TERM'] if 'Methylprednis'in x]).unique()\n",
    "methylprednis"
   ]
  },
  {
   "cell_type": "code",
   "execution_count": 13,
   "metadata": {
    "collapsed": false
   },
   "outputs": [
    {
     "data": {
      "text/plain": [
       "array(['Dexamethasone', 'Dexamethasone 21-phosphate',\n",
       "       'Dexamethasone acetate',\n",
       "       'Dexamethasone, neomycin, polymyxin B drug combination'], dtype=object)"
      ]
     },
     "execution_count": 13,
     "metadata": {},
     "output_type": "execute_result"
    }
   ],
   "source": [
    "dexameth = pd.Series([x for x in treatments['MESH_TERM'] if 'Dexameth' in x]).unique()\n",
    "dexameth"
   ]
  },
  {
   "cell_type": "code",
   "execution_count": 2,
   "metadata": {
    "collapsed": true
   },
   "outputs": [],
   "source": [
    "def get_synonyms(df, colname, stem):\n",
    "    \"\"\" Pseudo custom stem-based searching\"\"\"\n",
    "    return pd.Series([x for x in df[colname] if stem in x]).unique()"
   ]
  },
  {
   "cell_type": "code",
   "execution_count": 15,
   "metadata": {
    "collapsed": false
   },
   "outputs": [
    {
     "data": {
      "text/plain": [
       "array(['Interferon-alpha', 'Interferons', 'Interferon beta-1b',\n",
       "       'Interferon-beta', 'Interferon-gamma', 'Interferon beta 1a',\n",
       "       'Interferon Type I', 'Interferon omega 1', 'Interferon alfacon-1'], dtype=object)"
      ]
     },
     "execution_count": 15,
     "metadata": {},
     "output_type": "execute_result"
    }
   ],
   "source": [
    "get_synonyms(treatments, 'MESH_TERM', 'Interferon')"
   ]
  },
  {
   "cell_type": "code",
   "execution_count": 16,
   "metadata": {
    "collapsed": false
   },
   "outputs": [
    {
     "data": {
      "text/plain": [
       "array(['Fludarabine', 'Fludarabine phosphate'], dtype=object)"
      ]
     },
     "execution_count": 16,
     "metadata": {},
     "output_type": "execute_result"
    }
   ],
   "source": [
    "get_synonyms(treatments, 'MESH_TERM', 'Fludarabine')"
   ]
  },
  {
   "cell_type": "code",
   "execution_count": 18,
   "metadata": {
    "collapsed": true
   },
   "outputs": [],
   "source": [
    "def tokenize_and_count(df, colname, categories):\n",
    "    \"\"\" First use get_synonyms to help make categories\"\"\"\n",
    "    \n",
    "    tokenized = [nltk.word_tokenize(x) for x in df[colname]] #this is slow\n",
    "    \n",
    "    counted = defaultdict(int)\n",
    "    \n",
    "    for cat in categories.keys():\n",
    "        for token in tokenized:\n",
    "             for label in categories[cat]:\n",
    "                if label in token:\n",
    "                    counted[cat] +=1\n",
    "    return dict(counted)"
   ]
  },
  {
   "cell_type": "code",
   "execution_count": 22,
   "metadata": {
    "collapsed": false
   },
   "outputs": [
    {
     "data": {
      "text/plain": [
       "{'DNA/RNA disruption': 6499,\n",
       " 'anesthetics': 1593,\n",
       " 'antibodies': 5277,\n",
       " 'antiviral': 681,\n",
       " 'growth inhibitor': 3826,\n",
       " 'immunosuppressants': 2701,\n",
       " 'insulin/diabetes': 4930,\n",
       " 'specific enzyme inhibitors': 1351,\n",
       " 'vitamins': 2367}"
      ]
     },
     "execution_count": 22,
     "metadata": {},
     "output_type": "execute_result"
    }
   ],
   "source": [
    "drugs = tokenize_and_count(treatments, 'MESH_TERM', categories)\n",
    "drugs"
   ]
  },
  {
   "cell_type": "code",
   "execution_count": 25,
   "metadata": {
    "collapsed": false
   },
   "outputs": [
    {
     "data": {
      "text/plain": [
       "[None, None, None, None, None, None, None, None]"
      ]
     },
     "execution_count": 25,
     "metadata": {},
     "output_type": "execute_result"
    },
    {
     "data": {
      "image/png": "[encoded data removed]",
      "text/plain": [
       "<matplotlib.figure.Figure at 0x11552e278>"
      ]
     },
     "metadata": {},
     "output_type": "display_data"
    }
   ],
   "source": [
    "    sns.set_context('poster', font_scale=1.5)\n",
    "    sns.barplot(list(drugs.values()), list(drugs.keys()))\n",
    "    locs, labels = plt.xticks()\n",
    "    plt.setp(labels, rotation=90)"
   ]
  },
  {
   "cell_type": "code",
   "execution_count": 4,
   "metadata": {
    "collapsed": false
   },
   "outputs": [
    {
     "data": {
      "text/html": [
       "<div>\n",
       "<table border=\"1\" class=\"dataframe\">\n",
       "  <thead>\n",
       "    <tr style=\"text-align: right;\">\n",
       "      <th></th>\n",
       "      <th>AUTHORITY_ID</th>\n",
       "      <th>NCT_ID</th>\n",
       "      <th>AUTHORITY</th>\n",
       "    </tr>\n",
       "  </thead>\n",
       "  <tbody>\n",
       "    <tr>\n",
       "      <th>0</th>\n",
       "      <td>173</td>\n",
       "      <td>NCT00000335</td>\n",
       "      <td>United States: Federal Government</td>\n",
       "    </tr>\n",
       "    <tr>\n",
       "      <th>1</th>\n",
       "      <td>174</td>\n",
       "      <td>NCT00000336</td>\n",
       "      <td>United States: Federal Government</td>\n",
       "    </tr>\n",
       "    <tr>\n",
       "      <th>2</th>\n",
       "      <td>175</td>\n",
       "      <td>NCT00000337</td>\n",
       "      <td>United States: Federal Government</td>\n",
       "    </tr>\n",
       "    <tr>\n",
       "      <th>3</th>\n",
       "      <td>176</td>\n",
       "      <td>NCT00000338</td>\n",
       "      <td>United States: Federal Government</td>\n",
       "    </tr>\n",
       "    <tr>\n",
       "      <th>4</th>\n",
       "      <td>177</td>\n",
       "      <td>NCT00000339</td>\n",
       "      <td>United States: Federal Government</td>\n",
       "    </tr>\n",
       "  </tbody>\n",
       "</table>\n",
       "</div>"
      ],
      "text/plain": [
       "   AUTHORITY_ID       NCT_ID                          AUTHORITY\n",
       "0           173  NCT00000335  United States: Federal Government\n",
       "1           174  NCT00000336  United States: Federal Government\n",
       "2           175  NCT00000337  United States: Federal Government\n",
       "3           176  NCT00000338  United States: Federal Government\n",
       "4           177  NCT00000339  United States: Federal Government"
      ]
     },
     "execution_count": 4,
     "metadata": {},
     "output_type": "execute_result"
    }
   ],
   "source": [
    "places = pd.read_csv(\"authorities.txt\", sep='|')\n",
    "places.head()"
   ]
  },
  {
   "cell_type": "code",
   "execution_count": 8,
   "metadata": {
    "collapsed": false
   },
   "outputs": [
    {
     "data": {
      "text/plain": [
       "818"
      ]
     },
     "execution_count": 8,
     "metadata": {},
     "output_type": "execute_result"
    }
   ],
   "source": [
    "US = get_synonyms(places, 'AUTHORITY', 'United States')\n",
    "len(US)"
   ]
  },
  {
   "cell_type": "code",
   "execution_count": 15,
   "metadata": {
    "collapsed": false
   },
   "outputs": [
    {
     "data": {
      "text/plain": [
       "589"
      ]
     },
     "execution_count": 15,
     "metadata": {},
     "output_type": "execute_result"
    }
   ],
   "source": [
    "Germany = get_synonyms(places, 'AUTHORITY', 'Germany')\n",
    "len(Germany)"
   ]
  },
  {
   "cell_type": "code",
   "execution_count": 14,
   "metadata": {
    "collapsed": false
   },
   "outputs": [
    {
     "data": {
      "text/plain": [
       "359"
      ]
     },
     "execution_count": 14,
     "metadata": {},
     "output_type": "execute_result"
    }
   ],
   "source": [
    "Canada = get_synonyms(places, 'AUTHORITY', 'Canada')\n",
    "len(Canada)"
   ]
  },
  {
   "cell_type": "code",
   "execution_count": 13,
   "metadata": {
    "collapsed": false
   },
   "outputs": [
    {
     "data": {
      "text/plain": [
       "604"
      ]
     },
     "execution_count": 13,
     "metadata": {},
     "output_type": "execute_result"
    }
   ],
   "source": [
    "France = get_synonyms(places, 'AUTHORITY', 'France')\n",
    "len(France)"
   ]
  },
  {
   "cell_type": "code",
   "execution_count": 11,
   "metadata": {
    "collapsed": false
   },
   "outputs": [
    {
     "data": {
      "text/plain": [
       "275"
      ]
     },
     "execution_count": 11,
     "metadata": {},
     "output_type": "execute_result"
    }
   ],
   "source": [
    "UK = get_synonyms(places, 'AUTHORITY', 'United Kingdom')\n",
    "len(UK)"
   ]
  },
  {
   "cell_type": "code",
   "execution_count": 12,
   "metadata": {
    "collapsed": false
   },
   "outputs": [
    {
     "data": {
      "text/plain": [
       "409"
      ]
     },
     "execution_count": 12,
     "metadata": {},
     "output_type": "execute_result"
    }
   ],
   "source": [
    "China = get_synonyms(places, 'AUTHORITY', 'China')\n",
    "len(China)"
   ]
  },
  {
   "cell_type": "code",
   "execution_count": 16,
   "metadata": {
    "collapsed": true
   },
   "outputs": [],
   "source": [
    "governments = {'United States': US, 'Germany': Germany, 'Canada': Canada, 'France': France,\n",
    "              'United Kingdom': UK, 'China': China}"
   ]
  },
  {
   "cell_type": "code",
   "execution_count": 19,
   "metadata": {
    "collapsed": false
   },
   "outputs": [
    {
     "data": {
      "text/plain": [
       "{}"
      ]
     },
     "execution_count": 19,
     "metadata": {},
     "output_type": "execute_result"
    }
   ],
   "source": [
    "tokenize_and_count(places, 'AUTHORITY', governments)"
   ]
  },
  {
   "cell_type": "code",
   "execution_count": null,
   "metadata": {
    "collapsed": true
   },
   "outputs": [],
   "source": []
  }
 ],
 "metadata": {
  "kernelspec": {
   "display_name": "Python 3",
   "language": "python",
   "name": "python3"
  },
  "language_info": {
   "codemirror_mode": {
    "name": "ipython",
    "version": 3
   },
   "file_extension": ".py",
   "mimetype": "text/x-python",
   "name": "python",
   "nbconvert_exporter": "python",
   "pygments_lexer": "ipython3",
   "version": "3.5.2"
  }
 },
 "nbformat": 4,
 "nbformat_minor": 0
}
