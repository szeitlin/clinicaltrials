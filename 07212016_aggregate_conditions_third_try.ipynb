{
 "cells": [
  {
   "cell_type": "code",
   "execution_count": 1,
   "metadata": {
    "collapsed": true
   },
   "outputs": [],
   "source": [
    "import nltk\n",
    "from nltk.tokenize import MWETokenizer\n",
    "import pandas as pd\n",
    "from collections import defaultdict\n",
    "import matplotlib.pyplot as plt\n",
    "import matplotlib\n",
    "import seaborn as sns\n",
    "import statsmodels\n",
    "%matplotlib inline"
   ]
  },
  {
   "cell_type": "code",
   "execution_count": 2,
   "metadata": {
    "collapsed": false
   },
   "outputs": [
    {
     "data": {
      "text/html": [
       "<div>\n",
       "<table border=\"1\" class=\"dataframe\">\n",
       "  <thead>\n",
       "    <tr style=\"text-align: right;\">\n",
       "      <th></th>\n",
       "      <th>CONDITION_ID</th>\n",
       "      <th>NCT_ID</th>\n",
       "      <th>CONDITION</th>\n",
       "    </tr>\n",
       "  </thead>\n",
       "  <tbody>\n",
       "    <tr>\n",
       "      <th>0</th>\n",
       "      <td>150</td>\n",
       "      <td>NCT00000262</td>\n",
       "      <td>Substance-Related Disorders</td>\n",
       "    </tr>\n",
       "    <tr>\n",
       "      <th>1</th>\n",
       "      <td>151</td>\n",
       "      <td>NCT00000263</td>\n",
       "      <td>Opioid-Related Disorders</td>\n",
       "    </tr>\n",
       "    <tr>\n",
       "      <th>2</th>\n",
       "      <td>152</td>\n",
       "      <td>NCT00000263</td>\n",
       "      <td>Substance-Related Disorders</td>\n",
       "    </tr>\n",
       "    <tr>\n",
       "      <th>3</th>\n",
       "      <td>153</td>\n",
       "      <td>NCT00000264</td>\n",
       "      <td>Opioid-Related Disorders</td>\n",
       "    </tr>\n",
       "    <tr>\n",
       "      <th>4</th>\n",
       "      <td>154</td>\n",
       "      <td>NCT00000264</td>\n",
       "      <td>Substance-Related Disorders</td>\n",
       "    </tr>\n",
       "  </tbody>\n",
       "</table>\n",
       "</div>"
      ],
      "text/plain": [
       "   CONDITION_ID       NCT_ID                    CONDITION\n",
       "0           150  NCT00000262  Substance-Related Disorders\n",
       "1           151  NCT00000263     Opioid-Related Disorders\n",
       "2           152  NCT00000263  Substance-Related Disorders\n",
       "3           153  NCT00000264     Opioid-Related Disorders\n",
       "4           154  NCT00000264  Substance-Related Disorders"
      ]
     },
     "execution_count": 2,
     "metadata": {},
     "output_type": "execute_result"
    }
   ],
   "source": [
    "conditions = pd.read_csv('conditions.txt', sep='|')\n",
    "conditions.head()"
   ]
  },
  {
   "cell_type": "code",
   "execution_count": 3,
   "metadata": {
    "collapsed": true
   },
   "outputs": [],
   "source": [
    "def apply_word_tokenize(x):\n",
    "    \"\"\" Tokenize \n",
    "        :param: x (str)\n",
    "        :return: token (list of str)\n",
    "    \"\"\"\n",
    "    words = nltk.word_tokenize(x.lower())\n",
    "    return words\n"
   ]
  },
  {
   "cell_type": "code",
   "execution_count": 10,
   "metadata": {
    "collapsed": false
   },
   "outputs": [
    {
     "data": {
      "text/plain": [
       "Traumatic Brain Injury        427\n",
       "Bladder Cancer                420\n",
       "Non-small Cell Lung Cancer    418\n",
       "Smoking Cessation             417\n",
       "Chronic Pain                  411\n",
       "Spinal Cord Injury            394\n",
       "Dementia                      391\n",
       "Myelodysplastic Syndrome      385\n",
       "Non-Small Cell Lung Cancer    380\n",
       "Name: CONDITION, dtype: int64"
      ]
     },
     "execution_count": 10,
     "metadata": {},
     "output_type": "execute_result"
    }
   ],
   "source": [
    "conditions['CONDITION'].value_counts()[91:100]"
   ]
  },
  {
   "cell_type": "code",
   "execution_count": 4,
   "metadata": {
    "collapsed": true
   },
   "outputs": [],
   "source": [
    "tokens = [apply_word_tokenize(x) for x in conditions['CONDITION']]"
   ]
  },
  {
   "cell_type": "code",
   "execution_count": 5,
   "metadata": {
    "collapsed": false
   },
   "outputs": [
    {
     "data": {
      "text/plain": [
       "[['substance-related', 'disorders'],\n",
       " ['opioid-related', 'disorders'],\n",
       " ['substance-related', 'disorders'],\n",
       " ['opioid-related', 'disorders'],\n",
       " ['substance-related', 'disorders']]"
      ]
     },
     "execution_count": 5,
     "metadata": {},
     "output_type": "execute_result"
    }
   ],
   "source": [
    "tokens[0:5]"
   ]
  },
  {
   "cell_type": "code",
   "execution_count": 19,
   "metadata": {
    "collapsed": false
   },
   "outputs": [],
   "source": [
    "categories = {'Addiction':['Substance-Related', 'Opioid-Related', 'Smoking',\n",
    "                          'Smoking Cessation'],\n",
    "             'Cancer': ['Breast Cancer', 'Prostate Cancer', 'Colorectal Cancer', 'Lung Cancer',\n",
    "                       'Lymphoma', 'Leukemia', 'Cancer', 'Ovarian Cancer', 'Pancreatic Cancer',\n",
    "                       'Head and Neck Cancer', 'Melanoma', 'Gastric Cancer'\n",
    "                        'Unspecified Adult Solid Tumor, Protocol Specific',\n",
    "                       'Neoplasms', 'Myelodysplastic Syndromes',\n",
    "                       'Esophageal Cancer', 'Solid Tumors', \n",
    "                        'Sarcoma', 'Hepatocellular Carcinoma', 'Cervical Cancer',\n",
    "                       'Brain and Central Nervous System Tumors', 'Breast Neoplasms',\n",
    "                       'Acute Myeloid Leukemia', 'Bladder Cancer',\n",
    "                       'Non-small Cell Lung Cancer', 'Non-Small Cell Lung Cancer', \n",
    "                        'Myelodysplastic Syndrome'],\n",
    "             'Auto-immunity and Inflammation': ['Rhematoid Arthritis', 'Asthma', 'Osteoarthritis',\n",
    "                                           'Multiple Sclerosis', 'Inflammation',\n",
    "                                           \"Crohn's Disease\", 'Psoriasis',\n",
    "                                           'Ulcerative Colitis', 'COPD'],\n",
    "             'Heart Disease and Stroke': ['Hypertension', 'Coronary Artery Disease', 'Stroke',\n",
    "                                         'Cardiovascular Diseases', 'Atrial Fibrillation', \n",
    "                                         'Heart Diseases', 'Cardiovascular Disease',\n",
    "                                         'Myocardial Infarction',\n",
    "                                         'Pulmonary Disease, Chronic Obstructive',\n",
    "                                         'Coronary Disease', 'Atherosclerosis'],\n",
    "             'Diabetes': ['Diabetes', 'Diabetes Mellitus, Type 2', 'Type 2 Diabetes', \n",
    "                          'Type 2 Diabetes Mellitus' 'Diabetes Mellitus', 'Insulin Resistance',\n",
    "                         'Diabetes Mellitus, Type 1'],\n",
    "             'Mental Health': ['Depression', 'Schizophrenia', 'Major Depressive Disorder',\n",
    "                              'Bipolar Disorder' 'Anxiety'],\n",
    "              'Neurodegenerative': ['Dementia', \"Parkinson's Disease\", \"Alzheimer's Disease\"],\n",
    "             'Pain': ['Pain', 'Fibromyalgia', 'Postoperative Pain', \"Low Back Pain\", \n",
    "                      'Chronic Pain'],\n",
    "             'Healthy': ['Healthy', 'Healthy Subjects', 'Healthy Volunteers'],\n",
    "             'Obesity': ['Obesity', 'Overweight', 'Metabolic Syndrome'],\n",
    "              'Pregnancy/Fertility': ['Pregnancy', 'Infertility'],\n",
    "             'Infectious Diseases': ['Malaria', 'Hepatitis C', 'HIV Infections', 'HIV',\n",
    "                                    'HIV Infection', 'Tuberculosis']}"
   ]
  },
  {
   "cell_type": "code",
   "execution_count": 20,
   "metadata": {
    "collapsed": true
   },
   "outputs": [],
   "source": [
    "def tokenize_and_count(df, colname, categories):\n",
    "    \"\"\" First use get_synonyms to help make categories\"\"\"\n",
    "    \n",
    "    tokenized = [nltk.word_tokenize(x) for x in df[colname]] #this is slow\n",
    "    \n",
    "    counted = defaultdict(int)\n",
    "    \n",
    "    for cat in categories.keys():\n",
    "        for token in tokenized:\n",
    "             for label in categories[cat]:\n",
    "                if label in token:\n",
    "                    counted[cat] +=1\n",
    "    return dict(counted)"
   ]
  },
  {
   "cell_type": "code",
   "execution_count": 21,
   "metadata": {
    "collapsed": false
   },
   "outputs": [
    {
     "data": {
      "text/plain": [
       "{'Addiction': 1430,\n",
       " 'Auto-immunity and Inflammation': 7139,\n",
       " 'Cancer': 58238,\n",
       " 'Diabetes': 9515,\n",
       " 'Healthy': 8074,\n",
       " 'Heart Disease and Stroke': 7002,\n",
       " 'Infectious Diseases': 6483,\n",
       " 'Mental Health': 4464,\n",
       " 'Neurodegenerative': 641,\n",
       " 'Obesity': 4919,\n",
       " 'Pain': 7018,\n",
       " 'Pregnancy/Fertility': 2278}"
      ]
     },
     "execution_count": 21,
     "metadata": {},
     "output_type": "execute_result"
    }
   ],
   "source": [
    "diseases = tokenize_and_count(conditions, 'CONDITION', categories)\n",
    "diseases"
   ]
  },
  {
   "cell_type": "code",
   "execution_count": 22,
   "metadata": {
    "collapsed": false
   },
   "outputs": [
    {
     "data": {
      "text/plain": [
       "[None, None, None, None, None, None, None]"
      ]
     },
     "execution_count": 22,
     "metadata": {},
     "output_type": "execute_result"
    },
    {
     "data": {
      "image/png": "[encoded data removed]",
      "text/plain": [
       "<matplotlib.figure.Figure at 0x112d882b0>"
      ]
     },
     "metadata": {},
     "output_type": "display_data"
    }
   ],
   "source": [
    "sns.set_context('poster', font_scale=1.5)\n",
    "sns.barplot(list(diseases.values()), list(diseases.keys()))\n",
    "locs, labels = plt.xticks()\n",
    "plt.setp(labels, rotation=90)"
   ]
  },
  {
   "cell_type": "code",
   "execution_count": 23,
   "metadata": {
    "collapsed": false
   },
   "outputs": [
    {
     "data": {
      "text/plain": [
       "(340351, 3)"
      ]
     },
     "execution_count": 23,
     "metadata": {},
     "output_type": "execute_result"
    }
   ],
   "source": [
    "conditions.shape"
   ]
  },
  {
   "cell_type": "code",
   "execution_count": null,
   "metadata": {
    "collapsed": true
   },
   "outputs": [],
   "source": []
  }
 ],
 "metadata": {
  "kernelspec": {
   "display_name": "Python 3",
   "language": "python",
   "name": "python3"
  },
  "language_info": {
   "codemirror_mode": {
    "name": "ipython",
    "version": 3
   },
   "file_extension": ".py",
   "mimetype": "text/x-python",
   "name": "python",
   "nbconvert_exporter": "python",
   "pygments_lexer": "ipython3",
   "version": "3.5.2"
  }
 },
 "nbformat": 4,
 "nbformat_minor": 0
}
