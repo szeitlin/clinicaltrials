{
 "cells": [
  {
   "cell_type": "code",
   "execution_count": 19,
   "metadata": {
    "collapsed": false
   },
   "outputs": [],
   "source": [
    "import nltk\n",
    "import pandas as pd\n",
    "from collections import defaultdict"
   ]
  },
  {
   "cell_type": "code",
   "execution_count": 2,
   "metadata": {
    "collapsed": true
   },
   "outputs": [],
   "source": [
    "from nltk.tokenize import MWETokenizer"
   ]
  },
  {
   "cell_type": "code",
   "execution_count": 3,
   "metadata": {
    "collapsed": false
   },
   "outputs": [
    {
     "data": {
      "text/html": [
       "<div>\n",
       "<table border=\"1\" class=\"dataframe\">\n",
       "  <thead>\n",
       "    <tr style=\"text-align: right;\">\n",
       "      <th></th>\n",
       "      <th>AUTHORITY_ID</th>\n",
       "      <th>NCT_ID</th>\n",
       "      <th>AUTHORITY</th>\n",
       "    </tr>\n",
       "  </thead>\n",
       "  <tbody>\n",
       "    <tr>\n",
       "      <th>0</th>\n",
       "      <td>173</td>\n",
       "      <td>NCT00000335</td>\n",
       "      <td>United States: Federal Government</td>\n",
       "    </tr>\n",
       "    <tr>\n",
       "      <th>1</th>\n",
       "      <td>174</td>\n",
       "      <td>NCT00000336</td>\n",
       "      <td>United States: Federal Government</td>\n",
       "    </tr>\n",
       "    <tr>\n",
       "      <th>2</th>\n",
       "      <td>175</td>\n",
       "      <td>NCT00000337</td>\n",
       "      <td>United States: Federal Government</td>\n",
       "    </tr>\n",
       "    <tr>\n",
       "      <th>3</th>\n",
       "      <td>176</td>\n",
       "      <td>NCT00000338</td>\n",
       "      <td>United States: Federal Government</td>\n",
       "    </tr>\n",
       "    <tr>\n",
       "      <th>4</th>\n",
       "      <td>177</td>\n",
       "      <td>NCT00000339</td>\n",
       "      <td>United States: Federal Government</td>\n",
       "    </tr>\n",
       "  </tbody>\n",
       "</table>\n",
       "</div>"
      ],
      "text/plain": [
       "   AUTHORITY_ID       NCT_ID                          AUTHORITY\n",
       "0           173  NCT00000335  United States: Federal Government\n",
       "1           174  NCT00000336  United States: Federal Government\n",
       "2           175  NCT00000337  United States: Federal Government\n",
       "3           176  NCT00000338  United States: Federal Government\n",
       "4           177  NCT00000339  United States: Federal Government"
      ]
     },
     "execution_count": 3,
     "metadata": {},
     "output_type": "execute_result"
    }
   ],
   "source": [
    "places = pd.read_csv(\"authorities.txt\", sep='|')\n",
    "places.head()"
   ]
  },
  {
   "cell_type": "code",
   "execution_count": 27,
   "metadata": {
    "collapsed": false
   },
   "outputs": [
    {
     "data": {
      "text/plain": [
       "United States: Food and Drug Administration                                                     49529\n",
       "United States: Institutional Review Board                                                       44941\n",
       "United States: Federal Government                                                               19383\n",
       "Canada: Health Canada                                                                            7683\n",
       "Germany: Federal Institute for Drugs and Medical Devices                                         6960\n",
       "United Kingdom: Medicines and Healthcare Products Regulatory Agency                              5672\n",
       "France: Afssaps - Agence française de sécurité sanitaire des produits de santé (Saint-Denis)     4663\n",
       "Canada: Ethics Review Committee                                                                  3480\n",
       "China: Food and Drug Administration                                                              3376\n",
       "Germany: Ethics Commission                                                                       3278\n",
       "Name: AUTHORITY, dtype: int64"
      ]
     },
     "execution_count": 27,
     "metadata": {},
     "output_type": "execute_result"
    }
   ],
   "source": [
    "places['AUTHORITY'].value_counts()[0:10]"
   ]
  },
  {
   "cell_type": "code",
   "execution_count": 5,
   "metadata": {
    "collapsed": false
   },
   "outputs": [],
   "source": [
    "def apply_word_tokenize(x):\n",
    "    \"\"\" Tokenize \n",
    "        :param: x (str)\n",
    "        :return: token (list of str)\n",
    "    \"\"\"\n",
    "    words = nltk.word_tokenize(x.lower())\n",
    "    return words\n"
   ]
  },
  {
   "cell_type": "code",
   "execution_count": 6,
   "metadata": {
    "collapsed": true
   },
   "outputs": [],
   "source": [
    "tokens = [apply_word_tokenize(x) for x in places['AUTHORITY']]"
   ]
  },
  {
   "cell_type": "code",
   "execution_count": 25,
   "metadata": {
    "collapsed": false
   },
   "outputs": [
    {
     "data": {
      "text/plain": [
       "300994"
      ]
     },
     "execution_count": 25,
     "metadata": {},
     "output_type": "execute_result"
    }
   ],
   "source": [
    "len(tokens)"
   ]
  },
  {
   "cell_type": "code",
   "execution_count": 13,
   "metadata": {
    "collapsed": true
   },
   "outputs": [],
   "source": [
    "#MWE = multi-word expression. re-groups phrases after regular tokenizing\n",
    "\n",
    "tokenizer = MWETokenizer([('united', 'states'), ('united', 'kingdom'), ('federal', 'government')])"
   ]
  },
  {
   "cell_type": "code",
   "execution_count": 15,
   "metadata": {
    "collapsed": true
   },
   "outputs": [],
   "source": [
    "def apply_mwe_grouper(x):\n",
    "    \"\"\" after tokenizing, find phrases \n",
    "        :param: x token (list of str)\n",
    "        :return: token (list of str with combined str)\"\"\"\n",
    "    grouped = tokenizer.tokenize(x)\n",
    "    return grouped"
   ]
  },
  {
   "cell_type": "code",
   "execution_count": 16,
   "metadata": {
    "collapsed": true
   },
   "outputs": [],
   "source": [
    "grouped = [apply_mwe_grouper(x) for x in tokens]"
   ]
  },
  {
   "cell_type": "code",
   "execution_count": 26,
   "metadata": {
    "collapsed": false
   },
   "outputs": [
    {
     "data": {
      "text/plain": [
       "300994"
      ]
     },
     "execution_count": 26,
     "metadata": {},
     "output_type": "execute_result"
    }
   ],
   "source": [
    "len(grouped)"
   ]
  },
  {
   "cell_type": "code",
   "execution_count": 35,
   "metadata": {
    "collapsed": false
   },
   "outputs": [
    {
     "data": {
      "text/plain": [
       "[['united_states', ':', 'food', 'and', 'drug', 'administration'],\n",
       " ['brazil', ':', 'ministry', 'of', 'health'],\n",
       " ['colombia', ':', 'national', 'institutes', 'of', 'health'],\n",
       " ['czech', 'republic', ':', 'state', 'institute', 'for', 'drug', 'control'],\n",
       " ['mexico', ':', 'ministry', 'of', 'health']]"
      ]
     },
     "execution_count": 35,
     "metadata": {},
     "output_type": "execute_result"
    }
   ],
   "source": [
    "grouped[200500:200505]"
   ]
  },
  {
   "cell_type": "code",
   "execution_count": 30,
   "metadata": {
    "collapsed": false
   },
   "outputs": [
    {
     "name": "stdout",
     "output_type": "stream",
     "text": [
      "yes\n",
      "yes\n",
      "yes\n",
      "yes\n",
      "yes\n"
     ]
    }
   ],
   "source": [
    "for token in grouped[4500:4505]:\n",
    "    if 'united_states' in token:\n",
    "        print('yes')"
   ]
  },
  {
   "cell_type": "code",
   "execution_count": 18,
   "metadata": {
    "collapsed": true
   },
   "outputs": [],
   "source": [
    "governments = {'United States': 'united_states', 'Germany': 'germany', \n",
    "               'Canada': 'canada', 'France': 'france',\n",
    "              'United Kingdom': 'united_kingdom', 'China': 'china'}"
   ]
  },
  {
   "cell_type": "code",
   "execution_count": 36,
   "metadata": {
    "collapsed": false
   },
   "outputs": [],
   "source": [
    "counted = defaultdict(int)\n",
    "    \n",
    "for govt,label in governments.items():\n",
    "    for token in grouped: \n",
    "        if label in token:\n",
    "            counted[govt] +=1"
   ]
  },
  {
   "cell_type": "code",
   "execution_count": 37,
   "metadata": {
    "collapsed": false
   },
   "outputs": [
    {
     "data": {
      "text/plain": [
       "{'Canada': 12963,\n",
       " 'China': 7650,\n",
       " 'France': 14270,\n",
       " 'Germany': 13389,\n",
       " 'United Kingdom': 11155,\n",
       " 'United States': 116347}"
      ]
     },
     "execution_count": 37,
     "metadata": {},
     "output_type": "execute_result"
    }
   ],
   "source": [
    "usable = dict(counted)\n",
    "usable"
   ]
  },
  {
   "cell_type": "code",
   "execution_count": 38,
   "metadata": {
    "collapsed": true
   },
   "outputs": [],
   "source": [
    "import matplotlib.pyplot as plt\n",
    "import matplotlib\n",
    "import seaborn as sns\n",
    "import statsmodels\n",
    "%matplotlib inline"
   ]
  },
  {
   "cell_type": "code",
   "execution_count": 40,
   "metadata": {
    "collapsed": false
   },
   "outputs": [
    {
     "data": {
      "text/plain": [
       "[None, None, None, None, None, None, None]"
      ]
     },
     "execution_count": 40,
     "metadata": {},
     "output_type": "execute_result"
    },
    {
     "data": {
      "image/png": "[encoded data removed]",
      "text/plain": [
       "<matplotlib.figure.Figure at 0x1259822e8>"
      ]
     },
     "metadata": {},
     "output_type": "display_data"
    }
   ],
   "source": [
    "sns.set_context('poster', font_scale=1.5)\n",
    "sns.barplot(list(usable.values()), list(usable.keys()))\n",
    "locs, labels = plt.xticks()\n",
    "plt.setp(labels, rotation=90)"
   ]
  },
  {
   "cell_type": "code",
   "execution_count": 9,
   "metadata": {
    "collapsed": false
   },
   "outputs": [
    {
     "data": {
      "text/plain": [
       "[['united', 'states', ':', 'federal', 'government'],\n",
       " ['united', 'states', ':', 'federal', 'government'],\n",
       " ['united', 'states', ':', 'federal', 'government'],\n",
       " ['united', 'states', ':', 'federal', 'government'],\n",
       " ['united', 'states', ':', 'federal', 'government']]"
      ]
     },
     "execution_count": 9,
     "metadata": {},
     "output_type": "execute_result"
    }
   ],
   "source": [
    "tokens[0:5]"
   ]
  },
  {
   "cell_type": "code",
   "execution_count": 3,
   "metadata": {
    "collapsed": false
   },
   "outputs": [
    {
     "data": {
      "text/html": [
       "<div>\n",
       "<table border=\"1\" class=\"dataframe\">\n",
       "  <thead>\n",
       "    <tr style=\"text-align: right;\">\n",
       "      <th></th>\n",
       "      <th>CONDITION_ID</th>\n",
       "      <th>NCT_ID</th>\n",
       "      <th>CONDITION</th>\n",
       "    </tr>\n",
       "  </thead>\n",
       "  <tbody>\n",
       "    <tr>\n",
       "      <th>0</th>\n",
       "      <td>150</td>\n",
       "      <td>NCT00000262</td>\n",
       "      <td>Substance-Related Disorders</td>\n",
       "    </tr>\n",
       "    <tr>\n",
       "      <th>1</th>\n",
       "      <td>151</td>\n",
       "      <td>NCT00000263</td>\n",
       "      <td>Opioid-Related Disorders</td>\n",
       "    </tr>\n",
       "    <tr>\n",
       "      <th>2</th>\n",
       "      <td>152</td>\n",
       "      <td>NCT00000263</td>\n",
       "      <td>Substance-Related Disorders</td>\n",
       "    </tr>\n",
       "    <tr>\n",
       "      <th>3</th>\n",
       "      <td>153</td>\n",
       "      <td>NCT00000264</td>\n",
       "      <td>Opioid-Related Disorders</td>\n",
       "    </tr>\n",
       "    <tr>\n",
       "      <th>4</th>\n",
       "      <td>154</td>\n",
       "      <td>NCT00000264</td>\n",
       "      <td>Substance-Related Disorders</td>\n",
       "    </tr>\n",
       "  </tbody>\n",
       "</table>\n",
       "</div>"
      ],
      "text/plain": [
       "   CONDITION_ID       NCT_ID                    CONDITION\n",
       "0           150  NCT00000262  Substance-Related Disorders\n",
       "1           151  NCT00000263     Opioid-Related Disorders\n",
       "2           152  NCT00000263  Substance-Related Disorders\n",
       "3           153  NCT00000264     Opioid-Related Disorders\n",
       "4           154  NCT00000264  Substance-Related Disorders"
      ]
     },
     "execution_count": 3,
     "metadata": {},
     "output_type": "execute_result"
    }
   ],
   "source": [
    "conditions = pd.read_csv('conditions.txt', sep='|')\n",
    "conditions.head()"
   ]
  },
  {
   "cell_type": "code",
   "execution_count": 42,
   "metadata": {
    "collapsed": true
   },
   "outputs": [],
   "source": [
    "def tokenize_and_tag(x):\n",
    "    \"\"\" Tokenize and identify parts of speech\n",
    "        :param: x (str)\n",
    "        :return: tuples of (word, POS)\n",
    "    \"\"\"\n",
    "    words = nltk.word_tokenize(x.lower())\n",
    "    tagged = nltk.pos_tag(words)\n",
    "    return tuple(tagged)"
   ]
  },
  {
   "cell_type": "code",
   "execution_count": 8,
   "metadata": {
    "collapsed": false
   },
   "outputs": [
    {
     "name": "stdout",
     "output_type": "stream",
     "text": [
      "[nltk_data] Downloading package punkt to /Users/szeitlin/nltk_data...\n",
      "[nltk_data]   Unzipping tokenizers/punkt.zip.\n"
     ]
    },
    {
     "data": {
      "text/plain": [
       "True"
      ]
     },
     "execution_count": 8,
     "metadata": {},
     "output_type": "execute_result"
    }
   ],
   "source": [
    "nltk.download('punkt')"
   ]
  },
  {
   "cell_type": "code",
   "execution_count": 11,
   "metadata": {
    "collapsed": false
   },
   "outputs": [
    {
     "name": "stdout",
     "output_type": "stream",
     "text": [
      "[nltk_data] Downloading package averaged_perceptron_tagger to\n",
      "[nltk_data]     /Users/szeitlin/nltk_data...\n",
      "[nltk_data]   Unzipping taggers/averaged_perceptron_tagger.zip.\n"
     ]
    },
    {
     "data": {
      "text/plain": [
       "True"
      ]
     },
     "execution_count": 11,
     "metadata": {},
     "output_type": "execute_result"
    }
   ],
   "source": [
    "nltk.download('averaged_perceptron_tagger')"
   ]
  },
  {
   "cell_type": "code",
   "execution_count": 44,
   "metadata": {
    "collapsed": false
   },
   "outputs": [],
   "source": [
    "conditions['tagged'] = [tokenize_and_tag(x) for x in conditions['CONDITION']]"
   ]
  },
  {
   "cell_type": "code",
   "execution_count": 45,
   "metadata": {
    "collapsed": false
   },
   "outputs": [
    {
     "data": {
      "text/html": [
       "<div>\n",
       "<table border=\"1\" class=\"dataframe\">\n",
       "  <thead>\n",
       "    <tr style=\"text-align: right;\">\n",
       "      <th></th>\n",
       "      <th>CONDITION_ID</th>\n",
       "      <th>NCT_ID</th>\n",
       "      <th>CONDITION</th>\n",
       "      <th>tagged</th>\n",
       "      <th>taglen</th>\n",
       "    </tr>\n",
       "  </thead>\n",
       "  <tbody>\n",
       "    <tr>\n",
       "      <th>0</th>\n",
       "      <td>150</td>\n",
       "      <td>NCT00000262</td>\n",
       "      <td>Substance-Related Disorders</td>\n",
       "      <td>((substance-related, JJ), (disorders, NNS))</td>\n",
       "      <td>2</td>\n",
       "    </tr>\n",
       "    <tr>\n",
       "      <th>1</th>\n",
       "      <td>151</td>\n",
       "      <td>NCT00000263</td>\n",
       "      <td>Opioid-Related Disorders</td>\n",
       "      <td>((opioid-related, JJ), (disorders, NNS))</td>\n",
       "      <td>2</td>\n",
       "    </tr>\n",
       "    <tr>\n",
       "      <th>2</th>\n",
       "      <td>152</td>\n",
       "      <td>NCT00000263</td>\n",
       "      <td>Substance-Related Disorders</td>\n",
       "      <td>((substance-related, JJ), (disorders, NNS))</td>\n",
       "      <td>2</td>\n",
       "    </tr>\n",
       "    <tr>\n",
       "      <th>3</th>\n",
       "      <td>153</td>\n",
       "      <td>NCT00000264</td>\n",
       "      <td>Opioid-Related Disorders</td>\n",
       "      <td>((opioid-related, JJ), (disorders, NNS))</td>\n",
       "      <td>2</td>\n",
       "    </tr>\n",
       "    <tr>\n",
       "      <th>4</th>\n",
       "      <td>154</td>\n",
       "      <td>NCT00000264</td>\n",
       "      <td>Substance-Related Disorders</td>\n",
       "      <td>((substance-related, JJ), (disorders, NNS))</td>\n",
       "      <td>2</td>\n",
       "    </tr>\n",
       "  </tbody>\n",
       "</table>\n",
       "</div>"
      ],
      "text/plain": [
       "   CONDITION_ID       NCT_ID                    CONDITION  \\\n",
       "0           150  NCT00000262  Substance-Related Disorders   \n",
       "1           151  NCT00000263     Opioid-Related Disorders   \n",
       "2           152  NCT00000263  Substance-Related Disorders   \n",
       "3           153  NCT00000264     Opioid-Related Disorders   \n",
       "4           154  NCT00000264  Substance-Related Disorders   \n",
       "\n",
       "                                        tagged  taglen  \n",
       "0  ((substance-related, JJ), (disorders, NNS))       2  \n",
       "1     ((opioid-related, JJ), (disorders, NNS))       2  \n",
       "2  ((substance-related, JJ), (disorders, NNS))       2  \n",
       "3     ((opioid-related, JJ), (disorders, NNS))       2  \n",
       "4  ((substance-related, JJ), (disorders, NNS))       2  "
      ]
     },
     "execution_count": 45,
     "metadata": {},
     "output_type": "execute_result"
    }
   ],
   "source": [
    "conditions.head()"
   ]
  },
  {
   "cell_type": "code",
   "execution_count": null,
   "metadata": {
    "collapsed": true
   },
   "outputs": [],
   "source": [
    "# goal: aggregate & count conditions\n",
    "# question: does it help at all to group by POS first?"
   ]
  },
  {
   "cell_type": "code",
   "execution_count": null,
   "metadata": {
    "collapsed": true
   },
   "outputs": [],
   "source": [
    "#could use lambda functions to split into additional columns (or map reduce)"
   ]
  },
  {
   "cell_type": "code",
   "execution_count": 59,
   "metadata": {
    "collapsed": false
   },
   "outputs": [],
   "source": [
    "takefirst = lambda x: x[0][0]"
   ]
  },
  {
   "cell_type": "code",
   "execution_count": 62,
   "metadata": {
    "collapsed": true
   },
   "outputs": [],
   "source": [
    "first_POS = lambda x: x[0][1]"
   ]
  },
  {
   "cell_type": "code",
   "execution_count": 63,
   "metadata": {
    "collapsed": true
   },
   "outputs": [],
   "source": [
    "conditions['firsttag'] = conditions['tagged'].apply(takefirst)"
   ]
  },
  {
   "cell_type": "code",
   "execution_count": 64,
   "metadata": {
    "collapsed": true
   },
   "outputs": [],
   "source": [
    "conditions['POS1'] = conditions['tagged'].apply(first_POS)"
   ]
  },
  {
   "cell_type": "code",
   "execution_count": 69,
   "metadata": {
    "collapsed": false
   },
   "outputs": [],
   "source": [
    "#aggregate by POS\n",
    "grouped = conditions.groupby('POS1').count()"
   ]
  },
  {
   "cell_type": "code",
   "execution_count": 70,
   "metadata": {
    "collapsed": false
   },
   "outputs": [
    {
     "data": {
      "text/html": [
       "<div>\n",
       "<table border=\"1\" class=\"dataframe\">\n",
       "  <thead>\n",
       "    <tr style=\"text-align: right;\">\n",
       "      <th></th>\n",
       "      <th>CONDITION_ID</th>\n",
       "      <th>NCT_ID</th>\n",
       "      <th>CONDITION</th>\n",
       "      <th>tagged</th>\n",
       "      <th>taglen</th>\n",
       "      <th>firsttag</th>\n",
       "    </tr>\n",
       "    <tr>\n",
       "      <th>POS1</th>\n",
       "      <th></th>\n",
       "      <th></th>\n",
       "      <th></th>\n",
       "      <th></th>\n",
       "      <th></th>\n",
       "      <th></th>\n",
       "    </tr>\n",
       "  </thead>\n",
       "  <tbody>\n",
       "    <tr>\n",
       "      <th>(</th>\n",
       "      <td>24</td>\n",
       "      <td>24</td>\n",
       "      <td>24</td>\n",
       "      <td>24</td>\n",
       "      <td>24</td>\n",
       "      <td>24</td>\n",
       "    </tr>\n",
       "    <tr>\n",
       "      <th>:</th>\n",
       "      <td>27</td>\n",
       "      <td>27</td>\n",
       "      <td>27</td>\n",
       "      <td>27</td>\n",
       "      <td>27</td>\n",
       "      <td>27</td>\n",
       "    </tr>\n",
       "    <tr>\n",
       "      <th>CC</th>\n",
       "      <td>15</td>\n",
       "      <td>15</td>\n",
       "      <td>15</td>\n",
       "      <td>15</td>\n",
       "      <td>15</td>\n",
       "      <td>15</td>\n",
       "    </tr>\n",
       "    <tr>\n",
       "      <th>CD</th>\n",
       "      <td>103</td>\n",
       "      <td>103</td>\n",
       "      <td>103</td>\n",
       "      <td>103</td>\n",
       "      <td>103</td>\n",
       "      <td>103</td>\n",
       "    </tr>\n",
       "    <tr>\n",
       "      <th>DT</th>\n",
       "      <td>570</td>\n",
       "      <td>570</td>\n",
       "      <td>570</td>\n",
       "      <td>570</td>\n",
       "      <td>570</td>\n",
       "      <td>570</td>\n",
       "    </tr>\n",
       "    <tr>\n",
       "      <th>EX</th>\n",
       "      <td>22</td>\n",
       "      <td>22</td>\n",
       "      <td>22</td>\n",
       "      <td>22</td>\n",
       "      <td>22</td>\n",
       "      <td>22</td>\n",
       "    </tr>\n",
       "    <tr>\n",
       "      <th>FW</th>\n",
       "      <td>5</td>\n",
       "      <td>5</td>\n",
       "      <td>5</td>\n",
       "      <td>5</td>\n",
       "      <td>5</td>\n",
       "      <td>5</td>\n",
       "    </tr>\n",
       "    <tr>\n",
       "      <th>IN</th>\n",
       "      <td>362</td>\n",
       "      <td>362</td>\n",
       "      <td>362</td>\n",
       "      <td>362</td>\n",
       "      <td>362</td>\n",
       "      <td>362</td>\n",
       "    </tr>\n",
       "    <tr>\n",
       "      <th>JJ</th>\n",
       "      <td>131839</td>\n",
       "      <td>131839</td>\n",
       "      <td>131839</td>\n",
       "      <td>131839</td>\n",
       "      <td>131839</td>\n",
       "      <td>131839</td>\n",
       "    </tr>\n",
       "    <tr>\n",
       "      <th>JJR</th>\n",
       "      <td>290</td>\n",
       "      <td>290</td>\n",
       "      <td>290</td>\n",
       "      <td>290</td>\n",
       "      <td>290</td>\n",
       "      <td>290</td>\n",
       "    </tr>\n",
       "    <tr>\n",
       "      <th>JJS</th>\n",
       "      <td>42</td>\n",
       "      <td>42</td>\n",
       "      <td>42</td>\n",
       "      <td>42</td>\n",
       "      <td>42</td>\n",
       "      <td>42</td>\n",
       "    </tr>\n",
       "    <tr>\n",
       "      <th>MD</th>\n",
       "      <td>7</td>\n",
       "      <td>7</td>\n",
       "      <td>7</td>\n",
       "      <td>7</td>\n",
       "      <td>7</td>\n",
       "      <td>7</td>\n",
       "    </tr>\n",
       "    <tr>\n",
       "      <th>NN</th>\n",
       "      <td>183204</td>\n",
       "      <td>183204</td>\n",
       "      <td>183204</td>\n",
       "      <td>183204</td>\n",
       "      <td>183204</td>\n",
       "      <td>183204</td>\n",
       "    </tr>\n",
       "    <tr>\n",
       "      <th>NNS</th>\n",
       "      <td>14822</td>\n",
       "      <td>14822</td>\n",
       "      <td>14822</td>\n",
       "      <td>14822</td>\n",
       "      <td>14822</td>\n",
       "      <td>14822</td>\n",
       "    </tr>\n",
       "    <tr>\n",
       "      <th>PDT</th>\n",
       "      <td>1</td>\n",
       "      <td>1</td>\n",
       "      <td>1</td>\n",
       "      <td>1</td>\n",
       "      <td>1</td>\n",
       "      <td>1</td>\n",
       "    </tr>\n",
       "    <tr>\n",
       "      <th>POS</th>\n",
       "      <td>2</td>\n",
       "      <td>2</td>\n",
       "      <td>2</td>\n",
       "      <td>2</td>\n",
       "      <td>2</td>\n",
       "      <td>2</td>\n",
       "    </tr>\n",
       "    <tr>\n",
       "      <th>PRP</th>\n",
       "      <td>12</td>\n",
       "      <td>12</td>\n",
       "      <td>12</td>\n",
       "      <td>12</td>\n",
       "      <td>12</td>\n",
       "      <td>12</td>\n",
       "    </tr>\n",
       "    <tr>\n",
       "      <th>PRP$</th>\n",
       "      <td>3</td>\n",
       "      <td>3</td>\n",
       "      <td>3</td>\n",
       "      <td>3</td>\n",
       "      <td>3</td>\n",
       "      <td>3</td>\n",
       "    </tr>\n",
       "    <tr>\n",
       "      <th>RB</th>\n",
       "      <td>3254</td>\n",
       "      <td>3254</td>\n",
       "      <td>3254</td>\n",
       "      <td>3254</td>\n",
       "      <td>3254</td>\n",
       "      <td>3254</td>\n",
       "    </tr>\n",
       "    <tr>\n",
       "      <th>RBR</th>\n",
       "      <td>1</td>\n",
       "      <td>1</td>\n",
       "      <td>1</td>\n",
       "      <td>1</td>\n",
       "      <td>1</td>\n",
       "      <td>1</td>\n",
       "    </tr>\n",
       "  </tbody>\n",
       "</table>\n",
       "</div>"
      ],
      "text/plain": [
       "      CONDITION_ID  NCT_ID  CONDITION  tagged  taglen  firsttag\n",
       "POS1                                                           \n",
       "(               24      24         24      24      24        24\n",
       ":               27      27         27      27      27        27\n",
       "CC              15      15         15      15      15        15\n",
       "CD             103     103        103     103     103       103\n",
       "DT             570     570        570     570     570       570\n",
       "EX              22      22         22      22      22        22\n",
       "FW               5       5          5       5       5         5\n",
       "IN             362     362        362     362     362       362\n",
       "JJ          131839  131839     131839  131839  131839    131839\n",
       "JJR            290     290        290     290     290       290\n",
       "JJS             42      42         42      42      42        42\n",
       "MD               7       7          7       7       7         7\n",
       "NN          183204  183204     183204  183204  183204    183204\n",
       "NNS          14822   14822      14822   14822   14822     14822\n",
       "PDT              1       1          1       1       1         1\n",
       "POS              2       2          2       2       2         2\n",
       "PRP             12      12         12      12      12        12\n",
       "PRP$             3       3          3       3       3         3\n",
       "RB            3254    3254       3254    3254    3254      3254\n",
       "RBR              1       1          1       1       1         1"
      ]
     },
     "execution_count": 70,
     "metadata": {},
     "output_type": "execute_result"
    }
   ],
   "source": [
    "grouped.head(20)"
   ]
  },
  {
   "cell_type": "code",
   "execution_count": 79,
   "metadata": {
    "collapsed": false
   },
   "outputs": [
    {
     "data": {
      "text/html": [
       "<div>\n",
       "<table border=\"1\" class=\"dataframe\">\n",
       "  <thead>\n",
       "    <tr style=\"text-align: right;\">\n",
       "      <th></th>\n",
       "      <th>CONDITION_ID</th>\n",
       "      <th>NCT_ID</th>\n",
       "      <th>CONDITION</th>\n",
       "      <th>tagged</th>\n",
       "      <th>taglen</th>\n",
       "      <th>firsttag</th>\n",
       "      <th>POS1</th>\n",
       "    </tr>\n",
       "  </thead>\n",
       "  <tbody>\n",
       "    <tr>\n",
       "      <th>13611</th>\n",
       "      <td>8912</td>\n",
       "      <td>NCT00005188</td>\n",
       "      <td>Tangier Disease</td>\n",
       "      <td>((tangier, JJR), (disease, NN))</td>\n",
       "      <td>2</td>\n",
       "      <td>tangier</td>\n",
       "      <td>JJR</td>\n",
       "    </tr>\n",
       "    <tr>\n",
       "      <th>16339</th>\n",
       "      <td>13032</td>\n",
       "      <td>NCT00032864</td>\n",
       "      <td>Lower Extremity Ulcers</td>\n",
       "      <td>((lower, JJR), (extremity, NN), (ulcers, NNS))</td>\n",
       "      <td>3</td>\n",
       "      <td>lower</td>\n",
       "      <td>JJR</td>\n",
       "    </tr>\n",
       "    <tr>\n",
       "      <th>23069</th>\n",
       "      <td>22164</td>\n",
       "      <td>NCT00070902</td>\n",
       "      <td>Lower Back Pain</td>\n",
       "      <td>((lower, JJR), (back, RB), (pain, NN))</td>\n",
       "      <td>3</td>\n",
       "      <td>lower</td>\n",
       "      <td>JJR</td>\n",
       "    </tr>\n",
       "    <tr>\n",
       "      <th>28056</th>\n",
       "      <td>29106</td>\n",
       "      <td>NCT00111592</td>\n",
       "      <td>Lower Urinary Tract Symptoms</td>\n",
       "      <td>((lower, JJR), (urinary, JJ), (tract, NN), (sy...</td>\n",
       "      <td>4</td>\n",
       "      <td>lower</td>\n",
       "      <td>JJR</td>\n",
       "    </tr>\n",
       "    <tr>\n",
       "      <th>28786</th>\n",
       "      <td>31261</td>\n",
       "      <td>NCT00153647</td>\n",
       "      <td>Lower Gastrointestinal Tract</td>\n",
       "      <td>((lower, JJR), (gastrointestinal, JJ), (tract,...</td>\n",
       "      <td>3</td>\n",
       "      <td>lower</td>\n",
       "      <td>JJR</td>\n",
       "    </tr>\n",
       "  </tbody>\n",
       "</table>\n",
       "</div>"
      ],
      "text/plain": [
       "       CONDITION_ID       NCT_ID                     CONDITION  \\\n",
       "13611          8912  NCT00005188               Tangier Disease   \n",
       "16339         13032  NCT00032864        Lower Extremity Ulcers   \n",
       "23069         22164  NCT00070902               Lower Back Pain   \n",
       "28056         29106  NCT00111592  Lower Urinary Tract Symptoms   \n",
       "28786         31261  NCT00153647  Lower Gastrointestinal Tract   \n",
       "\n",
       "                                                  tagged  taglen firsttag POS1  \n",
       "13611                    ((tangier, JJR), (disease, NN))       2  tangier  JJR  \n",
       "16339     ((lower, JJR), (extremity, NN), (ulcers, NNS))       3    lower  JJR  \n",
       "23069             ((lower, JJR), (back, RB), (pain, NN))       3    lower  JJR  \n",
       "28056  ((lower, JJR), (urinary, JJ), (tract, NN), (sy...       4    lower  JJR  \n",
       "28786  ((lower, JJR), (gastrointestinal, JJ), (tract,...       3    lower  JJR  "
      ]
     },
     "execution_count": 79,
     "metadata": {},
     "output_type": "execute_result"
    }
   ],
   "source": [
    "conditions[conditions['POS1']=='JJR'].head()"
   ]
  },
  {
   "cell_type": "code",
   "execution_count": 81,
   "metadata": {
    "collapsed": false
   },
   "outputs": [
    {
     "data": {
      "text/html": [
       "<div>\n",
       "<table border=\"1\" class=\"dataframe\">\n",
       "  <thead>\n",
       "    <tr style=\"text-align: right;\">\n",
       "      <th></th>\n",
       "      <th>CONDITION_ID</th>\n",
       "      <th>NCT_ID</th>\n",
       "      <th>CONDITION</th>\n",
       "      <th>tagged</th>\n",
       "      <th>taglen</th>\n",
       "      <th>firsttag</th>\n",
       "      <th>POS1</th>\n",
       "    </tr>\n",
       "  </thead>\n",
       "  <tbody>\n",
       "    <tr>\n",
       "      <th>8039</th>\n",
       "      <td>11599</td>\n",
       "      <td>NCT00006363</td>\n",
       "      <td>de Novo Myelodysplastic Syndromes</td>\n",
       "      <td>((de, IN), (novo, FW), (myelodysplastic, JJ), ...</td>\n",
       "      <td>4</td>\n",
       "      <td>de</td>\n",
       "      <td>IN</td>\n",
       "    </tr>\n",
       "    <tr>\n",
       "      <th>8183</th>\n",
       "      <td>11417</td>\n",
       "      <td>NCT00014235</td>\n",
       "      <td>de Novo Myelodysplastic Syndromes</td>\n",
       "      <td>((de, IN), (novo, FW), (myelodysplastic, JJ), ...</td>\n",
       "      <td>4</td>\n",
       "      <td>de</td>\n",
       "      <td>IN</td>\n",
       "    </tr>\n",
       "    <tr>\n",
       "      <th>10207</th>\n",
       "      <td>4663</td>\n",
       "      <td>NCT00002798</td>\n",
       "      <td>de Novo Myelodysplastic Syndromes</td>\n",
       "      <td>((de, IN), (novo, FW), (myelodysplastic, JJ), ...</td>\n",
       "      <td>4</td>\n",
       "      <td>de</td>\n",
       "      <td>IN</td>\n",
       "    </tr>\n",
       "    <tr>\n",
       "      <th>11574</th>\n",
       "      <td>13871</td>\n",
       "      <td>NCT00008177</td>\n",
       "      <td>de Novo Myelodysplastic Syndromes</td>\n",
       "      <td>((de, IN), (novo, FW), (myelodysplastic, JJ), ...</td>\n",
       "      <td>4</td>\n",
       "      <td>de</td>\n",
       "      <td>IN</td>\n",
       "    </tr>\n",
       "    <tr>\n",
       "      <th>13583</th>\n",
       "      <td>15608</td>\n",
       "      <td>NCT00027820</td>\n",
       "      <td>de Novo Myelodysplastic Syndrome</td>\n",
       "      <td>((de, IN), (novo, FW), (myelodysplastic, JJ), ...</td>\n",
       "      <td>4</td>\n",
       "      <td>de</td>\n",
       "      <td>IN</td>\n",
       "    </tr>\n",
       "  </tbody>\n",
       "</table>\n",
       "</div>"
      ],
      "text/plain": [
       "       CONDITION_ID       NCT_ID                          CONDITION  \\\n",
       "8039          11599  NCT00006363  de Novo Myelodysplastic Syndromes   \n",
       "8183          11417  NCT00014235  de Novo Myelodysplastic Syndromes   \n",
       "10207          4663  NCT00002798  de Novo Myelodysplastic Syndromes   \n",
       "11574         13871  NCT00008177  de Novo Myelodysplastic Syndromes   \n",
       "13583         15608  NCT00027820   de Novo Myelodysplastic Syndrome   \n",
       "\n",
       "                                                  tagged  taglen firsttag POS1  \n",
       "8039   ((de, IN), (novo, FW), (myelodysplastic, JJ), ...       4       de   IN  \n",
       "8183   ((de, IN), (novo, FW), (myelodysplastic, JJ), ...       4       de   IN  \n",
       "10207  ((de, IN), (novo, FW), (myelodysplastic, JJ), ...       4       de   IN  \n",
       "11574  ((de, IN), (novo, FW), (myelodysplastic, JJ), ...       4       de   IN  \n",
       "13583  ((de, IN), (novo, FW), (myelodysplastic, JJ), ...       4       de   IN  "
      ]
     },
     "execution_count": 81,
     "metadata": {},
     "output_type": "execute_result"
    }
   ],
   "source": [
    "conditions[conditions['POS1']=='IN'].head()"
   ]
  },
  {
   "cell_type": "code",
   "execution_count": 80,
   "metadata": {
    "collapsed": false
   },
   "outputs": [
    {
     "name": "stdout",
     "output_type": "stream",
     "text": [
      "IN: preposition or conjunction, subordinating\n",
      "    astride among uppon whether out inside pro despite on by throughout\n",
      "    below within for towards near behind atop around if like until below\n",
      "    next into if beside ...\n"
     ]
    }
   ],
   "source": [
    "nltk.help.upenn_tagset('IN')"
   ]
  },
  {
   "cell_type": "code",
   "execution_count": 82,
   "metadata": {
    "collapsed": false
   },
   "outputs": [],
   "source": [
    "POS_filter = ['JJ', 'JJR', 'NN', 'NNS', 'IN', 'RB']"
   ]
  },
  {
   "cell_type": "code",
   "execution_count": 86,
   "metadata": {
    "collapsed": false
   },
   "outputs": [
    {
     "data": {
      "text/html": [
       "<div>\n",
       "<table border=\"1\" class=\"dataframe\">\n",
       "  <thead>\n",
       "    <tr style=\"text-align: right;\">\n",
       "      <th></th>\n",
       "      <th>CONDITION_ID</th>\n",
       "      <th>NCT_ID</th>\n",
       "      <th>CONDITION</th>\n",
       "      <th>tagged</th>\n",
       "      <th>taglen</th>\n",
       "      <th>firsttag</th>\n",
       "      <th>POS1</th>\n",
       "    </tr>\n",
       "  </thead>\n",
       "  <tbody>\n",
       "    <tr>\n",
       "      <th>0</th>\n",
       "      <td>150</td>\n",
       "      <td>NCT00000262</td>\n",
       "      <td>Substance-Related Disorders</td>\n",
       "      <td>((substance-related, JJ), (disorders, NNS))</td>\n",
       "      <td>2</td>\n",
       "      <td>substance-related</td>\n",
       "      <td>JJ</td>\n",
       "    </tr>\n",
       "    <tr>\n",
       "      <th>1</th>\n",
       "      <td>151</td>\n",
       "      <td>NCT00000263</td>\n",
       "      <td>Opioid-Related Disorders</td>\n",
       "      <td>((opioid-related, JJ), (disorders, NNS))</td>\n",
       "      <td>2</td>\n",
       "      <td>opioid-related</td>\n",
       "      <td>JJ</td>\n",
       "    </tr>\n",
       "    <tr>\n",
       "      <th>2</th>\n",
       "      <td>152</td>\n",
       "      <td>NCT00000263</td>\n",
       "      <td>Substance-Related Disorders</td>\n",
       "      <td>((substance-related, JJ), (disorders, NNS))</td>\n",
       "      <td>2</td>\n",
       "      <td>substance-related</td>\n",
       "      <td>JJ</td>\n",
       "    </tr>\n",
       "    <tr>\n",
       "      <th>3</th>\n",
       "      <td>153</td>\n",
       "      <td>NCT00000264</td>\n",
       "      <td>Opioid-Related Disorders</td>\n",
       "      <td>((opioid-related, JJ), (disorders, NNS))</td>\n",
       "      <td>2</td>\n",
       "      <td>opioid-related</td>\n",
       "      <td>JJ</td>\n",
       "    </tr>\n",
       "    <tr>\n",
       "      <th>4</th>\n",
       "      <td>154</td>\n",
       "      <td>NCT00000264</td>\n",
       "      <td>Substance-Related Disorders</td>\n",
       "      <td>((substance-related, JJ), (disorders, NNS))</td>\n",
       "      <td>2</td>\n",
       "      <td>substance-related</td>\n",
       "      <td>JJ</td>\n",
       "    </tr>\n",
       "  </tbody>\n",
       "</table>\n",
       "</div>"
      ],
      "text/plain": [
       "   CONDITION_ID       NCT_ID                    CONDITION  \\\n",
       "0           150  NCT00000262  Substance-Related Disorders   \n",
       "1           151  NCT00000263     Opioid-Related Disorders   \n",
       "2           152  NCT00000263  Substance-Related Disorders   \n",
       "3           153  NCT00000264     Opioid-Related Disorders   \n",
       "4           154  NCT00000264  Substance-Related Disorders   \n",
       "\n",
       "                                        tagged  taglen           firsttag POS1  \n",
       "0  ((substance-related, JJ), (disorders, NNS))       2  substance-related   JJ  \n",
       "1     ((opioid-related, JJ), (disorders, NNS))       2     opioid-related   JJ  \n",
       "2  ((substance-related, JJ), (disorders, NNS))       2  substance-related   JJ  \n",
       "3     ((opioid-related, JJ), (disorders, NNS))       2     opioid-related   JJ  \n",
       "4  ((substance-related, JJ), (disorders, NNS))       2  substance-related   JJ  "
      ]
     },
     "execution_count": 86,
     "metadata": {},
     "output_type": "execute_result"
    }
   ],
   "source": [
    "filtered = conditions.filter(conditions, like=POS_filter)\n",
    "filtered.head()"
   ]
  },
  {
   "cell_type": "code",
   "execution_count": 89,
   "metadata": {
    "collapsed": false
   },
   "outputs": [
    {
     "data": {
      "text/plain": [
       "Healthy                                                                                                     5634\n",
       "Breast Cancer                                                                                               4059\n",
       "Obesity                                                                                                     3449\n",
       "HIV Infections                                                                                              2993\n",
       "Hypertension                                                                                                2400\n",
       "Asthma                                                                                                      2259\n",
       "Prostate Cancer                                                                                             2142\n",
       "Pain                                                                                                        2031\n",
       "Schizophrenia                                                                                               1818\n",
       "Depression                                                                                                  1815\n",
       "Diabetes                                                                                                    1805\n",
       "Coronary Artery Disease                                                                                     1776\n",
       "Lung Cancer                                                                                                 1565\n",
       "Diabetes Mellitus, Type 2                                                                                   1519\n",
       "Cancer                                                                                                      1496\n",
       "Colorectal Cancer                                                                                           1490\n",
       "Lymphoma                                                                                                    1479\n",
       "Leukemia                                                                                                    1460\n",
       "Stroke                                                                                                      1441\n",
       "Rheumatoid Arthritis                                                                                        1431\n",
       "Heart Failure                                                                                               1365\n",
       "Cardiovascular Diseases                                                                                     1264\n",
       "Type 2 Diabetes                                                                                             1212\n",
       "Type 2 Diabetes Mellitus                                                                                    1163\n",
       "Multiple Myeloma                                                                                            1146\n",
       "Diabetes Mellitus                                                                                           1098\n",
       "HIV                                                                                                         1056\n",
       "Atrial Fibrillation                                                                                         1010\n",
       "Osteoarthritis                                                                                               972\n",
       "Ovarian Cancer                                                                                               967\n",
       "                                                                                                            ... \n",
       "Hemoglobin SS Disease With Crisis                                                                              1\n",
       "Defect of Diaphragm                                                                                            1\n",
       "Post Surgery Patients                                                                                          1\n",
       "Cardiomyopathy Due to Anthracyclines                                                                           1\n",
       "Neonatal Acute Kidney Injury                                                                                   1\n",
       "GRADE Approach                                                                                                 1\n",
       "Metabolism of Clopidogrel                                                                                      1\n",
       "Composites Restorations                                                                                        1\n",
       "Epidermolysis Bullosa Hereditaria                                                                              1\n",
       "Ocular Discomfort                                                                                              1\n",
       "Counselling                                                                                                    1\n",
       "Experimental Dental Pain                                                                                       1\n",
       "Patients With Symptomatic Critical Limb Ischemia                                                               1\n",
       "Breast Cancer and Pregnancy                                                                                    1\n",
       "Healthy Male and Female Japanese Volunteers                                                                    1\n",
       "Capecitabine Plus Cisplatin Versus Capecitabine Plus Paclitaxel                                                1\n",
       "Glycogen Synthase Deficiency                                                                                   1\n",
       "Hypogonadotrophic Males                                                                                        1\n",
       "Muscle Composition                                                                                             1\n",
       "To Compare the Serum Apoptosis-associated Markers Between Patients With Active TB and Patients With LTBI       1\n",
       "Semantic Variant Primary Progressive Aphasia (svPPA)                                                           1\n",
       "OAB (Overactive Bladder Syndrome and Detrusor Overactivity)                                                    1\n",
       "Effectiveness of MedCem MTA® in Pulpotomies Primary Teeth                                                      1\n",
       "Petersen´s Hernia                                                                                              1\n",
       "Gynecology for Benign/Malignant Neoplasm.                                                                      1\n",
       "Neuralgia, Perineal                                                                                            1\n",
       "Obese Diabetics                                                                                                1\n",
       "Chronic, Medically Refractory Headache                                                                         1\n",
       "Respiratory Ilness                                                                                             1\n",
       "Postpartum Depressive Disorder                                                                                 1\n",
       "Name: CONDITION, dtype: int64"
      ]
     },
     "execution_count": 89,
     "metadata": {},
     "output_type": "execute_result"
    }
   ],
   "source": [
    "filtered['CONDITION'].value_counts()"
   ]
  },
  {
   "cell_type": "code",
   "execution_count": 88,
   "metadata": {
    "collapsed": false
   },
   "outputs": [
    {
     "data": {
      "text/plain": [
       "stage               9722\n",
       "healthy             7881\n",
       "chronic             6717\n",
       "recurrent           5955\n",
       "diabetes            5694\n",
       "breast              5082\n",
       "hiv                 4839\n",
       "acute               4365\n",
       "obesity             3595\n",
       "type                3511\n",
       "coronary            3420\n",
       "heart               3189\n",
       "adult               3020\n",
       "multiple            2704\n",
       "hypertension        2628\n",
       "pain                2570\n",
       "lung                2503\n",
       "prostate            2339\n",
       "asthma              2337\n",
       "cardiovascular      2335\n",
       "colorectal          2200\n",
       "metastatic          2078\n",
       "cancer              2055\n",
       "lymphoma            2046\n",
       "hepatitis           1925\n",
       "depression          1902\n",
       "leukemia            1897\n",
       "pulmonary           1895\n",
       "schizophrenia       1882\n",
       "ovarian             1664\n",
       "                    ... \n",
       "sickle-cell            1\n",
       "atiii                  1\n",
       "bifidobacterium        1\n",
       "operational            1\n",
       "cerebrolysin           1\n",
       "atl                    1\n",
       "operations             1\n",
       "non-culprit            1\n",
       "h1n1/influenza         1\n",
       "antral                 1\n",
       "sarcotubular           1\n",
       "apl                    1\n",
       "bilingualism           1\n",
       "ha                     1\n",
       "nmo                    1\n",
       "limbs                  1\n",
       "mycotic                1\n",
       "angiographically       1\n",
       "smaller                1\n",
       "dissatisfaction        1\n",
       "generativity           1\n",
       "healhty                1\n",
       "neurologically         1\n",
       "neuroepithelial        1\n",
       "malunions              1\n",
       "decompressive          1\n",
       "hypercatabolic         1\n",
       "glottic                1\n",
       "thermosensing          1\n",
       "corporate              1\n",
       "Name: firsttag, dtype: int64"
      ]
     },
     "execution_count": 88,
     "metadata": {},
     "output_type": "execute_result"
    }
   ],
   "source": [
    "filtered['firsttag'].value_counts()"
   ]
  },
  {
   "cell_type": "code",
   "execution_count": 94,
   "metadata": {
    "collapsed": true
   },
   "outputs": [],
   "source": [
    "#flatten & do FreqDist of tag words?\n",
    "#would like to look at roots & overlapping parts, e.g. 'neuro' anything, 'depress' anything\n",
    "import itertools\n",
    "flatten1 = itertools.chain.from_iterable\n",
    "flattened = [x for x in flatten1(flatten1(filtered['tagged']))]"
   ]
  },
  {
   "cell_type": "code",
   "execution_count": 97,
   "metadata": {
    "collapsed": false
   },
   "outputs": [],
   "source": [
    "counts = nltk.FreqDist(flattened)"
   ]
  },
  {
   "cell_type": "code",
   "execution_count": 103,
   "metadata": {
    "collapsed": false
   },
   "outputs": [],
   "source": [
    "import operator\n",
    "sortbycounts = sorted(counts.items(), key=operator.itemgetter(1), reverse=True)"
   ]
  },
  {
   "cell_type": "code",
   "execution_count": 105,
   "metadata": {
    "collapsed": false
   },
   "outputs": [
    {
     "data": {
      "text/plain": [
       "[('NN', 512908),\n",
       " ('JJ', 210245),\n",
       " ('NNS', 61568),\n",
       " (',', 42460),\n",
       " ('cancer', 32098),\n",
       " ('IN', 19573),\n",
       " ('disease', 17915),\n",
       " ('(', 15392),\n",
       " (')', 15374),\n",
       " ('stage', 11317),\n",
       " ('cell', 10922),\n",
       " ('lymphoma', 10346),\n",
       " ('CD', 10081),\n",
       " ('of', 9964),\n",
       " ('chronic', 9624)]"
      ]
     },
     "execution_count": 105,
     "metadata": {},
     "output_type": "execute_result"
    }
   ],
   "source": [
    "sortbycounts[0:15]"
   ]
  },
  {
   "cell_type": "code",
   "execution_count": 110,
   "metadata": {
    "collapsed": false
   },
   "outputs": [
    {
     "data": {
      "text/plain": [
       "['with',\n",
       " 'inactivity/low',\n",
       " 'rankl',\n",
       " 'baseline',\n",
       " 'agent-related',\n",
       " 'fistulas',\n",
       " 'mucosa-associated',\n",
       " 'minimum',\n",
       " 'cpt1',\n",
       " 'erythroleukemia']"
      ]
     },
     "execution_count": 110,
     "metadata": {},
     "output_type": "execute_result"
    }
   ],
   "source": [
    "words = list(set([x for x in flattened if len(x) > 3]))\n",
    "words[0:10]"
   ]
  },
  {
   "cell_type": "code",
   "execution_count": 116,
   "metadata": {
    "collapsed": false
   },
   "outputs": [
    {
     "data": {
      "text/plain": [
       "FreqDist({'rankl': 1,\n",
       "          'baseline': 5,\n",
       "          'agent-related': 16,\n",
       "          'fistulas': 15,\n",
       "          'mucosa-associated': 139,\n",
       "          'cpt1': 1,\n",
       "          'medication-overuse': 1,\n",
       "          'vte-related': 1,\n",
       "          'phlebotomy': 5,\n",
       "          'nonexudative': 4,\n",
       "          'failure': 4160,\n",
       "          'cholangiocarcinoma': 186,\n",
       "          'adrenomyeloneuropathy': 4,\n",
       "          'tenofovir': 2,\n",
       "          'lying': 1,\n",
       "          'synechiae': 3,\n",
       "          'ill-sustained': 1,\n",
       "          'tonic-clonic': 16,\n",
       "          'pull-up': 1,\n",
       "          'vagal': 5,\n",
       "          'imatinib': 9,\n",
       "          'varicella': 70,\n",
       "          'holoprosencephaly': 2,\n",
       "          'scid': 8,\n",
       "          'mouth': 114,\n",
       "          'groups': 16,\n",
       "          'discomfort': 39,\n",
       "          'non-albicans': 1,\n",
       "          'vesicoureteral': 13,\n",
       "          'stigmata': 1,\n",
       "          'gene/fusion': 1,\n",
       "          'lite': 1,\n",
       "          'roux-': 1,\n",
       "          'pachymetry': 1,\n",
       "          'processing': 18,\n",
       "          'pressor': 1,\n",
       "          'stress-related': 7,\n",
       "          'carbamoyltransferase': 1,\n",
       "          'extrasytoles': 1,\n",
       "          'attitude': 18,\n",
       "          'fmr1': 2,\n",
       "          'anserinus': 1,\n",
       "          'toxin-producing': 1,\n",
       "          'subarachnoid': 172,\n",
       "          'bronj': 1,\n",
       "          'aggravated': 4,\n",
       "          'sliding': 4,\n",
       "          'important': 2,\n",
       "          'duplications': 2,\n",
       "          'hstnt': 1,\n",
       "          'in-transit': 1,\n",
       "          'pazopanib': 1,\n",
       "          'analogs': 1,\n",
       "          'dormant': 2,\n",
       "          'epimacular': 2,\n",
       "          'breaking': 2,\n",
       "          'hyperprolactinemia': 16,\n",
       "          'bronchopulmonary': 122,\n",
       "          'décolleté': 1,\n",
       "          'kinematics': 5,\n",
       "          'gelsolin': 1,\n",
       "          'icd-9-cm': 1,\n",
       "          'immune-system': 1,\n",
       "          'tanner': 2,\n",
       "          'ranges': 1,\n",
       "          'her2normal': 1,\n",
       "          'ccrcc': 2,\n",
       "          'immunodeficiency': 629,\n",
       "          'dorsal': 6,\n",
       "          'housing': 3,\n",
       "          'darexaban': 2,\n",
       "          'combat-related': 2,\n",
       "          'her2-negative': 44,\n",
       "          'age-': 2,\n",
       "          'absorption': 42,\n",
       "          'photo-plethysmography': 1,\n",
       "          'migraines': 13,\n",
       "          'alveolus': 2,\n",
       "          'varices': 65,\n",
       "          'analgesic': 23,\n",
       "          'varicella-zoster': 4,\n",
       "          'steroid-induced': 4,\n",
       "          'msa-c': 1,\n",
       "          'respite': 1,\n",
       "          'epilepsies': 49,\n",
       "          'benzene': 1,\n",
       "          'hands': 10,\n",
       "          'hematopoetic': 5,\n",
       "          'converting': 2,\n",
       "          'bronchodilatators': 1,\n",
       "          'submacular': 2,\n",
       "          'highly': 10,\n",
       "          'participate': 7,\n",
       "          'cystocele': 26,\n",
       "          'eythematosus': 1,\n",
       "          'tanners': 1,\n",
       "          'a/h1n1': 11,\n",
       "          'availability': 11,\n",
       "          'gullain': 1,\n",
       "          'scores': 10,\n",
       "          'flushes': 13,\n",
       "          'irritant': 2,\n",
       "          'fine': 6,\n",
       "          'vasospasm': 51,\n",
       "          'papillary-mucinous': 3,\n",
       "          'sprain': 67,\n",
       "          'fevers': 3,\n",
       "          'meninges': 2,\n",
       "          'gluten-sensitive': 1,\n",
       "          '3x/week': 1,\n",
       "          'lysine': 2,\n",
       "          'meningioma': 101,\n",
       "          'brachiocephalic': 1,\n",
       "          'cloths': 1,\n",
       "          'pyschotic': 1,\n",
       "          'postgraduate': 2,\n",
       "          'basal-bolus': 1,\n",
       "          'laboring': 2,\n",
       "          'pectus': 21,\n",
       "          'legal': 5,\n",
       "          'smile': 1,\n",
       "          'mccune-albright': 3,\n",
       "          'sbbos': 1,\n",
       "          'intransit': 2,\n",
       "          'prostatitis/chronic': 2,\n",
       "          'form': 10,\n",
       "          'blastocystis': 1,\n",
       "          '3rd-line': 1,\n",
       "          'virological': 1,\n",
       "          'nares': 1,\n",
       "          'arrhythmia': 204,\n",
       "          'killing': 1,\n",
       "          'sufficient': 1,\n",
       "          'abdominothoracic': 1,\n",
       "          'peri-oral': 3,\n",
       "          'learning': 53,\n",
       "          'rosettes': 1,\n",
       "          'ecmo': 5,\n",
       "          'bimalleolar': 5,\n",
       "          'crestal': 2,\n",
       "          'wiskott-aldrich': 23,\n",
       "          'structured': 2,\n",
       "          'aesthetics': 7,\n",
       "          'sti/hiv': 1,\n",
       "          'ascariasis': 3,\n",
       "          'histologically-confirmed': 3,\n",
       "          'chronic-phase': 14,\n",
       "          'prolonged': 54,\n",
       "          'exfoliation': 12,\n",
       "          'overfeeding': 3,\n",
       "          'back-related': 1,\n",
       "          'hookworm': 23,\n",
       "          'myleiod': 1,\n",
       "          'cleaning': 1,\n",
       "          'injured': 11,\n",
       "          'toenails': 6,\n",
       "          '18-infected': 1,\n",
       "          'lcis': 2,\n",
       "          'posture': 9,\n",
       "          'thrombocytosis': 9,\n",
       "          'triclosan': 1,\n",
       "          'chemotherapy-induced': 115,\n",
       "          'mutation': 160,\n",
       "          'gastro-entero-pancreatic': 2,\n",
       "          'c.medical': 2,\n",
       "          'sinustachycardia': 1,\n",
       "          'conservation': 1,\n",
       "          'corpus': 201,\n",
       "          'penetrate': 1,\n",
       "          'gambling': 61,\n",
       "          'defect': 145,\n",
       "          'spina': 24,\n",
       "          'morquio': 16,\n",
       "          'nsaids-induced': 1,\n",
       "          'osteoma': 4,\n",
       "          'hypothesis': 2,\n",
       "          'septicemia': 11,\n",
       "          'investigate': 16,\n",
       "          'standardized': 4,\n",
       "          'non-squamous': 87,\n",
       "          'bodies': 26,\n",
       "          'colpopexy': 1,\n",
       "          'intercostal': 2,\n",
       "          'thyroid-related': 1,\n",
       "          'adduction': 3,\n",
       "          'audiologist': 1,\n",
       "          'partners': 2,\n",
       "          'throuhg': 1,\n",
       "          'non-muscle': 7,\n",
       "          'vidd': 1,\n",
       "          'coagulolytic': 1,\n",
       "          'usher': 9,\n",
       "          'habile': 1,\n",
       "          'versicolor': 1,\n",
       "          'degloving': 1,\n",
       "          'admission': 19,\n",
       "          'kiaa1809': 1,\n",
       "          'family-centered': 1,\n",
       "          'hysterectomies': 1,\n",
       "          '714leukemia': 1,\n",
       "          'pharmacologically': 1,\n",
       "          'loads': 1,\n",
       "          'antidepressive': 3,\n",
       "          'blastomere': 1,\n",
       "          'anti-n-methyl-d-aspartate': 1,\n",
       "          'colorectal': 2701,\n",
       "          'haemato-oncology': 1,\n",
       "          'nonspecific': 12,\n",
       "          'better': 6,\n",
       "          'proton-translocating': 1,\n",
       "          'arginase': 1,\n",
       "          'intracameral': 1,\n",
       "          'microalbuminuria': 24,\n",
       "          'cell-derived': 2,\n",
       "          'intgracellular': 1,\n",
       "          'taiwan': 1,\n",
       "          'mycoplasma': 14,\n",
       "          'stenting': 11,\n",
       "          'willis-ekbom': 1,\n",
       "          'fallopian': 690,\n",
       "          'patulous': 1,\n",
       "          'subthreshold': 4,\n",
       "          'bronchiale': 2,\n",
       "          'telehealth': 1,\n",
       "          'pulpotomies': 4,\n",
       "          'malocclusion': 62,\n",
       "          'annulus': 1,\n",
       "          'limitations': 9,\n",
       "          'angio': 1,\n",
       "          'sensorimotor': 6,\n",
       "          'spirituality': 1,\n",
       "          '10-20': 2,\n",
       "          'fact-toi': 1,\n",
       "          'geriatric': 38,\n",
       "          'visio-spatial': 1,\n",
       "          'hiatal': 24,\n",
       "          'opiod-related': 1,\n",
       "          'subepithelial': 7,\n",
       "          'hypertrabeculation': 1,\n",
       "          'r406': 1,\n",
       "          'thymoglobulin': 2,\n",
       "          'clock': 1,\n",
       "          'telangiectasias': 2,\n",
       "          'lennox-gastaut': 15,\n",
       "          'denuded': 1,\n",
       "          'cyst': 49,\n",
       "          'tablets': 3,\n",
       "          'ileocolitis': 1,\n",
       "          'chronic-granulomatous': 1,\n",
       "          'therapeutical': 2,\n",
       "          'lymphocyte-rich': 1,\n",
       "          'sever': 2,\n",
       "          'lrti-related': 1,\n",
       "          'machado': 2,\n",
       "          'gnaq': 1,\n",
       "          'q21q26.2': 2,\n",
       "          'anabolism': 4,\n",
       "          'trochlear': 2,\n",
       "          '7-hydroxymethotrexate': 1,\n",
       "          'antecedent': 1,\n",
       "          'carcer': 1,\n",
       "          'secundum': 2,\n",
       "          'radiotherapy': 50,\n",
       "          'aided': 1,\n",
       "          'spo2': 2,\n",
       "          'threat': 2,\n",
       "          'myelinated': 1,\n",
       "          'adenoca': 1,\n",
       "          'hyperreactive': 1,\n",
       "          'hyperfiltration': 2,\n",
       "          'diversion': 7,\n",
       "          'missed': 11,\n",
       "          'gastroesophageal': 518,\n",
       "          'exhaled': 10,\n",
       "          'traumatic': 879,\n",
       "          'schatzki': 2,\n",
       "          'folate-receptor': 1,\n",
       "          'mononeuropathy': 3,\n",
       "          'collagenous': 6,\n",
       "          'herpangina': 1,\n",
       "          'perinatal': 42,\n",
       "          'endocan': 1,\n",
       "          'tendonitis': 22,\n",
       "          'morselized': 1,\n",
       "          'enterococcal': 1,\n",
       "          'hibernating': 1,\n",
       "          'hla-identical': 1,\n",
       "          'variation': 21,\n",
       "          'sessions': 1,\n",
       "          'lactase': 1,\n",
       "          'socio-emotional': 1,\n",
       "          'cyanoacrylate': 1,\n",
       "          'pnald': 2,\n",
       "          'diabetitis': 1,\n",
       "          'iiic': 422,\n",
       "          'pa-ri': 1,\n",
       "          'plurimeter-v': 1,\n",
       "          'shy-drager': 4,\n",
       "          'gonadotropin': 4,\n",
       "          'vergence': 1,\n",
       "          'hepatotoxicity': 5,\n",
       "          'anca-associated': 9,\n",
       "          'extended-spectrum': 1,\n",
       "          'contralateral': 1,\n",
       "          'non-acid': 2,\n",
       "          'stamm': 1,\n",
       "          'abortions': 7,\n",
       "          'mucormycosis': 2,\n",
       "          'flutter': 92,\n",
       "          'vahs': 1,\n",
       "          'laceration': 16,\n",
       "          'reflexes': 1,\n",
       "          'eclampsia': 24,\n",
       "          'classification': 10,\n",
       "          'bcr-abl': 26,\n",
       "          'allergens': 3,\n",
       "          'neurogastrointestinal': 2,\n",
       "          'dabigatran': 1,\n",
       "          'vitrified': 1,\n",
       "          'shoulder': 389,\n",
       "          'ondansetron': 1,\n",
       "          'klippel-trenaunay': 1,\n",
       "          'corticostroid': 1,\n",
       "          'equina': 1,\n",
       "          'ischaemia': 13,\n",
       "          'backache': 5,\n",
       "          'hospitalised': 1,\n",
       "          'non-deletion': 1,\n",
       "          'discarded': 1,\n",
       "          'considered': 5,\n",
       "          'bio-equivalence': 1,\n",
       "          'haematological': 15,\n",
       "          'partial-thickness': 5,\n",
       "          'profile': 34,\n",
       "          'inversa': 1,\n",
       "          'repair': 78,\n",
       "          'exercise': 209,\n",
       "          'multi-center': 1,\n",
       "          'massive': 8,\n",
       "          'platinum': 16,\n",
       "          'shunt': 17,\n",
       "          'stokes': 4,\n",
       "          'seed': 4,\n",
       "          'normothermia': 1,\n",
       "          'cathartic': 3,\n",
       "          'device': 88,\n",
       "          'accoustic': 1,\n",
       "          'wrinkle': 4,\n",
       "          'dystrophica': 9,\n",
       "          'guidelines': 13,\n",
       "          'cd22+': 1,\n",
       "          '307.42': 1,\n",
       "          'schistosomiasis': 34,\n",
       "          'neurotic': 8,\n",
       "          'botryoid-type': 2,\n",
       "          'arteries': 38,\n",
       "          'essence': 1,\n",
       "          'monodermal': 2,\n",
       "          'c.surgical': 17,\n",
       "          'anesthesiologist-administered': 1,\n",
       "          'tourniquet-induced': 3,\n",
       "          'turbinate': 4,\n",
       "          'flaccid': 3,\n",
       "          'mildly': 7,\n",
       "          'productivity': 3,\n",
       "          'epiphora': 7,\n",
       "          'substitute': 1,\n",
       "          'leukemias': 28,\n",
       "          'partnership': 1,\n",
       "          'peri-partum': 1,\n",
       "          'burned': 2,\n",
       "          'heroin-addicted': 1,\n",
       "          'hypoalbuminemia': 8,\n",
       "          'plasmacytoid': 5,\n",
       "          'finger': 38,\n",
       "          'kiaa1025': 1,\n",
       "          'precision': 4,\n",
       "          'anthracycline-pretreated': 1,\n",
       "          'cardiomegaly': 1,\n",
       "          'mycobaterium': 1,\n",
       "          'gymnastics': 1,\n",
       "          'hepatic': 421,\n",
       "          'critic': 1,\n",
       "          'hormon': 2,\n",
       "          'cavitary': 1,\n",
       "          'periampullary': 25,\n",
       "          'crohn´s': 11,\n",
       "          'repolarization': 11,\n",
       "          'lunchroom': 1,\n",
       "          'informatics': 3,\n",
       "          'heterozygostiy': 1,\n",
       "          'nhl-both': 1,\n",
       "          'one-lung': 10,\n",
       "          'handle': 1,\n",
       "          'acromioclavicular': 8,\n",
       "          'baf35b': 1,\n",
       "          'ulnar': 10,\n",
       "          'behavioral': 78,\n",
       "          'nerveus': 1,\n",
       "          'stargardts': 1,\n",
       "          'frykman': 1,\n",
       "          'pathology': 53,\n",
       "          'perforation': 37,\n",
       "          'dried': 1,\n",
       "          'labialis': 33,\n",
       "          'tauopathies': 6,\n",
       "          'unfixed': 1,\n",
       "          'sarcoma': 1289,\n",
       "          'immunosenescence': 5,\n",
       "          'mammoplasty': 2,\n",
       "          '0-672': 1,\n",
       "          'haart-induced': 1,\n",
       "          'annuloplasty': 2,\n",
       "          'receptor-positive': 50,\n",
       "          'macronutrient': 1,\n",
       "          'hepatitis-b': 1,\n",
       "          'determination': 10,\n",
       "          'phosphoribosyl': 1,\n",
       "          'transfer/double': 1,\n",
       "          'dynamic': 8,\n",
       "          'decubitis': 1,\n",
       "          'ssri-refractory': 1,\n",
       "          'mutase': 1,\n",
       "          'awaiting': 4,\n",
       "          'maintain': 1,\n",
       "          'electrocardiogram': 4,\n",
       "          'non-fluency': 5,\n",
       "          'sudden': 183,\n",
       "          'mycosis': 288,\n",
       "          'dyspareunia': 19,\n",
       "          'magnifuse': 1,\n",
       "          'lopinavir/ritonavir': 2,\n",
       "          'multidetector': 1,\n",
       "          'harmonet': 1,\n",
       "          'fatigue': 474,\n",
       "          'obesity-related': 1,\n",
       "          'intralaminar': 1,\n",
       "          'lesions': 202,\n",
       "          'instability': 99,\n",
       "          'ckdu': 1,\n",
       "          'periods': 1,\n",
       "          'deployment': 3,\n",
       "          'pertussis': 211,\n",
       "          '60-65': 1,\n",
       "          'de-novo': 2,\n",
       "          'pre-academic': 1,\n",
       "          'activity/exercise': 2,\n",
       "          'primitive': 116,\n",
       "          'monopolar': 2,\n",
       "          'epstein': 9,\n",
       "          'recurrent/metastatic': 5,\n",
       "          'instantaneous': 1,\n",
       "          'epikondylopathia': 1,\n",
       "          'respiratory-gated': 1,\n",
       "          'cognitive-behavioral': 1,\n",
       "          'entrapment': 8,\n",
       "          'somatosensory': 7,\n",
       "          'noninsulin': 3,\n",
       "          'strenuous': 1,\n",
       "          'furuncle': 1,\n",
       "          'hemorrhoids': 52,\n",
       "          'intersticial': 1,\n",
       "          'post-splenectomy': 1,\n",
       "          'macroadenoma': 2,\n",
       "          'hairy': 100,\n",
       "          'psoriasis': 898,\n",
       "          'macroscopic': 1,\n",
       "          'engaging': 1,\n",
       "          'pouchitis': 12,\n",
       "          'colchicine': 2,\n",
       "          'loiasis': 2,\n",
       "          'enoxaparin': 2,\n",
       "          'electroencephalography/': 1,\n",
       "          'higher': 8,\n",
       "          '-isomer': 1,\n",
       "          'hemochromatosis': 30,\n",
       "          'ache': 3,\n",
       "          'adductor': 4,\n",
       "          'people': 40,\n",
       "          'inr-poc-testing': 1,\n",
       "          'cryptozoospermia': 1,\n",
       "          'hypnotherapy': 1,\n",
       "          'there': 5,\n",
       "          'alternative': 6,\n",
       "          'oesophagus': 11,\n",
       "          'insured': 1,\n",
       "          'echocardiograms': 1,\n",
       "          'confocal': 1,\n",
       "          'pharmacotherapy': 3,\n",
       "          'haematocrit': 1,\n",
       "          'polypeptide': 16,\n",
       "          'reactive': 26,\n",
       "          'largecell': 1,\n",
       "          'brief': 12,\n",
       "          'cation': 1,\n",
       "          'fructans': 1,\n",
       "          'pharynx': 8,\n",
       "          'nasal': 527,\n",
       "          'leptomeningeal': 11,\n",
       "          'memory': 171,\n",
       "          'viraemia': 4,\n",
       "          'non-alcholic': 1,\n",
       "          'glucocorticoid-associated': 1,\n",
       "          'inos': 1,\n",
       "          'pilon': 7,\n",
       "          'conduction': 21,\n",
       "          'fimbriae': 1,\n",
       "          'mdv3100': 4,\n",
       "          'lacritin': 1,\n",
       "          'aodd': 1,\n",
       "          'middle-aged': 2,\n",
       "          'sphingomyelin': 3,\n",
       "          'acceptance': 12,\n",
       "          'intratracheal': 22,\n",
       "          'split-thickness': 5,\n",
       "          'demodicidosis': 1,\n",
       "          'radiation': 246,\n",
       "          'influence': 21,\n",
       "          'd004786': 1,\n",
       "          'copy': 1,\n",
       "          'hras': 1,\n",
       "          'antiplatelet': 17,\n",
       "          'kidney': 2910,\n",
       "          'nutrient': 9,\n",
       "          'non-celiac': 5,\n",
       "          'spray': 3,\n",
       "          'complex-associated': 1,\n",
       "          'specimens': 4,\n",
       "          'i-iii': 11,\n",
       "          'lymphocele': 5,\n",
       "          'losing': 1,\n",
       "          'heart-lung': 5,\n",
       "          'exactly': 1,\n",
       "          'non-fl': 1,\n",
       "          'signification': 1,\n",
       "          'furunculosis': 4,\n",
       "          'infections': 4824,\n",
       "          'live': 8,\n",
       "          'incompetent': 1,\n",
       "          'alagille': 10,\n",
       "          'thymectomy': 2,\n",
       "          'densitometry': 1,\n",
       "          'sequelae': 13,\n",
       "          'f3-4': 1,\n",
       "          'cholangiopancreatography': 13,\n",
       "          'athletes': 12,\n",
       "          'unnecessary': 4,\n",
       "          'viable': 1,\n",
       "          'ventilator': 90,\n",
       "          'aortoiliac': 6,\n",
       "          'produced': 1,\n",
       "          'toileting': 2,\n",
       "          'myelokathexis': 2,\n",
       "          'aldh2': 1,\n",
       "          'cranial': 15,\n",
       "          'invasively': 1,\n",
       "          'employees': 3,\n",
       "          'telomere-telomerase': 1,\n",
       "          'capillaroscopy': 1,\n",
       "          'feeding': 142,\n",
       "          'paget': 21,\n",
       "          'antiseptic': 1,\n",
       "          'post-prandial': 4,\n",
       "          'anuria': 5,\n",
       "          'rocky': 1,\n",
       "          'b-cell-like': 1,\n",
       "          'brady-tachy': 2,\n",
       "          'hyponatraemia': 1,\n",
       "          'pilaris': 3,\n",
       "          'c11.525.381.407': 1,\n",
       "          'extending': 3,\n",
       "          'nuclear': 8,\n",
       "          'recurrence': 104,\n",
       "          'involuntary': 3,\n",
       "          'cardio-pulmonary': 5,\n",
       "          'relatively': 1,\n",
       "          'scalds': 1,\n",
       "          'cytokine-induced': 2,\n",
       "          'radiculitis': 3,\n",
       "          'programmable': 1,\n",
       "          'sitl': 1,\n",
       "          'tgfbr2': 1,\n",
       "          'psychological': 191,\n",
       "          'pituitary': 80,\n",
       "          'lipodystrophies': 1,\n",
       "          't483740': 1,\n",
       "          'non-carious': 4,\n",
       "          'non-neurogenic': 1,\n",
       "          'ventriclar': 1,\n",
       "          'thrombosed': 2,\n",
       "          'appetite': 66,\n",
       "          'fibrosing': 8,\n",
       "          'delta': 8,\n",
       "          'theanine': 1,\n",
       "          'bcl7b': 1,\n",
       "          'formula': 8,\n",
       "          'porc': 1,\n",
       "          'metavir': 1,\n",
       "          'eating': 240,\n",
       "          'stillbirth': 23,\n",
       "          'attr': 2,\n",
       "          'diffusion-weighted': 1,\n",
       "          'deficient': 12,\n",
       "          'non-résécable': 1,\n",
       "          'fruste': 3,\n",
       "          'furrowing': 2,\n",
       "          'chalazia': 1,\n",
       "          'pcnsl': 4,\n",
       "          'antiphospholipid': 36,\n",
       "          'acquiring': 1,\n",
       "          'theraphy': 1,\n",
       "          'outlet': 27,\n",
       "          'lipoma': 5,\n",
       "          'syndome': 1,\n",
       "          'inactive': 3,\n",
       "          'gallbladder': 219,\n",
       "          'post-foregut': 1,\n",
       "          'allergies': 40,\n",
       "          'effector': 1,\n",
       "          'self-report': 1,\n",
       "          'acinetobacter': 8,\n",
       "          'macrophages': 1,\n",
       "          'dander': 2,\n",
       "          's303': 2,\n",
       "          'adhered': 1,\n",
       "          'barriers': 1,\n",
       "          'verbal': 3,\n",
       "          'cytoprotection': 1,\n",
       "          'grey-zone': 1,\n",
       "          'paramyotonia': 4,\n",
       "          'historical': 1,\n",
       "          'hyperuricemia': 57,\n",
       "          'thromobocytosis': 1,\n",
       "          'redundancy': 2,\n",
       "          'abstinence': 33,\n",
       "          'iridocyclitis': 2,\n",
       "          'jerovici': 1,\n",
       "          'sore': 37,\n",
       "          'low-output': 2,\n",
       "          'tremors': 2,\n",
       "          'tubercle': 1,\n",
       "          'anoxia': 12,\n",
       "          'low-level': 1,\n",
       "          'relapse/refractory': 1,\n",
       "          'mised': 1,\n",
       "          'nicotine-free': 1,\n",
       "          'individualized': 5,\n",
       "          'combined': 69,\n",
       "          'sabre': 1,\n",
       "          'meatal': 1,\n",
       "          'urogynecologic': 1,\n",
       "          'hyperalphalipoproteinemia': 1,\n",
       "          'microphthalmos': 1,\n",
       "          'carbamyl': 1,\n",
       "          'carbohydrate': 11,\n",
       "          'rhabdomyolysis': 14,\n",
       "          'obligatory': 1,\n",
       "          'referred': 10,\n",
       "          'syrup': 1,\n",
       "          'plates': 1,\n",
       "          'pinealoma': 1,\n",
       "          'cryoprecipitate': 1,\n",
       "          'uicc': 1,\n",
       "          'methanol': 1,\n",
       "          'keratectasia': 1,\n",
       "          'myxofibrosarcoma': 4,\n",
       "          'sheath': 36,\n",
       "          'vaginosis': 95,\n",
       "          'muscles/ultrasonography': 2,\n",
       "          'achillodynia': 2,\n",
       "          'waveform': 3,\n",
       "          'withdrawl': 1,\n",
       "          'gaucher': 87,\n",
       "          'triad': 3,\n",
       "          'peer': 8,\n",
       "          'teeth/supporting': 1,\n",
       "          'excluding': 11,\n",
       "          'kiaa0346': 1,\n",
       "          'endometrium': 29,\n",
       "          'rifle': 1,\n",
       "          'telangiectasis': 11,\n",
       "          '11q-deleted': 1,\n",
       "          'neuronitis': 6,\n",
       "          'uninformed': 1,\n",
       "          'implementation': 13,\n",
       "          'designation': 1,\n",
       "          'oligodendroglioma': 143,\n",
       "          'hiv-related': 4,\n",
       "          'elevatum': 1,\n",
       "          'astaxanthin': 1,\n",
       "          'floaters': 1,\n",
       "          'aniridia': 9,\n",
       "          'condylar': 2,\n",
       "          'seronegative': 2,\n",
       "          'non-smoker': 4,\n",
       "          'bedside': 2,\n",
       "          'arnold': 3,\n",
       "          'borderline': 104,\n",
       "          'regimens': 7,\n",
       "          'norethindrone': 1,\n",
       "          'osteomyelitis': 29,\n",
       "          'veno': 2,\n",
       "          'angioimmunoblastic': 94,\n",
       "          'virulence': 1,\n",
       "          'underdose': 1,\n",
       "          'papillaris': 1,\n",
       "          'apathy': 22,\n",
       "          'tachycardias': 4,\n",
       "          'eicosapentaenoic': 1,\n",
       "          'aged': 74,\n",
       "          'tur-b': 1,\n",
       "          'wilsons': 1,\n",
       "          'atresia': 39,\n",
       "          'molecular': 17,\n",
       "          'acid-base': 5,\n",
       "          'metabolized': 1,\n",
       "          'keratoderma': 2,\n",
       "          'cadasil': 5,\n",
       "          'self-motion': 1,\n",
       "          'hdl-c': 2,\n",
       "          'neurally-mediated': 2,\n",
       "          'through': 16,\n",
       "          'moyamoya': 9,\n",
       "          'nausea': 454,\n",
       "          'glucagonoma': 16,\n",
       "          'percent': 5,\n",
       "          'nasopharynx': 185,\n",
       "          'inhiditor': 1,\n",
       "          'riata': 1,\n",
       "          'hurthle': 3,\n",
       "          'euglycemia': 1,\n",
       "          'decreasing': 2,\n",
       "          'filarial': 5,\n",
       "          'her2-mutant': 1,\n",
       "          'pregnancy-related': 2,\n",
       "          'wasting': 41,\n",
       "          'communities': 2,\n",
       "          'parkinsonian': 26,\n",
       "          'recompensation': 1,\n",
       "          'insult': 1,\n",
       "          'propofol-anaesthesia': 1,\n",
       "          'pseudoglioma': 2,\n",
       "          'neutrophils': 3,\n",
       "          'hyperemesis': 9,\n",
       "          'eaton': 5,\n",
       "          'sjögren´s': 1,\n",
       "          'postreperfusion': 2,\n",
       "          't3-4n0-2m0': 1,\n",
       "          'office': 4,\n",
       "          'wison': 1,\n",
       "          'oculocerebrorenal': 1,\n",
       "          'cipnm': 1,\n",
       "          'balloons': 1,\n",
       "          'amplifications': 1,\n",
       "          'vo2max': 1,\n",
       "          '2-10': 1,\n",
       "          'phenylketonuria': 56,\n",
       "          'pyropoikilocytosis': 1,\n",
       "          'hemodilution': 4,\n",
       "          'non-hodgekin': 1,\n",
       "          'orthostatic': 91,\n",
       "          'baska': 2,\n",
       "          'less': 22,\n",
       "          'nonalcoholic': 112,\n",
       "          'gm1-gangliosidosis': 1,\n",
       "          '6-17': 1,\n",
       "          'rivaroxaban': 2,\n",
       "          'owner': 1,\n",
       "          'h5n2': 1,\n",
       "          'empyhsema': 1,\n",
       "          'vats': 3,\n",
       "          'clotted': 1,\n",
       "          'technics': 1,\n",
       "          'burkett': 1,\n",
       "          'post-keratoplasty': 1,\n",
       "          'curves': 2,\n",
       "          'telenursing': 1,\n",
       "          'dock8': 2,\n",
       "          'acta2': 1,\n",
       "          'radiologically-confirmed': 1,\n",
       "          'sialorrhoea': 1,\n",
       "          'sigmoïditis': 1,\n",
       "          'splenectomy': 4,\n",
       "          \"crohn's-like\": 1,\n",
       "          'pomgnt1': 1,\n",
       "          'tunnel': 128,\n",
       "          'residua': 2,\n",
       "          'carcinological': 1,\n",
       "          'midlevel': 1,\n",
       "          'avenanthramides': 2,\n",
       "          'edematous': 3,\n",
       "          'hormono-depending': 1,\n",
       "          'anti-r-huepo': 1,\n",
       "          'incontinence-associated': 2,\n",
       "          'claw': 2,\n",
       "          'crease': 1,\n",
       "          'e.g.': 2,\n",
       "          'nucleus': 3,\n",
       "          'related': 448,\n",
       "          'dyskinesia': 81,\n",
       "          'hemiplegics': 1,\n",
       "          'preventable': 1,\n",
       "          'intra-abdominal': 62,\n",
       "          'noncutaneous': 31,\n",
       "          'multi-system-atrophy': 1,\n",
       "          'flexible-laryngeal': 1,\n",
       "          'p.vivax': 1,\n",
       "          'myometrium': 1,\n",
       "          'vasculight': 1,\n",
       "          'cerebra-retinal': 1,\n",
       "          'consequences': 8,\n",
       "          'caregiver': 23,\n",
       "          'cryopyrin-associated': 7,\n",
       "          'bisphenol': 1,\n",
       "          'opinion': 1,\n",
       "          'bioavailbility': 1,\n",
       "          'strangulated': 1,\n",
       "          'confidence': 2,\n",
       "          'lipidosis': 7,\n",
       "          'have/have': 1,\n",
       "          'frail': 55,\n",
       "          'nodularis': 8,\n",
       "          'guidance': 2,\n",
       "          'syndromes': 1249,\n",
       "          'fbb-adhs-v': 1,\n",
       "          'non-ischemic': 16,\n",
       "          'effectiveness': 44,\n",
       "          'ewing/ewing-like': 1,\n",
       "          'rars': 1,\n",
       "          'neramexane': 1,\n",
       "          'county': 2,\n",
       "          'high-sensitivity': 1,\n",
       "          'compromise': 1,\n",
       "          'selenoprotein': 1,\n",
       "          'challenges': 1,\n",
       "          'hypomyelination': 1,\n",
       "          'dryness': 17,\n",
       "          'existing': 6,\n",
       "          'urethrocystoscopy': 1,\n",
       "          'lifestyle-related': 2,\n",
       "          'right': 90,\n",
       "          'stevens': 2,\n",
       "          'triacylglycerol': 1,\n",
       "          'duplin': 1,\n",
       "          'axis': 4,\n",
       "          'retrusion': 1,\n",
       "          'transition': 14,\n",
       "          'intractable': 37,\n",
       "          'obliteration': 1,\n",
       "          'vector': 1,\n",
       "          'ankle/foot': 1,\n",
       "          'xeropthalmia': 1,\n",
       "          'all-z': 1,\n",
       "          'defibrillation': 2,\n",
       "          'ppsv': 1,\n",
       "          'terminale': 1,\n",
       "          'organic': 9,\n",
       "          'c14907933125': 1,\n",
       "          'crvo': 1,\n",
       "          'coach': 1,\n",
       "          'changing': 1,\n",
       "          'extensive': 50,\n",
       "          'interactions': 53,\n",
       "          'ruptured': 25,\n",
       "          'sarcoma/peripheral': 50,\n",
       "          'hyperplastic': 7,\n",
       "          'cataract': 446,\n",
       "          'non-colorectal': 2,\n",
       "          'blebs': 1,\n",
       "          'laryngitis': 9,\n",
       "          'factor-1': 4,\n",
       "          'necrosis': 174,\n",
       "          'stimulant-induced': 1,\n",
       "          'rtms': 4,\n",
       "          'trophoblastic': 45,\n",
       "          'basophilic': 26,\n",
       "          'micronuclei': 1,\n",
       "          'glucose': 385,\n",
       "          'lipoedema': 1,\n",
       "          'survivors': 43,\n",
       "          'cerebello-oculo-renal': 1,\n",
       "          'endoscopy': 61,\n",
       "          'fgid': 2,\n",
       "          'symbotex™': 1,\n",
       "          'formation': 23,\n",
       "          'toothache': 8,\n",
       "          'alterations': 13,\n",
       "          'spontaeous': 1,\n",
       "          'crow': 17,\n",
       "          'dermatosis': 8,\n",
       "          '22q11': 2,\n",
       "          'fibroids': 125,\n",
       "          'transfused': 1,\n",
       "          'unspecified': 1048,\n",
       "          'spermatozoa': 3,\n",
       "          'douloureux': 1,\n",
       "          'graves´': 3,\n",
       "          'guanylyl': 1,\n",
       "          'shunts': 2,\n",
       "          'steroid-free': 1,\n",
       "          'anti-platelets': 1,\n",
       "          'proctosigmoid': 1,\n",
       "          'oc43': 1,\n",
       "          'shaken': 4,\n",
       "          'previa': 16,\n",
       "          'ige-mediated': 2,\n",
       "          'optic-neuropathy': 1,\n",
       "          'dialysis-dependent': 1,\n",
       "          'myxoid': 12,\n",
       "          'endovenous': 2,\n",
       "          'haemopathy': 1,\n",
       "          'gene': 91,\n",
       "          'hyperacusis': 4,\n",
       "          'follicular': 1324,\n",
       "          'alstrom': 1,\n",
       "          'fillers': 1,\n",
       "          'thrombocytopenia': 229,\n",
       "          'disorders/epidemiology': 2,\n",
       "          'espresso': 1,\n",
       "          'parenchymous': 1,\n",
       "          'prevents': 1,\n",
       "          'lymphangiomyomas': 1,\n",
       "          'beta-carotene': 1,\n",
       "          'diagnosis': 129,\n",
       "          'forehead/glabellar': 1,\n",
       "          'coparison': 1,\n",
       "          'metabolome': 1,\n",
       "          'endotoxin-mediated': 1,\n",
       "          'de-contamination': 1,\n",
       "          'thrombelastography': 3,\n",
       "          'asp2409': 1,\n",
       "          'stumbling': 1,\n",
       "          'xanthine': 1,\n",
       "          'lacerations': 24,\n",
       "          'juguler': 1,\n",
       "          'ultramarathon': 1,\n",
       "          'under-five': 1,\n",
       "          'remnant': 3,\n",
       "          'polyomavirus': 7,\n",
       "          'prevenar13': 1,\n",
       "          'indomethacin': 1,\n",
       "          'fontaine': 2,\n",
       "          'demographics': 5,\n",
       "          'anomia': 5,\n",
       "          'gravid': 1,\n",
       "          'tinnitus': 147,\n",
       "          'work': 39,\n",
       "          'residence': 3,\n",
       "          'negative-pressure': 3,\n",
       "          'smoking': 1073,\n",
       "          'imperfecta': 25,\n",
       "          'myoma': 29,\n",
       "          'arrhythmogenic': 11,\n",
       "          'ceramic': 3,\n",
       "          'homicide': 1,\n",
       "          'universalis': 5,\n",
       "          'latent': 58,\n",
       "          'weightlessness': 3,\n",
       "          'collar': 1,\n",
       "          'sarcoma-associated': 1,\n",
       "          'arteriosclerosis': 205,\n",
       "          'med13l': 1,\n",
       "          'facilitation': 1,\n",
       "          'mbsr': 1,\n",
       "          'lambert-eaton': 7,\n",
       "          'lipodystrophy': 91,\n",
       "          'mechanics': 5,\n",
       "          'beverage': 3,\n",
       "          'stage-1': 1,\n",
       "          'amoxicillin-clavulanate': 1,\n",
       "          'epidemics': 1,\n",
       "          'naloxone': 3,\n",
       "          'aspergers': 1,\n",
       "          'femoropopliteal': 12,\n",
       "          'hydroxide': 1,\n",
       "          'plasmodium': 117,\n",
       "          'rehospitalizations': 1,\n",
       "          'blushing': 1,\n",
       "          'biotransformation': 2,\n",
       "          'monocytes': 1,\n",
       "          'epithelial-mesenchymal': 1,\n",
       "          'starvation': 6,\n",
       "          'smear-positive': 1,\n",
       "          'asp3662': 1,\n",
       "          'constitutional': 9,\n",
       "          'late-infantile': 3,\n",
       "          'abstinent': 1,\n",
       "          'craving': 9,\n",
       "          'optimized': 1,\n",
       "          'antibody': 45,\n",
       "          'aromatic': 2,\n",
       "          'cell-hemoglobin': 2,\n",
       "          'iols': 1,\n",
       "          'daily': 39,\n",
       "          'agranulocytosis': 3,\n",
       "          'regressors': 1,\n",
       "          'recruit': 1,\n",
       "          '1p/19q': 3,\n",
       "          'convergence': 9,\n",
       "          'off-site': 1,\n",
       "          ...})"
      ]
     },
     "execution_count": 116,
     "metadata": {},
     "output_type": "execute_result"
    }
   ],
   "source": [
    "nltk.FreqDist([x for x in flattened if len(x) > 3])"
   ]
  },
  {
   "cell_type": "code",
   "execution_count": 111,
   "metadata": {
    "collapsed": true
   },
   "outputs": [],
   "source": [
    "from nltk.stem.snowball import SnowballStemmer"
   ]
  },
  {
   "cell_type": "code",
   "execution_count": 112,
   "metadata": {
    "collapsed": true
   },
   "outputs": [],
   "source": [
    "stemmer = SnowballStemmer('english')"
   ]
  },
  {
   "cell_type": "code",
   "execution_count": 114,
   "metadata": {
    "collapsed": false
   },
   "outputs": [
    {
     "name": "stdout",
     "output_type": "stream",
     "text": [
      "depress\n"
     ]
    }
   ],
   "source": [
    "print(stemmer.stem('depressive'))  #great"
   ]
  },
  {
   "cell_type": "code",
   "execution_count": 115,
   "metadata": {
    "collapsed": false
   },
   "outputs": [
    {
     "name": "stdout",
     "output_type": "stream",
     "text": [
      "mucosa-associ\n"
     ]
    }
   ],
   "source": [
    "print(stemmer.stem('mucosa-associated')) #stupid"
   ]
  },
  {
   "cell_type": "code",
   "execution_count": 22,
   "metadata": {
    "collapsed": false
   },
   "outputs": [
    {
     "data": {
      "text/html": [
       "<div>\n",
       "<table border=\"1\" class=\"dataframe\">\n",
       "  <thead>\n",
       "    <tr style=\"text-align: right;\">\n",
       "      <th></th>\n",
       "      <th>MILESTONE_ID</th>\n",
       "      <th>PARTICIPANT_FLOW_ID</th>\n",
       "      <th>MILESTONE_TYPE</th>\n",
       "      <th>MILESTONE_TITLE</th>\n",
       "    </tr>\n",
       "  </thead>\n",
       "  <tbody>\n",
       "    <tr>\n",
       "      <th>0</th>\n",
       "      <td>41</td>\n",
       "      <td>81</td>\n",
       "      <td>Milestone</td>\n",
       "      <td>STARTED</td>\n",
       "    </tr>\n",
       "    <tr>\n",
       "      <th>1</th>\n",
       "      <td>42</td>\n",
       "      <td>81</td>\n",
       "      <td>Milestone</td>\n",
       "      <td>COMPLETED</td>\n",
       "    </tr>\n",
       "    <tr>\n",
       "      <th>2</th>\n",
       "      <td>43</td>\n",
       "      <td>81</td>\n",
       "      <td>Milestone</td>\n",
       "      <td>NOT COMPLETED</td>\n",
       "    </tr>\n",
       "    <tr>\n",
       "      <th>3</th>\n",
       "      <td>44</td>\n",
       "      <td>82</td>\n",
       "      <td>Milestone</td>\n",
       "      <td>STARTED</td>\n",
       "    </tr>\n",
       "    <tr>\n",
       "      <th>4</th>\n",
       "      <td>45</td>\n",
       "      <td>82</td>\n",
       "      <td>Milestone</td>\n",
       "      <td>COMPLETED</td>\n",
       "    </tr>\n",
       "  </tbody>\n",
       "</table>\n",
       "</div>"
      ],
      "text/plain": [
       "   MILESTONE_ID  PARTICIPANT_FLOW_ID MILESTONE_TYPE MILESTONE_TITLE\n",
       "0            41                   81      Milestone         STARTED\n",
       "1            42                   81      Milestone       COMPLETED\n",
       "2            43                   81      Milestone   NOT COMPLETED\n",
       "3            44                   82      Milestone         STARTED\n",
       "4            45                   82      Milestone       COMPLETED"
      ]
     },
     "execution_count": 22,
     "metadata": {},
     "output_type": "execute_result"
    }
   ],
   "source": [
    "milestones = pd.read_csv('results_partflow_mlstn.txt', sep='|')\n",
    "milestones.head()"
   ]
  },
  {
   "cell_type": "code",
   "execution_count": 35,
   "metadata": {
    "collapsed": true
   },
   "outputs": [],
   "source": [
    "milestones['tagged'] = [tokenize_and_tag(x) for x in milestones['MILESTONE_TITLE']]"
   ]
  },
  {
   "cell_type": "code",
   "execution_count": 36,
   "metadata": {
    "collapsed": false
   },
   "outputs": [
    {
     "data": {
      "text/html": [
       "<div>\n",
       "<table border=\"1\" class=\"dataframe\">\n",
       "  <thead>\n",
       "    <tr style=\"text-align: right;\">\n",
       "      <th></th>\n",
       "      <th>MILESTONE_ID</th>\n",
       "      <th>PARTICIPANT_FLOW_ID</th>\n",
       "      <th>MILESTONE_TYPE</th>\n",
       "      <th>MILESTONE_TITLE</th>\n",
       "      <th>tagged</th>\n",
       "      <th>taglen</th>\n",
       "    </tr>\n",
       "  </thead>\n",
       "  <tbody>\n",
       "    <tr>\n",
       "      <th>0</th>\n",
       "      <td>41</td>\n",
       "      <td>81</td>\n",
       "      <td>Milestone</td>\n",
       "      <td>STARTED</td>\n",
       "      <td>[(started, VBN)]</td>\n",
       "      <td>1</td>\n",
       "    </tr>\n",
       "    <tr>\n",
       "      <th>1</th>\n",
       "      <td>42</td>\n",
       "      <td>81</td>\n",
       "      <td>Milestone</td>\n",
       "      <td>COMPLETED</td>\n",
       "      <td>[(completed, VBN)]</td>\n",
       "      <td>1</td>\n",
       "    </tr>\n",
       "    <tr>\n",
       "      <th>2</th>\n",
       "      <td>43</td>\n",
       "      <td>81</td>\n",
       "      <td>Milestone</td>\n",
       "      <td>NOT COMPLETED</td>\n",
       "      <td>[(not, RB), (completed, VBN)]</td>\n",
       "      <td>2</td>\n",
       "    </tr>\n",
       "    <tr>\n",
       "      <th>3</th>\n",
       "      <td>44</td>\n",
       "      <td>82</td>\n",
       "      <td>Milestone</td>\n",
       "      <td>STARTED</td>\n",
       "      <td>[(started, VBN)]</td>\n",
       "      <td>1</td>\n",
       "    </tr>\n",
       "    <tr>\n",
       "      <th>4</th>\n",
       "      <td>45</td>\n",
       "      <td>82</td>\n",
       "      <td>Milestone</td>\n",
       "      <td>COMPLETED</td>\n",
       "      <td>[(completed, VBN)]</td>\n",
       "      <td>1</td>\n",
       "    </tr>\n",
       "  </tbody>\n",
       "</table>\n",
       "</div>"
      ],
      "text/plain": [
       "   MILESTONE_ID  PARTICIPANT_FLOW_ID MILESTONE_TYPE MILESTONE_TITLE  \\\n",
       "0            41                   81      Milestone         STARTED   \n",
       "1            42                   81      Milestone       COMPLETED   \n",
       "2            43                   81      Milestone   NOT COMPLETED   \n",
       "3            44                   82      Milestone         STARTED   \n",
       "4            45                   82      Milestone       COMPLETED   \n",
       "\n",
       "                          tagged  taglen  \n",
       "0               [(started, VBN)]       1  \n",
       "1             [(completed, VBN)]       1  \n",
       "2  [(not, RB), (completed, VBN)]       2  \n",
       "3               [(started, VBN)]       1  \n",
       "4             [(completed, VBN)]       1  "
      ]
     },
     "execution_count": 36,
     "metadata": {},
     "output_type": "execute_result"
    }
   ],
   "source": [
    "milestones.head()"
   ]
  },
  {
   "cell_type": "code",
   "execution_count": 28,
   "metadata": {
    "collapsed": false
   },
   "outputs": [],
   "source": [
    "milestones['taglen'] = [len(x) for x in milestones['tagged']]"
   ]
  },
  {
   "cell_type": "code",
   "execution_count": 30,
   "metadata": {
    "collapsed": false
   },
   "outputs": [
    {
     "name": "stdout",
     "output_type": "stream",
     "text": [
      "[nltk_data] Downloading package tagsets to\n",
      "[nltk_data]     /Users/szeitlin/nltk_data...\n",
      "[nltk_data]   Unzipping help/tagsets.zip.\n"
     ]
    },
    {
     "data": {
      "text/plain": [
       "True"
      ]
     },
     "execution_count": 30,
     "metadata": {},
     "output_type": "execute_result"
    }
   ],
   "source": [
    "nltk.download('tagsets')"
   ]
  },
  {
   "cell_type": "code",
   "execution_count": 37,
   "metadata": {
    "collapsed": false
   },
   "outputs": [
    {
     "name": "stdout",
     "output_type": "stream",
     "text": [
      "VBN: verb, past participle\n",
      "    multihulled dilapidated aerosolized chaired languished panelized used\n",
      "    experimented flourished imitated reunifed factored condensed sheared\n",
      "    unsettled primed dubbed desired ...\n"
     ]
    }
   ],
   "source": [
    "nltk.help.upenn_tagset('VBN') #note that all-caps words were assumed to be proper nouns!"
   ]
  },
  {
   "cell_type": "code",
   "execution_count": null,
   "metadata": {
    "collapsed": true
   },
   "outputs": [],
   "source": []
  }
 ],
 "metadata": {
  "kernelspec": {
   "display_name": "Python 3",
   "language": "python",
   "name": "python3"
  },
  "language_info": {
   "codemirror_mode": {
    "name": "ipython",
    "version": 3
   },
   "file_extension": ".py",
   "mimetype": "text/x-python",
   "name": "python",
   "nbconvert_exporter": "python",
   "pygments_lexer": "ipython3",
   "version": "3.5.2"
  }
 },
 "nbformat": 4,
 "nbformat_minor": 0
}
