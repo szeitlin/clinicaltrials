{
 "cells": [
  {
   "cell_type": "code",
   "execution_count": 2,
   "metadata": {
    "collapsed": false
   },
   "outputs": [],
   "source": [
    "import nltk\n",
    "import pandas as pd"
   ]
  },
  {
   "cell_type": "code",
   "execution_count": 3,
   "metadata": {
    "collapsed": false
   },
   "outputs": [
    {
     "data": {
      "text/html": [
       "<div>\n",
       "<table border=\"1\" class=\"dataframe\">\n",
       "  <thead>\n",
       "    <tr style=\"text-align: right;\">\n",
       "      <th></th>\n",
       "      <th>CONDITION_ID</th>\n",
       "      <th>NCT_ID</th>\n",
       "      <th>CONDITION</th>\n",
       "    </tr>\n",
       "  </thead>\n",
       "  <tbody>\n",
       "    <tr>\n",
       "      <th>0</th>\n",
       "      <td>150</td>\n",
       "      <td>NCT00000262</td>\n",
       "      <td>Substance-Related Disorders</td>\n",
       "    </tr>\n",
       "    <tr>\n",
       "      <th>1</th>\n",
       "      <td>151</td>\n",
       "      <td>NCT00000263</td>\n",
       "      <td>Opioid-Related Disorders</td>\n",
       "    </tr>\n",
       "    <tr>\n",
       "      <th>2</th>\n",
       "      <td>152</td>\n",
       "      <td>NCT00000263</td>\n",
       "      <td>Substance-Related Disorders</td>\n",
       "    </tr>\n",
       "    <tr>\n",
       "      <th>3</th>\n",
       "      <td>153</td>\n",
       "      <td>NCT00000264</td>\n",
       "      <td>Opioid-Related Disorders</td>\n",
       "    </tr>\n",
       "    <tr>\n",
       "      <th>4</th>\n",
       "      <td>154</td>\n",
       "      <td>NCT00000264</td>\n",
       "      <td>Substance-Related Disorders</td>\n",
       "    </tr>\n",
       "  </tbody>\n",
       "</table>\n",
       "</div>"
      ],
      "text/plain": [
       "   CONDITION_ID       NCT_ID                    CONDITION\n",
       "0           150  NCT00000262  Substance-Related Disorders\n",
       "1           151  NCT00000263     Opioid-Related Disorders\n",
       "2           152  NCT00000263  Substance-Related Disorders\n",
       "3           153  NCT00000264     Opioid-Related Disorders\n",
       "4           154  NCT00000264  Substance-Related Disorders"
      ]
     },
     "execution_count": 3,
     "metadata": {},
     "output_type": "execute_result"
    }
   ],
   "source": [
    "conditions = pd.read_csv('conditions.txt', sep='|')\n",
    "conditions.head()"
   ]
  },
  {
   "cell_type": "code",
   "execution_count": 42,
   "metadata": {
    "collapsed": true
   },
   "outputs": [],
   "source": [
    "def tokenize_and_tag(x):\n",
    "    \"\"\" Tokenize and identify parts of speech\n",
    "        :param: x (str)\n",
    "        :return: tuples of (word, POS)\n",
    "    \"\"\"\n",
    "    words = nltk.word_tokenize(x.lower())\n",
    "    tagged = nltk.pos_tag(words)\n",
    "    return tuple(tagged)"
   ]
  },
  {
   "cell_type": "code",
   "execution_count": 8,
   "metadata": {
    "collapsed": false
   },
   "outputs": [
    {
     "name": "stdout",
     "output_type": "stream",
     "text": [
      "[nltk_data] Downloading package punkt to /Users/szeitlin/nltk_data...\n",
      "[nltk_data]   Unzipping tokenizers/punkt.zip.\n"
     ]
    },
    {
     "data": {
      "text/plain": [
       "True"
      ]
     },
     "execution_count": 8,
     "metadata": {},
     "output_type": "execute_result"
    }
   ],
   "source": [
    "nltk.download('punkt')"
   ]
  },
  {
   "cell_type": "code",
   "execution_count": 11,
   "metadata": {
    "collapsed": false
   },
   "outputs": [
    {
     "name": "stdout",
     "output_type": "stream",
     "text": [
      "[nltk_data] Downloading package averaged_perceptron_tagger to\n",
      "[nltk_data]     /Users/szeitlin/nltk_data...\n",
      "[nltk_data]   Unzipping taggers/averaged_perceptron_tagger.zip.\n"
     ]
    },
    {
     "data": {
      "text/plain": [
       "True"
      ]
     },
     "execution_count": 11,
     "metadata": {},
     "output_type": "execute_result"
    }
   ],
   "source": [
    "nltk.download('averaged_perceptron_tagger')"
   ]
  },
  {
   "cell_type": "code",
   "execution_count": 44,
   "metadata": {
    "collapsed": false
   },
   "outputs": [],
   "source": [
    "conditions['tagged'] = [tokenize_and_tag(x) for x in conditions['CONDITION']]"
   ]
  },
  {
   "cell_type": "code",
   "execution_count": 45,
   "metadata": {
    "collapsed": false
   },
   "outputs": [
    {
     "data": {
      "text/html": [
       "<div>\n",
       "<table border=\"1\" class=\"dataframe\">\n",
       "  <thead>\n",
       "    <tr style=\"text-align: right;\">\n",
       "      <th></th>\n",
       "      <th>CONDITION_ID</th>\n",
       "      <th>NCT_ID</th>\n",
       "      <th>CONDITION</th>\n",
       "      <th>tagged</th>\n",
       "      <th>taglen</th>\n",
       "    </tr>\n",
       "  </thead>\n",
       "  <tbody>\n",
       "    <tr>\n",
       "      <th>0</th>\n",
       "      <td>150</td>\n",
       "      <td>NCT00000262</td>\n",
       "      <td>Substance-Related Disorders</td>\n",
       "      <td>((substance-related, JJ), (disorders, NNS))</td>\n",
       "      <td>2</td>\n",
       "    </tr>\n",
       "    <tr>\n",
       "      <th>1</th>\n",
       "      <td>151</td>\n",
       "      <td>NCT00000263</td>\n",
       "      <td>Opioid-Related Disorders</td>\n",
       "      <td>((opioid-related, JJ), (disorders, NNS))</td>\n",
       "      <td>2</td>\n",
       "    </tr>\n",
       "    <tr>\n",
       "      <th>2</th>\n",
       "      <td>152</td>\n",
       "      <td>NCT00000263</td>\n",
       "      <td>Substance-Related Disorders</td>\n",
       "      <td>((substance-related, JJ), (disorders, NNS))</td>\n",
       "      <td>2</td>\n",
       "    </tr>\n",
       "    <tr>\n",
       "      <th>3</th>\n",
       "      <td>153</td>\n",
       "      <td>NCT00000264</td>\n",
       "      <td>Opioid-Related Disorders</td>\n",
       "      <td>((opioid-related, JJ), (disorders, NNS))</td>\n",
       "      <td>2</td>\n",
       "    </tr>\n",
       "    <tr>\n",
       "      <th>4</th>\n",
       "      <td>154</td>\n",
       "      <td>NCT00000264</td>\n",
       "      <td>Substance-Related Disorders</td>\n",
       "      <td>((substance-related, JJ), (disorders, NNS))</td>\n",
       "      <td>2</td>\n",
       "    </tr>\n",
       "  </tbody>\n",
       "</table>\n",
       "</div>"
      ],
      "text/plain": [
       "   CONDITION_ID       NCT_ID                    CONDITION  \\\n",
       "0           150  NCT00000262  Substance-Related Disorders   \n",
       "1           151  NCT00000263     Opioid-Related Disorders   \n",
       "2           152  NCT00000263  Substance-Related Disorders   \n",
       "3           153  NCT00000264     Opioid-Related Disorders   \n",
       "4           154  NCT00000264  Substance-Related Disorders   \n",
       "\n",
       "                                        tagged  taglen  \n",
       "0  ((substance-related, JJ), (disorders, NNS))       2  \n",
       "1     ((opioid-related, JJ), (disorders, NNS))       2  \n",
       "2  ((substance-related, JJ), (disorders, NNS))       2  \n",
       "3     ((opioid-related, JJ), (disorders, NNS))       2  \n",
       "4  ((substance-related, JJ), (disorders, NNS))       2  "
      ]
     },
     "execution_count": 45,
     "metadata": {},
     "output_type": "execute_result"
    }
   ],
   "source": [
    "conditions.head()"
   ]
  },
  {
   "cell_type": "code",
   "execution_count": null,
   "metadata": {
    "collapsed": true
   },
   "outputs": [],
   "source": [
    "# goal: aggregate & count conditions\n",
    "# question: does it help at all to group by POS first?"
   ]
  },
  {
   "cell_type": "code",
   "execution_count": 59,
   "metadata": {
    "collapsed": false
   },
   "outputs": [],
   "source": [
    "takefirst = lambda x: x[0][0]"
   ]
  },
  {
   "cell_type": "code",
   "execution_count": 62,
   "metadata": {
    "collapsed": true
   },
   "outputs": [],
   "source": [
    "first_POS = lambda x: x[0][1]"
   ]
  },
  {
   "cell_type": "code",
   "execution_count": 63,
   "metadata": {
    "collapsed": true
   },
   "outputs": [],
   "source": [
    "conditions['firsttag'] = conditions['tagged'].apply(takefirst)"
   ]
  },
  {
   "cell_type": "code",
   "execution_count": 64,
   "metadata": {
    "collapsed": true
   },
   "outputs": [],
   "source": [
    "conditions['POS1'] = conditions['tagged'].apply(first_POS)"
   ]
  },
  {
   "cell_type": "code",
   "execution_count": 69,
   "metadata": {
    "collapsed": false
   },
   "outputs": [],
   "source": [
    "#could just flatten & count; aggregate by POS\n",
    "#could use lambda functions to split into additional columns (or map reduce)\n",
    "grouped = conditions.groupby('POS1').count()"
   ]
  },
  {
   "cell_type": "code",
   "execution_count": 70,
   "metadata": {
    "collapsed": false
   },
   "outputs": [
    {
     "data": {
      "text/html": [
       "<div>\n",
       "<table border=\"1\" class=\"dataframe\">\n",
       "  <thead>\n",
       "    <tr style=\"text-align: right;\">\n",
       "      <th></th>\n",
       "      <th>CONDITION_ID</th>\n",
       "      <th>NCT_ID</th>\n",
       "      <th>CONDITION</th>\n",
       "      <th>tagged</th>\n",
       "      <th>taglen</th>\n",
       "      <th>firsttag</th>\n",
       "    </tr>\n",
       "    <tr>\n",
       "      <th>POS1</th>\n",
       "      <th></th>\n",
       "      <th></th>\n",
       "      <th></th>\n",
       "      <th></th>\n",
       "      <th></th>\n",
       "      <th></th>\n",
       "    </tr>\n",
       "  </thead>\n",
       "  <tbody>\n",
       "    <tr>\n",
       "      <th>(</th>\n",
       "      <td>24</td>\n",
       "      <td>24</td>\n",
       "      <td>24</td>\n",
       "      <td>24</td>\n",
       "      <td>24</td>\n",
       "      <td>24</td>\n",
       "    </tr>\n",
       "    <tr>\n",
       "      <th>:</th>\n",
       "      <td>27</td>\n",
       "      <td>27</td>\n",
       "      <td>27</td>\n",
       "      <td>27</td>\n",
       "      <td>27</td>\n",
       "      <td>27</td>\n",
       "    </tr>\n",
       "    <tr>\n",
       "      <th>CC</th>\n",
       "      <td>15</td>\n",
       "      <td>15</td>\n",
       "      <td>15</td>\n",
       "      <td>15</td>\n",
       "      <td>15</td>\n",
       "      <td>15</td>\n",
       "    </tr>\n",
       "    <tr>\n",
       "      <th>CD</th>\n",
       "      <td>103</td>\n",
       "      <td>103</td>\n",
       "      <td>103</td>\n",
       "      <td>103</td>\n",
       "      <td>103</td>\n",
       "      <td>103</td>\n",
       "    </tr>\n",
       "    <tr>\n",
       "      <th>DT</th>\n",
       "      <td>570</td>\n",
       "      <td>570</td>\n",
       "      <td>570</td>\n",
       "      <td>570</td>\n",
       "      <td>570</td>\n",
       "      <td>570</td>\n",
       "    </tr>\n",
       "    <tr>\n",
       "      <th>EX</th>\n",
       "      <td>22</td>\n",
       "      <td>22</td>\n",
       "      <td>22</td>\n",
       "      <td>22</td>\n",
       "      <td>22</td>\n",
       "      <td>22</td>\n",
       "    </tr>\n",
       "    <tr>\n",
       "      <th>FW</th>\n",
       "      <td>5</td>\n",
       "      <td>5</td>\n",
       "      <td>5</td>\n",
       "      <td>5</td>\n",
       "      <td>5</td>\n",
       "      <td>5</td>\n",
       "    </tr>\n",
       "    <tr>\n",
       "      <th>IN</th>\n",
       "      <td>362</td>\n",
       "      <td>362</td>\n",
       "      <td>362</td>\n",
       "      <td>362</td>\n",
       "      <td>362</td>\n",
       "      <td>362</td>\n",
       "    </tr>\n",
       "    <tr>\n",
       "      <th>JJ</th>\n",
       "      <td>131839</td>\n",
       "      <td>131839</td>\n",
       "      <td>131839</td>\n",
       "      <td>131839</td>\n",
       "      <td>131839</td>\n",
       "      <td>131839</td>\n",
       "    </tr>\n",
       "    <tr>\n",
       "      <th>JJR</th>\n",
       "      <td>290</td>\n",
       "      <td>290</td>\n",
       "      <td>290</td>\n",
       "      <td>290</td>\n",
       "      <td>290</td>\n",
       "      <td>290</td>\n",
       "    </tr>\n",
       "    <tr>\n",
       "      <th>JJS</th>\n",
       "      <td>42</td>\n",
       "      <td>42</td>\n",
       "      <td>42</td>\n",
       "      <td>42</td>\n",
       "      <td>42</td>\n",
       "      <td>42</td>\n",
       "    </tr>\n",
       "    <tr>\n",
       "      <th>MD</th>\n",
       "      <td>7</td>\n",
       "      <td>7</td>\n",
       "      <td>7</td>\n",
       "      <td>7</td>\n",
       "      <td>7</td>\n",
       "      <td>7</td>\n",
       "    </tr>\n",
       "    <tr>\n",
       "      <th>NN</th>\n",
       "      <td>183204</td>\n",
       "      <td>183204</td>\n",
       "      <td>183204</td>\n",
       "      <td>183204</td>\n",
       "      <td>183204</td>\n",
       "      <td>183204</td>\n",
       "    </tr>\n",
       "    <tr>\n",
       "      <th>NNS</th>\n",
       "      <td>14822</td>\n",
       "      <td>14822</td>\n",
       "      <td>14822</td>\n",
       "      <td>14822</td>\n",
       "      <td>14822</td>\n",
       "      <td>14822</td>\n",
       "    </tr>\n",
       "    <tr>\n",
       "      <th>PDT</th>\n",
       "      <td>1</td>\n",
       "      <td>1</td>\n",
       "      <td>1</td>\n",
       "      <td>1</td>\n",
       "      <td>1</td>\n",
       "      <td>1</td>\n",
       "    </tr>\n",
       "    <tr>\n",
       "      <th>POS</th>\n",
       "      <td>2</td>\n",
       "      <td>2</td>\n",
       "      <td>2</td>\n",
       "      <td>2</td>\n",
       "      <td>2</td>\n",
       "      <td>2</td>\n",
       "    </tr>\n",
       "    <tr>\n",
       "      <th>PRP</th>\n",
       "      <td>12</td>\n",
       "      <td>12</td>\n",
       "      <td>12</td>\n",
       "      <td>12</td>\n",
       "      <td>12</td>\n",
       "      <td>12</td>\n",
       "    </tr>\n",
       "    <tr>\n",
       "      <th>PRP$</th>\n",
       "      <td>3</td>\n",
       "      <td>3</td>\n",
       "      <td>3</td>\n",
       "      <td>3</td>\n",
       "      <td>3</td>\n",
       "      <td>3</td>\n",
       "    </tr>\n",
       "    <tr>\n",
       "      <th>RB</th>\n",
       "      <td>3254</td>\n",
       "      <td>3254</td>\n",
       "      <td>3254</td>\n",
       "      <td>3254</td>\n",
       "      <td>3254</td>\n",
       "      <td>3254</td>\n",
       "    </tr>\n",
       "    <tr>\n",
       "      <th>RBR</th>\n",
       "      <td>1</td>\n",
       "      <td>1</td>\n",
       "      <td>1</td>\n",
       "      <td>1</td>\n",
       "      <td>1</td>\n",
       "      <td>1</td>\n",
       "    </tr>\n",
       "  </tbody>\n",
       "</table>\n",
       "</div>"
      ],
      "text/plain": [
       "      CONDITION_ID  NCT_ID  CONDITION  tagged  taglen  firsttag\n",
       "POS1                                                           \n",
       "(               24      24         24      24      24        24\n",
       ":               27      27         27      27      27        27\n",
       "CC              15      15         15      15      15        15\n",
       "CD             103     103        103     103     103       103\n",
       "DT             570     570        570     570     570       570\n",
       "EX              22      22         22      22      22        22\n",
       "FW               5       5          5       5       5         5\n",
       "IN             362     362        362     362     362       362\n",
       "JJ          131839  131839     131839  131839  131839    131839\n",
       "JJR            290     290        290     290     290       290\n",
       "JJS             42      42         42      42      42        42\n",
       "MD               7       7          7       7       7         7\n",
       "NN          183204  183204     183204  183204  183204    183204\n",
       "NNS          14822   14822      14822   14822   14822     14822\n",
       "PDT              1       1          1       1       1         1\n",
       "POS              2       2          2       2       2         2\n",
       "PRP             12      12         12      12      12        12\n",
       "PRP$             3       3          3       3       3         3\n",
       "RB            3254    3254       3254    3254    3254      3254\n",
       "RBR              1       1          1       1       1         1"
      ]
     },
     "execution_count": 70,
     "metadata": {},
     "output_type": "execute_result"
    }
   ],
   "source": [
    "grouped.head(20)"
   ]
  },
  {
   "cell_type": "code",
   "execution_count": 79,
   "metadata": {
    "collapsed": false
   },
   "outputs": [
    {
     "data": {
      "text/html": [
       "<div>\n",
       "<table border=\"1\" class=\"dataframe\">\n",
       "  <thead>\n",
       "    <tr style=\"text-align: right;\">\n",
       "      <th></th>\n",
       "      <th>CONDITION_ID</th>\n",
       "      <th>NCT_ID</th>\n",
       "      <th>CONDITION</th>\n",
       "      <th>tagged</th>\n",
       "      <th>taglen</th>\n",
       "      <th>firsttag</th>\n",
       "      <th>POS1</th>\n",
       "    </tr>\n",
       "  </thead>\n",
       "  <tbody>\n",
       "    <tr>\n",
       "      <th>13611</th>\n",
       "      <td>8912</td>\n",
       "      <td>NCT00005188</td>\n",
       "      <td>Tangier Disease</td>\n",
       "      <td>((tangier, JJR), (disease, NN))</td>\n",
       "      <td>2</td>\n",
       "      <td>tangier</td>\n",
       "      <td>JJR</td>\n",
       "    </tr>\n",
       "    <tr>\n",
       "      <th>16339</th>\n",
       "      <td>13032</td>\n",
       "      <td>NCT00032864</td>\n",
       "      <td>Lower Extremity Ulcers</td>\n",
       "      <td>((lower, JJR), (extremity, NN), (ulcers, NNS))</td>\n",
       "      <td>3</td>\n",
       "      <td>lower</td>\n",
       "      <td>JJR</td>\n",
       "    </tr>\n",
       "    <tr>\n",
       "      <th>23069</th>\n",
       "      <td>22164</td>\n",
       "      <td>NCT00070902</td>\n",
       "      <td>Lower Back Pain</td>\n",
       "      <td>((lower, JJR), (back, RB), (pain, NN))</td>\n",
       "      <td>3</td>\n",
       "      <td>lower</td>\n",
       "      <td>JJR</td>\n",
       "    </tr>\n",
       "    <tr>\n",
       "      <th>28056</th>\n",
       "      <td>29106</td>\n",
       "      <td>NCT00111592</td>\n",
       "      <td>Lower Urinary Tract Symptoms</td>\n",
       "      <td>((lower, JJR), (urinary, JJ), (tract, NN), (sy...</td>\n",
       "      <td>4</td>\n",
       "      <td>lower</td>\n",
       "      <td>JJR</td>\n",
       "    </tr>\n",
       "    <tr>\n",
       "      <th>28786</th>\n",
       "      <td>31261</td>\n",
       "      <td>NCT00153647</td>\n",
       "      <td>Lower Gastrointestinal Tract</td>\n",
       "      <td>((lower, JJR), (gastrointestinal, JJ), (tract,...</td>\n",
       "      <td>3</td>\n",
       "      <td>lower</td>\n",
       "      <td>JJR</td>\n",
       "    </tr>\n",
       "  </tbody>\n",
       "</table>\n",
       "</div>"
      ],
      "text/plain": [
       "       CONDITION_ID       NCT_ID                     CONDITION  \\\n",
       "13611          8912  NCT00005188               Tangier Disease   \n",
       "16339         13032  NCT00032864        Lower Extremity Ulcers   \n",
       "23069         22164  NCT00070902               Lower Back Pain   \n",
       "28056         29106  NCT00111592  Lower Urinary Tract Symptoms   \n",
       "28786         31261  NCT00153647  Lower Gastrointestinal Tract   \n",
       "\n",
       "                                                  tagged  taglen firsttag POS1  \n",
       "13611                    ((tangier, JJR), (disease, NN))       2  tangier  JJR  \n",
       "16339     ((lower, JJR), (extremity, NN), (ulcers, NNS))       3    lower  JJR  \n",
       "23069             ((lower, JJR), (back, RB), (pain, NN))       3    lower  JJR  \n",
       "28056  ((lower, JJR), (urinary, JJ), (tract, NN), (sy...       4    lower  JJR  \n",
       "28786  ((lower, JJR), (gastrointestinal, JJ), (tract,...       3    lower  JJR  "
      ]
     },
     "execution_count": 79,
     "metadata": {},
     "output_type": "execute_result"
    }
   ],
   "source": [
    "conditions[conditions['POS1']=='JJR'].head()"
   ]
  },
  {
   "cell_type": "code",
   "execution_count": 81,
   "metadata": {
    "collapsed": false
   },
   "outputs": [
    {
     "data": {
      "text/html": [
       "<div>\n",
       "<table border=\"1\" class=\"dataframe\">\n",
       "  <thead>\n",
       "    <tr style=\"text-align: right;\">\n",
       "      <th></th>\n",
       "      <th>CONDITION_ID</th>\n",
       "      <th>NCT_ID</th>\n",
       "      <th>CONDITION</th>\n",
       "      <th>tagged</th>\n",
       "      <th>taglen</th>\n",
       "      <th>firsttag</th>\n",
       "      <th>POS1</th>\n",
       "    </tr>\n",
       "  </thead>\n",
       "  <tbody>\n",
       "    <tr>\n",
       "      <th>8039</th>\n",
       "      <td>11599</td>\n",
       "      <td>NCT00006363</td>\n",
       "      <td>de Novo Myelodysplastic Syndromes</td>\n",
       "      <td>((de, IN), (novo, FW), (myelodysplastic, JJ), ...</td>\n",
       "      <td>4</td>\n",
       "      <td>de</td>\n",
       "      <td>IN</td>\n",
       "    </tr>\n",
       "    <tr>\n",
       "      <th>8183</th>\n",
       "      <td>11417</td>\n",
       "      <td>NCT00014235</td>\n",
       "      <td>de Novo Myelodysplastic Syndromes</td>\n",
       "      <td>((de, IN), (novo, FW), (myelodysplastic, JJ), ...</td>\n",
       "      <td>4</td>\n",
       "      <td>de</td>\n",
       "      <td>IN</td>\n",
       "    </tr>\n",
       "    <tr>\n",
       "      <th>10207</th>\n",
       "      <td>4663</td>\n",
       "      <td>NCT00002798</td>\n",
       "      <td>de Novo Myelodysplastic Syndromes</td>\n",
       "      <td>((de, IN), (novo, FW), (myelodysplastic, JJ), ...</td>\n",
       "      <td>4</td>\n",
       "      <td>de</td>\n",
       "      <td>IN</td>\n",
       "    </tr>\n",
       "    <tr>\n",
       "      <th>11574</th>\n",
       "      <td>13871</td>\n",
       "      <td>NCT00008177</td>\n",
       "      <td>de Novo Myelodysplastic Syndromes</td>\n",
       "      <td>((de, IN), (novo, FW), (myelodysplastic, JJ), ...</td>\n",
       "      <td>4</td>\n",
       "      <td>de</td>\n",
       "      <td>IN</td>\n",
       "    </tr>\n",
       "    <tr>\n",
       "      <th>13583</th>\n",
       "      <td>15608</td>\n",
       "      <td>NCT00027820</td>\n",
       "      <td>de Novo Myelodysplastic Syndrome</td>\n",
       "      <td>((de, IN), (novo, FW), (myelodysplastic, JJ), ...</td>\n",
       "      <td>4</td>\n",
       "      <td>de</td>\n",
       "      <td>IN</td>\n",
       "    </tr>\n",
       "  </tbody>\n",
       "</table>\n",
       "</div>"
      ],
      "text/plain": [
       "       CONDITION_ID       NCT_ID                          CONDITION  \\\n",
       "8039          11599  NCT00006363  de Novo Myelodysplastic Syndromes   \n",
       "8183          11417  NCT00014235  de Novo Myelodysplastic Syndromes   \n",
       "10207          4663  NCT00002798  de Novo Myelodysplastic Syndromes   \n",
       "11574         13871  NCT00008177  de Novo Myelodysplastic Syndromes   \n",
       "13583         15608  NCT00027820   de Novo Myelodysplastic Syndrome   \n",
       "\n",
       "                                                  tagged  taglen firsttag POS1  \n",
       "8039   ((de, IN), (novo, FW), (myelodysplastic, JJ), ...       4       de   IN  \n",
       "8183   ((de, IN), (novo, FW), (myelodysplastic, JJ), ...       4       de   IN  \n",
       "10207  ((de, IN), (novo, FW), (myelodysplastic, JJ), ...       4       de   IN  \n",
       "11574  ((de, IN), (novo, FW), (myelodysplastic, JJ), ...       4       de   IN  \n",
       "13583  ((de, IN), (novo, FW), (myelodysplastic, JJ), ...       4       de   IN  "
      ]
     },
     "execution_count": 81,
     "metadata": {},
     "output_type": "execute_result"
    }
   ],
   "source": [
    "conditions[conditions['POS1']=='IN'].head()"
   ]
  },
  {
   "cell_type": "code",
   "execution_count": 80,
   "metadata": {
    "collapsed": false
   },
   "outputs": [
    {
     "name": "stdout",
     "output_type": "stream",
     "text": [
      "IN: preposition or conjunction, subordinating\n",
      "    astride among uppon whether out inside pro despite on by throughout\n",
      "    below within for towards near behind atop around if like until below\n",
      "    next into if beside ...\n"
     ]
    }
   ],
   "source": [
    "nltk.help.upenn_tagset('IN')"
   ]
  },
  {
   "cell_type": "code",
   "execution_count": 82,
   "metadata": {
    "collapsed": false
   },
   "outputs": [],
   "source": [
    "POS_filter = ['JJ', 'JJR', 'NN', 'NNS', 'IN', 'RB']"
   ]
  },
  {
   "cell_type": "code",
   "execution_count": 86,
   "metadata": {
    "collapsed": false
   },
   "outputs": [
    {
     "data": {
      "text/html": [
       "<div>\n",
       "<table border=\"1\" class=\"dataframe\">\n",
       "  <thead>\n",
       "    <tr style=\"text-align: right;\">\n",
       "      <th></th>\n",
       "      <th>CONDITION_ID</th>\n",
       "      <th>NCT_ID</th>\n",
       "      <th>CONDITION</th>\n",
       "      <th>tagged</th>\n",
       "      <th>taglen</th>\n",
       "      <th>firsttag</th>\n",
       "      <th>POS1</th>\n",
       "    </tr>\n",
       "  </thead>\n",
       "  <tbody>\n",
       "    <tr>\n",
       "      <th>0</th>\n",
       "      <td>150</td>\n",
       "      <td>NCT00000262</td>\n",
       "      <td>Substance-Related Disorders</td>\n",
       "      <td>((substance-related, JJ), (disorders, NNS))</td>\n",
       "      <td>2</td>\n",
       "      <td>substance-related</td>\n",
       "      <td>JJ</td>\n",
       "    </tr>\n",
       "    <tr>\n",
       "      <th>1</th>\n",
       "      <td>151</td>\n",
       "      <td>NCT00000263</td>\n",
       "      <td>Opioid-Related Disorders</td>\n",
       "      <td>((opioid-related, JJ), (disorders, NNS))</td>\n",
       "      <td>2</td>\n",
       "      <td>opioid-related</td>\n",
       "      <td>JJ</td>\n",
       "    </tr>\n",
       "    <tr>\n",
       "      <th>2</th>\n",
       "      <td>152</td>\n",
       "      <td>NCT00000263</td>\n",
       "      <td>Substance-Related Disorders</td>\n",
       "      <td>((substance-related, JJ), (disorders, NNS))</td>\n",
       "      <td>2</td>\n",
       "      <td>substance-related</td>\n",
       "      <td>JJ</td>\n",
       "    </tr>\n",
       "    <tr>\n",
       "      <th>3</th>\n",
       "      <td>153</td>\n",
       "      <td>NCT00000264</td>\n",
       "      <td>Opioid-Related Disorders</td>\n",
       "      <td>((opioid-related, JJ), (disorders, NNS))</td>\n",
       "      <td>2</td>\n",
       "      <td>opioid-related</td>\n",
       "      <td>JJ</td>\n",
       "    </tr>\n",
       "    <tr>\n",
       "      <th>4</th>\n",
       "      <td>154</td>\n",
       "      <td>NCT00000264</td>\n",
       "      <td>Substance-Related Disorders</td>\n",
       "      <td>((substance-related, JJ), (disorders, NNS))</td>\n",
       "      <td>2</td>\n",
       "      <td>substance-related</td>\n",
       "      <td>JJ</td>\n",
       "    </tr>\n",
       "  </tbody>\n",
       "</table>\n",
       "</div>"
      ],
      "text/plain": [
       "   CONDITION_ID       NCT_ID                    CONDITION  \\\n",
       "0           150  NCT00000262  Substance-Related Disorders   \n",
       "1           151  NCT00000263     Opioid-Related Disorders   \n",
       "2           152  NCT00000263  Substance-Related Disorders   \n",
       "3           153  NCT00000264     Opioid-Related Disorders   \n",
       "4           154  NCT00000264  Substance-Related Disorders   \n",
       "\n",
       "                                        tagged  taglen           firsttag POS1  \n",
       "0  ((substance-related, JJ), (disorders, NNS))       2  substance-related   JJ  \n",
       "1     ((opioid-related, JJ), (disorders, NNS))       2     opioid-related   JJ  \n",
       "2  ((substance-related, JJ), (disorders, NNS))       2  substance-related   JJ  \n",
       "3     ((opioid-related, JJ), (disorders, NNS))       2     opioid-related   JJ  \n",
       "4  ((substance-related, JJ), (disorders, NNS))       2  substance-related   JJ  "
      ]
     },
     "execution_count": 86,
     "metadata": {},
     "output_type": "execute_result"
    }
   ],
   "source": [
    "filtered = conditions.filter(conditions, like=POS_filter)\n",
    "filtered.head()"
   ]
  },
  {
   "cell_type": "code",
   "execution_count": 89,
   "metadata": {
    "collapsed": false
   },
   "outputs": [
    {
     "data": {
      "text/plain": [
       "Healthy                                                                                                     5634\n",
       "Breast Cancer                                                                                               4059\n",
       "Obesity                                                                                                     3449\n",
       "HIV Infections                                                                                              2993\n",
       "Hypertension                                                                                                2400\n",
       "Asthma                                                                                                      2259\n",
       "Prostate Cancer                                                                                             2142\n",
       "Pain                                                                                                        2031\n",
       "Schizophrenia                                                                                               1818\n",
       "Depression                                                                                                  1815\n",
       "Diabetes                                                                                                    1805\n",
       "Coronary Artery Disease                                                                                     1776\n",
       "Lung Cancer                                                                                                 1565\n",
       "Diabetes Mellitus, Type 2                                                                                   1519\n",
       "Cancer                                                                                                      1496\n",
       "Colorectal Cancer                                                                                           1490\n",
       "Lymphoma                                                                                                    1479\n",
       "Leukemia                                                                                                    1460\n",
       "Stroke                                                                                                      1441\n",
       "Rheumatoid Arthritis                                                                                        1431\n",
       "Heart Failure                                                                                               1365\n",
       "Cardiovascular Diseases                                                                                     1264\n",
       "Type 2 Diabetes                                                                                             1212\n",
       "Type 2 Diabetes Mellitus                                                                                    1163\n",
       "Multiple Myeloma                                                                                            1146\n",
       "Diabetes Mellitus                                                                                           1098\n",
       "HIV                                                                                                         1056\n",
       "Atrial Fibrillation                                                                                         1010\n",
       "Osteoarthritis                                                                                               972\n",
       "Ovarian Cancer                                                                                               967\n",
       "                                                                                                            ... \n",
       "Hemoglobin SS Disease With Crisis                                                                              1\n",
       "Defect of Diaphragm                                                                                            1\n",
       "Post Surgery Patients                                                                                          1\n",
       "Cardiomyopathy Due to Anthracyclines                                                                           1\n",
       "Neonatal Acute Kidney Injury                                                                                   1\n",
       "GRADE Approach                                                                                                 1\n",
       "Metabolism of Clopidogrel                                                                                      1\n",
       "Composites Restorations                                                                                        1\n",
       "Epidermolysis Bullosa Hereditaria                                                                              1\n",
       "Ocular Discomfort                                                                                              1\n",
       "Counselling                                                                                                    1\n",
       "Experimental Dental Pain                                                                                       1\n",
       "Patients With Symptomatic Critical Limb Ischemia                                                               1\n",
       "Breast Cancer and Pregnancy                                                                                    1\n",
       "Healthy Male and Female Japanese Volunteers                                                                    1\n",
       "Capecitabine Plus Cisplatin Versus Capecitabine Plus Paclitaxel                                                1\n",
       "Glycogen Synthase Deficiency                                                                                   1\n",
       "Hypogonadotrophic Males                                                                                        1\n",
       "Muscle Composition                                                                                             1\n",
       "To Compare the Serum Apoptosis-associated Markers Between Patients With Active TB and Patients With LTBI       1\n",
       "Semantic Variant Primary Progressive Aphasia (svPPA)                                                           1\n",
       "OAB (Overactive Bladder Syndrome and Detrusor Overactivity)                                                    1\n",
       "Effectiveness of MedCem MTA® in Pulpotomies Primary Teeth                                                      1\n",
       "Petersen´s Hernia                                                                                              1\n",
       "Gynecology for Benign/Malignant Neoplasm.                                                                      1\n",
       "Neuralgia, Perineal                                                                                            1\n",
       "Obese Diabetics                                                                                                1\n",
       "Chronic, Medically Refractory Headache                                                                         1\n",
       "Respiratory Ilness                                                                                             1\n",
       "Postpartum Depressive Disorder                                                                                 1\n",
       "Name: CONDITION, dtype: int64"
      ]
     },
     "execution_count": 89,
     "metadata": {},
     "output_type": "execute_result"
    }
   ],
   "source": [
    "filtered['CONDITION'].value_counts()"
   ]
  },
  {
   "cell_type": "code",
   "execution_count": 88,
   "metadata": {
    "collapsed": false
   },
   "outputs": [
    {
     "data": {
      "text/plain": [
       "stage               9722\n",
       "healthy             7881\n",
       "chronic             6717\n",
       "recurrent           5955\n",
       "diabetes            5694\n",
       "breast              5082\n",
       "hiv                 4839\n",
       "acute               4365\n",
       "obesity             3595\n",
       "type                3511\n",
       "coronary            3420\n",
       "heart               3189\n",
       "adult               3020\n",
       "multiple            2704\n",
       "hypertension        2628\n",
       "pain                2570\n",
       "lung                2503\n",
       "prostate            2339\n",
       "asthma              2337\n",
       "cardiovascular      2335\n",
       "colorectal          2200\n",
       "metastatic          2078\n",
       "cancer              2055\n",
       "lymphoma            2046\n",
       "hepatitis           1925\n",
       "depression          1902\n",
       "leukemia            1897\n",
       "pulmonary           1895\n",
       "schizophrenia       1882\n",
       "ovarian             1664\n",
       "                    ... \n",
       "sickle-cell            1\n",
       "atiii                  1\n",
       "bifidobacterium        1\n",
       "operational            1\n",
       "cerebrolysin           1\n",
       "atl                    1\n",
       "operations             1\n",
       "non-culprit            1\n",
       "h1n1/influenza         1\n",
       "antral                 1\n",
       "sarcotubular           1\n",
       "apl                    1\n",
       "bilingualism           1\n",
       "ha                     1\n",
       "nmo                    1\n",
       "limbs                  1\n",
       "mycotic                1\n",
       "angiographically       1\n",
       "smaller                1\n",
       "dissatisfaction        1\n",
       "generativity           1\n",
       "healhty                1\n",
       "neurologically         1\n",
       "neuroepithelial        1\n",
       "malunions              1\n",
       "decompressive          1\n",
       "hypercatabolic         1\n",
       "glottic                1\n",
       "thermosensing          1\n",
       "corporate              1\n",
       "Name: firsttag, dtype: int64"
      ]
     },
     "execution_count": 88,
     "metadata": {},
     "output_type": "execute_result"
    }
   ],
   "source": [
    "filtered['firsttag'].value_counts()"
   ]
  },
  {
   "cell_type": "code",
   "execution_count": 22,
   "metadata": {
    "collapsed": false
   },
   "outputs": [
    {
     "data": {
      "text/html": [
       "<div>\n",
       "<table border=\"1\" class=\"dataframe\">\n",
       "  <thead>\n",
       "    <tr style=\"text-align: right;\">\n",
       "      <th></th>\n",
       "      <th>MILESTONE_ID</th>\n",
       "      <th>PARTICIPANT_FLOW_ID</th>\n",
       "      <th>MILESTONE_TYPE</th>\n",
       "      <th>MILESTONE_TITLE</th>\n",
       "    </tr>\n",
       "  </thead>\n",
       "  <tbody>\n",
       "    <tr>\n",
       "      <th>0</th>\n",
       "      <td>41</td>\n",
       "      <td>81</td>\n",
       "      <td>Milestone</td>\n",
       "      <td>STARTED</td>\n",
       "    </tr>\n",
       "    <tr>\n",
       "      <th>1</th>\n",
       "      <td>42</td>\n",
       "      <td>81</td>\n",
       "      <td>Milestone</td>\n",
       "      <td>COMPLETED</td>\n",
       "    </tr>\n",
       "    <tr>\n",
       "      <th>2</th>\n",
       "      <td>43</td>\n",
       "      <td>81</td>\n",
       "      <td>Milestone</td>\n",
       "      <td>NOT COMPLETED</td>\n",
       "    </tr>\n",
       "    <tr>\n",
       "      <th>3</th>\n",
       "      <td>44</td>\n",
       "      <td>82</td>\n",
       "      <td>Milestone</td>\n",
       "      <td>STARTED</td>\n",
       "    </tr>\n",
       "    <tr>\n",
       "      <th>4</th>\n",
       "      <td>45</td>\n",
       "      <td>82</td>\n",
       "      <td>Milestone</td>\n",
       "      <td>COMPLETED</td>\n",
       "    </tr>\n",
       "  </tbody>\n",
       "</table>\n",
       "</div>"
      ],
      "text/plain": [
       "   MILESTONE_ID  PARTICIPANT_FLOW_ID MILESTONE_TYPE MILESTONE_TITLE\n",
       "0            41                   81      Milestone         STARTED\n",
       "1            42                   81      Milestone       COMPLETED\n",
       "2            43                   81      Milestone   NOT COMPLETED\n",
       "3            44                   82      Milestone         STARTED\n",
       "4            45                   82      Milestone       COMPLETED"
      ]
     },
     "execution_count": 22,
     "metadata": {},
     "output_type": "execute_result"
    }
   ],
   "source": [
    "milestones = pd.read_csv('results_partflow_mlstn.txt', sep='|')\n",
    "milestones.head()"
   ]
  },
  {
   "cell_type": "code",
   "execution_count": 35,
   "metadata": {
    "collapsed": true
   },
   "outputs": [],
   "source": [
    "milestones['tagged'] = [tokenize_and_tag(x) for x in milestones['MILESTONE_TITLE']]"
   ]
  },
  {
   "cell_type": "code",
   "execution_count": 36,
   "metadata": {
    "collapsed": false
   },
   "outputs": [
    {
     "data": {
      "text/html": [
       "<div>\n",
       "<table border=\"1\" class=\"dataframe\">\n",
       "  <thead>\n",
       "    <tr style=\"text-align: right;\">\n",
       "      <th></th>\n",
       "      <th>MILESTONE_ID</th>\n",
       "      <th>PARTICIPANT_FLOW_ID</th>\n",
       "      <th>MILESTONE_TYPE</th>\n",
       "      <th>MILESTONE_TITLE</th>\n",
       "      <th>tagged</th>\n",
       "      <th>taglen</th>\n",
       "    </tr>\n",
       "  </thead>\n",
       "  <tbody>\n",
       "    <tr>\n",
       "      <th>0</th>\n",
       "      <td>41</td>\n",
       "      <td>81</td>\n",
       "      <td>Milestone</td>\n",
       "      <td>STARTED</td>\n",
       "      <td>[(started, VBN)]</td>\n",
       "      <td>1</td>\n",
       "    </tr>\n",
       "    <tr>\n",
       "      <th>1</th>\n",
       "      <td>42</td>\n",
       "      <td>81</td>\n",
       "      <td>Milestone</td>\n",
       "      <td>COMPLETED</td>\n",
       "      <td>[(completed, VBN)]</td>\n",
       "      <td>1</td>\n",
       "    </tr>\n",
       "    <tr>\n",
       "      <th>2</th>\n",
       "      <td>43</td>\n",
       "      <td>81</td>\n",
       "      <td>Milestone</td>\n",
       "      <td>NOT COMPLETED</td>\n",
       "      <td>[(not, RB), (completed, VBN)]</td>\n",
       "      <td>2</td>\n",
       "    </tr>\n",
       "    <tr>\n",
       "      <th>3</th>\n",
       "      <td>44</td>\n",
       "      <td>82</td>\n",
       "      <td>Milestone</td>\n",
       "      <td>STARTED</td>\n",
       "      <td>[(started, VBN)]</td>\n",
       "      <td>1</td>\n",
       "    </tr>\n",
       "    <tr>\n",
       "      <th>4</th>\n",
       "      <td>45</td>\n",
       "      <td>82</td>\n",
       "      <td>Milestone</td>\n",
       "      <td>COMPLETED</td>\n",
       "      <td>[(completed, VBN)]</td>\n",
       "      <td>1</td>\n",
       "    </tr>\n",
       "  </tbody>\n",
       "</table>\n",
       "</div>"
      ],
      "text/plain": [
       "   MILESTONE_ID  PARTICIPANT_FLOW_ID MILESTONE_TYPE MILESTONE_TITLE  \\\n",
       "0            41                   81      Milestone         STARTED   \n",
       "1            42                   81      Milestone       COMPLETED   \n",
       "2            43                   81      Milestone   NOT COMPLETED   \n",
       "3            44                   82      Milestone         STARTED   \n",
       "4            45                   82      Milestone       COMPLETED   \n",
       "\n",
       "                          tagged  taglen  \n",
       "0               [(started, VBN)]       1  \n",
       "1             [(completed, VBN)]       1  \n",
       "2  [(not, RB), (completed, VBN)]       2  \n",
       "3               [(started, VBN)]       1  \n",
       "4             [(completed, VBN)]       1  "
      ]
     },
     "execution_count": 36,
     "metadata": {},
     "output_type": "execute_result"
    }
   ],
   "source": [
    "milestones.head()"
   ]
  },
  {
   "cell_type": "code",
   "execution_count": 28,
   "metadata": {
    "collapsed": false
   },
   "outputs": [],
   "source": [
    "milestones['taglen'] = [len(x) for x in milestones['tagged']]"
   ]
  },
  {
   "cell_type": "code",
   "execution_count": 30,
   "metadata": {
    "collapsed": false
   },
   "outputs": [
    {
     "name": "stdout",
     "output_type": "stream",
     "text": [
      "[nltk_data] Downloading package tagsets to\n",
      "[nltk_data]     /Users/szeitlin/nltk_data...\n",
      "[nltk_data]   Unzipping help/tagsets.zip.\n"
     ]
    },
    {
     "data": {
      "text/plain": [
       "True"
      ]
     },
     "execution_count": 30,
     "metadata": {},
     "output_type": "execute_result"
    }
   ],
   "source": [
    "nltk.download('tagsets')"
   ]
  },
  {
   "cell_type": "code",
   "execution_count": 37,
   "metadata": {
    "collapsed": false
   },
   "outputs": [
    {
     "name": "stdout",
     "output_type": "stream",
     "text": [
      "VBN: verb, past participle\n",
      "    multihulled dilapidated aerosolized chaired languished panelized used\n",
      "    experimented flourished imitated reunifed factored condensed sheared\n",
      "    unsettled primed dubbed desired ...\n"
     ]
    }
   ],
   "source": [
    "nltk.help.upenn_tagset('VBN') #note that all-caps words were assumed to be proper nouns!"
   ]
  },
  {
   "cell_type": "code",
   "execution_count": null,
   "metadata": {
    "collapsed": true
   },
   "outputs": [],
   "source": []
  }
 ],
 "metadata": {
  "kernelspec": {
   "display_name": "Python 3",
   "language": "python",
   "name": "python3"
  },
  "language_info": {
   "codemirror_mode": {
    "name": "ipython",
    "version": 3
   },
   "file_extension": ".py",
   "mimetype": "text/x-python",
   "name": "python",
   "nbconvert_exporter": "python",
   "pygments_lexer": "ipython3",
   "version": "3.5.2"
  }
 },
 "nbformat": 4,
 "nbformat_minor": 0
}
