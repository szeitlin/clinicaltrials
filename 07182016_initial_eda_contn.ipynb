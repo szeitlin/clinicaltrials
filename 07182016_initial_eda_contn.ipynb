{
 "cells": [
  {
   "cell_type": "code",
   "execution_count": 1,
   "metadata": {
    "collapsed": true
   },
   "outputs": [],
   "source": [
    "import pandas as pd\n",
    "import nltk\n",
    "import numpy as np\n",
    "import matplotlib.pyplot as plt\n",
    "import matplotlib\n",
    "import seaborn as sns\n",
    "import statsmodels\n",
    "%matplotlib inline"
   ]
  },
  {
   "cell_type": "code",
   "execution_count": 2,
   "metadata": {
    "collapsed": false
   },
   "outputs": [
    {
     "data": {
      "text/html": [
       "<div>\n",
       "<table border=\"1\" class=\"dataframe\">\n",
       "  <thead>\n",
       "    <tr style=\"text-align: right;\">\n",
       "      <th></th>\n",
       "      <th>MESH_INTERVENTION_ID</th>\n",
       "      <th>NCT_ID</th>\n",
       "      <th>MESH_TERM</th>\n",
       "    </tr>\n",
       "  </thead>\n",
       "  <tbody>\n",
       "    <tr>\n",
       "      <th>0</th>\n",
       "      <td>42</td>\n",
       "      <td>NCT00000173</td>\n",
       "      <td>Vitamins</td>\n",
       "    </tr>\n",
       "    <tr>\n",
       "      <th>1</th>\n",
       "      <td>43</td>\n",
       "      <td>NCT00000174</td>\n",
       "      <td>Rivastigmine</td>\n",
       "    </tr>\n",
       "    <tr>\n",
       "      <th>2</th>\n",
       "      <td>44</td>\n",
       "      <td>NCT00000176</td>\n",
       "      <td>Estrogens</td>\n",
       "    </tr>\n",
       "    <tr>\n",
       "      <th>3</th>\n",
       "      <td>45</td>\n",
       "      <td>NCT00000177</td>\n",
       "      <td>Estrogens</td>\n",
       "    </tr>\n",
       "    <tr>\n",
       "      <th>4</th>\n",
       "      <td>46</td>\n",
       "      <td>NCT00000178</td>\n",
       "      <td>Prednisone</td>\n",
       "    </tr>\n",
       "  </tbody>\n",
       "</table>\n",
       "</div>"
      ],
      "text/plain": [
       "   MESH_INTERVENTION_ID       NCT_ID     MESH_TERM\n",
       "0                    42  NCT00000173      Vitamins\n",
       "1                    43  NCT00000174  Rivastigmine\n",
       "2                    44  NCT00000176     Estrogens\n",
       "3                    45  NCT00000177     Estrogens\n",
       "4                    46  NCT00000178    Prednisone"
      ]
     },
     "execution_count": 2,
     "metadata": {},
     "output_type": "execute_result"
    }
   ],
   "source": [
    "treatments = pd.read_csv('intervention_browse.txt', sep='|')\n",
    "treatments.head()"
   ]
  },
  {
   "cell_type": "code",
   "execution_count": 4,
   "metadata": {
    "collapsed": false
   },
   "outputs": [
    {
     "data": {
      "text/plain": [
       "Paclitaxel                1884\n",
       "Cyclophosphamide          1666\n",
       "Gemcitabine               1593\n",
       "Antibodies, Monoclonal    1569\n",
       "Bevacizumab               1551\n",
       "Name: MESH_TERM, dtype: int64"
      ]
     },
     "execution_count": 4,
     "metadata": {},
     "output_type": "execute_result"
    }
   ],
   "source": [
    "term_counts = treatments['MESH_TERM'].value_counts()\n",
    "term_counts[0:5]"
   ]
  },
  {
   "cell_type": "code",
   "execution_count": 5,
   "metadata": {
    "collapsed": false
   },
   "outputs": [
    {
     "data": {
      "text/html": [
       "<div>\n",
       "<table border=\"1\" class=\"dataframe\">\n",
       "  <thead>\n",
       "    <tr style=\"text-align: right;\">\n",
       "      <th></th>\n",
       "      <th>MESH_ID</th>\n",
       "      <th>MESH_TERM</th>\n",
       "    </tr>\n",
       "  </thead>\n",
       "  <tbody>\n",
       "    <tr>\n",
       "      <th>0</th>\n",
       "      <td>A02.835.232.781.750.400</td>\n",
       "      <td>Cranial Fossa, Posterior</td>\n",
       "    </tr>\n",
       "    <tr>\n",
       "      <th>1</th>\n",
       "      <td>A02.835.232.781.802</td>\n",
       "      <td>Sphenoid Bone</td>\n",
       "    </tr>\n",
       "    <tr>\n",
       "      <th>2</th>\n",
       "      <td>A02.835.232.781.802.662</td>\n",
       "      <td>Sella Turcica</td>\n",
       "    </tr>\n",
       "    <tr>\n",
       "      <th>3</th>\n",
       "      <td>A02.835.232.781.885</td>\n",
       "      <td>Temporal Bone</td>\n",
       "    </tr>\n",
       "    <tr>\n",
       "      <th>4</th>\n",
       "      <td>A02.835.232.781.885.444</td>\n",
       "      <td>Mastoid</td>\n",
       "    </tr>\n",
       "  </tbody>\n",
       "</table>\n",
       "</div>"
      ],
      "text/plain": [
       "                   MESH_ID                 MESH_TERM\n",
       "0  A02.835.232.781.750.400  Cranial Fossa, Posterior\n",
       "1      A02.835.232.781.802             Sphenoid Bone\n",
       "2  A02.835.232.781.802.662             Sella Turcica\n",
       "3      A02.835.232.781.885             Temporal Bone\n",
       "4  A02.835.232.781.885.444                   Mastoid"
      ]
     },
     "execution_count": 5,
     "metadata": {},
     "output_type": "execute_result"
    }
   ],
   "source": [
    "mesh = pd.read_csv('mesh_thesaurus.txt', sep='|')\n",
    "mesh.head()"
   ]
  },
  {
   "cell_type": "code",
   "execution_count": 6,
   "metadata": {
    "collapsed": true
   },
   "outputs": [],
   "source": [
    "#would like to aggregate these by type of intervention (MT inhibitor, DNA repair inhibitor, etc.)"
   ]
  },
  {
   "cell_type": "code",
   "execution_count": 8,
   "metadata": {
    "collapsed": false
   },
   "outputs": [
    {
     "data": {
      "text/plain": [
       "HIV                 1555\n",
       "Obesity             1183\n",
       "Pharmacokinetics    1162\n",
       "Depression          1061\n",
       "Cancer              1022\n",
       "Safety              1008\n",
       "COPD                 913\n",
       "Pain                 903\n",
       "Diabetes             869\n",
       "pharmacokinetics     856\n",
       "Exercise             805\n",
       "pain                 797\n",
       "safety               781\n",
       "Schizophrenia        756\n",
       "cancer               728\n",
       "Children             721\n",
       "Asthma               714\n",
       "children             700\n",
       "breast cancer        699\n",
       "Breast Cancer        689\n",
       "Name: KEYWORD, dtype: int64"
      ]
     },
     "execution_count": 8,
     "metadata": {},
     "output_type": "execute_result"
    }
   ],
   "source": [
    "keywords = pd.read_csv('keywords.txt', sep='|')\n",
    "keywords['KEYWORD'].value_counts()[0:20]"
   ]
  },
  {
   "cell_type": "code",
   "execution_count": 9,
   "metadata": {
    "collapsed": true
   },
   "outputs": [],
   "source": [
    "#these need to be lower() for aggregating"
   ]
  },
  {
   "cell_type": "code",
   "execution_count": 18,
   "metadata": {
    "collapsed": true
   },
   "outputs": [],
   "source": [
    "keywords['key_lowered'] = keywords['KEYWORD'].str.lower()"
   ]
  },
  {
   "cell_type": "code",
   "execution_count": 33,
   "metadata": {
    "collapsed": false
   },
   "outputs": [
    {
     "data": {
      "text/plain": [
       "[('pharmacokinetics', 2022),\n",
       " ('obesity', 1868),\n",
       " ('breast cancer', 1795),\n",
       " ('safety', 1795),\n",
       " ('quality of life', 1793),\n",
       " ('cancer', 1752),\n",
       " ('pain', 1702),\n",
       " ('depression', 1650),\n",
       " ('hiv', 1563),\n",
       " ('diabetes', 1489),\n",
       " ('children', 1425),\n",
       " ('exercise', 1382),\n",
       " ('stroke', 1093),\n",
       " ('schizophrenia', 1087),\n",
       " ('hypertension', 1083),\n",
       " ('asthma', 1079),\n",
       " ('inflammation', 973),\n",
       " ('treatment', 947),\n",
       " ('prevention', 923),\n",
       " ('copd', 922),\n",
       " ('pregnancy', 887),\n",
       " ('chemotherapy', 882),\n",
       " ('heart failure', 880),\n",
       " ('prostate cancer', 879),\n",
       " ('physical activity', 791),\n",
       " ('vaccine', 779),\n",
       " ('surgery', 748),\n",
       " ('rehabilitation', 739),\n",
       " ('pediatric', 732),\n",
       " ('efficacy', 718),\n",
       " ('healthy volunteers', 694),\n",
       " ('lung cancer', 681),\n",
       " ('randomized controlled trial', 677),\n",
       " ('healthy volunteer', 673),\n",
       " ('type 2 diabetes', 665),\n",
       " ('diabetes mellitus', 664),\n",
       " ('coronary artery disease', 639),\n",
       " ('mri', 628),\n",
       " ('anxiety', 622),\n",
       " ('elderly', 616),\n",
       " ('leukemia', 608),\n",
       " ('insulin resistance', 604),\n",
       " ('osteoarthritis', 595),\n",
       " ('metastatic', 594),\n",
       " ('rheumatoid arthritis', 594),\n",
       " ('lymphoma', 589),\n",
       " ('bioequivalence', 588),\n",
       " ('unspecified adult solid tumor, protocol specific', 588),\n",
       " ('multiple myeloma', 588),\n",
       " ('acquired immunodeficiency syndrome', 587)]"
      ]
     },
     "execution_count": 33,
     "metadata": {},
     "output_type": "execute_result"
    }
   ],
   "source": [
    "plottable = keywords['key_lowered'].value_counts().to_dict()\n",
    "import operator\n",
    "plot_sort = sorted(plottable.items(), key=operator.itemgetter(1), reverse=True)\n",
    "plot_sort[0:50]"
   ]
  },
  {
   "cell_type": "code",
   "execution_count": 45,
   "metadata": {
    "collapsed": false
   },
   "outputs": [
    {
     "data": {
      "text/plain": [
       "(25, 25)"
      ]
     },
     "execution_count": 45,
     "metadata": {},
     "output_type": "execute_result"
    }
   ],
   "source": [
    "get_x = lambda x: x[0]\n",
    "get_y = lambda x: x[1]\n",
    "x_labels = pd.Series([x for x in map(get_x, plot_sort[0:25])])\n",
    "y_labels = pd.Series([x for x in map(get_y, plot_sort[0:25])])\n",
    "len(x_labels), len(y_labels)"
   ]
  },
  {
   "cell_type": "code",
   "execution_count": 47,
   "metadata": {
    "collapsed": false
   },
   "outputs": [
    {
     "data": {
      "text/plain": [
       "[None, None, None, None, None, None]"
      ]
     },
     "execution_count": 47,
     "metadata": {},
     "output_type": "execute_result"
    },
    {
     "data": {
      "image/png": "[encoded data removed]",
      "text/plain": [
       "<matplotlib.figure.Figure at 0x11d8492b0>"
      ]
     },
     "metadata": {},
     "output_type": "display_data"
    }
   ],
   "source": [
    "sns.set_context(\"talk\")\n",
    "sns.barplot(y_labels, x_labels)\n",
    "locs, labels = plt.xticks()\n",
    "plt.setp(labels, rotation=90)"
   ]
  },
  {
   "cell_type": "code",
   "execution_count": 12,
   "metadata": {
    "collapsed": false
   },
   "outputs": [
    {
     "name": "stderr",
     "output_type": "stream",
     "text": [
      "b'Skipping line 341181: expected 7 fields, saw 10\\n'\n",
      "b'Skipping line 603289: expected 7 fields, saw 9\\n'\n"
     ]
    },
    {
     "data": {
      "text/html": [
       "<div>\n",
       "<table border=\"1\" class=\"dataframe\">\n",
       "  <thead>\n",
       "    <tr style=\"text-align: right;\">\n",
       "      <th></th>\n",
       "      <th>OUTCOME_ID</th>\n",
       "      <th>NCT_ID</th>\n",
       "      <th>STUDY_OUTCOMES_TYPE</th>\n",
       "      <th>MEASURE</th>\n",
       "      <th>SAFETY_ISSUE</th>\n",
       "      <th>TIME_FRAME</th>\n",
       "      <th>DESCRIPTION</th>\n",
       "    </tr>\n",
       "  </thead>\n",
       "  <tbody>\n",
       "    <tr>\n",
       "      <th>0</th>\n",
       "      <td>48</td>\n",
       "      <td>NCT00000199</td>\n",
       "      <td>primary outcome</td>\n",
       "      <td>Adverse effects</td>\n",
       "      <td>NaN</td>\n",
       "      <td>NaN</td>\n",
       "      <td>NaN</td>\n",
       "    </tr>\n",
       "    <tr>\n",
       "      <th>1</th>\n",
       "      <td>49</td>\n",
       "      <td>NCT00000199</td>\n",
       "      <td>primary outcome</td>\n",
       "      <td>Clinical status</td>\n",
       "      <td>NaN</td>\n",
       "      <td>NaN</td>\n",
       "      <td>NaN</td>\n",
       "    </tr>\n",
       "    <tr>\n",
       "      <th>2</th>\n",
       "      <td>50</td>\n",
       "      <td>NCT00000200</td>\n",
       "      <td>primary outcome</td>\n",
       "      <td>Interaction of cocaine and meds on cardio</td>\n",
       "      <td>Yes</td>\n",
       "      <td>3 hr</td>\n",
       "      <td>NaN</td>\n",
       "    </tr>\n",
       "    <tr>\n",
       "      <th>3</th>\n",
       "      <td>51</td>\n",
       "      <td>NCT00000200</td>\n",
       "      <td>primary outcome</td>\n",
       "      <td>Interaction of cocaine &amp; meds on coc's subjective</td>\n",
       "      <td>Yes</td>\n",
       "      <td>3 hr</td>\n",
       "      <td>NaN</td>\n",
       "    </tr>\n",
       "    <tr>\n",
       "      <th>4</th>\n",
       "      <td>52</td>\n",
       "      <td>NCT00000200</td>\n",
       "      <td>primary outcome</td>\n",
       "      <td>Effects of medication on cocaine craving</td>\n",
       "      <td>No</td>\n",
       "      <td>3 hr</td>\n",
       "      <td>NaN</td>\n",
       "    </tr>\n",
       "  </tbody>\n",
       "</table>\n",
       "</div>"
      ],
      "text/plain": [
       "  OUTCOME_ID       NCT_ID STUDY_OUTCOMES_TYPE  \\\n",
       "0         48  NCT00000199     primary outcome   \n",
       "1         49  NCT00000199     primary outcome   \n",
       "2         50  NCT00000200     primary outcome   \n",
       "3         51  NCT00000200     primary outcome   \n",
       "4         52  NCT00000200     primary outcome   \n",
       "\n",
       "                                             MEASURE SAFETY_ISSUE TIME_FRAME  \\\n",
       "0                                    Adverse effects          NaN        NaN   \n",
       "1                                    Clinical status          NaN        NaN   \n",
       "2          Interaction of cocaine and meds on cardio          Yes       3 hr   \n",
       "3  Interaction of cocaine & meds on coc's subjective          Yes       3 hr   \n",
       "4           Effects of medication on cocaine craving           No       3 hr   \n",
       "\n",
       "  DESCRIPTION  \n",
       "0         NaN  \n",
       "1         NaN  \n",
       "2         NaN  \n",
       "3         NaN  \n",
       "4         NaN  "
      ]
     },
     "execution_count": 12,
     "metadata": {},
     "output_type": "execute_result"
    }
   ],
   "source": [
    "outcomes = pd.read_csv('study_outcome.txt', sep='|', error_bad_lines=False)\n",
    "outcomes.head()"
   ]
  },
  {
   "cell_type": "code",
   "execution_count": 14,
   "metadata": {
    "collapsed": false
   },
   "outputs": [
    {
     "data": {
      "text/plain": [
       "array(['primary outcome', 'secondary outcome', 'other outcome', nan], dtype=object)"
      ]
     },
     "execution_count": 14,
     "metadata": {},
     "output_type": "execute_result"
    }
   ],
   "source": [
    "outcomes['STUDY_OUTCOMES_TYPE'].unique()"
   ]
  },
  {
   "cell_type": "code",
   "execution_count": 15,
   "metadata": {
    "collapsed": false
   },
   "outputs": [
    {
     "data": {
      "text/html": [
       "<div>\n",
       "<table border=\"1\" class=\"dataframe\">\n",
       "  <thead>\n",
       "    <tr style=\"text-align: right;\">\n",
       "      <th></th>\n",
       "      <th>MESH_CONDITION_ID</th>\n",
       "      <th>NCT_ID</th>\n",
       "      <th>MESH_TERM</th>\n",
       "    </tr>\n",
       "  </thead>\n",
       "  <tbody>\n",
       "    <tr>\n",
       "      <th>0</th>\n",
       "      <td>142</td>\n",
       "      <td>NCT00000211</td>\n",
       "      <td>Cocaine-Related Disorders</td>\n",
       "    </tr>\n",
       "    <tr>\n",
       "      <th>1</th>\n",
       "      <td>143</td>\n",
       "      <td>NCT00000211</td>\n",
       "      <td>Heroin Dependence</td>\n",
       "    </tr>\n",
       "    <tr>\n",
       "      <th>2</th>\n",
       "      <td>144</td>\n",
       "      <td>NCT00000212</td>\n",
       "      <td>Cocaine-Related Disorders</td>\n",
       "    </tr>\n",
       "    <tr>\n",
       "      <th>3</th>\n",
       "      <td>145</td>\n",
       "      <td>NCT00000213</td>\n",
       "      <td>Cocaine-Related Disorders</td>\n",
       "    </tr>\n",
       "    <tr>\n",
       "      <th>4</th>\n",
       "      <td>146</td>\n",
       "      <td>NCT00000214</td>\n",
       "      <td>Cocaine-Related Disorders</td>\n",
       "    </tr>\n",
       "  </tbody>\n",
       "</table>\n",
       "</div>"
      ],
      "text/plain": [
       "   MESH_CONDITION_ID       NCT_ID                  MESH_TERM\n",
       "0                142  NCT00000211  Cocaine-Related Disorders\n",
       "1                143  NCT00000211          Heroin Dependence\n",
       "2                144  NCT00000212  Cocaine-Related Disorders\n",
       "3                145  NCT00000213  Cocaine-Related Disorders\n",
       "4                146  NCT00000214  Cocaine-Related Disorders"
      ]
     },
     "execution_count": 15,
     "metadata": {},
     "output_type": "execute_result"
    }
   ],
   "source": [
    "conditions = pd.read_csv('condition_browse.txt', sep='|')\n",
    "conditions.head()"
   ]
  },
  {
   "cell_type": "code",
   "execution_count": 48,
   "metadata": {
    "collapsed": false
   },
   "outputs": [
    {
     "data": {
      "text/plain": [
       "Breast Neoplasms                          4713\n",
       "Diabetes Mellitus, Type 2                 4351\n",
       "Diabetes Mellitus                         3441\n",
       "Syndrome                                  3377\n",
       "Coronary Artery Disease                   3276\n",
       "Lung Neoplasms                            3078\n",
       "Carcinoma, Non-Small-Cell Lung            2953\n",
       "Leukemia                                  2876\n",
       "Myocardial Ischemia                       2873\n",
       "Coronary Disease                          2830\n",
       "Prostatic Neoplasms                       2756\n",
       "Lymphoma                                  2714\n",
       "Depression                                2559\n",
       "Carcinoma                                 2525\n",
       "Hypertension                              2518\n",
       "Depressive Disorder                       2377\n",
       "Cardiovascular Diseases                   2291\n",
       "Infection                                 2112\n",
       "Neoplasms                                 2082\n",
       "Pulmonary Disease, Chronic Obstructive    2056\n",
       "Heart Failure                             2048\n",
       "Hepatitis                                 1991\n",
       "Colorectal Neoplasms                      1960\n",
       "Kidney Diseases                           1897\n",
       "Lung Diseases                             1891\n",
       "Name: MESH_TERM, dtype: int64"
      ]
     },
     "execution_count": 48,
     "metadata": {},
     "output_type": "execute_result"
    }
   ],
   "source": [
    "conditions['MESH_TERM'].value_counts()[0:25]"
   ]
  },
  {
   "cell_type": "code",
   "execution_count": 17,
   "metadata": {
    "collapsed": false
   },
   "outputs": [
    {
     "data": {
      "text/plain": [
       "(327949, 3)"
      ]
     },
     "execution_count": 17,
     "metadata": {},
     "output_type": "execute_result"
    }
   ],
   "source": [
    "conditions.shape"
   ]
  },
  {
   "cell_type": "code",
   "execution_count": 49,
   "metadata": {
    "collapsed": true
   },
   "outputs": [],
   "source": [
    "#want to aggregate all the ones with 'Neoplasms', 'Carcinoma', 'Leukemia', 'Lymphoma'"
   ]
  },
  {
   "cell_type": "code",
   "execution_count": 50,
   "metadata": {
    "collapsed": true
   },
   "outputs": [],
   "source": [
    "def tokenize(x):\n",
    "    \"\"\" Tokenize \n",
    "        :param: x (str)\n",
    "        :return: \n",
    "    \"\"\"\n",
    "    words = nltk.word_tokenize(x.lower())\n",
    "    return words"
   ]
  },
  {
   "cell_type": "code",
   "execution_count": 52,
   "metadata": {
    "collapsed": false
   },
   "outputs": [],
   "source": [
    "tokens = [tokenize(x) for x in conditions['MESH_TERM']]"
   ]
  },
  {
   "cell_type": "code",
   "execution_count": 57,
   "metadata": {
    "collapsed": true
   },
   "outputs": [],
   "source": [
    "import itertools\n",
    "flatten1 = itertools.chain.from_iterable\n",
    "flattened = [x for x in flatten1(tokens)]"
   ]
  },
  {
   "cell_type": "code",
   "execution_count": 58,
   "metadata": {
    "collapsed": false
   },
   "outputs": [
    {
     "data": {
      "text/plain": [
       "['cocaine-related', 'disorders', 'heroin', 'dependence', 'cocaine-related']"
      ]
     },
     "execution_count": 58,
     "metadata": {},
     "output_type": "execute_result"
    }
   ],
   "source": [
    "flattened[0:5]"
   ]
  },
  {
   "cell_type": "code",
   "execution_count": 59,
   "metadata": {
    "collapsed": true
   },
   "outputs": [],
   "source": [
    "counts = nltk.FreqDist(flattened)"
   ]
  },
  {
   "cell_type": "code",
   "execution_count": 60,
   "metadata": {
    "collapsed": true
   },
   "outputs": [],
   "source": [
    "import operator\n",
    "sortbycounts = sorted(counts.items(), key=operator.itemgetter(1), reverse=True)"
   ]
  },
  {
   "cell_type": "code",
   "execution_count": 61,
   "metadata": {
    "collapsed": false
   },
   "outputs": [
    {
     "data": {
      "text/plain": [
       "[(',', 78207),\n",
       " ('neoplasms', 31992),\n",
       " ('diseases', 19873),\n",
       " ('disease', 17987),\n",
       " ('syndrome', 11281),\n",
       " ('leukemia', 10949),\n",
       " ('disorders', 10888),\n",
       " ('lung', 10635),\n",
       " ('chronic', 10610),\n",
       " ('carcinoma', 10400),\n",
       " ('diabetes', 9510),\n",
       " ('mellitus', 9183),\n",
       " ('hepatitis', 8235),\n",
       " ('lymphoma', 7955),\n",
       " ('disorder', 7224)]"
      ]
     },
     "execution_count": 61,
     "metadata": {},
     "output_type": "execute_result"
    }
   ],
   "source": [
    "sortbycounts[0:15]"
   ]
  },
  {
   "cell_type": "code",
   "execution_count": null,
   "metadata": {
    "collapsed": true
   },
   "outputs": [],
   "source": []
  }
 ],
 "metadata": {
  "kernelspec": {
   "display_name": "Python 3",
   "language": "python",
   "name": "python3"
  },
  "language_info": {
   "codemirror_mode": {
    "name": "ipython",
    "version": 3
   },
   "file_extension": ".py",
   "mimetype": "text/x-python",
   "name": "python",
   "nbconvert_exporter": "python",
   "pygments_lexer": "ipython3",
   "version": "3.5.2"
  }
 },
 "nbformat": 4,
 "nbformat_minor": 0
}
