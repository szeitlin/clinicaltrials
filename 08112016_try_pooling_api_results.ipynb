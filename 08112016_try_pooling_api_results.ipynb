{
 "cells": [
  {
   "cell_type": "code",
   "execution_count": 5,
   "metadata": {
    "collapsed": true
   },
   "outputs": [],
   "source": [
    "import pandas as pd\n",
    "from rest_query import CLI\n",
    "import nltk\n",
    "#note to self: want to refactor this so it's not expecting command-line input"
   ]
  },
  {
   "cell_type": "code",
   "execution_count": 2,
   "metadata": {
    "collapsed": true
   },
   "outputs": [],
   "source": [
    "argv = '-i cancer -s MSH'.split()\n",
    "cli = CLI(argv)"
   ]
  },
  {
   "cell_type": "code",
   "execution_count": 6,
   "metadata": {
    "collapsed": false
   },
   "outputs": [
    {
     "name": "stdout",
     "output_type": "stream",
     "text": [
      "https://uts-ws.nlm.nih.gov/rest/search/current?string=cancer&sabs=MSH&returnIdType=concept\n",
      "200\n",
      "{'results': [{'uri': 'https://uts-ws.nlm.nih.gov/rest/content/2016AA/CUI/C0006826', 'name': 'Malignant Neoplasms', 'ui': 'C0006826', 'rootSource': 'MTH'}, {'uri': 'https://uts-ws.nlm.nih.gov/rest/content/2016AA/CUI/C0005684', 'name': 'Malignant neoplasm of urinary bladder', 'ui': 'C0005684', 'rootSource': 'MTH'}, {'uri': 'https://uts-ws.nlm.nih.gov/rest/content/2016AA/CUI/C0006142', 'name': 'Malignant neoplasm of breast', 'ui': 'C0006142', 'rootSource': 'MTH'}, {'uri': 'https://uts-ws.nlm.nih.gov/rest/content/2016AA/CUI/C0007102', 'name': 'Malignant tumor of colon', 'ui': 'C0007102', 'rootSource': 'MTH'}, {'uri': 'https://uts-ws.nlm.nih.gov/rest/content/2016AA/CUI/C0007107', 'name': 'Malignant neoplasm of larynx', 'ui': 'C0007107', 'rootSource': 'MTH'}, {'uri': 'https://uts-ws.nlm.nih.gov/rest/content/2016AA/CUI/C0007113', 'name': 'Rectal Carcinoma', 'ui': 'C0007113', 'rootSource': 'MTH'}, {'uri': 'https://uts-ws.nlm.nih.gov/rest/content/2016AA/CUI/C0007114', 'name': 'Malignant neoplasm of skin', 'ui': 'C0007114', 'rootSource': 'MTH'}, {'uri': 'https://uts-ws.nlm.nih.gov/rest/content/2016AA/CUI/C0019999', 'name': 'Hospitals, Cancer', 'ui': 'C0019999', 'rootSource': 'MSH'}, {'uri': 'https://uts-ws.nlm.nih.gov/rest/content/2016AA/CUI/C0024622', 'name': 'Malignant neoplasm of retina', 'ui': 'C0024622', 'rootSource': 'MTH'}, {'uri': 'https://uts-ws.nlm.nih.gov/rest/content/2016AA/CUI/C0024623', 'name': 'Malignant neoplasm of stomach', 'ui': 'C0024623', 'rootSource': 'MTH'}, {'uri': 'https://uts-ws.nlm.nih.gov/rest/content/2016AA/CUI/C0027646', 'name': 'Diagnostic Neoplasm Staging', 'ui': 'C0027646', 'rootSource': 'MTH'}, {'uri': 'https://uts-ws.nlm.nih.gov/rest/content/2016AA/CUI/C0029019', 'name': 'Oncology Nursing', 'ui': 'C0029019', 'rootSource': 'MSH'}, {'uri': 'https://uts-ws.nlm.nih.gov/rest/content/2016AA/CUI/C0041365', 'name': 'Tumor Markers', 'ui': 'C0041365', 'rootSource': 'MTH'}, {'uri': 'https://uts-ws.nlm.nih.gov/rest/content/2016AA/CUI/C0042237', 'name': 'Malignant Vaginal Neoplasm', 'ui': 'C0042237', 'rootSource': 'MTH'}, {'uri': 'https://uts-ws.nlm.nih.gov/rest/content/2016AA/CUI/C0054578', 'name': 'cancer procoagulant', 'ui': 'C0054578', 'rootSource': 'MSH'}, {'uri': 'https://uts-ws.nlm.nih.gov/rest/content/2016AA/CUI/C0153340', 'name': 'Cancer of Lip', 'ui': 'C0153340', 'rootSource': 'MSH'}, {'uri': 'https://uts-ws.nlm.nih.gov/rest/content/2016AA/CUI/C0153349', 'name': 'Malignant neoplasm of tongue', 'ui': 'C0153349', 'rootSource': 'MTH'}, {'uri': 'https://uts-ws.nlm.nih.gov/rest/content/2016AA/CUI/C0153381', 'name': 'Malignant neoplasm of mouth', 'ui': 'C0153381', 'rootSource': 'MTH'}, {'uri': 'https://uts-ws.nlm.nih.gov/rest/content/2016AA/CUI/C0153398', 'name': 'Hypopharyngeal Cancer', 'ui': 'C0153398', 'rootSource': 'MTH'}, {'uri': 'https://uts-ws.nlm.nih.gov/rest/content/2016AA/CUI/C0153405', 'name': 'Malignant neoplasm of pharynx', 'ui': 'C0153405', 'rootSource': 'MTH'}, {'uri': 'https://uts-ws.nlm.nih.gov/rest/content/2016AA/CUI/C0153427', 'name': 'Malignant neoplasm of jejunum', 'ui': 'C0153427', 'rootSource': 'MTH'}, {'uri': 'https://uts-ws.nlm.nih.gov/rest/content/2016AA/CUI/C0153437', 'name': 'Malignant neoplasm of cecum', 'ui': 'C0153437', 'rootSource': 'MTH'}, {'uri': 'https://uts-ws.nlm.nih.gov/rest/content/2016AA/CUI/C0153452', 'name': 'Malignant neoplasm of gallbladder', 'ui': 'C0153452', 'rootSource': 'MTH'}, {'uri': 'https://uts-ws.nlm.nih.gov/rest/content/2016AA/CUI/C0153470', 'name': 'Malignant neoplasm of spleen', 'ui': 'C0153470', 'rootSource': 'MTH'}, {'uri': 'https://uts-ws.nlm.nih.gov/rest/content/2016AA/CUI/C0153504', 'name': 'Malignant tumor of mediastinum', 'ui': 'C0153504', 'rootSource': 'MTH'}], 'classType': 'searchResults'}\n"
     ]
    },
    {
     "data": {
      "text/html": [
       "<div>\n",
       "<table border=\"1\" class=\"dataframe\">\n",
       "  <thead>\n",
       "    <tr style=\"text-align: right;\">\n",
       "      <th></th>\n",
       "      <th>name</th>\n",
       "      <th>ui</th>\n",
       "    </tr>\n",
       "  </thead>\n",
       "  <tbody>\n",
       "    <tr>\n",
       "      <th>0</th>\n",
       "      <td>Malignant Neoplasms</td>\n",
       "      <td>C0006826</td>\n",
       "    </tr>\n",
       "    <tr>\n",
       "      <th>1</th>\n",
       "      <td>Malignant neoplasm of urinary bladder</td>\n",
       "      <td>C0005684</td>\n",
       "    </tr>\n",
       "    <tr>\n",
       "      <th>2</th>\n",
       "      <td>Malignant neoplasm of breast</td>\n",
       "      <td>C0006142</td>\n",
       "    </tr>\n",
       "    <tr>\n",
       "      <th>3</th>\n",
       "      <td>Malignant tumor of colon</td>\n",
       "      <td>C0007102</td>\n",
       "    </tr>\n",
       "    <tr>\n",
       "      <th>4</th>\n",
       "      <td>Malignant neoplasm of larynx</td>\n",
       "      <td>C0007107</td>\n",
       "    </tr>\n",
       "  </tbody>\n",
       "</table>\n",
       "</div>"
      ],
      "text/plain": [
       "                                    name        ui\n",
       "0                    Malignant Neoplasms  C0006826\n",
       "1  Malignant neoplasm of urinary bladder  C0005684\n",
       "2           Malignant neoplasm of breast  C0006142\n",
       "3               Malignant tumor of colon  C0007102\n",
       "4           Malignant neoplasm of larynx  C0007107"
      ]
     },
     "execution_count": 6,
     "metadata": {},
     "output_type": "execute_result"
    }
   ],
   "source": [
    "cli.cli_authenticate()\n",
    "cli.get_query_result()\n",
    "df = cli.parse_query_result()\n",
    "df.head()"
   ]
  },
  {
   "cell_type": "code",
   "execution_count": 4,
   "metadata": {
    "collapsed": false
   },
   "outputs": [
    {
     "data": {
      "text/plain": [
       "(25, 2)"
      ]
     },
     "execution_count": 4,
     "metadata": {},
     "output_type": "execute_result"
    }
   ],
   "source": [
    "df.shape"
   ]
  },
  {
   "cell_type": "code",
   "execution_count": 7,
   "metadata": {
    "collapsed": true
   },
   "outputs": [],
   "source": [
    "#want to know if lymphoma is in this df['name']\n",
    "\n",
    "def apply_word_tokenize(x):\n",
    "    \"\"\" Tokenize \n",
    "        :param: x (str)\n",
    "        :return: token (list of str)\n",
    "    \"\"\"\n",
    "    words = nltk.word_tokenize(x.lower())\n",
    "    return words"
   ]
  },
  {
   "cell_type": "code",
   "execution_count": 8,
   "metadata": {
    "collapsed": true
   },
   "outputs": [],
   "source": [
    "tokens = [apply_word_tokenize(x) for x in df['name']]"
   ]
  },
  {
   "cell_type": "code",
   "execution_count": 9,
   "metadata": {
    "collapsed": true
   },
   "outputs": [],
   "source": [
    "from collections import Counter"
   ]
  },
  {
   "cell_type": "code",
   "execution_count": 12,
   "metadata": {
    "collapsed": false
   },
   "outputs": [
    {
     "data": {
      "text/plain": [
       "[['malignant', 'neoplasm', 'of', 'urinary', 'bladder'],\n",
       " ['malignant', 'neoplasm', 'of', 'breast'],\n",
       " ['malignant', 'tumor', 'of', 'colon'],\n",
       " ['malignant', 'neoplasm', 'of', 'larynx']]"
      ]
     },
     "execution_count": 12,
     "metadata": {},
     "output_type": "execute_result"
    }
   ],
   "source": [
    "tokens[1:5]"
   ]
  },
  {
   "cell_type": "code",
   "execution_count": 14,
   "metadata": {
    "collapsed": false
   },
   "outputs": [],
   "source": [
    "import itertools\n",
    "flatten1 = itertools.chain.from_iterable \n",
    "flat = list(flatten1(tokens))"
   ]
  },
  {
   "cell_type": "code",
   "execution_count": 15,
   "metadata": {
    "collapsed": false
   },
   "outputs": [
    {
     "data": {
      "text/plain": [
       "['malignant', 'neoplasms', 'malignant', 'neoplasm', 'of']"
      ]
     },
     "execution_count": 15,
     "metadata": {},
     "output_type": "execute_result"
    }
   ],
   "source": [
    "flat[0:5]"
   ]
  },
  {
   "cell_type": "code",
   "execution_count": 16,
   "metadata": {
    "collapsed": true
   },
   "outputs": [],
   "source": [
    "c = Counter(flat)"
   ]
  },
  {
   "cell_type": "code",
   "execution_count": 17,
   "metadata": {
    "collapsed": true
   },
   "outputs": [],
   "source": [
    "c.get('lymphoma')"
   ]
  },
  {
   "cell_type": "code",
   "execution_count": 18,
   "metadata": {
    "collapsed": false
   },
   "outputs": [
    {
     "data": {
      "text/plain": [
       "1"
      ]
     },
     "execution_count": 18,
     "metadata": {},
     "output_type": "execute_result"
    }
   ],
   "source": [
    "c.get('neoplasms')"
   ]
  },
  {
   "cell_type": "code",
   "execution_count": 19,
   "metadata": {
    "collapsed": false
   },
   "outputs": [
    {
     "data": {
      "text/plain": [
       "15"
      ]
     },
     "execution_count": 19,
     "metadata": {},
     "output_type": "execute_result"
    }
   ],
   "source": [
    "c.get('neoplasm')"
   ]
  },
  {
   "cell_type": "code",
   "execution_count": null,
   "metadata": {
    "collapsed": true
   },
   "outputs": [],
   "source": []
  }
 ],
 "metadata": {
  "kernelspec": {
   "display_name": "Python 3",
   "language": "python",
   "name": "python3"
  },
  "language_info": {
   "codemirror_mode": {
    "name": "ipython",
    "version": 3
   },
   "file_extension": ".py",
   "mimetype": "text/x-python",
   "name": "python",
   "nbconvert_exporter": "python",
   "pygments_lexer": "ipython3",
   "version": "3.5.2"
  }
 },
 "nbformat": 4,
 "nbformat_minor": 0
}
