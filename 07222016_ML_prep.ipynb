{
 "cells": [
  {
   "cell_type": "markdown",
   "metadata": {},
   "source": [
    "# ideas: would like to try to predict which trials will be successful\n",
    "\n",
    "# step 1: define successful"
   ]
  },
  {
   "cell_type": "markdown",
   "metadata": {},
   "source": [
    "# features to consider: \n",
    "\n",
    "- MESH terms\n",
    "- country\n",
    "- phase\n",
    "- size\n",
    "- reported_events (count)\n",
    "- length\n",
    "- design\n",
    "- intervention category\n",
    "- sponsors?\n",
    "- how do they define their criteria for success?\n"
   ]
  },
  {
   "cell_type": "code",
   "execution_count": 16,
   "metadata": {
    "collapsed": true
   },
   "outputs": [],
   "source": [
    "import pandas as pd\n",
    "import nltk"
   ]
  },
  {
   "cell_type": "code",
   "execution_count": 4,
   "metadata": {
    "collapsed": false
   },
   "outputs": [
    {
     "name": "stderr",
     "output_type": "stream",
     "text": [
      "/Users/szeitlin/anaconda/envs/clinicaltrials/lib/python3.5/site-packages/IPython/core/interactiveshell.py:2723: DtypeWarning: Columns (16) have mixed types. Specify dtype option on import or set low_memory=False.\n",
      "  interactivity=interactivity, compiler=compiler, result=result)\n"
     ]
    },
    {
     "data": {
      "text/html": [
       "<div>\n",
       "<table border=\"1\" class=\"dataframe\">\n",
       "  <thead>\n",
       "    <tr style=\"text-align: right;\">\n",
       "      <th></th>\n",
       "      <th>RESULTS_OUTCOME_ANALYSIS_ID</th>\n",
       "      <th>OUTCOME_ID</th>\n",
       "      <th>PARAM_TYPE</th>\n",
       "      <th>DISPERSION_TYPE</th>\n",
       "      <th>CI_PERCENT</th>\n",
       "      <th>CI_LOWER_LIMIT</th>\n",
       "      <th>CI_UPPER_LIMIT</th>\n",
       "      <th>GROUPS_DESC</th>\n",
       "      <th>NON_INFERIORITY</th>\n",
       "      <th>NON_INFERIORITY_DESC</th>\n",
       "      <th>P_VALUE</th>\n",
       "      <th>P_VALUE_DESC</th>\n",
       "      <th>METHOD</th>\n",
       "      <th>METHOD_DESC</th>\n",
       "      <th>PARAM_VALUE</th>\n",
       "      <th>ESTIMATE_DESC</th>\n",
       "      <th>DISPERSION_VALUE</th>\n",
       "      <th>CI_N_SIDES</th>\n",
       "      <th>CI_UPPER_LIMIT_NA_COMMENT</th>\n",
       "    </tr>\n",
       "  </thead>\n",
       "  <tbody>\n",
       "    <tr>\n",
       "      <th>0</th>\n",
       "      <td>27</td>\n",
       "      <td>20</td>\n",
       "      <td>NaN</td>\n",
       "      <td>NaN</td>\n",
       "      <td>NaN</td>\n",
       "      <td>NaN</td>\n",
       "      <td>NaN</td>\n",
       "      <td>logistic regression and mixed effects model</td>\n",
       "      <td>No</td>\n",
       "      <td>NaN</td>\n",
       "      <td>&lt;0.05</td>\n",
       "      <td>actual calculation</td>\n",
       "      <td>Regression, Logistic</td>\n",
       "      <td>NaN</td>\n",
       "      <td>NaN</td>\n",
       "      <td>NaN</td>\n",
       "      <td>NaN</td>\n",
       "      <td>NaN</td>\n",
       "      <td>NaN</td>\n",
       "    </tr>\n",
       "    <tr>\n",
       "      <th>1</th>\n",
       "      <td>28</td>\n",
       "      <td>21</td>\n",
       "      <td>NaN</td>\n",
       "      <td>NaN</td>\n",
       "      <td>NaN</td>\n",
       "      <td>NaN</td>\n",
       "      <td>NaN</td>\n",
       "      <td>NaN</td>\n",
       "      <td>No</td>\n",
       "      <td>NaN</td>\n",
       "      <td>0.18</td>\n",
       "      <td>NaN</td>\n",
       "      <td>ANOVA</td>\n",
       "      <td>NaN</td>\n",
       "      <td>NaN</td>\n",
       "      <td>NaN</td>\n",
       "      <td>NaN</td>\n",
       "      <td>NaN</td>\n",
       "      <td>NaN</td>\n",
       "    </tr>\n",
       "    <tr>\n",
       "      <th>2</th>\n",
       "      <td>29</td>\n",
       "      <td>26</td>\n",
       "      <td>Hazard Ratio (HR)</td>\n",
       "      <td>NaN</td>\n",
       "      <td>95.00000</td>\n",
       "      <td>0.81</td>\n",
       "      <td>1.03</td>\n",
       "      <td>Adjustment performed for the following pre-spe...</td>\n",
       "      <td>No</td>\n",
       "      <td>NaN</td>\n",
       "      <td>0.12</td>\n",
       "      <td>P-value presented is not adjusted for multiple...</td>\n",
       "      <td>Regression, Cox</td>\n",
       "      <td>NaN</td>\n",
       "      <td>0.91</td>\n",
       "      <td>NaN</td>\n",
       "      <td>NaN</td>\n",
       "      <td>2-Sided</td>\n",
       "      <td>NaN</td>\n",
       "    </tr>\n",
       "    <tr>\n",
       "      <th>3</th>\n",
       "      <td>30</td>\n",
       "      <td>27</td>\n",
       "      <td>Hazard Ratio (HR)</td>\n",
       "      <td>NaN</td>\n",
       "      <td>95.00000</td>\n",
       "      <td>1.03</td>\n",
       "      <td>1.38</td>\n",
       "      <td>Adjustment performed for the following pre-spe...</td>\n",
       "      <td>No</td>\n",
       "      <td>NaN</td>\n",
       "      <td>0.02</td>\n",
       "      <td>P-value presented is not adjusted for multiple...</td>\n",
       "      <td>Regression, Cox</td>\n",
       "      <td>NaN</td>\n",
       "      <td>1.19</td>\n",
       "      <td>NaN</td>\n",
       "      <td>NaN</td>\n",
       "      <td>2-Sided</td>\n",
       "      <td>NaN</td>\n",
       "    </tr>\n",
       "    <tr>\n",
       "      <th>4</th>\n",
       "      <td>31</td>\n",
       "      <td>89</td>\n",
       "      <td>Hazard Ratio (HR)</td>\n",
       "      <td>NaN</td>\n",
       "      <td>95.00000</td>\n",
       "      <td>0.93</td>\n",
       "      <td>1.00</td>\n",
       "      <td>NaN</td>\n",
       "      <td>No</td>\n",
       "      <td>NaN</td>\n",
       "      <td>NaN</td>\n",
       "      <td>NaN</td>\n",
       "      <td>NaN</td>\n",
       "      <td>NaN</td>\n",
       "      <td>0.96</td>\n",
       "      <td>NaN</td>\n",
       "      <td>NaN</td>\n",
       "      <td>2-Sided</td>\n",
       "      <td>NaN</td>\n",
       "    </tr>\n",
       "  </tbody>\n",
       "</table>\n",
       "</div>"
      ],
      "text/plain": [
       "  RESULTS_OUTCOME_ANALYSIS_ID OUTCOME_ID         PARAM_TYPE DISPERSION_TYPE  \\\n",
       "0                          27         20                NaN             NaN   \n",
       "1                          28         21                NaN             NaN   \n",
       "2                          29         26  Hazard Ratio (HR)             NaN   \n",
       "3                          30         27  Hazard Ratio (HR)             NaN   \n",
       "4                          31         89  Hazard Ratio (HR)             NaN   \n",
       "\n",
       "  CI_PERCENT CI_LOWER_LIMIT CI_UPPER_LIMIT  \\\n",
       "0        NaN            NaN            NaN   \n",
       "1        NaN            NaN            NaN   \n",
       "2   95.00000           0.81           1.03   \n",
       "3   95.00000           1.03           1.38   \n",
       "4   95.00000           0.93           1.00   \n",
       "\n",
       "                                         GROUPS_DESC NON_INFERIORITY  \\\n",
       "0        logistic regression and mixed effects model              No   \n",
       "1                                                NaN              No   \n",
       "2  Adjustment performed for the following pre-spe...              No   \n",
       "3  Adjustment performed for the following pre-spe...              No   \n",
       "4                                                NaN              No   \n",
       "\n",
       "  NON_INFERIORITY_DESC P_VALUE  \\\n",
       "0                  NaN   <0.05   \n",
       "1                  NaN    0.18   \n",
       "2                  NaN    0.12   \n",
       "3                  NaN    0.02   \n",
       "4                  NaN     NaN   \n",
       "\n",
       "                                        P_VALUE_DESC                METHOD  \\\n",
       "0                                 actual calculation  Regression, Logistic   \n",
       "1                                                NaN                 ANOVA   \n",
       "2  P-value presented is not adjusted for multiple...       Regression, Cox   \n",
       "3  P-value presented is not adjusted for multiple...       Regression, Cox   \n",
       "4                                                NaN                   NaN   \n",
       "\n",
       "  METHOD_DESC PARAM_VALUE ESTIMATE_DESC DISPERSION_VALUE CI_N_SIDES  \\\n",
       "0         NaN         NaN           NaN              NaN        NaN   \n",
       "1         NaN         NaN           NaN              NaN        NaN   \n",
       "2         NaN        0.91           NaN              NaN    2-Sided   \n",
       "3         NaN        1.19           NaN              NaN    2-Sided   \n",
       "4         NaN        0.96           NaN              NaN    2-Sided   \n",
       "\n",
       "  CI_UPPER_LIMIT_NA_COMMENT  \n",
       "0                       NaN  \n",
       "1                       NaN  \n",
       "2                       NaN  \n",
       "3                       NaN  \n",
       "4                       NaN  "
      ]
     },
     "execution_count": 4,
     "metadata": {},
     "output_type": "execute_result"
    }
   ],
   "source": [
    "results = pd.read_csv('results_outcome_analysis.txt', sep='|')\n",
    "results.head()"
   ]
  },
  {
   "cell_type": "code",
   "execution_count": 11,
   "metadata": {
    "collapsed": false
   },
   "outputs": [
    {
     "data": {
      "text/plain": [
       "2302"
      ]
     },
     "execution_count": 11,
     "metadata": {},
     "output_type": "execute_result"
    }
   ],
   "source": [
    "grouped = results.groupby('PARAM_TYPE').count().reset_index()\n",
    "stats = grouped['PARAM_TYPE'].unique()\n",
    "len(stats)"
   ]
  },
  {
   "cell_type": "code",
   "execution_count": null,
   "metadata": {
    "collapsed": true
   },
   "outputs": [],
   "source": [
    "#aggregate these\n",
    "categories = {'success rate': ['% success rate', '%success rate'],\n",
    "             't-test': ['t statistic', 't value', \n",
    "                        't-value', 't-Statistic', 't-distribution', 't-stat estimated value', 't-statistic'],\n",
    "             \"Fisher's\": [\"1-sided Fisher's Exact Test\", \"1-sided Fisher's Exact Text\"],\n",
    "             }"
   ]
  },
  {
   "cell_type": "code",
   "execution_count": 45,
   "metadata": {
    "collapsed": false
   },
   "outputs": [],
   "source": [
    "#would really like to search for related terms automatically\n",
    "#something like \n",
    "\n",
    "def apply_word_tokenize(x):\n",
    "    \"\"\" Tokenize \n",
    "        :param: x (str)\n",
    "        :return: token (list of str)\n",
    "    >>> apply_word_tokenize('%success rate')\n",
    "    ['%', 'success', 'rate']\n",
    "    >>> apply_word_tokenize('t statistic')\n",
    "    ['t', 'statistic']\n",
    "    >>> apply_word_tokenize('t-Statistic')\n",
    "    ['t', 'statistic']\n",
    "    \"\"\"\n",
    "    words = nltk.word_tokenize(x.lower().replace('-', ' ').strip())\n",
    "    return words\n",
    "\n",
    "def find_similar(words, listofstr):\n",
    "    \"\"\" find common stems in a list of strings\n",
    "    :param: listofstr - raw str\n",
    "    :return: stem (str)\n",
    "    \n",
    "    >>> find_similar(['%', 'success', 'rate'], ['%success rate', '% success rate'])\n",
    "    '% success rate'\n",
    " \n",
    "    >>> find_similar(['t', 'statistic'], ['t statistic', 't value', \\\n",
    "                        't-value', 't-Statistic', 't-distribution', 't-stat estimated value', 't-statistic'])\n",
    "    't'\n",
    "    \"\"\"\n",
    "    common = \"\"\n",
    "    tokenized = [apply_word_tokenize(x) for x in listofstr]\n",
    "    for word in words:\n",
    "        if all([word in x for x in tokenized]):\n",
    "            common += word + \" \"\n",
    "    return common.strip()"
   ]
  },
  {
   "cell_type": "code",
   "execution_count": 46,
   "metadata": {
    "collapsed": false
   },
   "outputs": [
    {
     "data": {
      "text/plain": [
       "TestResults(failed=0, attempted=5)"
      ]
     },
     "execution_count": 46,
     "metadata": {},
     "output_type": "execute_result"
    }
   ],
   "source": [
    "import doctest\n",
    "doctest.testmod()"
   ]
  },
  {
   "cell_type": "code",
   "execution_count": 52,
   "metadata": {
    "collapsed": false
   },
   "outputs": [
    {
     "data": {
      "text/plain": [
       "'3.2.1'"
      ]
     },
     "execution_count": 52,
     "metadata": {},
     "output_type": "execute_result"
    }
   ],
   "source": [
    "#Jaccard distance: 1 minus the quotient of shared N-grams and all observed N-grams\n",
    "#Levenshtein distance: Minimal number of insertions, deletions and replacements needed for transforming string a into string b\n",
    "nltk.__version__"
   ]
  },
  {
   "cell_type": "code",
   "execution_count": 53,
   "metadata": {
    "collapsed": true
   },
   "outputs": [],
   "source": [
    "from nltk.metrics import distance"
   ]
  },
  {
   "cell_type": "code",
   "execution_count": 57,
   "metadata": {
    "collapsed": false
   },
   "outputs": [],
   "source": [
    "from nltk.metrics.distance import jaccard_distance, edit_distance"
   ]
  },
  {
   "cell_type": "code",
   "execution_count": 56,
   "metadata": {
    "collapsed": false
   },
   "outputs": [
    {
     "ename": "AttributeError",
     "evalue": "'str' object has no attribute 'union'",
     "output_type": "error",
     "traceback": [
      "\u001b[0;31m---------------------------------------------------------------------------\u001b[0m",
      "\u001b[0;31mAttributeError\u001b[0m                            Traceback (most recent call last)",
      "\u001b[0;32m<ipython-input-56-4c7fd6a0c794>\u001b[0m in \u001b[0;36m<module>\u001b[0;34m()\u001b[0m\n\u001b[0;32m----> 1\u001b[0;31m \u001b[0mjaccard_distance\u001b[0m\u001b[0;34m(\u001b[0m\u001b[0;34m'%success rate'\u001b[0m\u001b[0;34m,\u001b[0m \u001b[0;34m'% success rate'\u001b[0m\u001b[0;34m)\u001b[0m\u001b[0;34m\u001b[0m\u001b[0m\n\u001b[0m",
      "\u001b[0;32m/Users/szeitlin/anaconda/envs/clinicaltrials/lib/python3.5/site-packages/nltk/metrics/distance.py\u001b[0m in \u001b[0;36mjaccard_distance\u001b[0;34m(label1, label2)\u001b[0m\n\u001b[1;32m    108\u001b[0m \u001b[0;34m\u001b[0m\u001b[0m\n\u001b[1;32m    109\u001b[0m     \"\"\"\n\u001b[0;32m--> 110\u001b[0;31m     \u001b[0;32mreturn\u001b[0m \u001b[0;34m(\u001b[0m\u001b[0mlen\u001b[0m\u001b[0;34m(\u001b[0m\u001b[0mlabel1\u001b[0m\u001b[0;34m.\u001b[0m\u001b[0munion\u001b[0m\u001b[0;34m(\u001b[0m\u001b[0mlabel2\u001b[0m\u001b[0;34m)\u001b[0m\u001b[0;34m)\u001b[0m \u001b[0;34m-\u001b[0m \u001b[0mlen\u001b[0m\u001b[0;34m(\u001b[0m\u001b[0mlabel1\u001b[0m\u001b[0;34m.\u001b[0m\u001b[0mintersection\u001b[0m\u001b[0;34m(\u001b[0m\u001b[0mlabel2\u001b[0m\u001b[0;34m)\u001b[0m\u001b[0;34m)\u001b[0m\u001b[0;34m)\u001b[0m\u001b[0;34m/\u001b[0m\u001b[0mlen\u001b[0m\u001b[0;34m(\u001b[0m\u001b[0mlabel1\u001b[0m\u001b[0;34m.\u001b[0m\u001b[0munion\u001b[0m\u001b[0;34m(\u001b[0m\u001b[0mlabel2\u001b[0m\u001b[0;34m)\u001b[0m\u001b[0;34m)\u001b[0m\u001b[0;34m\u001b[0m\u001b[0m\n\u001b[0m\u001b[1;32m    111\u001b[0m \u001b[0;34m\u001b[0m\u001b[0m\n\u001b[1;32m    112\u001b[0m \u001b[0;34m\u001b[0m\u001b[0m\n",
      "\u001b[0;31mAttributeError\u001b[0m: 'str' object has no attribute 'union'"
     ]
    }
   ],
   "source": [
    "jaccard_distance('%success rate', '% success rate')"
   ]
  },
  {
   "cell_type": "code",
   "execution_count": 58,
   "metadata": {
    "collapsed": false
   },
   "outputs": [
    {
     "data": {
      "text/plain": [
       "1"
      ]
     },
     "execution_count": 58,
     "metadata": {},
     "output_type": "execute_result"
    }
   ],
   "source": [
    "edit_distance('%success rate', '% success rate')"
   ]
  },
  {
   "cell_type": "code",
   "execution_count": null,
   "metadata": {
    "collapsed": true
   },
   "outputs": [],
   "source": []
  },
  {
   "cell_type": "code",
   "execution_count": 59,
   "metadata": {
    "collapsed": true
   },
   "outputs": [],
   "source": [
    "def my_jaccard_distance(label1, label2):\n",
    "    \"\"\"\n",
    "    :param: label1, label2 (str, str)\n",
    "    :return: float\n",
    "    \n",
    "    >>> my_jaccard_distance('%success rate', '% success rate')\n",
    "    0.0\n",
    "    \n",
    "    \"\"\"\n",
    "    set1 = set([x for x in label1])\n",
    "    set2 = set([x for x in label2])\n",
    "    \n",
    "    num_a = len(set1.union(set2))\n",
    "    num_b = len(set1.intersection(set2))\n",
    "    \n",
    "    return (num_a - num_b)/(num_a)"
   ]
  },
  {
   "cell_type": "code",
   "execution_count": 61,
   "metadata": {
    "collapsed": false
   },
   "outputs": [
    {
     "data": {
      "text/plain": [
       "TestResults(failed=0, attempted=5)"
      ]
     },
     "execution_count": 61,
     "metadata": {},
     "output_type": "execute_result"
    }
   ],
   "source": [
    "import doctest\n",
    "doctest.testmod()"
   ]
  },
  {
   "cell_type": "code",
   "execution_count": null,
   "metadata": {
    "collapsed": true
   },
   "outputs": [],
   "source": []
  }
 ],
 "metadata": {
  "kernelspec": {
   "display_name": "Python 3",
   "language": "python",
   "name": "python3"
  },
  "language_info": {
   "codemirror_mode": {
    "name": "ipython",
    "version": 3
   },
   "file_extension": ".py",
   "mimetype": "text/x-python",
   "name": "python",
   "nbconvert_exporter": "python",
   "pygments_lexer": "ipython3",
   "version": "3.5.2"
  }
 },
 "nbformat": 4,
 "nbformat_minor": 0
}
