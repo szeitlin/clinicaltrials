{
 "cells": [
  {
   "cell_type": "code",
   "execution_count": 46,
   "metadata": {
    "collapsed": true
   },
   "outputs": [],
   "source": [
    "import pandas as pd\n",
    "import nltk"
   ]
  },
  {
   "cell_type": "code",
   "execution_count": 47,
   "metadata": {
    "collapsed": true
   },
   "outputs": [],
   "source": [
    "import numpy as np\n",
    "import matplotlib.pyplot as plt\n",
    "import matplotlib\n",
    "import seaborn as sns\n",
    "import statsmodels\n",
    "%matplotlib inline"
   ]
  },
  {
   "cell_type": "code",
   "execution_count": 209,
   "metadata": {
    "collapsed": true
   },
   "outputs": [],
   "source": [
    "import warnings\n",
    "warnings.filterwarnings('ignore')"
   ]
  },
  {
   "cell_type": "code",
   "execution_count": 48,
   "metadata": {
    "collapsed": false
   },
   "outputs": [],
   "source": [
    "mesh = pd.read_csv('mesh_thesaurus.txt', sep='|')\n",
    "terms = mesh['MESH_TERM']"
   ]
  },
  {
   "cell_type": "code",
   "execution_count": 130,
   "metadata": {
    "collapsed": false
   },
   "outputs": [
    {
     "data": {
      "text/html": [
       "<div>\n",
       "<table border=\"1\" class=\"dataframe\">\n",
       "  <thead>\n",
       "    <tr style=\"text-align: right;\">\n",
       "      <th></th>\n",
       "      <th>CONDITION_ID</th>\n",
       "      <th>NCT_ID</th>\n",
       "      <th>CONDITION</th>\n",
       "    </tr>\n",
       "  </thead>\n",
       "  <tbody>\n",
       "    <tr>\n",
       "      <th>0</th>\n",
       "      <td>150</td>\n",
       "      <td>NCT00000262</td>\n",
       "      <td>Substance-Related Disorders</td>\n",
       "    </tr>\n",
       "    <tr>\n",
       "      <th>1</th>\n",
       "      <td>151</td>\n",
       "      <td>NCT00000263</td>\n",
       "      <td>Opioid-Related Disorders</td>\n",
       "    </tr>\n",
       "    <tr>\n",
       "      <th>2</th>\n",
       "      <td>152</td>\n",
       "      <td>NCT00000263</td>\n",
       "      <td>Substance-Related Disorders</td>\n",
       "    </tr>\n",
       "    <tr>\n",
       "      <th>3</th>\n",
       "      <td>153</td>\n",
       "      <td>NCT00000264</td>\n",
       "      <td>Opioid-Related Disorders</td>\n",
       "    </tr>\n",
       "    <tr>\n",
       "      <th>4</th>\n",
       "      <td>154</td>\n",
       "      <td>NCT00000264</td>\n",
       "      <td>Substance-Related Disorders</td>\n",
       "    </tr>\n",
       "  </tbody>\n",
       "</table>\n",
       "</div>"
      ],
      "text/plain": [
       "   CONDITION_ID       NCT_ID                    CONDITION\n",
       "0           150  NCT00000262  Substance-Related Disorders\n",
       "1           151  NCT00000263     Opioid-Related Disorders\n",
       "2           152  NCT00000263  Substance-Related Disorders\n",
       "3           153  NCT00000264     Opioid-Related Disorders\n",
       "4           154  NCT00000264  Substance-Related Disorders"
      ]
     },
     "execution_count": 130,
     "metadata": {},
     "output_type": "execute_result"
    }
   ],
   "source": [
    "conditions = pd.read_csv('conditions.txt', sep='|')\n",
    "conditions.head()"
   ]
  },
  {
   "cell_type": "code",
   "execution_count": 132,
   "metadata": {
    "collapsed": false
   },
   "outputs": [],
   "source": [
    "#categories = conditions[conditions['len(condition)'] < 50]"
   ]
  },
  {
   "cell_type": "code",
   "execution_count": 133,
   "metadata": {
    "collapsed": false
   },
   "outputs": [
    {
     "data": {
      "text/html": [
       "<div>\n",
       "<table border=\"1\" class=\"dataframe\">\n",
       "  <thead>\n",
       "    <tr style=\"text-align: right;\">\n",
       "      <th></th>\n",
       "      <th>CONDITION_ID</th>\n",
       "      <th>NCT_ID</th>\n",
       "      <th>CONDITION</th>\n",
       "      <th>len(condition)</th>\n",
       "      <th>split descript</th>\n",
       "    </tr>\n",
       "  </thead>\n",
       "  <tbody>\n",
       "    <tr>\n",
       "      <th>0</th>\n",
       "      <td>150</td>\n",
       "      <td>NCT00000262</td>\n",
       "      <td>Substance-Related Disorders</td>\n",
       "      <td>27</td>\n",
       "      <td>2</td>\n",
       "    </tr>\n",
       "    <tr>\n",
       "      <th>1</th>\n",
       "      <td>151</td>\n",
       "      <td>NCT00000263</td>\n",
       "      <td>Opioid-Related Disorders</td>\n",
       "      <td>24</td>\n",
       "      <td>2</td>\n",
       "    </tr>\n",
       "    <tr>\n",
       "      <th>2</th>\n",
       "      <td>152</td>\n",
       "      <td>NCT00000263</td>\n",
       "      <td>Substance-Related Disorders</td>\n",
       "      <td>27</td>\n",
       "      <td>2</td>\n",
       "    </tr>\n",
       "    <tr>\n",
       "      <th>3</th>\n",
       "      <td>153</td>\n",
       "      <td>NCT00000264</td>\n",
       "      <td>Opioid-Related Disorders</td>\n",
       "      <td>24</td>\n",
       "      <td>2</td>\n",
       "    </tr>\n",
       "    <tr>\n",
       "      <th>4</th>\n",
       "      <td>154</td>\n",
       "      <td>NCT00000264</td>\n",
       "      <td>Substance-Related Disorders</td>\n",
       "      <td>27</td>\n",
       "      <td>2</td>\n",
       "    </tr>\n",
       "  </tbody>\n",
       "</table>\n",
       "</div>"
      ],
      "text/plain": [
       "   CONDITION_ID       NCT_ID                    CONDITION  len(condition)  \\\n",
       "0           150  NCT00000262  Substance-Related Disorders              27   \n",
       "1           151  NCT00000263     Opioid-Related Disorders              24   \n",
       "2           152  NCT00000263  Substance-Related Disorders              27   \n",
       "3           153  NCT00000264     Opioid-Related Disorders              24   \n",
       "4           154  NCT00000264  Substance-Related Disorders              27   \n",
       "\n",
       "   split descript  \n",
       "0               2  \n",
       "1               2  \n",
       "2               2  \n",
       "3               2  \n",
       "4               2  "
      ]
     },
     "execution_count": 133,
     "metadata": {},
     "output_type": "execute_result"
    }
   ],
   "source": [
    "categories['split descript'] = [len(x.split()) for x in categories['CONDITION']]\n",
    "categories.head()"
   ]
  },
  {
   "cell_type": "code",
   "execution_count": 53,
   "metadata": {
    "collapsed": false
   },
   "outputs": [],
   "source": [
    "def word_counter(colname):\n",
    "    \"\"\" Helper for aggregating names\"\"\"\n",
    "    word_count = dict()\n",
    "    for row in colname:\n",
    "        for x in row.split():\n",
    "            if x in word_count:\n",
    "                word_count[x] += 1\n",
    "            elif x not in word_count:\n",
    "                word_count[x] = 1\n",
    "    return word_count"
   ]
  },
  {
   "cell_type": "code",
   "execution_count": 54,
   "metadata": {
    "collapsed": false
   },
   "outputs": [],
   "source": [
    "def create_plottable_df(source_df, colname, skipwords):\n",
    "    \"\"\"\n",
    "    Reusable method for EDA.\n",
    "    :param: colname (str)\n",
    "    :param: skipwords (list of str)\n",
    "    :return: dataframe\n",
    "    \"\"\"\n",
    "    word_count = word_counter(source_df[colname])\n",
    "    wc_list = sorted(word_count.items(), key=operator.itemgetter(1), reverse=True)\n",
    "    df = pd.DataFrame(wc_list, columns=[colname, 'count'])\n",
    "    df['drop_these'] = [True if x in skipwords else False for x in df[colname]]\n",
    "    cleaned = df[df['drop_these']==False]\n",
    "    cleaned.reset_index(drop=True)\n",
    "    return cleaned"
   ]
  },
  {
   "cell_type": "code",
   "execution_count": 55,
   "metadata": {
    "collapsed": true
   },
   "outputs": [],
   "source": [
    "word_count = word_counter(conditions['CONDITION'])"
   ]
  },
  {
   "cell_type": "code",
   "execution_count": 56,
   "metadata": {
    "collapsed": false
   },
   "outputs": [],
   "source": [
    "import operator\n",
    "condition_wc_list = sorted(word_count.items(), key=operator.itemgetter(1), reverse=True)"
   ]
  },
  {
   "cell_type": "code",
   "execution_count": 57,
   "metadata": {
    "collapsed": false
   },
   "outputs": [
    {
     "data": {
      "text/plain": [
       "33.377763912178764"
      ]
     },
     "execution_count": 57,
     "metadata": {},
     "output_type": "execute_result"
    }
   ],
   "source": [
    "wc_s = pd.Series(word_count)\n",
    "wc_s.mean()"
   ]
  },
  {
   "cell_type": "code",
   "execution_count": 58,
   "metadata": {
    "collapsed": false
   },
   "outputs": [
    {
     "data": {
      "text/plain": [
       "357.3633493169491"
      ]
     },
     "execution_count": 58,
     "metadata": {},
     "output_type": "execute_result"
    }
   ],
   "source": [
    "wc_s.std()"
   ]
  },
  {
   "cell_type": "code",
   "execution_count": 59,
   "metadata": {
    "collapsed": false
   },
   "outputs": [],
   "source": [
    "top_1000 = pd.DataFrame(condition_wc_list[0:1000], columns=['condition', 'count'])"
   ]
  },
  {
   "cell_type": "code",
   "execution_count": 60,
   "metadata": {
    "collapsed": false
   },
   "outputs": [
    {
     "data": {
      "text/html": [
       "<div>\n",
       "<table border=\"1\" class=\"dataframe\">\n",
       "  <thead>\n",
       "    <tr style=\"text-align: right;\">\n",
       "      <th></th>\n",
       "      <th>condition</th>\n",
       "      <th>count</th>\n",
       "    </tr>\n",
       "  </thead>\n",
       "  <tbody>\n",
       "    <tr>\n",
       "      <th>0</th>\n",
       "      <td>Cancer</td>\n",
       "      <td>31800</td>\n",
       "    </tr>\n",
       "    <tr>\n",
       "      <th>1</th>\n",
       "      <td>Disease</td>\n",
       "      <td>16994</td>\n",
       "    </tr>\n",
       "    <tr>\n",
       "      <th>2</th>\n",
       "      <td>Stage</td>\n",
       "      <td>11275</td>\n",
       "    </tr>\n",
       "    <tr>\n",
       "      <th>3</th>\n",
       "      <td>Cell</td>\n",
       "      <td>10882</td>\n",
       "    </tr>\n",
       "    <tr>\n",
       "      <th>4</th>\n",
       "      <td>of</td>\n",
       "      <td>9919</td>\n",
       "    </tr>\n",
       "  </tbody>\n",
       "</table>\n",
       "</div>"
      ],
      "text/plain": [
       "  condition  count\n",
       "0    Cancer  31800\n",
       "1   Disease  16994\n",
       "2     Stage  11275\n",
       "3      Cell  10882\n",
       "4        of   9919"
      ]
     },
     "execution_count": 60,
     "metadata": {},
     "output_type": "execute_result"
    }
   ],
   "source": [
    "top_1000.head()"
   ]
  },
  {
   "cell_type": "code",
   "execution_count": 61,
   "metadata": {
    "collapsed": false
   },
   "outputs": [],
   "source": [
    "skipwords = ['Disease', 'Diseases', 'Stage', 'Cell', 'Of', 'of', 'in', \n",
    "             'and', 'Type', 'Acute', 'Healthy', 'Disorder', 'Disorders', 'Near', 'Time',\n",
    "            '&', 'Multiple', 'with', '2', 'the', 'With', 'IV', 'III', '1']\n"
   ]
  },
  {
   "cell_type": "code",
   "execution_count": 62,
   "metadata": {
    "collapsed": false
   },
   "outputs": [],
   "source": [
    "top_1000['drop_these'] = [True if x in skipwords else False for x in top_1000['condition'] ]"
   ]
  },
  {
   "cell_type": "code",
   "execution_count": 63,
   "metadata": {
    "collapsed": false
   },
   "outputs": [
    {
     "data": {
      "text/html": [
       "<div>\n",
       "<table border=\"1\" class=\"dataframe\">\n",
       "  <thead>\n",
       "    <tr style=\"text-align: right;\">\n",
       "      <th></th>\n",
       "      <th>condition</th>\n",
       "      <th>count</th>\n",
       "      <th>drop_these</th>\n",
       "    </tr>\n",
       "  </thead>\n",
       "  <tbody>\n",
       "    <tr>\n",
       "      <th>0</th>\n",
       "      <td>Cancer</td>\n",
       "      <td>31800</td>\n",
       "      <td>False</td>\n",
       "    </tr>\n",
       "    <tr>\n",
       "      <th>1</th>\n",
       "      <td>Disease</td>\n",
       "      <td>16994</td>\n",
       "      <td>True</td>\n",
       "    </tr>\n",
       "    <tr>\n",
       "      <th>2</th>\n",
       "      <td>Stage</td>\n",
       "      <td>11275</td>\n",
       "      <td>True</td>\n",
       "    </tr>\n",
       "    <tr>\n",
       "      <th>3</th>\n",
       "      <td>Cell</td>\n",
       "      <td>10882</td>\n",
       "      <td>True</td>\n",
       "    </tr>\n",
       "    <tr>\n",
       "      <th>4</th>\n",
       "      <td>of</td>\n",
       "      <td>9919</td>\n",
       "      <td>True</td>\n",
       "    </tr>\n",
       "  </tbody>\n",
       "</table>\n",
       "</div>"
      ],
      "text/plain": [
       "  condition  count drop_these\n",
       "0    Cancer  31800      False\n",
       "1   Disease  16994       True\n",
       "2     Stage  11275       True\n",
       "3      Cell  10882       True\n",
       "4        of   9919       True"
      ]
     },
     "execution_count": 63,
     "metadata": {},
     "output_type": "execute_result"
    }
   ],
   "source": [
    "top_1000.head()"
   ]
  },
  {
   "cell_type": "code",
   "execution_count": 64,
   "metadata": {
    "collapsed": false
   },
   "outputs": [
    {
     "data": {
      "text/html": [
       "<div>\n",
       "<table border=\"1\" class=\"dataframe\">\n",
       "  <thead>\n",
       "    <tr style=\"text-align: right;\">\n",
       "      <th></th>\n",
       "      <th>condition</th>\n",
       "      <th>count</th>\n",
       "      <th>drop_these</th>\n",
       "    </tr>\n",
       "  </thead>\n",
       "  <tbody>\n",
       "    <tr>\n",
       "      <th>0</th>\n",
       "      <td>Cancer</td>\n",
       "      <td>31800</td>\n",
       "      <td>False</td>\n",
       "    </tr>\n",
       "    <tr>\n",
       "      <th>1</th>\n",
       "      <td>Lymphoma</td>\n",
       "      <td>9679</td>\n",
       "      <td>False</td>\n",
       "    </tr>\n",
       "    <tr>\n",
       "      <th>2</th>\n",
       "      <td>Chronic</td>\n",
       "      <td>9521</td>\n",
       "      <td>False</td>\n",
       "    </tr>\n",
       "    <tr>\n",
       "      <th>3</th>\n",
       "      <td>Diabetes</td>\n",
       "      <td>9429</td>\n",
       "      <td>False</td>\n",
       "    </tr>\n",
       "    <tr>\n",
       "      <th>4</th>\n",
       "      <td>Breast</td>\n",
       "      <td>8071</td>\n",
       "      <td>False</td>\n",
       "    </tr>\n",
       "  </tbody>\n",
       "</table>\n",
       "</div>"
      ],
      "text/plain": [
       "  condition  count drop_these\n",
       "0    Cancer  31800      False\n",
       "1  Lymphoma   9679      False\n",
       "2   Chronic   9521      False\n",
       "3  Diabetes   9429      False\n",
       "4    Breast   8071      False"
      ]
     },
     "execution_count": 64,
     "metadata": {},
     "output_type": "execute_result"
    }
   ],
   "source": [
    "top_cleaned = top_1000[top_1000['drop_these']==False]\n",
    "top_cleaned.reset_index(drop=True).head()"
   ]
  },
  {
   "cell_type": "code",
   "execution_count": 65,
   "metadata": {
    "collapsed": false
   },
   "outputs": [
    {
     "data": {
      "text/plain": [
       "[None,\n",
       " None,\n",
       " None,\n",
       " None,\n",
       " None,\n",
       " None,\n",
       " None,\n",
       " None,\n",
       " None,\n",
       " None,\n",
       " None,\n",
       " None,\n",
       " None,\n",
       " None,\n",
       " None,\n",
       " None,\n",
       " None,\n",
       " None,\n",
       " None,\n",
       " None,\n",
       " None,\n",
       " None,\n",
       " None,\n",
       " None,\n",
       " None,\n",
       " None,\n",
       " None,\n",
       " None,\n",
       " None,\n",
       " None,\n",
       " None,\n",
       " None,\n",
       " None,\n",
       " None,\n",
       " None,\n",
       " None,\n",
       " None,\n",
       " None,\n",
       " None,\n",
       " None,\n",
       " None,\n",
       " None,\n",
       " None,\n",
       " None,\n",
       " None,\n",
       " None,\n",
       " None,\n",
       " None,\n",
       " None,\n",
       " None]"
      ]
     },
     "execution_count": 65,
     "metadata": {},
     "output_type": "execute_result"
    },
    {
     "data": {
      "image/png": "[encoded data removed]",
      "text/plain": [
       "<matplotlib.figure.Figure at 0x1125a2630>"
      ]
     },
     "metadata": {},
     "output_type": "display_data"
    }
   ],
   "source": [
    "sns.set_context(\"talk\")\n",
    "sns.barplot(top_cleaned['condition'][0:50], top_cleaned['count'][0:50])\n",
    "locs, labels = plt.xticks()\n",
    "plt.setp(labels, rotation=90)"
   ]
  },
  {
   "cell_type": "code",
   "execution_count": 66,
   "metadata": {
    "collapsed": true
   },
   "outputs": [],
   "source": [
    "# would like to compare numbers of trials vs. population incidence of cancer vs. depression, Arthritis, Stroke, \n",
    "# asthma, Hypertension, childhood vs. adult cancers"
   ]
  },
  {
   "cell_type": "code",
   "execution_count": 67,
   "metadata": {
    "collapsed": true
   },
   "outputs": [],
   "source": [
    "#http://www.cdc.gov/nchs/fastats/cancer.htm 8.5% of adults who have ever been diagnosed with cancer"
   ]
  },
  {
   "cell_type": "code",
   "execution_count": 68,
   "metadata": {
    "collapsed": false
   },
   "outputs": [
    {
     "data": {
      "text/html": [
       "<div>\n",
       "<table border=\"1\" class=\"dataframe\">\n",
       "  <thead>\n",
       "    <tr style=\"text-align: right;\">\n",
       "      <th></th>\n",
       "      <th>condition</th>\n",
       "      <th>count</th>\n",
       "      <th>drop_these</th>\n",
       "    </tr>\n",
       "  </thead>\n",
       "  <tbody>\n",
       "    <tr>\n",
       "      <th>0</th>\n",
       "      <td>Cancer</td>\n",
       "      <td>31800</td>\n",
       "      <td>False</td>\n",
       "    </tr>\n",
       "  </tbody>\n",
       "</table>\n",
       "</div>"
      ],
      "text/plain": [
       "  condition  count drop_these\n",
       "0    Cancer  31800      False"
      ]
     },
     "execution_count": 68,
     "metadata": {},
     "output_type": "execute_result"
    }
   ],
   "source": [
    "top_cleaned[top_cleaned['condition']=='Cancer']"
   ]
  },
  {
   "cell_type": "code",
   "execution_count": 69,
   "metadata": {
    "collapsed": false
   },
   "outputs": [
    {
     "data": {
      "text/plain": [
       "0.0934329559777994"
      ]
     },
     "execution_count": 69,
     "metadata": {},
     "output_type": "execute_result"
    }
   ],
   "source": [
    "31800/340351"
   ]
  },
  {
   "cell_type": "code",
   "execution_count": 70,
   "metadata": {
    "collapsed": false
   },
   "outputs": [
    {
     "data": {
      "text/html": [
       "<div>\n",
       "<table border=\"1\" class=\"dataframe\">\n",
       "  <thead>\n",
       "    <tr style=\"text-align: right;\">\n",
       "      <th></th>\n",
       "      <th>condition</th>\n",
       "      <th>count</th>\n",
       "      <th>drop_these</th>\n",
       "    </tr>\n",
       "  </thead>\n",
       "  <tbody>\n",
       "    <tr>\n",
       "      <th>23</th>\n",
       "      <td>Heart</td>\n",
       "      <td>4886</td>\n",
       "      <td>False</td>\n",
       "    </tr>\n",
       "  </tbody>\n",
       "</table>\n",
       "</div>"
      ],
      "text/plain": [
       "   condition  count drop_these\n",
       "23     Heart   4886      False"
      ]
     },
     "execution_count": 70,
     "metadata": {},
     "output_type": "execute_result"
    }
   ],
   "source": [
    "#heart disease is actually the leading cause of death (cancer is #2), but not by much http://www.cdc.gov/nchs/fastats/deaths.htm\n",
    "top_cleaned[top_cleaned['condition']=='Heart']"
   ]
  },
  {
   "cell_type": "code",
   "execution_count": 71,
   "metadata": {
    "collapsed": false
   },
   "outputs": [
    {
     "data": {
      "text/plain": [
       "0.014355768015959993"
      ]
     },
     "execution_count": 71,
     "metadata": {},
     "output_type": "execute_result"
    }
   ],
   "source": [
    "4886/340351"
   ]
  },
  {
   "cell_type": "code",
   "execution_count": 116,
   "metadata": {
    "collapsed": false
   },
   "outputs": [
    {
     "data": {
      "text/html": [
       "<div>\n",
       "<table border=\"1\" class=\"dataframe\">\n",
       "  <thead>\n",
       "    <tr style=\"text-align: right;\">\n",
       "      <th></th>\n",
       "      <th>condition</th>\n",
       "      <th>count</th>\n",
       "      <th>drop_these</th>\n",
       "    </tr>\n",
       "  </thead>\n",
       "  <tbody>\n",
       "    <tr>\n",
       "      <th>67</th>\n",
       "      <td>Stroke</td>\n",
       "      <td>2080</td>\n",
       "      <td>False</td>\n",
       "    </tr>\n",
       "  </tbody>\n",
       "</table>\n",
       "</div>"
      ],
      "text/plain": [
       "   condition  count drop_these\n",
       "67    Stroke   2080      False"
      ]
     },
     "execution_count": 116,
     "metadata": {},
     "output_type": "execute_result"
    }
   ],
   "source": [
    "#stroke is #4-5 top killer http://www.cdc.gov/nchs/fastats/stroke.htm 2.6%\n",
    "top_cleaned[top_cleaned['condition']=='Stroke']"
   ]
  },
  {
   "cell_type": "code",
   "execution_count": 117,
   "metadata": {
    "collapsed": false
   },
   "outputs": [
    {
     "data": {
      "text/plain": [
       "0.0061113380010636075"
      ]
     },
     "execution_count": 117,
     "metadata": {},
     "output_type": "execute_result"
    }
   ],
   "source": [
    "2080/340351"
   ]
  },
  {
   "cell_type": "code",
   "execution_count": 72,
   "metadata": {
    "collapsed": false
   },
   "outputs": [
    {
     "data": {
      "text/html": [
       "<div>\n",
       "<table border=\"1\" class=\"dataframe\">\n",
       "  <thead>\n",
       "    <tr style=\"text-align: right;\">\n",
       "      <th></th>\n",
       "      <th>condition</th>\n",
       "      <th>count</th>\n",
       "      <th>drop_these</th>\n",
       "    </tr>\n",
       "  </thead>\n",
       "  <tbody>\n",
       "    <tr>\n",
       "      <th>7</th>\n",
       "      <td>Diabetes</td>\n",
       "      <td>9429</td>\n",
       "      <td>False</td>\n",
       "    </tr>\n",
       "  </tbody>\n",
       "</table>\n",
       "</div>"
      ],
      "text/plain": [
       "  condition  count drop_these\n",
       "7  Diabetes   9429      False"
      ]
     },
     "execution_count": 72,
     "metadata": {},
     "output_type": "execute_result"
    }
   ],
   "source": [
    "#diabetes http://www.cdc.gov/diabetes/statistics/prev/national/figageadult.htm\n",
    "top_cleaned[top_cleaned['condition']=='Diabetes']"
   ]
  },
  {
   "cell_type": "code",
   "execution_count": 105,
   "metadata": {
    "collapsed": false
   },
   "outputs": [
    {
     "data": {
      "text/plain": [
       "0.02770375289039844"
      ]
     },
     "execution_count": 105,
     "metadata": {},
     "output_type": "execute_result"
    }
   ],
   "source": [
    "9429/340351"
   ]
  },
  {
   "cell_type": "code",
   "execution_count": 106,
   "metadata": {
    "collapsed": true
   },
   "outputs": [],
   "source": [
    "#alzheimer's ~5.4M, total US population: 323,952,889"
   ]
  },
  {
   "cell_type": "code",
   "execution_count": 107,
   "metadata": {
    "collapsed": false
   },
   "outputs": [
    {
     "data": {
      "text/plain": [
       "0.016669090424441313"
      ]
     },
     "execution_count": 107,
     "metadata": {},
     "output_type": "execute_result"
    }
   ],
   "source": [
    "5400000/323952889"
   ]
  },
  {
   "cell_type": "code",
   "execution_count": 108,
   "metadata": {
    "collapsed": false
   },
   "outputs": [
    {
     "data": {
      "text/html": [
       "<div>\n",
       "<table border=\"1\" class=\"dataframe\">\n",
       "  <thead>\n",
       "    <tr style=\"text-align: right;\">\n",
       "      <th></th>\n",
       "      <th>condition</th>\n",
       "      <th>count</th>\n",
       "      <th>drop_these</th>\n",
       "    </tr>\n",
       "  </thead>\n",
       "  <tbody>\n",
       "    <tr>\n",
       "      <th>157</th>\n",
       "      <td>Alzheimer's</td>\n",
       "      <td>899</td>\n",
       "      <td>False</td>\n",
       "    </tr>\n",
       "  </tbody>\n",
       "</table>\n",
       "</div>"
      ],
      "text/plain": [
       "       condition  count drop_these\n",
       "157  Alzheimer's    899      False"
      ]
     },
     "execution_count": 108,
     "metadata": {},
     "output_type": "execute_result"
    }
   ],
   "source": [
    "top_cleaned[top_cleaned['condition']==\"Alzheimer's\"]"
   ]
  },
  {
   "cell_type": "code",
   "execution_count": 110,
   "metadata": {
    "collapsed": false
   },
   "outputs": [
    {
     "data": {
      "text/plain": [
       "0.002612009366800744"
      ]
     },
     "execution_count": 110,
     "metadata": {},
     "output_type": "execute_result"
    }
   ],
   "source": [
    "889/340351"
   ]
  },
  {
   "cell_type": "code",
   "execution_count": 111,
   "metadata": {
    "collapsed": false
   },
   "outputs": [
    {
     "data": {
      "text/plain": [
       "0.0018521211582712572"
      ]
     },
     "execution_count": 111,
     "metadata": {},
     "output_type": "execute_result"
    }
   ],
   "source": [
    "#kidney failure ~ 600k\n",
    "600000/323952889"
   ]
  },
  {
   "cell_type": "code",
   "execution_count": 114,
   "metadata": {
    "collapsed": false
   },
   "outputs": [
    {
     "data": {
      "text/html": [
       "<div>\n",
       "<table border=\"1\" class=\"dataframe\">\n",
       "  <thead>\n",
       "    <tr style=\"text-align: right;\">\n",
       "      <th></th>\n",
       "      <th>condition</th>\n",
       "      <th>count</th>\n",
       "      <th>drop_these</th>\n",
       "    </tr>\n",
       "  </thead>\n",
       "  <tbody>\n",
       "    <tr>\n",
       "      <th>38</th>\n",
       "      <td>Renal</td>\n",
       "      <td>3167</td>\n",
       "      <td>False</td>\n",
       "    </tr>\n",
       "  </tbody>\n",
       "</table>\n",
       "</div>"
      ],
      "text/plain": [
       "   condition  count drop_these\n",
       "38     Renal   3167      False"
      ]
     },
     "execution_count": 114,
     "metadata": {},
     "output_type": "execute_result"
    }
   ],
   "source": [
    "top_cleaned[top_cleaned['condition']=='Renal']"
   ]
  },
  {
   "cell_type": "code",
   "execution_count": 115,
   "metadata": {
    "collapsed": false
   },
   "outputs": [
    {
     "data": {
      "text/plain": [
       "0.009305099735273291"
      ]
     },
     "execution_count": 115,
     "metadata": {},
     "output_type": "execute_result"
    }
   ],
   "source": [
    "3167/340351"
   ]
  },
  {
   "cell_type": "code",
   "execution_count": 73,
   "metadata": {
    "collapsed": true
   },
   "outputs": [],
   "source": [
    "#asthma prevalence is low, e.g. average these: http://www.cdc.gov/asthma/asthmadata.htm"
   ]
  },
  {
   "cell_type": "code",
   "execution_count": 74,
   "metadata": {
    "collapsed": false
   },
   "outputs": [
    {
     "data": {
      "text/plain": [
       "8.0"
      ]
     },
     "execution_count": 74,
     "metadata": {},
     "output_type": "execute_result"
    }
   ],
   "source": [
    "age_pct = (8.6 + 7.4)/2 #lazy way to do this\n",
    "age_pct"
   ]
  },
  {
   "cell_type": "code",
   "execution_count": 75,
   "metadata": {
    "collapsed": false
   },
   "outputs": [
    {
     "data": {
      "text/plain": [
       "7.65"
      ]
     },
     "execution_count": 75,
     "metadata": {},
     "output_type": "execute_result"
    }
   ],
   "source": [
    "sex_pct = (6.3 + 9)/2\n",
    "sex_pct"
   ]
  },
  {
   "cell_type": "code",
   "execution_count": 76,
   "metadata": {
    "collapsed": false
   },
   "outputs": [
    {
     "data": {
      "text/plain": [
       "8.066666666666666"
      ]
     },
     "execution_count": 76,
     "metadata": {},
     "output_type": "execute_result"
    }
   ],
   "source": [
    "race_pct = (7.6 + 9.9 + 6.7)/3\n",
    "race_pct"
   ]
  },
  {
   "cell_type": "code",
   "execution_count": 77,
   "metadata": {
    "collapsed": false
   },
   "outputs": [
    {
     "data": {
      "text/plain": [
       "(340351, 4)"
      ]
     },
     "execution_count": 77,
     "metadata": {},
     "output_type": "execute_result"
    }
   ],
   "source": [
    "#% of total trials that have asthma listed in the conditions:\n",
    "conditions.shape"
   ]
  },
  {
   "cell_type": "code",
   "execution_count": 118,
   "metadata": {
    "collapsed": false
   },
   "outputs": [
    {
     "data": {
      "text/html": [
       "<div>\n",
       "<table border=\"1\" class=\"dataframe\">\n",
       "  <thead>\n",
       "    <tr style=\"text-align: right;\">\n",
       "      <th></th>\n",
       "      <th>condition</th>\n",
       "      <th>count</th>\n",
       "      <th>drop_these</th>\n",
       "    </tr>\n",
       "  </thead>\n",
       "  <tbody>\n",
       "    <tr>\n",
       "      <th>522</th>\n",
       "      <td>Alcoholism</td>\n",
       "      <td>249</td>\n",
       "      <td>False</td>\n",
       "    </tr>\n",
       "  </tbody>\n",
       "</table>\n",
       "</div>"
      ],
      "text/plain": [
       "      condition  count drop_these\n",
       "522  Alcoholism    249      False"
      ]
     },
     "execution_count": 118,
     "metadata": {},
     "output_type": "execute_result"
    }
   ],
   "source": [
    "top_cleaned[top_cleaned['condition']=='Alcoholism']"
   ]
  },
  {
   "cell_type": "code",
   "execution_count": 120,
   "metadata": {
    "collapsed": false
   },
   "outputs": [
    {
     "data": {
      "text/html": [
       "<div>\n",
       "<table border=\"1\" class=\"dataframe\">\n",
       "  <thead>\n",
       "    <tr style=\"text-align: right;\">\n",
       "      <th></th>\n",
       "      <th>condition</th>\n",
       "      <th>count</th>\n",
       "      <th>drop_these</th>\n",
       "    </tr>\n",
       "  </thead>\n",
       "  <tbody>\n",
       "    <tr>\n",
       "      <th>595</th>\n",
       "      <td>Addiction</td>\n",
       "      <td>211</td>\n",
       "      <td>False</td>\n",
       "    </tr>\n",
       "  </tbody>\n",
       "</table>\n",
       "</div>"
      ],
      "text/plain": [
       "     condition  count drop_these\n",
       "595  Addiction    211      False"
      ]
     },
     "execution_count": 120,
     "metadata": {},
     "output_type": "execute_result"
    }
   ],
   "source": [
    "top_cleaned[top_cleaned['condition']=='Addiction']"
   ]
  },
  {
   "cell_type": "code",
   "execution_count": 121,
   "metadata": {
    "collapsed": false
   },
   "outputs": [
    {
     "data": {
      "text/html": [
       "<div>\n",
       "<table border=\"1\" class=\"dataframe\">\n",
       "  <thead>\n",
       "    <tr style=\"text-align: right;\">\n",
       "      <th></th>\n",
       "      <th>condition</th>\n",
       "      <th>count</th>\n",
       "      <th>drop_these</th>\n",
       "    </tr>\n",
       "  </thead>\n",
       "  <tbody>\n",
       "    <tr>\n",
       "      <th>255</th>\n",
       "      <td>COPD</td>\n",
       "      <td>568</td>\n",
       "      <td>False</td>\n",
       "    </tr>\n",
       "  </tbody>\n",
       "</table>\n",
       "</div>"
      ],
      "text/plain": [
       "    condition  count drop_these\n",
       "255      COPD    568      False"
      ]
     },
     "execution_count": 121,
     "metadata": {},
     "output_type": "execute_result"
    }
   ],
   "source": [
    "top_cleaned[top_cleaned['condition']=='COPD']"
   ]
  },
  {
   "cell_type": "code",
   "execution_count": 122,
   "metadata": {
    "collapsed": false
   },
   "outputs": [
    {
     "data": {
      "text/plain": [
       "0.0016688653772135237"
      ]
     },
     "execution_count": 122,
     "metadata": {},
     "output_type": "execute_result"
    }
   ],
   "source": [
    "568/340351"
   ]
  },
  {
   "cell_type": "code",
   "execution_count": 123,
   "metadata": {
    "collapsed": false
   },
   "outputs": [
    {
     "data": {
      "text/html": [
       "<div>\n",
       "<table border=\"1\" class=\"dataframe\">\n",
       "  <thead>\n",
       "    <tr style=\"text-align: right;\">\n",
       "      <th></th>\n",
       "      <th>condition</th>\n",
       "      <th>count</th>\n",
       "      <th>drop_these</th>\n",
       "    </tr>\n",
       "  </thead>\n",
       "  <tbody>\n",
       "    <tr>\n",
       "      <th>315</th>\n",
       "      <td>Insomnia</td>\n",
       "      <td>448</td>\n",
       "      <td>False</td>\n",
       "    </tr>\n",
       "  </tbody>\n",
       "</table>\n",
       "</div>"
      ],
      "text/plain": [
       "    condition  count drop_these\n",
       "315  Insomnia    448      False"
      ]
     },
     "execution_count": 123,
     "metadata": {},
     "output_type": "execute_result"
    }
   ],
   "source": [
    "top_cleaned[top_cleaned['condition']=='Insomnia']"
   ]
  },
  {
   "cell_type": "code",
   "execution_count": 125,
   "metadata": {
    "collapsed": false
   },
   "outputs": [
    {
     "data": {
      "text/html": [
       "<div>\n",
       "<table border=\"1\" class=\"dataframe\">\n",
       "  <thead>\n",
       "    <tr style=\"text-align: right;\">\n",
       "      <th></th>\n",
       "      <th>condition</th>\n",
       "      <th>count</th>\n",
       "      <th>drop_these</th>\n",
       "    </tr>\n",
       "  </thead>\n",
       "  <tbody>\n",
       "    <tr>\n",
       "      <th>369</th>\n",
       "      <td>Acne</td>\n",
       "      <td>381</td>\n",
       "      <td>False</td>\n",
       "    </tr>\n",
       "  </tbody>\n",
       "</table>\n",
       "</div>"
      ],
      "text/plain": [
       "    condition  count drop_these\n",
       "369      Acne    381      False"
      ]
     },
     "execution_count": 125,
     "metadata": {},
     "output_type": "execute_result"
    }
   ],
   "source": [
    "top_cleaned[top_cleaned['condition']=='Acne']"
   ]
  },
  {
   "cell_type": "code",
   "execution_count": 78,
   "metadata": {
    "collapsed": false
   },
   "outputs": [
    {
     "data": {
      "text/html": [
       "<div>\n",
       "<table border=\"1\" class=\"dataframe\">\n",
       "  <thead>\n",
       "    <tr style=\"text-align: right;\">\n",
       "      <th></th>\n",
       "      <th>condition</th>\n",
       "      <th>count</th>\n",
       "      <th>drop_these</th>\n",
       "    </tr>\n",
       "  </thead>\n",
       "  <tbody>\n",
       "    <tr>\n",
       "      <th>48</th>\n",
       "      <td>Asthma</td>\n",
       "      <td>2590</td>\n",
       "      <td>False</td>\n",
       "    </tr>\n",
       "  </tbody>\n",
       "</table>\n",
       "</div>"
      ],
      "text/plain": [
       "   condition  count drop_these\n",
       "48    Asthma   2590      False"
      ]
     },
     "execution_count": 78,
     "metadata": {},
     "output_type": "execute_result"
    }
   ],
   "source": [
    "top_cleaned[top_cleaned['condition']=='Asthma']"
   ]
  },
  {
   "cell_type": "code",
   "execution_count": 79,
   "metadata": {
    "collapsed": false
   },
   "outputs": [
    {
     "data": {
      "text/plain": [
       "0.007609791068632089"
      ]
     },
     "execution_count": 79,
     "metadata": {},
     "output_type": "execute_result"
    }
   ],
   "source": [
    "freq = 2590/340351\n",
    "freq"
   ]
  },
  {
   "cell_type": "code",
   "execution_count": 80,
   "metadata": {
    "collapsed": false
   },
   "outputs": [
    {
     "data": {
      "text/html": [
       "<div>\n",
       "<table border=\"1\" class=\"dataframe\">\n",
       "  <thead>\n",
       "    <tr style=\"text-align: right;\">\n",
       "      <th></th>\n",
       "      <th>condition</th>\n",
       "      <th>count</th>\n",
       "      <th>drop_these</th>\n",
       "    </tr>\n",
       "  </thead>\n",
       "  <tbody>\n",
       "    <tr>\n",
       "      <th>62</th>\n",
       "      <td>Arthritis</td>\n",
       "      <td>2132</td>\n",
       "      <td>False</td>\n",
       "    </tr>\n",
       "  </tbody>\n",
       "</table>\n",
       "</div>"
      ],
      "text/plain": [
       "    condition  count drop_these\n",
       "62  Arthritis   2132      False"
      ]
     },
     "execution_count": 80,
     "metadata": {},
     "output_type": "execute_result"
    }
   ],
   "source": [
    "#arthritis: http://www.cdc.gov/arthritis/data_statistics/index.htm 22.7% of adults\n",
    "top_cleaned[top_cleaned['condition']=='Arthritis']"
   ]
  },
  {
   "cell_type": "code",
   "execution_count": 81,
   "metadata": {
    "collapsed": false
   },
   "outputs": [
    {
     "data": {
      "text/plain": [
       "0.006264121451090198"
      ]
     },
     "execution_count": 81,
     "metadata": {},
     "output_type": "execute_result"
    }
   ],
   "source": [
    "freq = 2132/340351\n",
    "freq"
   ]
  },
  {
   "cell_type": "code",
   "execution_count": 82,
   "metadata": {
    "collapsed": false
   },
   "outputs": [
    {
     "data": {
      "text/html": [
       "<div>\n",
       "<table border=\"1\" class=\"dataframe\">\n",
       "  <thead>\n",
       "    <tr style=\"text-align: right;\">\n",
       "      <th></th>\n",
       "      <th>condition</th>\n",
       "      <th>count</th>\n",
       "      <th>drop_these</th>\n",
       "    </tr>\n",
       "  </thead>\n",
       "  <tbody>\n",
       "    <tr>\n",
       "      <th>53</th>\n",
       "      <td>Depression</td>\n",
       "      <td>2452</td>\n",
       "      <td>False</td>\n",
       "    </tr>\n",
       "  </tbody>\n",
       "</table>\n",
       "</div>"
      ],
      "text/plain": [
       "     condition  count drop_these\n",
       "53  Depression   2452      False"
      ]
     },
     "execution_count": 82,
     "metadata": {},
     "output_type": "execute_result"
    }
   ],
   "source": [
    "#depression: http://www.cdc.gov/nchs/fastats/depression.htm morbidity 7.6% of 12 years or older\n",
    "top_cleaned[top_cleaned['condition']=='Depression']"
   ]
  },
  {
   "cell_type": "code",
   "execution_count": 83,
   "metadata": {
    "collapsed": false
   },
   "outputs": [
    {
     "data": {
      "text/plain": [
       "0.0072043272974076766"
      ]
     },
     "execution_count": 83,
     "metadata": {},
     "output_type": "execute_result"
    }
   ],
   "source": [
    "freq = 2452/340351\n",
    "freq"
   ]
  },
  {
   "cell_type": "code",
   "execution_count": 84,
   "metadata": {
    "collapsed": false
   },
   "outputs": [
    {
     "data": {
      "text/html": [
       "<div>\n",
       "<table border=\"1\" class=\"dataframe\">\n",
       "  <thead>\n",
       "    <tr style=\"text-align: right;\">\n",
       "      <th></th>\n",
       "      <th>condition</th>\n",
       "      <th>count</th>\n",
       "      <th>drop_these</th>\n",
       "    </tr>\n",
       "  </thead>\n",
       "  <tbody>\n",
       "    <tr>\n",
       "      <th>29</th>\n",
       "      <td>Hypertension</td>\n",
       "      <td>3932</td>\n",
       "      <td>False</td>\n",
       "    </tr>\n",
       "  </tbody>\n",
       "</table>\n",
       "</div>"
      ],
      "text/plain": [
       "       condition  count drop_these\n",
       "29  Hypertension   3932      False"
      ]
     },
     "execution_count": 84,
     "metadata": {},
     "output_type": "execute_result"
    }
   ],
   "source": [
    "#hypertension: http://www.cdc.gov/nchs/fastats/hypertension.htm 33.5%\n",
    "top_cleaned[top_cleaned['condition']=='Hypertension']"
   ]
  },
  {
   "cell_type": "code",
   "execution_count": 85,
   "metadata": {
    "collapsed": false
   },
   "outputs": [
    {
     "data": {
      "text/plain": [
       "0.11547384805145224"
      ]
     },
     "execution_count": 85,
     "metadata": {},
     "output_type": "execute_result"
    }
   ],
   "source": [
    "freq = 3932/34051\n",
    "freq"
   ]
  },
  {
   "cell_type": "code",
   "execution_count": 86,
   "metadata": {
    "collapsed": false
   },
   "outputs": [
    {
     "data": {
      "text/html": [
       "<div>\n",
       "<table border=\"1\" class=\"dataframe\">\n",
       "  <thead>\n",
       "    <tr style=\"text-align: right;\">\n",
       "      <th></th>\n",
       "      <th>condition</th>\n",
       "      <th>count</th>\n",
       "      <th>drop_these</th>\n",
       "    </tr>\n",
       "  </thead>\n",
       "  <tbody>\n",
       "    <tr>\n",
       "      <th>28</th>\n",
       "      <td>Obesity</td>\n",
       "      <td>4126</td>\n",
       "      <td>False</td>\n",
       "    </tr>\n",
       "  </tbody>\n",
       "</table>\n",
       "</div>"
      ],
      "text/plain": [
       "   condition  count drop_these\n",
       "28   Obesity   4126      False"
      ]
     },
     "execution_count": 86,
     "metadata": {},
     "output_type": "execute_result"
    }
   ],
   "source": [
    "#obesity: http://www.cdc.gov/nchs/fastats/obesity-overweight.htm 37.9%\n",
    "top_cleaned[top_cleaned['condition']=='Obesity']"
   ]
  },
  {
   "cell_type": "code",
   "execution_count": 87,
   "metadata": {
    "collapsed": false
   },
   "outputs": [
    {
     "data": {
      "text/plain": [
       "0.12117118439987078"
      ]
     },
     "execution_count": 87,
     "metadata": {},
     "output_type": "execute_result"
    }
   ],
   "source": [
    "freq = 4126/34051\n",
    "freq"
   ]
  },
  {
   "cell_type": "code",
   "execution_count": 88,
   "metadata": {
    "collapsed": false
   },
   "outputs": [
    {
     "data": {
      "text/html": [
       "<div>\n",
       "<table border=\"1\" class=\"dataframe\">\n",
       "  <thead>\n",
       "    <tr style=\"text-align: right;\">\n",
       "      <th></th>\n",
       "      <th>DESIGN_ID</th>\n",
       "      <th>NCT_ID</th>\n",
       "      <th>DESIGN_NAME</th>\n",
       "      <th>DESIGN_VALUE</th>\n",
       "      <th>MASKED_ROLE</th>\n",
       "    </tr>\n",
       "  </thead>\n",
       "  <tbody>\n",
       "    <tr>\n",
       "      <th>0</th>\n",
       "      <td>234</td>\n",
       "      <td>NCT00000194</td>\n",
       "      <td>Masking</td>\n",
       "      <td>Double-Blind</td>\n",
       "      <td>NaN</td>\n",
       "    </tr>\n",
       "    <tr>\n",
       "      <th>1</th>\n",
       "      <td>235</td>\n",
       "      <td>NCT00000194</td>\n",
       "      <td>Primary Purpose</td>\n",
       "      <td>Treatment</td>\n",
       "      <td>NaN</td>\n",
       "    </tr>\n",
       "    <tr>\n",
       "      <th>2</th>\n",
       "      <td>236</td>\n",
       "      <td>NCT00000195</td>\n",
       "      <td>Intervention Model</td>\n",
       "      <td>Crossover Assignment</td>\n",
       "      <td>NaN</td>\n",
       "    </tr>\n",
       "    <tr>\n",
       "      <th>3</th>\n",
       "      <td>237</td>\n",
       "      <td>NCT00000195</td>\n",
       "      <td>Masking</td>\n",
       "      <td>Double-Blind</td>\n",
       "      <td>NaN</td>\n",
       "    </tr>\n",
       "    <tr>\n",
       "      <th>4</th>\n",
       "      <td>238</td>\n",
       "      <td>NCT00000195</td>\n",
       "      <td>Primary Purpose</td>\n",
       "      <td>Treatment</td>\n",
       "      <td>NaN</td>\n",
       "    </tr>\n",
       "  </tbody>\n",
       "</table>\n",
       "</div>"
      ],
      "text/plain": [
       "   DESIGN_ID       NCT_ID         DESIGN_NAME          DESIGN_VALUE  \\\n",
       "0        234  NCT00000194             Masking          Double-Blind   \n",
       "1        235  NCT00000194     Primary Purpose             Treatment   \n",
       "2        236  NCT00000195  Intervention Model  Crossover Assignment   \n",
       "3        237  NCT00000195             Masking          Double-Blind   \n",
       "4        238  NCT00000195     Primary Purpose             Treatment   \n",
       "\n",
       "  MASKED_ROLE  \n",
       "0         NaN  \n",
       "1         NaN  \n",
       "2         NaN  \n",
       "3         NaN  \n",
       "4         NaN  "
      ]
     },
     "execution_count": 88,
     "metadata": {},
     "output_type": "execute_result"
    }
   ],
   "source": [
    "designs = pd.read_csv('designs.txt', sep='|')\n",
    "designs.head()"
   ]
  },
  {
   "cell_type": "code",
   "execution_count": 295,
   "metadata": {
    "collapsed": false
   },
   "outputs": [
    {
     "data": {
      "text/plain": [
       "(826832, 5)"
      ]
     },
     "execution_count": 295,
     "metadata": {},
     "output_type": "execute_result"
    }
   ],
   "source": [
    "designs.shape"
   ]
  },
  {
   "cell_type": "code",
   "execution_count": 298,
   "metadata": {
    "collapsed": false
   },
   "outputs": [
    {
     "data": {
      "text/plain": [
       "(117942, 5)"
      ]
     },
     "execution_count": 298,
     "metadata": {},
     "output_type": "execute_result"
    }
   ],
   "source": [
    "designs[designs['DESIGN_VALUE']=='Treatment'].shape"
   ]
  },
  {
   "cell_type": "code",
   "execution_count": 310,
   "metadata": {
    "collapsed": false
   },
   "outputs": [
    {
     "data": {
      "text/plain": [
       "(50650, 5)"
      ]
     },
     "execution_count": 310,
     "metadata": {},
     "output_type": "execute_result"
    }
   ],
   "source": [
    "designs[designs['DESIGN_VALUE']=='Efficacy Study'].shape"
   ]
  },
  {
   "cell_type": "code",
   "execution_count": 312,
   "metadata": {
    "collapsed": false
   },
   "outputs": [
    {
     "data": {
      "text/plain": [
       "(369, 5)"
      ]
     },
     "execution_count": 312,
     "metadata": {},
     "output_type": "execute_result"
    }
   ],
   "source": [
    "designs[designs['DESIGN_VALUE']=='Case-Crossover'].shape"
   ]
  },
  {
   "cell_type": "code",
   "execution_count": 313,
   "metadata": {
    "collapsed": false
   },
   "outputs": [
    {
     "data": {
      "text/plain": [
       "(18337, 5)"
      ]
     },
     "execution_count": 313,
     "metadata": {},
     "output_type": "execute_result"
    }
   ],
   "source": [
    "designs[designs['DESIGN_VALUE']=='Cohort'].shape"
   ]
  },
  {
   "cell_type": "code",
   "execution_count": 314,
   "metadata": {
    "collapsed": false
   },
   "outputs": [
    {
     "data": {
      "text/plain": [
       "(51273, 5)"
      ]
     },
     "execution_count": 314,
     "metadata": {},
     "output_type": "execute_result"
    }
   ],
   "source": [
    "designs[designs['DESIGN_VALUE']=='Single Group Assignment'].shape"
   ]
  },
  {
   "cell_type": "code",
   "execution_count": 315,
   "metadata": {
    "collapsed": false
   },
   "outputs": [
    {
     "data": {
      "text/plain": [
       "0.28808996265263076"
      ]
     },
     "execution_count": 315,
     "metadata": {},
     "output_type": "execute_result"
    }
   ],
   "source": [
    "(117942 + 50650 + 18337 + 51273)/826832"
   ]
  },
  {
   "cell_type": "code",
   "execution_count": 300,
   "metadata": {
    "collapsed": false
   },
   "outputs": [
    {
     "data": {
      "text/plain": [
       "(7078, 5)"
      ]
     },
     "execution_count": 300,
     "metadata": {},
     "output_type": "execute_result"
    }
   ],
   "source": [
    "designs[designs['DESIGN_VALUE']=='Basic Science'].shape"
   ]
  },
  {
   "cell_type": "code",
   "execution_count": 301,
   "metadata": {
    "collapsed": false
   },
   "outputs": [
    {
     "data": {
      "text/plain": [
       "0.008560384697254097"
      ]
     },
     "execution_count": 301,
     "metadata": {},
     "output_type": "execute_result"
    }
   ],
   "source": [
    "7078/826832"
   ]
  },
  {
   "cell_type": "code",
   "execution_count": 297,
   "metadata": {
    "collapsed": false
   },
   "outputs": [
    {
     "data": {
      "text/plain": [
       "DESIGN_ID       5\n",
       "DESIGN_NAME     5\n",
       "DESIGN_VALUE    5\n",
       "MASKED_ROLE     1\n",
       "dtype: int64"
      ]
     },
     "execution_count": 297,
     "metadata": {},
     "output_type": "execute_result"
    }
   ],
   "source": [
    "designs.groupby('NCT_ID').count().max()"
   ]
  },
  {
   "cell_type": "code",
   "execution_count": 303,
   "metadata": {
    "collapsed": false
   },
   "outputs": [],
   "source": [
    "groups = ['Double Blind', 'Double-Blind', 'Single Blind', 'Open Label', 'Randomized', \n",
    "         'Non-Randomized', 'Case Control', 'Case-Crossover', 'Case-Only', 'Cohort',\n",
    "         'Cross-Sectional', 'Crossover Assignment', 'Parallel Assignment', \n",
    "         'Defined Population',\n",
    "         'Single Group Assignment', 'Factorial Assignment',\n",
    "         'Efficacy Study', 'Safety Study', 'Safety/Efficacy Study']\n",
    "#Case Control means 2 groups/cohorts\n",
    "#case-crossover means before & after disease onset\n",
    "#case-only sounds the same as Defined Population\n",
    "#cross-sectional means a single timepoint, usually at enrollment\n",
    "#crossover: 2 groups that switch interventions partway through the study\n",
    "#factorial: two or more interventions, each alone and in combination, vs. a control group\n",
    "\n",
    "#groups where you might be assigned to a control (old treatment or placebo)\n",
    "crapshoot = ['Double Blind', 'Double-Blind', 'Randomized', 'Case Control', \n",
    "             'Factorial Assignment']\n",
    "gambles = [x in crapshoot for x in designs['DESIGN_VALUE']]"
   ]
  },
  {
   "cell_type": "code",
   "execution_count": 307,
   "metadata": {
    "collapsed": false
   },
   "outputs": [
    {
     "data": {
      "text/plain": [
       "171670"
      ]
     },
     "execution_count": 307,
     "metadata": {},
     "output_type": "execute_result"
    }
   ],
   "source": [
    "sum(gambles) #sum counts the True values"
   ]
  },
  {
   "cell_type": "code",
   "execution_count": 308,
   "metadata": {
    "collapsed": false
   },
   "outputs": [
    {
     "data": {
      "text/plain": [
       "0.20762379782108095"
      ]
     },
     "execution_count": 308,
     "metadata": {},
     "output_type": "execute_result"
    }
   ],
   "source": [
    "171670/826832"
   ]
  },
  {
   "cell_type": "code",
   "execution_count": 294,
   "metadata": {
    "collapsed": false
   },
   "outputs": [
    {
     "data": {
      "text/html": [
       "<div>\n",
       "<table border=\"1\" class=\"dataframe\">\n",
       "  <thead>\n",
       "    <tr style=\"text-align: right;\">\n",
       "      <th></th>\n",
       "      <th>DESIGN_ID</th>\n",
       "      <th>NCT_ID</th>\n",
       "      <th>DESIGN_NAME</th>\n",
       "      <th>MASKED_ROLE</th>\n",
       "    </tr>\n",
       "    <tr>\n",
       "      <th>DESIGN_VALUE</th>\n",
       "      <th></th>\n",
       "      <th></th>\n",
       "      <th></th>\n",
       "      <th></th>\n",
       "    </tr>\n",
       "  </thead>\n",
       "  <tbody>\n",
       "    <tr>\n",
       "      <th>Basic Science</th>\n",
       "      <td>7078</td>\n",
       "      <td>7078</td>\n",
       "      <td>7078</td>\n",
       "      <td>0</td>\n",
       "    </tr>\n",
       "    <tr>\n",
       "      <th>Bio-availability Study</th>\n",
       "      <td>984</td>\n",
       "      <td>984</td>\n",
       "      <td>984</td>\n",
       "      <td>0</td>\n",
       "    </tr>\n",
       "    <tr>\n",
       "      <th>Bio-equivalence Study</th>\n",
       "      <td>2031</td>\n",
       "      <td>2031</td>\n",
       "      <td>2031</td>\n",
       "      <td>0</td>\n",
       "    </tr>\n",
       "    <tr>\n",
       "      <th>Case Control</th>\n",
       "      <td>5868</td>\n",
       "      <td>5868</td>\n",
       "      <td>5868</td>\n",
       "      <td>0</td>\n",
       "    </tr>\n",
       "    <tr>\n",
       "      <th>Case-Crossover</th>\n",
       "      <td>369</td>\n",
       "      <td>369</td>\n",
       "      <td>369</td>\n",
       "      <td>0</td>\n",
       "    </tr>\n",
       "    <tr>\n",
       "      <th>Case-Only</th>\n",
       "      <td>5963</td>\n",
       "      <td>5963</td>\n",
       "      <td>5963</td>\n",
       "      <td>0</td>\n",
       "    </tr>\n",
       "    <tr>\n",
       "      <th>Cohort</th>\n",
       "      <td>18337</td>\n",
       "      <td>18337</td>\n",
       "      <td>18337</td>\n",
       "      <td>0</td>\n",
       "    </tr>\n",
       "    <tr>\n",
       "      <th>Cross-Sectional</th>\n",
       "      <td>4464</td>\n",
       "      <td>4464</td>\n",
       "      <td>4464</td>\n",
       "      <td>0</td>\n",
       "    </tr>\n",
       "    <tr>\n",
       "      <th>Crossover Assignment</th>\n",
       "      <td>15448</td>\n",
       "      <td>15448</td>\n",
       "      <td>15448</td>\n",
       "      <td>0</td>\n",
       "    </tr>\n",
       "    <tr>\n",
       "      <th>Defined Population</th>\n",
       "      <td>730</td>\n",
       "      <td>730</td>\n",
       "      <td>730</td>\n",
       "      <td>0</td>\n",
       "    </tr>\n",
       "    <tr>\n",
       "      <th>Diagnostic</th>\n",
       "      <td>6885</td>\n",
       "      <td>6885</td>\n",
       "      <td>6885</td>\n",
       "      <td>0</td>\n",
       "    </tr>\n",
       "    <tr>\n",
       "      <th>Double Blind</th>\n",
       "      <td>45819</td>\n",
       "      <td>45819</td>\n",
       "      <td>45819</td>\n",
       "      <td>45819</td>\n",
       "    </tr>\n",
       "    <tr>\n",
       "      <th>Double-Blind</th>\n",
       "      <td>6526</td>\n",
       "      <td>6526</td>\n",
       "      <td>6526</td>\n",
       "      <td>0</td>\n",
       "    </tr>\n",
       "    <tr>\n",
       "      <th>Ecologic or Community</th>\n",
       "      <td>432</td>\n",
       "      <td>432</td>\n",
       "      <td>432</td>\n",
       "      <td>0</td>\n",
       "    </tr>\n",
       "    <tr>\n",
       "      <th>Educational/Counseling/Training</th>\n",
       "      <td>222</td>\n",
       "      <td>222</td>\n",
       "      <td>222</td>\n",
       "      <td>0</td>\n",
       "    </tr>\n",
       "    <tr>\n",
       "      <th>Efficacy Study</th>\n",
       "      <td>50650</td>\n",
       "      <td>50650</td>\n",
       "      <td>50650</td>\n",
       "      <td>0</td>\n",
       "    </tr>\n",
       "    <tr>\n",
       "      <th>Factorial Assignment</th>\n",
       "      <td>2876</td>\n",
       "      <td>2876</td>\n",
       "      <td>2876</td>\n",
       "      <td>0</td>\n",
       "    </tr>\n",
       "    <tr>\n",
       "      <th>Family-Based</th>\n",
       "      <td>224</td>\n",
       "      <td>224</td>\n",
       "      <td>224</td>\n",
       "      <td>0</td>\n",
       "    </tr>\n",
       "    <tr>\n",
       "      <th>Health Services Research</th>\n",
       "      <td>3116</td>\n",
       "      <td>3116</td>\n",
       "      <td>3116</td>\n",
       "      <td>0</td>\n",
       "    </tr>\n",
       "    <tr>\n",
       "      <th>Longitudinal</th>\n",
       "      <td>604</td>\n",
       "      <td>604</td>\n",
       "      <td>604</td>\n",
       "      <td>0</td>\n",
       "    </tr>\n",
       "    <tr>\n",
       "      <th>Natural History</th>\n",
       "      <td>109</td>\n",
       "      <td>109</td>\n",
       "      <td>109</td>\n",
       "      <td>0</td>\n",
       "    </tr>\n",
       "    <tr>\n",
       "      <th>Non-Randomized</th>\n",
       "      <td>21876</td>\n",
       "      <td>21876</td>\n",
       "      <td>21876</td>\n",
       "      <td>0</td>\n",
       "    </tr>\n",
       "    <tr>\n",
       "      <th>Open Label</th>\n",
       "      <td>92818</td>\n",
       "      <td>92818</td>\n",
       "      <td>92818</td>\n",
       "      <td>0</td>\n",
       "    </tr>\n",
       "    <tr>\n",
       "      <th>Parallel Assignment</th>\n",
       "      <td>93380</td>\n",
       "      <td>93380</td>\n",
       "      <td>93380</td>\n",
       "      <td>0</td>\n",
       "    </tr>\n",
       "    <tr>\n",
       "      <th>Pharmacodynamics Study</th>\n",
       "      <td>1729</td>\n",
       "      <td>1729</td>\n",
       "      <td>1729</td>\n",
       "      <td>0</td>\n",
       "    </tr>\n",
       "    <tr>\n",
       "      <th>Pharmacokinetics Study</th>\n",
       "      <td>4670</td>\n",
       "      <td>4670</td>\n",
       "      <td>4670</td>\n",
       "      <td>0</td>\n",
       "    </tr>\n",
       "    <tr>\n",
       "      <th>Pharmacokinetics/Dynamics Study</th>\n",
       "      <td>2162</td>\n",
       "      <td>2162</td>\n",
       "      <td>2162</td>\n",
       "      <td>0</td>\n",
       "    </tr>\n",
       "    <tr>\n",
       "      <th>Prevention</th>\n",
       "      <td>17635</td>\n",
       "      <td>17635</td>\n",
       "      <td>17635</td>\n",
       "      <td>0</td>\n",
       "    </tr>\n",
       "    <tr>\n",
       "      <th>Prospective</th>\n",
       "      <td>27034</td>\n",
       "      <td>27034</td>\n",
       "      <td>27034</td>\n",
       "      <td>0</td>\n",
       "    </tr>\n",
       "    <tr>\n",
       "      <th>Random Sample</th>\n",
       "      <td>81</td>\n",
       "      <td>81</td>\n",
       "      <td>81</td>\n",
       "      <td>0</td>\n",
       "    </tr>\n",
       "    <tr>\n",
       "      <th>Randomized</th>\n",
       "      <td>110581</td>\n",
       "      <td>110581</td>\n",
       "      <td>110581</td>\n",
       "      <td>0</td>\n",
       "    </tr>\n",
       "    <tr>\n",
       "      <th>Retrospective</th>\n",
       "      <td>4121</td>\n",
       "      <td>4121</td>\n",
       "      <td>4121</td>\n",
       "      <td>0</td>\n",
       "    </tr>\n",
       "    <tr>\n",
       "      <th>Retrospective/Prospective</th>\n",
       "      <td>1</td>\n",
       "      <td>1</td>\n",
       "      <td>1</td>\n",
       "      <td>0</td>\n",
       "    </tr>\n",
       "    <tr>\n",
       "      <th>Safety Study</th>\n",
       "      <td>12345</td>\n",
       "      <td>12345</td>\n",
       "      <td>12345</td>\n",
       "      <td>0</td>\n",
       "    </tr>\n",
       "    <tr>\n",
       "      <th>Safety/Efficacy Study</th>\n",
       "      <td>63324</td>\n",
       "      <td>63324</td>\n",
       "      <td>63324</td>\n",
       "      <td>0</td>\n",
       "    </tr>\n",
       "    <tr>\n",
       "      <th>Screening</th>\n",
       "      <td>1415</td>\n",
       "      <td>1415</td>\n",
       "      <td>1415</td>\n",
       "      <td>0</td>\n",
       "    </tr>\n",
       "    <tr>\n",
       "      <th>Single Blind</th>\n",
       "      <td>19786</td>\n",
       "      <td>19786</td>\n",
       "      <td>19786</td>\n",
       "      <td>18416</td>\n",
       "    </tr>\n",
       "    <tr>\n",
       "      <th>Single Group Assignment</th>\n",
       "      <td>51273</td>\n",
       "      <td>51273</td>\n",
       "      <td>51273</td>\n",
       "      <td>0</td>\n",
       "    </tr>\n",
       "    <tr>\n",
       "      <th>Supportive Care</th>\n",
       "      <td>5924</td>\n",
       "      <td>5924</td>\n",
       "      <td>5924</td>\n",
       "      <td>0</td>\n",
       "    </tr>\n",
       "    <tr>\n",
       "      <th>Treatment</th>\n",
       "      <td>117942</td>\n",
       "      <td>117942</td>\n",
       "      <td>117942</td>\n",
       "      <td>0</td>\n",
       "    </tr>\n",
       "  </tbody>\n",
       "</table>\n",
       "</div>"
      ],
      "text/plain": [
       "                                 DESIGN_ID  NCT_ID  DESIGN_NAME  MASKED_ROLE\n",
       "DESIGN_VALUE                                                                \n",
       "Basic Science                         7078    7078         7078            0\n",
       "Bio-availability Study                 984     984          984            0\n",
       "Bio-equivalence Study                 2031    2031         2031            0\n",
       "Case Control                          5868    5868         5868            0\n",
       "Case-Crossover                         369     369          369            0\n",
       "Case-Only                             5963    5963         5963            0\n",
       "Cohort                               18337   18337        18337            0\n",
       "Cross-Sectional                       4464    4464         4464            0\n",
       "Crossover Assignment                 15448   15448        15448            0\n",
       "Defined Population                     730     730          730            0\n",
       "Diagnostic                            6885    6885         6885            0\n",
       "Double Blind                         45819   45819        45819        45819\n",
       "Double-Blind                          6526    6526         6526            0\n",
       "Ecologic or Community                  432     432          432            0\n",
       "Educational/Counseling/Training        222     222          222            0\n",
       "Efficacy Study                       50650   50650        50650            0\n",
       "Factorial Assignment                  2876    2876         2876            0\n",
       "Family-Based                           224     224          224            0\n",
       "Health Services Research              3116    3116         3116            0\n",
       "Longitudinal                           604     604          604            0\n",
       "Natural History                        109     109          109            0\n",
       "Non-Randomized                       21876   21876        21876            0\n",
       "Open Label                           92818   92818        92818            0\n",
       "Parallel Assignment                  93380   93380        93380            0\n",
       "Pharmacodynamics Study                1729    1729         1729            0\n",
       "Pharmacokinetics Study                4670    4670         4670            0\n",
       "Pharmacokinetics/Dynamics Study       2162    2162         2162            0\n",
       "Prevention                           17635   17635        17635            0\n",
       "Prospective                          27034   27034        27034            0\n",
       "Random Sample                           81      81           81            0\n",
       "Randomized                          110581  110581       110581            0\n",
       "Retrospective                         4121    4121         4121            0\n",
       "Retrospective/Prospective                1       1            1            0\n",
       "Safety Study                         12345   12345        12345            0\n",
       "Safety/Efficacy Study                63324   63324        63324            0\n",
       "Screening                             1415    1415         1415            0\n",
       "Single Blind                         19786   19786        19786        18416\n",
       "Single Group Assignment              51273   51273        51273            0\n",
       "Supportive Care                       5924    5924         5924            0\n",
       "Treatment                           117942  117942       117942            0"
      ]
     },
     "execution_count": 294,
     "metadata": {},
     "output_type": "execute_result"
    }
   ],
   "source": [
    "designs.groupby('DESIGN_VALUE').count()"
   ]
  },
  {
   "cell_type": "code",
   "execution_count": 90,
   "metadata": {
    "collapsed": false
   },
   "outputs": [
    {
     "name": "stderr",
     "output_type": "stream",
     "text": [
      "/Users/szeitlin/anaconda/envs/clinicaltrials/lib/python3.5/site-packages/IPython/core/interactiveshell.py:2723: DtypeWarning: Columns (1) have mixed types. Specify dtype option on import or set low_memory=False.\n",
      "  interactivity=interactivity, compiler=compiler, result=result)\n"
     ]
    },
    {
     "data": {
      "text/html": [
       "<div>\n",
       "<table border=\"1\" class=\"dataframe\">\n",
       "  <thead>\n",
       "    <tr style=\"text-align: right;\">\n",
       "      <th></th>\n",
       "      <th>REPORTED_EVENT_CATEGORY_ID</th>\n",
       "      <th>REPORTED_EVENT_ID</th>\n",
       "      <th>CATEGORY_TITLE</th>\n",
       "      <th>CATEGORY_SUB_TITLE</th>\n",
       "      <th>CATEGORY_DESCRIPTION</th>\n",
       "      <th>CATEGORY_ASSESSMENT</th>\n",
       "    </tr>\n",
       "  </thead>\n",
       "  <tbody>\n",
       "    <tr>\n",
       "      <th>0</th>\n",
       "      <td>110</td>\n",
       "      <td>7</td>\n",
       "      <td>Blood and lymphatic system disorders</td>\n",
       "      <td>Amylase</td>\n",
       "      <td>NaN</td>\n",
       "      <td>NaN</td>\n",
       "    </tr>\n",
       "    <tr>\n",
       "      <th>1</th>\n",
       "      <td>111</td>\n",
       "      <td>7</td>\n",
       "      <td>Blood and lymphatic system disorders</td>\n",
       "      <td>Blood,Bone marrow,other</td>\n",
       "      <td>NaN</td>\n",
       "      <td>NaN</td>\n",
       "    </tr>\n",
       "    <tr>\n",
       "      <th>2</th>\n",
       "      <td>112</td>\n",
       "      <td>7</td>\n",
       "      <td>Blood and lymphatic system disorders</td>\n",
       "      <td>Fibrinogen</td>\n",
       "      <td>NaN</td>\n",
       "      <td>NaN</td>\n",
       "    </tr>\n",
       "    <tr>\n",
       "      <th>3</th>\n",
       "      <td>113</td>\n",
       "      <td>7</td>\n",
       "      <td>Blood and lymphatic system disorders</td>\n",
       "      <td>Hematuria</td>\n",
       "      <td>NaN</td>\n",
       "      <td>NaN</td>\n",
       "    </tr>\n",
       "    <tr>\n",
       "      <th>4</th>\n",
       "      <td>114</td>\n",
       "      <td>211</td>\n",
       "      <td>Immune system disorders</td>\n",
       "      <td>Thrombocytopenia</td>\n",
       "      <td>NaN</td>\n",
       "      <td>NaN</td>\n",
       "    </tr>\n",
       "  </tbody>\n",
       "</table>\n",
       "</div>"
      ],
      "text/plain": [
       "  REPORTED_EVENT_CATEGORY_ID REPORTED_EVENT_ID  \\\n",
       "0                        110                 7   \n",
       "1                        111                 7   \n",
       "2                        112                 7   \n",
       "3                        113                 7   \n",
       "4                        114               211   \n",
       "\n",
       "                         CATEGORY_TITLE       CATEGORY_SUB_TITLE  \\\n",
       "0  Blood and lymphatic system disorders                  Amylase   \n",
       "1  Blood and lymphatic system disorders  Blood,Bone marrow,other   \n",
       "2  Blood and lymphatic system disorders               Fibrinogen   \n",
       "3  Blood and lymphatic system disorders                Hematuria   \n",
       "4               Immune system disorders         Thrombocytopenia   \n",
       "\n",
       "  CATEGORY_DESCRIPTION CATEGORY_ASSESSMENT  \n",
       "0                  NaN                 NaN  \n",
       "1                  NaN                 NaN  \n",
       "2                  NaN                 NaN  \n",
       "3                  NaN                 NaN  \n",
       "4                  NaN                 NaN  "
      ]
     },
     "execution_count": 90,
     "metadata": {},
     "output_type": "execute_result"
    }
   ],
   "source": [
    "events = pd.read_csv('reported_event_ctgy.txt', sep='|')\n",
    "events.head()"
   ]
  },
  {
   "cell_type": "code",
   "execution_count": 91,
   "metadata": {
    "collapsed": false
   },
   "outputs": [],
   "source": [
    "counted_events = events.groupby('CATEGORY_TITLE').count().reset_index()"
   ]
  },
  {
   "cell_type": "code",
   "execution_count": 92,
   "metadata": {
    "collapsed": false
   },
   "outputs": [
    {
     "data": {
      "text/html": [
       "<div>\n",
       "<table border=\"1\" class=\"dataframe\">\n",
       "  <thead>\n",
       "    <tr style=\"text-align: right;\">\n",
       "      <th></th>\n",
       "      <th>CATEGORY_TITLE</th>\n",
       "      <th>REPORTED_EVENT_CATEGORY_ID</th>\n",
       "      <th>REPORTED_EVENT_ID</th>\n",
       "      <th>CATEGORY_SUB_TITLE</th>\n",
       "      <th>CATEGORY_DESCRIPTION</th>\n",
       "      <th>CATEGORY_ASSESSMENT</th>\n",
       "    </tr>\n",
       "  </thead>\n",
       "  <tbody>\n",
       "    <tr>\n",
       "      <th>0</th>\n",
       "      <td>Blood and lymphatic system disorders</td>\n",
       "      <td>27073</td>\n",
       "      <td>27073</td>\n",
       "      <td>27073</td>\n",
       "      <td>607</td>\n",
       "      <td>170</td>\n",
       "    </tr>\n",
       "    <tr>\n",
       "      <th>1</th>\n",
       "      <td>Cardiac disorders</td>\n",
       "      <td>42023</td>\n",
       "      <td>42023</td>\n",
       "      <td>42023</td>\n",
       "      <td>981</td>\n",
       "      <td>149</td>\n",
       "    </tr>\n",
       "    <tr>\n",
       "      <th>2</th>\n",
       "      <td>Congenital, familial and genetic disorders</td>\n",
       "      <td>2084</td>\n",
       "      <td>2084</td>\n",
       "      <td>2084</td>\n",
       "      <td>101</td>\n",
       "      <td>6</td>\n",
       "    </tr>\n",
       "    <tr>\n",
       "      <th>3</th>\n",
       "      <td>Ear and labyrinth disorders</td>\n",
       "      <td>6113</td>\n",
       "      <td>6113</td>\n",
       "      <td>6113</td>\n",
       "      <td>80</td>\n",
       "      <td>24</td>\n",
       "    </tr>\n",
       "    <tr>\n",
       "      <th>4</th>\n",
       "      <td>Endocrine disorders</td>\n",
       "      <td>3562</td>\n",
       "      <td>3562</td>\n",
       "      <td>3562</td>\n",
       "      <td>125</td>\n",
       "      <td>27</td>\n",
       "    </tr>\n",
       "  </tbody>\n",
       "</table>\n",
       "</div>"
      ],
      "text/plain": [
       "                               CATEGORY_TITLE  REPORTED_EVENT_CATEGORY_ID  \\\n",
       "0        Blood and lymphatic system disorders                       27073   \n",
       "1                           Cardiac disorders                       42023   \n",
       "2  Congenital, familial and genetic disorders                        2084   \n",
       "3                 Ear and labyrinth disorders                        6113   \n",
       "4                         Endocrine disorders                        3562   \n",
       "\n",
       "   REPORTED_EVENT_ID  CATEGORY_SUB_TITLE  CATEGORY_DESCRIPTION  \\\n",
       "0              27073               27073                   607   \n",
       "1              42023               42023                   981   \n",
       "2               2084                2084                   101   \n",
       "3               6113                6113                    80   \n",
       "4               3562                3562                   125   \n",
       "\n",
       "   CATEGORY_ASSESSMENT  \n",
       "0                  170  \n",
       "1                  149  \n",
       "2                    6  \n",
       "3                   24  \n",
       "4                   27  "
      ]
     },
     "execution_count": 92,
     "metadata": {},
     "output_type": "execute_result"
    }
   ],
   "source": [
    "counted_events.head()"
   ]
  },
  {
   "cell_type": "code",
   "execution_count": 93,
   "metadata": {
    "collapsed": false
   },
   "outputs": [
    {
     "data": {
      "text/plain": [
       "[None,\n",
       " None,\n",
       " None,\n",
       " None,\n",
       " None,\n",
       " None,\n",
       " None,\n",
       " None,\n",
       " None,\n",
       " None,\n",
       " None,\n",
       " None,\n",
       " None,\n",
       " None,\n",
       " None,\n",
       " None,\n",
       " None,\n",
       " None,\n",
       " None,\n",
       " None,\n",
       " None,\n",
       " None,\n",
       " None,\n",
       " None,\n",
       " None,\n",
       " None,\n",
       " None]"
      ]
     },
     "execution_count": 93,
     "metadata": {},
     "output_type": "execute_result"
    },
    {
     "data": {
      "image/png": "[encoded data removed]",
      "text/plain": [
       "<matplotlib.figure.Figure at 0x1162e3dd8>"
      ]
     },
     "metadata": {},
     "output_type": "display_data"
    }
   ],
   "source": [
    "sns.barplot(counted_events['CATEGORY_TITLE'], counted_events['REPORTED_EVENT_CATEGORY_ID'])\n",
    "locs, labels = plt.xticks()\n",
    "plt.setp(labels, rotation=90)"
   ]
  },
  {
   "cell_type": "code",
   "execution_count": 94,
   "metadata": {
    "collapsed": false
   },
   "outputs": [
    {
     "data": {
      "text/html": [
       "<div>\n",
       "<table border=\"1\" class=\"dataframe\">\n",
       "  <thead>\n",
       "    <tr style=\"text-align: right;\">\n",
       "      <th></th>\n",
       "      <th>MILESTONE_ID</th>\n",
       "      <th>PARTICIPANT_FLOW_ID</th>\n",
       "      <th>MILESTONE_TYPE</th>\n",
       "      <th>MILESTONE_TITLE</th>\n",
       "    </tr>\n",
       "  </thead>\n",
       "  <tbody>\n",
       "    <tr>\n",
       "      <th>0</th>\n",
       "      <td>41</td>\n",
       "      <td>81</td>\n",
       "      <td>Milestone</td>\n",
       "      <td>STARTED</td>\n",
       "    </tr>\n",
       "    <tr>\n",
       "      <th>1</th>\n",
       "      <td>42</td>\n",
       "      <td>81</td>\n",
       "      <td>Milestone</td>\n",
       "      <td>COMPLETED</td>\n",
       "    </tr>\n",
       "    <tr>\n",
       "      <th>2</th>\n",
       "      <td>43</td>\n",
       "      <td>81</td>\n",
       "      <td>Milestone</td>\n",
       "      <td>NOT COMPLETED</td>\n",
       "    </tr>\n",
       "    <tr>\n",
       "      <th>3</th>\n",
       "      <td>44</td>\n",
       "      <td>82</td>\n",
       "      <td>Milestone</td>\n",
       "      <td>STARTED</td>\n",
       "    </tr>\n",
       "    <tr>\n",
       "      <th>4</th>\n",
       "      <td>45</td>\n",
       "      <td>82</td>\n",
       "      <td>Milestone</td>\n",
       "      <td>COMPLETED</td>\n",
       "    </tr>\n",
       "  </tbody>\n",
       "</table>\n",
       "</div>"
      ],
      "text/plain": [
       "   MILESTONE_ID  PARTICIPANT_FLOW_ID MILESTONE_TYPE MILESTONE_TITLE\n",
       "0            41                   81      Milestone         STARTED\n",
       "1            42                   81      Milestone       COMPLETED\n",
       "2            43                   81      Milestone   NOT COMPLETED\n",
       "3            44                   82      Milestone         STARTED\n",
       "4            45                   82      Milestone       COMPLETED"
      ]
     },
     "execution_count": 94,
     "metadata": {},
     "output_type": "execute_result"
    }
   ],
   "source": [
    "milestones = pd.read_csv('results_partflow_mlstn.txt', sep='|')\n",
    "milestones.head()"
   ]
  },
  {
   "cell_type": "code",
   "execution_count": 95,
   "metadata": {
    "collapsed": false
   },
   "outputs": [],
   "source": [
    "milestone_count = word_counter(milestones['MILESTONE_TITLE'])"
   ]
  },
  {
   "cell_type": "code",
   "execution_count": 96,
   "metadata": {
    "collapsed": false
   },
   "outputs": [],
   "source": [
    "mesh_true = pd.Series([True if x in terms else False for x in sorted(milestone_count)])"
   ]
  },
  {
   "cell_type": "code",
   "execution_count": 97,
   "metadata": {
    "collapsed": false
   },
   "outputs": [
    {
     "data": {
      "text/plain": [
       "False"
      ]
     },
     "execution_count": 97,
     "metadata": {},
     "output_type": "execute_result"
    }
   ],
   "source": [
    "'Adverse' in terms"
   ]
  },
  {
   "cell_type": "code",
   "execution_count": 211,
   "metadata": {
    "collapsed": false
   },
   "outputs": [
    {
     "data": {
      "text/plain": [
       "[('COMPLETED', 52282),\n",
       " ('NOT', 26143),\n",
       " ('STARTED', 26140),\n",
       " ('Subject', 9786),\n",
       " ('by', 9699),\n",
       " ('Withdrawal', 9564),\n",
       " ('to', 9368),\n",
       " ('Adverse', 8606),\n",
       " ('Event', 8554),\n",
       " ('Follow-up', 7414)]"
      ]
     },
     "execution_count": 211,
     "metadata": {},
     "output_type": "execute_result"
    }
   ],
   "source": [
    "sorted(milestone_count.items(), key=operator.itemgetter(1), reverse=True)[0:10]"
   ]
  },
  {
   "cell_type": "code",
   "execution_count": 99,
   "metadata": {
    "collapsed": true
   },
   "outputs": [],
   "source": [
    "words_of_interest = ['COMPLETED', 'Completed', 'completed',\n",
    "                     'STARTED', \n",
    "                     'Adverse', 'adverse', \n",
    "                     'Relapse', 'relapse', 'Progression/relapse', 'worsening', 'Recurrent'\n",
    "                     'Pain', 'Discomfort',\n",
    "                     'Death', 'death', 'Toxicity','toxicity',\n",
    "                     'Withdrawal', 'withdrawal', 'withdrew', 'Withdrawn', 'withdrawn',\n",
    "                     'Discontinuation', 'discontinued',\n",
    "                     'Exclusion', 'exclusion',\n",
    "                     'Randomized','randomization', 'Randomised',\n",
    "                     'Incarcerated', 'incarcerated',\n",
    "                     'Treated', 'treated', 'TREATED',\n",
    "                    'Noncompliance', 'non-compliance', 'Non-Compliance', 'non-compliant', 'Non-Compliant',\n",
    "                     'Poor/non-compliance', 'Poor/Non-Compliance', 'poor/non-compliance',\n",
    "                     'Ineligible', 'ineligible',\n",
    "                     'Failure', 'failure', 'Failed', 'failed', 'failures',\n",
    "                     'Response', 'response', \n",
    "                     'Terminated', 'terminated', 'Termination', 'termination', 'Closed/Terminated',\n",
    "                     'Ongoing', \n",
    "                    'Refused', 'Discontinued', 'Declined']"
   ]
  },
  {
   "cell_type": "code",
   "execution_count": 212,
   "metadata": {
    "collapsed": false
   },
   "outputs": [
    {
     "name": "stderr",
     "output_type": "stream",
     "text": [
      "b'Skipping line 33151: expected 42 fields, saw 43\\n'\n",
      "b'Skipping line 59729: expected 42 fields, saw 43\\n'\n",
      "b'Skipping line 137282: expected 42 fields, saw 43\\n'\n",
      "b'Skipping line 210235: expected 42 fields, saw 43\\n'\n",
      "b'Skipping line 254292: expected 42 fields, saw 67\\n'\n"
     ]
    },
    {
     "data": {
      "text/html": [
       "<div>\n",
       "<table border=\"1\" class=\"dataframe\">\n",
       "  <thead>\n",
       "    <tr style=\"text-align: right;\">\n",
       "      <th></th>\n",
       "      <th>NCT_ID</th>\n",
       "      <th>DOWNLOAD_DATE</th>\n",
       "      <th>DOWNLOAD_DATE_DT</th>\n",
       "      <th>ORG_STUDY_ID</th>\n",
       "      <th>BRIEF_TITLE</th>\n",
       "      <th>OFFICIAL_TITLE</th>\n",
       "      <th>ACRONYM</th>\n",
       "      <th>SOURCE</th>\n",
       "      <th>HAS_DMC</th>\n",
       "      <th>OVERALL_STATUS</th>\n",
       "      <th>...</th>\n",
       "      <th>FIRSTRECEIVED_DATE</th>\n",
       "      <th>IS_SECTION_801</th>\n",
       "      <th>IS_FDA_REGULATED</th>\n",
       "      <th>WHY_STOPPED</th>\n",
       "      <th>HAS_EXPANDED_ACCESS</th>\n",
       "      <th>FIRSTRECEIVED_RESULTS_DATE</th>\n",
       "      <th>URL</th>\n",
       "      <th>TARGET_DURATION</th>\n",
       "      <th>STUDY_RANK</th>\n",
       "      <th>LIMITATIONS_AND_CAVEATS</th>\n",
       "    </tr>\n",
       "  </thead>\n",
       "  <tbody>\n",
       "    <tr>\n",
       "      <th>0</th>\n",
       "      <td>NCT00000105</td>\n",
       "      <td>ClinicalTrials.gov processed this data on Marc...</td>\n",
       "      <td>03/24/2016</td>\n",
       "      <td>2002LS032</td>\n",
       "      <td>Vaccination With Tetanus and KLH to Assess Imm...</td>\n",
       "      <td>Vaccination With Tetanus Toxoid and Keyhole Li...</td>\n",
       "      <td>NaN</td>\n",
       "      <td>Masonic Cancer Center, University of Minnesota</td>\n",
       "      <td>Yes</td>\n",
       "      <td>Terminated</td>\n",
       "      <td>...</td>\n",
       "      <td>NaN</td>\n",
       "      <td>NaN</td>\n",
       "      <td>NaN</td>\n",
       "      <td>NaN</td>\n",
       "      <td>NaN</td>\n",
       "      <td>NaN</td>\n",
       "      <td>NaN</td>\n",
       "      <td>NaN</td>\n",
       "      <td>NaN</td>\n",
       "      <td>NaN</td>\n",
       "    </tr>\n",
       "    <tr>\n",
       "      <th>1</th>\n",
       "      <td>-  Patients with Cancer (breast, mel...</td>\n",
       "      <td>NaN</td>\n",
       "      <td>NaN</td>\n",
       "      <td>NaN</td>\n",
       "      <td>NaN</td>\n",
       "      <td>NaN</td>\n",
       "      <td>NaN</td>\n",
       "      <td>NaN</td>\n",
       "      <td>NaN</td>\n",
       "      <td>NaN</td>\n",
       "      <td>...</td>\n",
       "      <td>NaN</td>\n",
       "      <td>NaN</td>\n",
       "      <td>NaN</td>\n",
       "      <td>NaN</td>\n",
       "      <td>NaN</td>\n",
       "      <td>NaN</td>\n",
       "      <td>NaN</td>\n",
       "      <td>NaN</td>\n",
       "      <td>NaN</td>\n",
       "      <td>NaN</td>\n",
       "    </tr>\n",
       "    <tr>\n",
       "      <th>2</th>\n",
       "      <td>-  Transplant patients (umbilical co...</td>\n",
       "      <td>NaN</td>\n",
       "      <td>NaN</td>\n",
       "      <td>NaN</td>\n",
       "      <td>NaN</td>\n",
       "      <td>NaN</td>\n",
       "      <td>NaN</td>\n",
       "      <td>NaN</td>\n",
       "      <td>NaN</td>\n",
       "      <td>NaN</td>\n",
       "      <td>...</td>\n",
       "      <td>NaN</td>\n",
       "      <td>NaN</td>\n",
       "      <td>NaN</td>\n",
       "      <td>NaN</td>\n",
       "      <td>NaN</td>\n",
       "      <td>NaN</td>\n",
       "      <td>NaN</td>\n",
       "      <td>NaN</td>\n",
       "      <td>NaN</td>\n",
       "      <td>NaN</td>\n",
       "    </tr>\n",
       "    <tr>\n",
       "      <th>3</th>\n",
       "      <td>-  Patients receiving other cancer v...</td>\n",
       "      <td>November 2012</td>\n",
       "      <td>November 6, 2012</td>\n",
       "      <td>November 3, 1999</td>\n",
       "      <td>Yes</td>\n",
       "      <td>Yes</td>\n",
       "      <td>Replaced by another study.</td>\n",
       "      <td>No</td>\n",
       "      <td>NaN</td>\n",
       "      <td>https://clinicaltrials.gov/show/NCT00000105</td>\n",
       "      <td>...</td>\n",
       "      <td>NaN</td>\n",
       "      <td>NaN</td>\n",
       "      <td>NaN</td>\n",
       "      <td>NaN</td>\n",
       "      <td>NaN</td>\n",
       "      <td>NaN</td>\n",
       "      <td>NaN</td>\n",
       "      <td>NaN</td>\n",
       "      <td>NaN</td>\n",
       "      <td>NaN</td>\n",
       "    </tr>\n",
       "    <tr>\n",
       "      <th>4</th>\n",
       "      <td>NCT00000106</td>\n",
       "      <td>ClinicalTrials.gov processed this data on Marc...</td>\n",
       "      <td>03/24/2016</td>\n",
       "      <td>NCRR-M01RR03186-9943</td>\n",
       "      <td>41.8 Degree Centigrade Whole Body Hyperthermia...</td>\n",
       "      <td>NaN</td>\n",
       "      <td>NaN</td>\n",
       "      <td>National Center for Research Resources (NCRR)</td>\n",
       "      <td>NaN</td>\n",
       "      <td>Active, not recruiting</td>\n",
       "      <td>...</td>\n",
       "      <td>January 18, 2000</td>\n",
       "      <td>NaN</td>\n",
       "      <td>NaN</td>\n",
       "      <td>NaN</td>\n",
       "      <td>No</td>\n",
       "      <td>NaN</td>\n",
       "      <td>https://clinicaltrials.gov/show/NCT00000106</td>\n",
       "      <td>NaN</td>\n",
       "      <td>211434.0</td>\n",
       "      <td>NaN</td>\n",
       "    </tr>\n",
       "  </tbody>\n",
       "</table>\n",
       "<p>5 rows × 42 columns</p>\n",
       "</div>"
      ],
      "text/plain": [
       "                                              NCT_ID  \\\n",
       "0                                        NCT00000105   \n",
       "1            -  Patients with Cancer (breast, mel...   \n",
       "2            -  Transplant patients (umbilical co...   \n",
       "3            -  Patients receiving other cancer v...   \n",
       "4                                        NCT00000106   \n",
       "\n",
       "                                       DOWNLOAD_DATE  DOWNLOAD_DATE_DT  \\\n",
       "0  ClinicalTrials.gov processed this data on Marc...        03/24/2016   \n",
       "1                                                NaN               NaN   \n",
       "2                                                NaN               NaN   \n",
       "3                                      November 2012  November 6, 2012   \n",
       "4  ClinicalTrials.gov processed this data on Marc...        03/24/2016   \n",
       "\n",
       "           ORG_STUDY_ID                                        BRIEF_TITLE  \\\n",
       "0             2002LS032  Vaccination With Tetanus and KLH to Assess Imm...   \n",
       "1                   NaN                                                NaN   \n",
       "2                   NaN                                                NaN   \n",
       "3      November 3, 1999                                                Yes   \n",
       "4  NCRR-M01RR03186-9943  41.8 Degree Centigrade Whole Body Hyperthermia...   \n",
       "\n",
       "                                      OFFICIAL_TITLE  \\\n",
       "0  Vaccination With Tetanus Toxoid and Keyhole Li...   \n",
       "1                                                NaN   \n",
       "2                                                NaN   \n",
       "3                                                Yes   \n",
       "4                                                NaN   \n",
       "\n",
       "                      ACRONYM                                          SOURCE  \\\n",
       "0                         NaN  Masonic Cancer Center, University of Minnesota   \n",
       "1                         NaN                                             NaN   \n",
       "2                         NaN                                             NaN   \n",
       "3  Replaced by another study.                                              No   \n",
       "4                         NaN   National Center for Research Resources (NCRR)   \n",
       "\n",
       "  HAS_DMC                               OVERALL_STATUS  \\\n",
       "0     Yes                                   Terminated   \n",
       "1     NaN                                          NaN   \n",
       "2     NaN                                          NaN   \n",
       "3     NaN  https://clinicaltrials.gov/show/NCT00000105   \n",
       "4     NaN                       Active, not recruiting   \n",
       "\n",
       "            ...           FIRSTRECEIVED_DATE IS_SECTION_801 IS_FDA_REGULATED  \\\n",
       "0           ...                          NaN            NaN              NaN   \n",
       "1           ...                          NaN            NaN              NaN   \n",
       "2           ...                          NaN            NaN              NaN   \n",
       "3           ...                          NaN            NaN              NaN   \n",
       "4           ...             January 18, 2000            NaN              NaN   \n",
       "\n",
       "  WHY_STOPPED HAS_EXPANDED_ACCESS FIRSTRECEIVED_RESULTS_DATE  \\\n",
       "0         NaN                 NaN                        NaN   \n",
       "1         NaN                 NaN                        NaN   \n",
       "2         NaN                 NaN                        NaN   \n",
       "3         NaN                 NaN                        NaN   \n",
       "4         NaN                  No                        NaN   \n",
       "\n",
       "                                           URL TARGET_DURATION STUDY_RANK  \\\n",
       "0                                          NaN             NaN        NaN   \n",
       "1                                          NaN             NaN        NaN   \n",
       "2                                          NaN             NaN        NaN   \n",
       "3                                          NaN             NaN        NaN   \n",
       "4  https://clinicaltrials.gov/show/NCT00000106             NaN   211434.0   \n",
       "\n",
       "  LIMITATIONS_AND_CAVEATS  \n",
       "0                     NaN  \n",
       "1                     NaN  \n",
       "2                     NaN  \n",
       "3                     NaN  \n",
       "4                     NaN  \n",
       "\n",
       "[5 rows x 42 columns]"
      ]
     },
     "execution_count": 212,
     "metadata": {},
     "output_type": "execute_result"
    }
   ],
   "source": [
    "clinical_studies = pd.read_csv('clinical_study_noclob.txt', sep='|', error_bad_lines = False)\n",
    "clinical_studies.head()"
   ]
  },
  {
   "cell_type": "code",
   "execution_count": 101,
   "metadata": {
    "collapsed": false
   },
   "outputs": [
    {
     "data": {
      "text/plain": [
       "Index(['NCT_ID', 'DOWNLOAD_DATE', 'DOWNLOAD_DATE_DT', 'ORG_STUDY_ID',\n",
       "       'BRIEF_TITLE', 'OFFICIAL_TITLE', 'ACRONYM', 'SOURCE', 'HAS_DMC',\n",
       "       'OVERALL_STATUS', 'START_DATE', 'COMPLETION_DATE',\n",
       "       'COMPLETION_DATE_TYPE', 'PRIMARY_COMPLETION_DATE',\n",
       "       'PRIMARY_COMPLETION_DATE_TYPE', 'PHASE', 'STUDY_TYPE', 'STUDY_DESIGN',\n",
       "       'NUMBER_OF_ARMS', 'NUMBER_OF_GROUPS', 'ENROLLMENT_TYPE', 'ENROLLMENT',\n",
       "       'BIOSPEC_RETENTION', 'BIOSPEC_DESCR', 'GENDER', 'MINIMUM_AGE',\n",
       "       'MAXIMUM_AGE', 'HEALTHY_VOLUNTEERS', 'SAMPLING_METHOD', 'STUDY_POP',\n",
       "       'VERIFICATION_DATE', 'LASTCHANGED_DATE', 'FIRSTRECEIVED_DATE',\n",
       "       'IS_SECTION_801', 'IS_FDA_REGULATED', 'WHY_STOPPED',\n",
       "       'HAS_EXPANDED_ACCESS', 'FIRSTRECEIVED_RESULTS_DATE', 'URL',\n",
       "       'TARGET_DURATION', 'STUDY_RANK', 'LIMITATIONS_AND_CAVEATS'],\n",
       "      dtype='object')"
      ]
     },
     "execution_count": 101,
     "metadata": {},
     "output_type": "execute_result"
    }
   ],
   "source": [
    "clinical_studies.columns"
   ]
  },
  {
   "cell_type": "code",
   "execution_count": 229,
   "metadata": {
    "collapsed": false
   },
   "outputs": [
    {
     "data": {
      "text/plain": [
       "65 Years    13981\n",
       "80 Years    10475\n",
       "75 Years    10141\n",
       "70 Years     8650\n",
       "60 Years     5551\n",
       "Name: MAXIMUM_AGE, dtype: int64"
      ]
     },
     "execution_count": 229,
     "metadata": {},
     "output_type": "execute_result"
    }
   ],
   "source": [
    "ages = clinical_studies[['MAXIMUM_AGE', 'MINIMUM_AGE']]\n",
    "ages['MAXIMUM_AGE'].value_counts()[0:5]"
   ]
  },
  {
   "cell_type": "code",
   "execution_count": 158,
   "metadata": {
    "collapsed": false
   },
   "outputs": [
    {
     "data": {
      "text/plain": [
       "18 Years    126323\n",
       "20 Years      8500\n",
       "21 Years      4875\n",
       "40 Years      4448\n",
       "50 Years      3491\n",
       "30 Years      2742\n",
       "19 Years      2668\n",
       "16 Years      2613\n",
       "12 Years      2436\n",
       "65 Years      1836\n",
       "6 Years       1816\n",
       "2 Years       1735\n",
       "15 Years      1584\n",
       "60 Years      1575\n",
       "45 Years      1559\n",
       "25 Years      1492\n",
       "35 Years      1405\n",
       "1 Year        1383\n",
       "5 Years       1245\n",
       "13 Years      1152\n",
       "6 Months      1117\n",
       "3 Years       1117\n",
       "10 Years      1073\n",
       "55 Years      1056\n",
       "8 Years        997\n",
       "4 Years        911\n",
       "14 Years       891\n",
       "7 Years        852\n",
       "1 Month        508\n",
       "70 Years       498\n",
       "Name: MINIMUM_AGE, dtype: int64"
      ]
     },
     "execution_count": 158,
     "metadata": {},
     "output_type": "execute_result"
    }
   ],
   "source": [
    "ages['MINIMUM_AGE'].value_counts()[0:30]"
   ]
  },
  {
   "cell_type": "code",
   "execution_count": 213,
   "metadata": {
    "collapsed": false
   },
   "outputs": [],
   "source": [
    "ages.dropna(inplace=True)"
   ]
  },
  {
   "cell_type": "code",
   "execution_count": 174,
   "metadata": {
    "collapsed": false
   },
   "outputs": [],
   "source": [
    "max_age_len = pd.Series([len(x) for x in ages['MAXIMUM_AGE']])"
   ]
  },
  {
   "cell_type": "code",
   "execution_count": 214,
   "metadata": {
    "collapsed": false
   },
   "outputs": [],
   "source": [
    "ages['max_age_len'] = max_age_len\n",
    "ages['min_age_len'] = pd.Series([len(x) for x in ages['MINIMUM_AGE']])"
   ]
  },
  {
   "cell_type": "code",
   "execution_count": 215,
   "metadata": {
    "collapsed": false
   },
   "outputs": [
    {
     "data": {
      "text/html": [
       "<div>\n",
       "<table border=\"1\" class=\"dataframe\">\n",
       "  <thead>\n",
       "    <tr style=\"text-align: right;\">\n",
       "      <th></th>\n",
       "      <th>max_age_len</th>\n",
       "      <th>min_age_len</th>\n",
       "      <th>max_num</th>\n",
       "      <th>min_num</th>\n",
       "    </tr>\n",
       "  </thead>\n",
       "  <tbody>\n",
       "    <tr>\n",
       "      <th>count</th>\n",
       "      <td>37884.000000</td>\n",
       "      <td>13655.000000</td>\n",
       "      <td>37884.000000</td>\n",
       "      <td>37884.000000</td>\n",
       "    </tr>\n",
       "    <tr>\n",
       "      <th>mean</th>\n",
       "      <td>8.006784</td>\n",
       "      <td>7.894178</td>\n",
       "      <td>59.678334</td>\n",
       "      <td>19.108938</td>\n",
       "    </tr>\n",
       "    <tr>\n",
       "      <th>std</th>\n",
       "      <td>0.230530</td>\n",
       "      <td>0.373630</td>\n",
       "      <td>23.795129</td>\n",
       "      <td>11.413377</td>\n",
       "    </tr>\n",
       "    <tr>\n",
       "      <th>min</th>\n",
       "      <td>2.000000</td>\n",
       "      <td>6.000000</td>\n",
       "      <td>1.000000</td>\n",
       "      <td>1.000000</td>\n",
       "    </tr>\n",
       "    <tr>\n",
       "      <th>25%</th>\n",
       "      <td>8.000000</td>\n",
       "      <td>NaN</td>\n",
       "      <td>46.000000</td>\n",
       "      <td>18.000000</td>\n",
       "    </tr>\n",
       "    <tr>\n",
       "      <th>50%</th>\n",
       "      <td>8.000000</td>\n",
       "      <td>NaN</td>\n",
       "      <td>65.000000</td>\n",
       "      <td>18.000000</td>\n",
       "    </tr>\n",
       "    <tr>\n",
       "      <th>75%</th>\n",
       "      <td>8.000000</td>\n",
       "      <td>NaN</td>\n",
       "      <td>75.000000</td>\n",
       "      <td>18.000000</td>\n",
       "    </tr>\n",
       "    <tr>\n",
       "      <th>max</th>\n",
       "      <td>26.000000</td>\n",
       "      <td>9.000000</td>\n",
       "      <td>730.000000</td>\n",
       "      <td>510.000000</td>\n",
       "    </tr>\n",
       "  </tbody>\n",
       "</table>\n",
       "</div>"
      ],
      "text/plain": [
       "        max_age_len   min_age_len       max_num       min_num\n",
       "count  37884.000000  13655.000000  37884.000000  37884.000000\n",
       "mean       8.006784      7.894178     59.678334     19.108938\n",
       "std        0.230530      0.373630     23.795129     11.413377\n",
       "min        2.000000      6.000000      1.000000      1.000000\n",
       "25%        8.000000           NaN     46.000000     18.000000\n",
       "50%        8.000000           NaN     65.000000     18.000000\n",
       "75%        8.000000           NaN     75.000000     18.000000\n",
       "max       26.000000      9.000000    730.000000    510.000000"
      ]
     },
     "execution_count": 215,
     "metadata": {},
     "output_type": "execute_result"
    }
   ],
   "source": [
    "ages.describe()"
   ]
  },
  {
   "cell_type": "code",
   "execution_count": 175,
   "metadata": {
    "collapsed": true
   },
   "outputs": [],
   "source": [
    "cleaner = ages[ages['max_age_len'] <= 8]\n",
    "cleaner2 = ages[ages['min_age_len'] <=10]"
   ]
  },
  {
   "cell_type": "code",
   "execution_count": 223,
   "metadata": {
    "collapsed": false
   },
   "outputs": [],
   "source": [
    "#\"65 Years\"\n",
    "num = lambda x: int(x.split()[0]) if x.split()[0].isnumeric() else np.nan\n",
    "unit = lambda x: x.split()[1] if x.split()[0].isnumeric() else np.nan"
   ]
  },
  {
   "cell_type": "code",
   "execution_count": 224,
   "metadata": {
    "collapsed": false
   },
   "outputs": [
    {
     "data": {
      "text/plain": [
       "18"
      ]
     },
     "execution_count": 224,
     "metadata": {},
     "output_type": "execute_result"
    }
   ],
   "source": [
    "num('18 Years')"
   ]
  },
  {
   "cell_type": "code",
   "execution_count": 225,
   "metadata": {
    "collapsed": false
   },
   "outputs": [
    {
     "data": {
      "text/plain": [
       "nan"
      ]
     },
     "execution_count": 225,
     "metadata": {},
     "output_type": "execute_result"
    }
   ],
   "source": [
    "num('Both')"
   ]
  },
  {
   "cell_type": "code",
   "execution_count": 192,
   "metadata": {
    "collapsed": false
   },
   "outputs": [
    {
     "data": {
      "text/plain": [
       "'18'"
      ]
     },
     "execution_count": 192,
     "metadata": {},
     "output_type": "execute_result"
    }
   ],
   "source": [
    "ages['MINIMUM_AGE'][0:1].values[0].split()[0]"
   ]
  },
  {
   "cell_type": "code",
   "execution_count": 238,
   "metadata": {
    "collapsed": false
   },
   "outputs": [],
   "source": [
    "ages['MAXIMUM_AGE'] = ages['MAXIMUM_AGE'].astype(str)\n",
    "ages['MINIMUM_AGE'] = ages['MINIMUM_AGE'].astype(str)"
   ]
  },
  {
   "cell_type": "code",
   "execution_count": 239,
   "metadata": {
    "collapsed": false
   },
   "outputs": [],
   "source": [
    "ages['max_num'] = list(map(num, ages['MAXIMUM_AGE']))"
   ]
  },
  {
   "cell_type": "code",
   "execution_count": 240,
   "metadata": {
    "collapsed": false
   },
   "outputs": [],
   "source": [
    "ages['min_num'] = list(map(num, ages['MINIMUM_AGE']))"
   ]
  },
  {
   "cell_type": "code",
   "execution_count": 241,
   "metadata": {
    "collapsed": false
   },
   "outputs": [],
   "source": [
    "ages['max_unit'] = list(map(unit, ages['MAXIMUM_AGE']))\n",
    "ages['min_unit'] = list(map(unit, ages['MINIMUM_AGE']))"
   ]
  },
  {
   "cell_type": "code",
   "execution_count": 242,
   "metadata": {
    "collapsed": true
   },
   "outputs": [],
   "source": [
    "ages.dropna(inplace=True)"
   ]
  },
  {
   "cell_type": "code",
   "execution_count": 243,
   "metadata": {
    "collapsed": false
   },
   "outputs": [
    {
     "data": {
      "text/html": [
       "<div>\n",
       "<table border=\"1\" class=\"dataframe\">\n",
       "  <thead>\n",
       "    <tr style=\"text-align: right;\">\n",
       "      <th></th>\n",
       "      <th>MAXIMUM_AGE</th>\n",
       "      <th>MINIMUM_AGE</th>\n",
       "      <th>max_num</th>\n",
       "      <th>min_num</th>\n",
       "      <th>max_unit</th>\n",
       "      <th>min_unit</th>\n",
       "    </tr>\n",
       "  </thead>\n",
       "  <tbody>\n",
       "    <tr>\n",
       "      <th>4</th>\n",
       "      <td>65 Years</td>\n",
       "      <td>18 Years</td>\n",
       "      <td>65.0</td>\n",
       "      <td>18.0</td>\n",
       "      <td>Years</td>\n",
       "      <td>Years</td>\n",
       "    </tr>\n",
       "    <tr>\n",
       "      <th>5</th>\n",
       "      <td>60 Years</td>\n",
       "      <td>17 Years</td>\n",
       "      <td>60.0</td>\n",
       "      <td>17.0</td>\n",
       "      <td>Years</td>\n",
       "      <td>Years</td>\n",
       "    </tr>\n",
       "    <tr>\n",
       "      <th>6</th>\n",
       "      <td>65 Years</td>\n",
       "      <td>50 Years</td>\n",
       "      <td>65.0</td>\n",
       "      <td>50.0</td>\n",
       "      <td>Years</td>\n",
       "      <td>Years</td>\n",
       "    </tr>\n",
       "    <tr>\n",
       "      <th>7</th>\n",
       "      <td>35 Years</td>\n",
       "      <td>14 Years</td>\n",
       "      <td>35.0</td>\n",
       "      <td>14.0</td>\n",
       "      <td>Years</td>\n",
       "      <td>Years</td>\n",
       "    </tr>\n",
       "    <tr>\n",
       "      <th>13</th>\n",
       "      <td>80 Years</td>\n",
       "      <td>50 Years</td>\n",
       "      <td>80.0</td>\n",
       "      <td>50.0</td>\n",
       "      <td>Years</td>\n",
       "      <td>Years</td>\n",
       "    </tr>\n",
       "  </tbody>\n",
       "</table>\n",
       "</div>"
      ],
      "text/plain": [
       "   MAXIMUM_AGE MINIMUM_AGE  max_num  min_num max_unit min_unit\n",
       "4     65 Years    18 Years     65.0     18.0    Years    Years\n",
       "5     60 Years    17 Years     60.0     17.0    Years    Years\n",
       "6     65 Years    50 Years     65.0     50.0    Years    Years\n",
       "7     35 Years    14 Years     35.0     14.0    Years    Years\n",
       "13    80 Years    50 Years     80.0     50.0    Years    Years"
      ]
     },
     "execution_count": 243,
     "metadata": {},
     "output_type": "execute_result"
    }
   ],
   "source": [
    "ages.head()"
   ]
  },
  {
   "cell_type": "code",
   "execution_count": 248,
   "metadata": {
    "collapsed": false
   },
   "outputs": [
    {
     "data": {
      "text/html": [
       "<div>\n",
       "<table border=\"1\" class=\"dataframe\">\n",
       "  <thead>\n",
       "    <tr style=\"text-align: right;\">\n",
       "      <th></th>\n",
       "      <th></th>\n",
       "      <th>max_num</th>\n",
       "      <th>min_num</th>\n",
       "    </tr>\n",
       "    <tr>\n",
       "      <th>min_unit</th>\n",
       "      <th>max_unit</th>\n",
       "      <th></th>\n",
       "      <th></th>\n",
       "    </tr>\n",
       "  </thead>\n",
       "  <tbody>\n",
       "    <tr>\n",
       "      <th rowspan=\"3\" valign=\"top\">Days</th>\n",
       "      <th>Days</th>\n",
       "      <td>172.0</td>\n",
       "      <td>81.0</td>\n",
       "    </tr>\n",
       "    <tr>\n",
       "      <th>Months</th>\n",
       "      <td>27.0</td>\n",
       "      <td>68.0</td>\n",
       "    </tr>\n",
       "    <tr>\n",
       "      <th>Years</th>\n",
       "      <td>24.0</td>\n",
       "      <td>80.0</td>\n",
       "    </tr>\n",
       "    <tr>\n",
       "      <th rowspan=\"4\" valign=\"top\">Month</th>\n",
       "      <th>Months</th>\n",
       "      <td>22.0</td>\n",
       "      <td>1.0</td>\n",
       "    </tr>\n",
       "    <tr>\n",
       "      <th>Weeks</th>\n",
       "      <td>28.0</td>\n",
       "      <td>1.0</td>\n",
       "    </tr>\n",
       "    <tr>\n",
       "      <th>Year</th>\n",
       "      <td>1.0</td>\n",
       "      <td>1.0</td>\n",
       "    </tr>\n",
       "    <tr>\n",
       "      <th>Years</th>\n",
       "      <td>20.0</td>\n",
       "      <td>1.0</td>\n",
       "    </tr>\n",
       "    <tr>\n",
       "      <th rowspan=\"3\" valign=\"top\">Months</th>\n",
       "      <th>Months</th>\n",
       "      <td>35.0</td>\n",
       "      <td>12.0</td>\n",
       "    </tr>\n",
       "    <tr>\n",
       "      <th>Year</th>\n",
       "      <td>1.0</td>\n",
       "      <td>4.0</td>\n",
       "    </tr>\n",
       "    <tr>\n",
       "      <th>Years</th>\n",
       "      <td>20.0</td>\n",
       "      <td>8.0</td>\n",
       "    </tr>\n",
       "    <tr>\n",
       "      <th rowspan=\"5\" valign=\"top\">Weeks</th>\n",
       "      <th>Days</th>\n",
       "      <td>167.0</td>\n",
       "      <td>6.0</td>\n",
       "    </tr>\n",
       "    <tr>\n",
       "      <th>Months</th>\n",
       "      <td>18.0</td>\n",
       "      <td>8.0</td>\n",
       "    </tr>\n",
       "    <tr>\n",
       "      <th>Weeks</th>\n",
       "      <td>26.0</td>\n",
       "      <td>19.0</td>\n",
       "    </tr>\n",
       "    <tr>\n",
       "      <th>Year</th>\n",
       "      <td>1.0</td>\n",
       "      <td>24.0</td>\n",
       "    </tr>\n",
       "    <tr>\n",
       "      <th>Years</th>\n",
       "      <td>18.0</td>\n",
       "      <td>14.0</td>\n",
       "    </tr>\n",
       "    <tr>\n",
       "      <th rowspan=\"3\" valign=\"top\">Year</th>\n",
       "      <th>Months</th>\n",
       "      <td>30.0</td>\n",
       "      <td>1.0</td>\n",
       "    </tr>\n",
       "    <tr>\n",
       "      <th>Year</th>\n",
       "      <td>1.0</td>\n",
       "      <td>1.0</td>\n",
       "    </tr>\n",
       "    <tr>\n",
       "      <th>Years</th>\n",
       "      <td>24.0</td>\n",
       "      <td>1.0</td>\n",
       "    </tr>\n",
       "    <tr>\n",
       "      <th rowspan=\"2\" valign=\"top\">Years</th>\n",
       "      <th>Months</th>\n",
       "      <td>128.0</td>\n",
       "      <td>7.0</td>\n",
       "    </tr>\n",
       "    <tr>\n",
       "      <th>Years</th>\n",
       "      <td>62.0</td>\n",
       "      <td>20.0</td>\n",
       "    </tr>\n",
       "  </tbody>\n",
       "</table>\n",
       "</div>"
      ],
      "text/plain": [
       "                   max_num  min_num\n",
       "min_unit max_unit                  \n",
       "Days     Days        172.0     81.0\n",
       "         Months       27.0     68.0\n",
       "         Years        24.0     80.0\n",
       "Month    Months       22.0      1.0\n",
       "         Weeks        28.0      1.0\n",
       "         Year          1.0      1.0\n",
       "         Years        20.0      1.0\n",
       "Months   Months       35.0     12.0\n",
       "         Year          1.0      4.0\n",
       "         Years        20.0      8.0\n",
       "Weeks    Days        167.0      6.0\n",
       "         Months       18.0      8.0\n",
       "         Weeks        26.0     19.0\n",
       "         Year          1.0     24.0\n",
       "         Years        18.0     14.0\n",
       "Year     Months       30.0      1.0\n",
       "         Year          1.0      1.0\n",
       "         Years        24.0      1.0\n",
       "Years    Months      128.0      7.0\n",
       "         Years        62.0     20.0"
      ]
     },
     "execution_count": 248,
     "metadata": {},
     "output_type": "execute_result"
    }
   ],
   "source": [
    "ages.groupby(['min_unit', 'max_unit']).mean().round()"
   ]
  },
  {
   "cell_type": "code",
   "execution_count": 259,
   "metadata": {
    "collapsed": false
   },
   "outputs": [
    {
     "data": {
      "text/plain": [
       "(123, 6)"
      ]
     },
     "execution_count": 259,
     "metadata": {},
     "output_type": "execute_result"
    }
   ],
   "source": [
    "days = ages[(ages['min_unit']=='Days') & (ages['max_unit']=='Days')]\n",
    "days.shape"
   ]
  },
  {
   "cell_type": "code",
   "execution_count": 260,
   "metadata": {
    "collapsed": false
   },
   "outputs": [
    {
     "data": {
      "text/plain": [
       "(454, 6)"
      ]
     },
     "execution_count": 260,
     "metadata": {},
     "output_type": "execute_result"
    }
   ],
   "source": [
    "weeks = ages[(ages['min_unit']=='Weeks') & (ages['max_unit']=='Weeks')]\n",
    "weeks.shape"
   ]
  },
  {
   "cell_type": "code",
   "execution_count": 261,
   "metadata": {
    "collapsed": false
   },
   "outputs": [
    {
     "data": {
      "text/plain": [
       "(1217, 6)"
      ]
     },
     "execution_count": 261,
     "metadata": {},
     "output_type": "execute_result"
    }
   ],
   "source": [
    "months = ages[(ages['min_unit']=='Months') & (ages['max_unit']=='Months')]\n",
    "months.shape"
   ]
  },
  {
   "cell_type": "code",
   "execution_count": 262,
   "metadata": {
    "collapsed": false
   },
   "outputs": [
    {
     "data": {
      "text/plain": [
       "(94795, 6)"
      ]
     },
     "execution_count": 262,
     "metadata": {},
     "output_type": "execute_result"
    }
   ],
   "source": [
    "years = ages[(ages['min_unit']=='Years') & (ages['max_unit']=='Years')]\n",
    "years.shape"
   ]
  },
  {
   "cell_type": "code",
   "execution_count": 292,
   "metadata": {
    "collapsed": false,
    "scrolled": true
   },
   "outputs": [
    {
     "data": {
      "image/png": "[encoded data removed]",
      "text/plain": [
       "<matplotlib.figure.Figure at 0x16239ecf8>"
      ]
     },
     "metadata": {},
     "output_type": "display_data"
    }
   ],
   "source": [
    "sns.set_context('poster')\n",
    "from collections import OrderedDict\n",
    "ages = OrderedDict({'days': 123, 'weeks': 454, 'months':1217, 'years':94795})\n",
    "g = sns.barplot(list(ages.keys()), list(ages.values()))\n",
    "g.figure.get_axes()[0].set_yscale('log')"
   ]
  },
  {
   "cell_type": "code",
   "execution_count": 293,
   "metadata": {
    "collapsed": true
   },
   "outputs": [],
   "source": [
    "#which trials are the ones on infants (where ages are days/weeks/months)?"
   ]
  },
  {
   "cell_type": "code",
   "execution_count": null,
   "metadata": {
    "collapsed": true
   },
   "outputs": [],
   "source": []
  },
  {
   "cell_type": "code",
   "execution_count": 265,
   "metadata": {
    "collapsed": false
   },
   "outputs": [
    {
     "data": {
      "text/html": [
       "<div>\n",
       "<table border=\"1\" class=\"dataframe\">\n",
       "  <thead>\n",
       "    <tr style=\"text-align: right;\">\n",
       "      <th></th>\n",
       "      <th>level_0</th>\n",
       "      <th>index</th>\n",
       "      <th>MAXIMUM_AGE</th>\n",
       "      <th>MINIMUM_AGE</th>\n",
       "      <th>max_num</th>\n",
       "      <th>min_num</th>\n",
       "      <th>max_unit</th>\n",
       "      <th>min_unit</th>\n",
       "    </tr>\n",
       "  </thead>\n",
       "  <tbody>\n",
       "    <tr>\n",
       "      <th>0</th>\n",
       "      <td>0</td>\n",
       "      <td>11386</td>\n",
       "      <td>120 Days</td>\n",
       "      <td>91 Days</td>\n",
       "      <td>120.0</td>\n",
       "      <td>91.0</td>\n",
       "      <td>Days</td>\n",
       "      <td>Days</td>\n",
       "    </tr>\n",
       "    <tr>\n",
       "      <th>1</th>\n",
       "      <td>1</td>\n",
       "      <td>16161</td>\n",
       "      <td>730 Days</td>\n",
       "      <td>427 Days</td>\n",
       "      <td>730.0</td>\n",
       "      <td>427.0</td>\n",
       "      <td>Days</td>\n",
       "      <td>Days</td>\n",
       "    </tr>\n",
       "    <tr>\n",
       "      <th>2</th>\n",
       "      <td>2</td>\n",
       "      <td>20778</td>\n",
       "      <td>83 Days</td>\n",
       "      <td>56 Days</td>\n",
       "      <td>83.0</td>\n",
       "      <td>56.0</td>\n",
       "      <td>Days</td>\n",
       "      <td>Days</td>\n",
       "    </tr>\n",
       "    <tr>\n",
       "      <th>3</th>\n",
       "      <td>3</td>\n",
       "      <td>21285</td>\n",
       "      <td>98 Days</td>\n",
       "      <td>42 Days</td>\n",
       "      <td>98.0</td>\n",
       "      <td>42.0</td>\n",
       "      <td>Days</td>\n",
       "      <td>Days</td>\n",
       "    </tr>\n",
       "    <tr>\n",
       "      <th>4</th>\n",
       "      <td>4</td>\n",
       "      <td>22079</td>\n",
       "      <td>577 Days</td>\n",
       "      <td>427 Days</td>\n",
       "      <td>577.0</td>\n",
       "      <td>427.0</td>\n",
       "      <td>Days</td>\n",
       "      <td>Days</td>\n",
       "    </tr>\n",
       "  </tbody>\n",
       "</table>\n",
       "</div>"
      ],
      "text/plain": [
       "   level_0  index MAXIMUM_AGE MINIMUM_AGE  max_num  min_num max_unit min_unit\n",
       "0        0  11386    120 Days     91 Days    120.0     91.0     Days     Days\n",
       "1        1  16161    730 Days    427 Days    730.0    427.0     Days     Days\n",
       "2        2  20778     83 Days     56 Days     83.0     56.0     Days     Days\n",
       "3        3  21285     98 Days     42 Days     98.0     42.0     Days     Days\n",
       "4        4  22079    577 Days    427 Days    577.0    427.0     Days     Days"
      ]
     },
     "execution_count": 265,
     "metadata": {},
     "output_type": "execute_result"
    }
   ],
   "source": [
    "days.reset_index(inplace=True)\n",
    "days.head()"
   ]
  },
  {
   "cell_type": "code",
   "execution_count": 282,
   "metadata": {
    "collapsed": false
   },
   "outputs": [
    {
     "ename": "ValueError",
     "evalue": "labels [115 116] not contained in axis",
     "output_type": "error",
     "traceback": [
      "\u001b[0;31m---------------------------------------------------------------------------\u001b[0m",
      "\u001b[0;31mValueError\u001b[0m                                Traceback (most recent call last)",
      "\u001b[0;32m<ipython-input-282-80e579382c89>\u001b[0m in \u001b[0;36m<module>\u001b[0;34m()\u001b[0m\n\u001b[1;32m      1\u001b[0m \u001b[0mdays\u001b[0m\u001b[0;34m[\u001b[0m\u001b[0mdays\u001b[0m\u001b[0;34m[\u001b[0m\u001b[0;34m'max_num'\u001b[0m\u001b[0;34m]\u001b[0m\u001b[0;34m==\u001b[0m \u001b[0;36m6569\u001b[0m\u001b[0;34m]\u001b[0m\u001b[0;34m\u001b[0m\u001b[0m\n\u001b[0;32m----> 2\u001b[0;31m \u001b[0mdays\u001b[0m\u001b[0;34m.\u001b[0m\u001b[0mdrop\u001b[0m\u001b[0;34m(\u001b[0m\u001b[0;34m[\u001b[0m\u001b[0;36m115\u001b[0m\u001b[0;34m,\u001b[0m\u001b[0;36m116\u001b[0m\u001b[0;34m]\u001b[0m\u001b[0;34m,\u001b[0m \u001b[0minplace\u001b[0m\u001b[0;34m=\u001b[0m\u001b[0;32mTrue\u001b[0m\u001b[0;34m)\u001b[0m\u001b[0;34m\u001b[0m\u001b[0m\n\u001b[0m",
      "\u001b[0;32m/Users/szeitlin/anaconda/envs/clinicaltrials/lib/python3.5/site-packages/pandas/core/generic.py\u001b[0m in \u001b[0;36mdrop\u001b[0;34m(self, labels, axis, level, inplace, errors)\u001b[0m\n\u001b[1;32m   1875\u001b[0m                 \u001b[0mnew_axis\u001b[0m \u001b[0;34m=\u001b[0m \u001b[0maxis\u001b[0m\u001b[0;34m.\u001b[0m\u001b[0mdrop\u001b[0m\u001b[0;34m(\u001b[0m\u001b[0mlabels\u001b[0m\u001b[0;34m,\u001b[0m \u001b[0mlevel\u001b[0m\u001b[0;34m=\u001b[0m\u001b[0mlevel\u001b[0m\u001b[0;34m,\u001b[0m \u001b[0merrors\u001b[0m\u001b[0;34m=\u001b[0m\u001b[0merrors\u001b[0m\u001b[0;34m)\u001b[0m\u001b[0;34m\u001b[0m\u001b[0m\n\u001b[1;32m   1876\u001b[0m             \u001b[0;32melse\u001b[0m\u001b[0;34m:\u001b[0m\u001b[0;34m\u001b[0m\u001b[0m\n\u001b[0;32m-> 1877\u001b[0;31m                 \u001b[0mnew_axis\u001b[0m \u001b[0;34m=\u001b[0m \u001b[0maxis\u001b[0m\u001b[0;34m.\u001b[0m\u001b[0mdrop\u001b[0m\u001b[0;34m(\u001b[0m\u001b[0mlabels\u001b[0m\u001b[0;34m,\u001b[0m \u001b[0merrors\u001b[0m\u001b[0;34m=\u001b[0m\u001b[0merrors\u001b[0m\u001b[0;34m)\u001b[0m\u001b[0;34m\u001b[0m\u001b[0m\n\u001b[0m\u001b[1;32m   1878\u001b[0m             \u001b[0mdropped\u001b[0m \u001b[0;34m=\u001b[0m \u001b[0mself\u001b[0m\u001b[0;34m.\u001b[0m\u001b[0mreindex\u001b[0m\u001b[0;34m(\u001b[0m\u001b[0;34m**\u001b[0m\u001b[0;34m{\u001b[0m\u001b[0maxis_name\u001b[0m\u001b[0;34m:\u001b[0m \u001b[0mnew_axis\u001b[0m\u001b[0;34m}\u001b[0m\u001b[0;34m)\u001b[0m\u001b[0;34m\u001b[0m\u001b[0m\n\u001b[1;32m   1879\u001b[0m             \u001b[0;32mtry\u001b[0m\u001b[0;34m:\u001b[0m\u001b[0;34m\u001b[0m\u001b[0m\n",
      "\u001b[0;32m/Users/szeitlin/anaconda/envs/clinicaltrials/lib/python3.5/site-packages/pandas/indexes/base.py\u001b[0m in \u001b[0;36mdrop\u001b[0;34m(self, labels, errors)\u001b[0m\n\u001b[1;32m   3049\u001b[0m             \u001b[0;32mif\u001b[0m \u001b[0merrors\u001b[0m \u001b[0;34m!=\u001b[0m \u001b[0;34m'ignore'\u001b[0m\u001b[0;34m:\u001b[0m\u001b[0;34m\u001b[0m\u001b[0m\n\u001b[1;32m   3050\u001b[0m                 raise ValueError('labels %s not contained in axis' %\n\u001b[0;32m-> 3051\u001b[0;31m                                  labels[mask])\n\u001b[0m\u001b[1;32m   3052\u001b[0m             \u001b[0mindexer\u001b[0m \u001b[0;34m=\u001b[0m \u001b[0mindexer\u001b[0m\u001b[0;34m[\u001b[0m\u001b[0;34m~\u001b[0m\u001b[0mmask\u001b[0m\u001b[0;34m]\u001b[0m\u001b[0;34m\u001b[0m\u001b[0m\n\u001b[1;32m   3053\u001b[0m         \u001b[0;32mreturn\u001b[0m \u001b[0mself\u001b[0m\u001b[0;34m.\u001b[0m\u001b[0mdelete\u001b[0m\u001b[0;34m(\u001b[0m\u001b[0mindexer\u001b[0m\u001b[0;34m)\u001b[0m\u001b[0;34m\u001b[0m\u001b[0m\n",
      "\u001b[0;31mValueError\u001b[0m: labels [115 116] not contained in axis"
     ]
    }
   ],
   "source": [
    "days[days['max_num']== 6569]\n",
    "days.drop([115,116], inplace=True)"
   ]
  },
  {
   "cell_type": "code",
   "execution_count": 283,
   "metadata": {
    "collapsed": false
   },
   "outputs": [
    {
     "data": {
      "text/plain": [
       "<matplotlib.axes._subplots.AxesSubplot at 0x15ed97390>"
      ]
     },
     "execution_count": 283,
     "metadata": {},
     "output_type": "execute_result"
    },
    {
     "data": {
      "image/png": "[encoded data removed]",
      "text/plain": [
       "<matplotlib.figure.Figure at 0x15ee5c1d0>"
      ]
     },
     "metadata": {},
     "output_type": "display_data"
    }
   ],
   "source": [
    "sns.set_context('notebook')\n",
    "sns.distplot(days['min_num'])\n",
    "sns.distplot(days['max_num'])"
   ]
  },
  {
   "cell_type": "code",
   "execution_count": 284,
   "metadata": {
    "collapsed": false
   },
   "outputs": [
    {
     "data": {
      "text/plain": [
       "<matplotlib.axes._subplots.AxesSubplot at 0x15f9617f0>"
      ]
     },
     "execution_count": 284,
     "metadata": {},
     "output_type": "execute_result"
    },
    {
     "data": {
      "image/png": "[encoded data removed]",
      "text/plain": [
       "<matplotlib.figure.Figure at 0x15f966b70>"
      ]
     },
     "metadata": {},
     "output_type": "display_data"
    }
   ],
   "source": [
    "sns.distplot(weeks['min_num'])\n",
    "sns.distplot(weeks['max_num'])"
   ]
  },
  {
   "cell_type": "code",
   "execution_count": 285,
   "metadata": {
    "collapsed": false
   },
   "outputs": [
    {
     "data": {
      "text/plain": [
       "<matplotlib.axes._subplots.AxesSubplot at 0x15f96ae10>"
      ]
     },
     "execution_count": 285,
     "metadata": {},
     "output_type": "execute_result"
    },
    {
     "data": {
      "image/png": "[encoded data removed]",
      "text/plain": [
       "<matplotlib.figure.Figure at 0x15fbed860>"
      ]
     },
     "metadata": {},
     "output_type": "display_data"
    }
   ],
   "source": [
    "sns.distplot(months['min_num'])\n",
    "sns.distplot(months['max_num'])"
   ]
  },
  {
   "cell_type": "code",
   "execution_count": 286,
   "metadata": {
    "collapsed": false
   },
   "outputs": [
    {
     "data": {
      "text/plain": [
       "<matplotlib.axes._subplots.AxesSubplot at 0x15fcc1b00>"
      ]
     },
     "execution_count": 286,
     "metadata": {},
     "output_type": "execute_result"
    },
    {
     "data": {
      "image/png": "[encoded data removed]",
      "text/plain": [
       "<matplotlib.figure.Figure at 0x15f97f1d0>"
      ]
     },
     "metadata": {},
     "output_type": "display_data"
    }
   ],
   "source": [
    "sns.distplot(years['min_num'])\n",
    "sns.distplot(years['max_num'])"
   ]
  },
  {
   "cell_type": "code",
   "execution_count": 250,
   "metadata": {
    "collapsed": false
   },
   "outputs": [
    {
     "data": {
      "text/plain": [
       "Non-Probability Sample                                                                       23424\n",
       "Probability Sample                                                                            9071\n",
       "stroke patients of both sex                                                                      1\n",
       "A total of 200 T2D diabetic patients without history of clinical Cardiovascular disease          1\n",
       "All treatment naive patients seen in consultation for metastatic colorectal cancer in the        1\n",
       "No                                                                                               1\n",
       "Name: SAMPLING_METHOD, dtype: int64"
      ]
     },
     "execution_count": 250,
     "metadata": {},
     "output_type": "execute_result"
    }
   ],
   "source": [
    "sampling = clinical_studies['SAMPLING_METHOD']\n",
    "sampling.value_counts()"
   ]
  },
  {
   "cell_type": "code",
   "execution_count": 252,
   "metadata": {
    "collapsed": false
   },
   "outputs": [
    {
     "data": {
      "text/plain": [
       "Interventional                      168925\n",
       "Observational                        37795\n",
       "Observational [Patient Registry]      1991\n",
       "Expanded Access                        338\n",
       "Name: STUDY_TYPE, dtype: int64"
      ]
     },
     "execution_count": 252,
     "metadata": {},
     "output_type": "execute_result"
    }
   ],
   "source": [
    "types = clinical_studies['STUDY_TYPE']\n",
    "types.value_counts()[0:4]"
   ]
  },
  {
   "cell_type": "code",
   "execution_count": 338,
   "metadata": {
    "collapsed": false
   },
   "outputs": [
    {
     "data": {
      "text/plain": [
       "See termination reason in detailed description.                                                 121\n",
       "Slow accrual                                                                                     90\n",
       "low accrual                                                                                      85\n",
       "Lack of funding                                                                                  67\n",
       "slow accrual                                                                                     63\n",
       "Administratively complete.                                                                       59\n",
       "Lack of enrollment                                                                               59\n",
       "Low accrual                                                                                      45\n",
       "Slow recruitment                                                                                 43\n",
       "Poor accrual                                                                                     42\n",
       "Slow Accrual                                                                                     38\n",
       "Slow enrollment                                                                                  37\n",
       "Sponsor decision                                                                                 35\n",
       "Low enrollment                                                                                   35\n",
       "Poor enrollment                                                                                  34\n",
       "Slow accrual.                                                                                    34\n",
       "Lack of efficacy                                                                                 29\n",
       "Lack of accrual                                                                                  27\n",
       "lack of funding                                                                                  24\n",
       "Lack of recruitment                                                                              24\n",
       "Poor recruitment                                                                                 23\n",
       "No funding                                                                                       21\n",
       "Insufficient enrollment                                                                          21\n",
       "Insufficient recruitment                                                                         21\n",
       "poor accrual                                                                                     21\n",
       "lack of accrual                                                                                  20\n",
       "low enrollment                                                                                   20\n",
       "Business decision                                                                                18\n",
       "lack of enrollment                                                                               18\n",
       "poor enrollment                                                                                  18\n",
       "                                                                                               ... \n",
       "The trial was terminated because it was determined that the usability of the MIND1 System in      1\n",
       "The patient population (CLL & SLL) was included in another ongoing study involving NHL            1\n",
       "Given the number of toxicities seen and the difficulty with patient retention in the dose         1\n",
       "One of the study medications, tacrine, is no longer clinically available                          1\n",
       "problem of recruitment                                                                            1\n",
       "Accrual was not optimized                                                                         1\n",
       "Study halted prematurely due to some difficulties in recruitment of patients                      1\n",
       "Study was stopped due to low follow-up compliance at study sites.                                 1\n",
       "The study was terminated because it is very difficult to recruit more patients.                   1\n",
       "Recommendation of DSMB for safety issue, increased mortality with study drug.                     1\n",
       "Terminated due to funding loss.                                                                   1\n",
       "Dr. Rabheru left VCH last year and the study was cancelled according to his research              1\n",
       "Randomization flawed. Results were poor in the innovative catheter group                          1\n",
       "PI has relocated                                                                                  1\n",
       "Significantly lower accrual rate than anticipated, time constraints.                              1\n",
       "No financing possible                                                                             1\n",
       "This study was terminated for futility                                                            1\n",
       "ethics approval not renewed by Study Group                                                        1\n",
       "PK results demonstrate low and variable plasma concentrations so that achieving therapeutic       1\n",
       "Abandoned due to poor recruitment                                                                 1\n",
       "Drug availability                                                                                 1\n",
       "Poor accural                                                                                      1\n",
       "Terminated due to slow participant accrual                                                        1\n",
       "The primary reason for the decision to discontinue the study is lack of enrolment; this           1\n",
       "Treatment failure on study medication observed                                                    1\n",
       "Funding not available. Could not start this study.                                                1\n",
       "faillure to obtain insurance because of refusal from insurance companies                          1\n",
       "The study was terminated due to the inability to enroll subjects. No subjects were or ever        1\n",
       "to include required number of patients took too much time                                         1\n",
       "results from interim analysis conducted to study interruption                                     1\n",
       "Name: WHY_STOPPED, dtype: int64"
      ]
     },
     "execution_count": 338,
     "metadata": {},
     "output_type": "execute_result"
    }
   ],
   "source": [
    "stopped = clinical_studies['WHY_STOPPED'].dropna()\n",
    "stopped.value_counts() #needs to be normalized & aggregated"
   ]
  },
  {
   "cell_type": "code",
   "execution_count": 363,
   "metadata": {
    "collapsed": false
   },
   "outputs": [],
   "source": [
    "stopped = stopped.str.lower()\n"
   ]
  },
  {
   "cell_type": "code",
   "execution_count": 358,
   "metadata": {
    "collapsed": true
   },
   "outputs": [],
   "source": [
    "#synonyms = ['slow', 'low', 'poor', 'lack', 'insufficient', \n",
    "#            'no', 'terminated', 'business', 'unable']\n",
    "\n",
    "categories = {'recruitment': ['recruitment', 'enrollment', 'accrual', 'recruit'], \n",
    "              'money': ['funding', 'funded', 'business'],\n",
    "              'scientific': ['efficacy', 'side'], \n",
    "              'finished': ['complete']}\n"
   ]
  },
  {
   "cell_type": "code",
   "execution_count": 340,
   "metadata": {
    "collapsed": false
   },
   "outputs": [],
   "source": [
    "stopped = stopped.astype(str)"
   ]
  },
  {
   "cell_type": "code",
   "execution_count": 341,
   "metadata": {
    "collapsed": false
   },
   "outputs": [
    {
     "data": {
      "text/plain": [
       "[['unable', 'to', 'recruit', 'adequate', 'number', 'of', 'subjects'],\n",
       " ['original', 'p.i', '.', 'left', 'the', 'institution'],\n",
       " ['study', 'was', 'never', 'funded', '.'],\n",
       " ['pairing',\n",
       "  'd-cycloserine',\n",
       "  'with',\n",
       "  'clozapine',\n",
       "  'was',\n",
       "  'found',\n",
       "  'to',\n",
       "  'worsen',\n",
       "  'negative',\n",
       "  'side',\n",
       "  'effects',\n",
       "  'in',\n",
       "  'patients'],\n",
       " ['as', 'of', '4/23/97']]"
      ]
     },
     "execution_count": 341,
     "metadata": {},
     "output_type": "execute_result"
    }
   ],
   "source": [
    "tokenized = [nltk.word_tokenize(x) for x in stopped]\n",
    "tokenized[0:5]"
   ]
  },
  {
   "cell_type": "code",
   "execution_count": 360,
   "metadata": {
    "collapsed": false
   },
   "outputs": [],
   "source": [
    "#want to count how many were terminated using synonyms list\n",
    "from collections import defaultdict\n",
    "studies = defaultdict(int)\n",
    "for cat in categories.keys():\n",
    "    for token in tokenized:\n",
    "         for label in categories[cat]:\n",
    "            if label in token:\n",
    "                studies[cat] +=1\n",
    "reasons = dict(studies)"
   ]
  },
  {
   "cell_type": "code",
   "execution_count": 361,
   "metadata": {
    "collapsed": false
   },
   "outputs": [
    {
     "data": {
      "text/plain": [
       "{'finished': 143, 'money': 1052, 'recruitment': 3775, 'scientific': 305}"
      ]
     },
     "execution_count": 361,
     "metadata": {},
     "output_type": "execute_result"
    }
   ],
   "source": [
    "reasons"
   ]
  },
  {
   "cell_type": "code",
   "execution_count": 362,
   "metadata": {
    "collapsed": false
   },
   "outputs": [
    {
     "data": {
      "text/plain": [
       "<matplotlib.axes._subplots.AxesSubplot at 0x12bc243c8>"
      ]
     },
     "execution_count": 362,
     "metadata": {},
     "output_type": "execute_result"
    },
    {
     "data": {
      "image/png": "[encoded data removed]",
      "text/plain": [
       "<matplotlib.figure.Figure at 0x16fe5e198>"
      ]
     },
     "metadata": {},
     "output_type": "display_data"
    }
   ],
   "source": [
    "sns.barplot(list(reasons.values()), list(reasons.keys()))"
   ]
  },
  {
   "cell_type": "code",
   "execution_count": 320,
   "metadata": {
    "collapsed": false
   },
   "outputs": [
    {
     "data": {
      "text/plain": [
       "(257985, 42)"
      ]
     },
     "execution_count": 320,
     "metadata": {},
     "output_type": "execute_result"
    }
   ],
   "source": [
    "clinical_studies.shape"
   ]
  },
  {
   "cell_type": "code",
   "execution_count": 319,
   "metadata": {
    "collapsed": false
   },
   "outputs": [
    {
     "data": {
      "text/plain": [
       "0.04628176056747485"
      ]
     },
     "execution_count": 319,
     "metadata": {},
     "output_type": "execute_result"
    }
   ],
   "source": [
    "clinical_studies['WHY_STOPPED'].count()/clinical_studies.shape[0]"
   ]
  },
  {
   "cell_type": "code",
   "execution_count": 149,
   "metadata": {
    "collapsed": false
   },
   "outputs": [],
   "source": [
    "specimens = clinical_studies[['BIOSPEC_RETENTION', 'BIOSPEC_DESCR']]\n",
    "samples = specimens['BIOSPEC_RETENTION'].value_counts()[0:3]"
   ]
  },
  {
   "cell_type": "code",
   "execution_count": 150,
   "metadata": {
    "collapsed": false
   },
   "outputs": [
    {
     "data": {
      "text/plain": [
       "[None, None, None, None, None, None, None]"
      ]
     },
     "execution_count": 150,
     "metadata": {},
     "output_type": "execute_result"
    },
    {
     "data": {
      "image/png": "[encoded data removed]",
      "text/plain": [
       "<matplotlib.figure.Figure at 0x144b260f0>"
      ]
     },
     "metadata": {},
     "output_type": "display_data"
    }
   ],
   "source": [
    "get_x = lambda x: x[0]\n",
    "get_y = lambda x: x[1]\n",
    "x_labels = samples.index\n",
    "y_labels = samples.values\n",
    "sns.set_context(\"poster\", font_scale = 1.5)\n",
    "sns.set_palette(\"hls\")\n",
    "sns.barplot(y_labels, x_labels)\n",
    "locs, labels = plt.xticks()\n",
    "plt.setp(labels, rotation=90)"
   ]
  },
  {
   "cell_type": "code",
   "execution_count": 142,
   "metadata": {
    "collapsed": false
   },
   "outputs": [
    {
     "data": {
      "text/plain": [
       "array([175975,  20021,  10728])"
      ]
     },
     "execution_count": 142,
     "metadata": {},
     "output_type": "execute_result"
    }
   ],
   "source": [
    "genders = clinical_studies['GENDER'].value_counts()[0:3]\n",
    "genders.values"
   ]
  },
  {
   "cell_type": "code",
   "execution_count": 146,
   "metadata": {
    "collapsed": false
   },
   "outputs": [
    {
     "data": {
      "text/plain": [
       "[None, None, None, None, None, None, None, None, None, None]"
      ]
     },
     "execution_count": 146,
     "metadata": {},
     "output_type": "execute_result"
    },
    {
     "data": {
      "image/png": "[encoded data removed]",
      "text/plain": [
       "<matplotlib.figure.Figure at 0x144af37f0>"
      ]
     },
     "metadata": {},
     "output_type": "display_data"
    }
   ],
   "source": [
    "get_x = lambda x: x[0]\n",
    "get_y = lambda x: x[1]\n",
    "x_labels = genders.index\n",
    "y_labels = genders.values\n",
    "sns.set_context(\"poster\", font_scale = 1.5)\n",
    "sns.set_palette(\"hls\")\n",
    "sns.barplot(y_labels, x_labels)\n",
    "locs, labels = plt.xticks()\n",
    "plt.setp(labels, rotation=90)"
   ]
  },
  {
   "cell_type": "code",
   "execution_count": 102,
   "metadata": {
    "collapsed": false
   },
   "outputs": [
    {
     "name": "stderr",
     "output_type": "stream",
     "text": [
      "/Users/szeitlin/anaconda/envs/clinicaltrials/lib/python3.5/site-packages/IPython/core/interactiveshell.py:2723: DtypeWarning: Columns (4,5,6,7) have mixed types. Specify dtype option on import or set low_memory=False.\n",
      "  interactivity=interactivity, compiler=compiler, result=result)\n"
     ]
    },
    {
     "data": {
      "text/html": [
       "<div>\n",
       "<table border=\"1\" class=\"dataframe\">\n",
       "  <thead>\n",
       "    <tr style=\"text-align: right;\">\n",
       "      <th></th>\n",
       "      <th>BASELINE_MEASURE_CATGY_ID</th>\n",
       "      <th>BASELINE_ID</th>\n",
       "      <th>CATEGORY_TITLE</th>\n",
       "      <th>ARM_GROUP_ID</th>\n",
       "      <th>BASELINE_VALUE</th>\n",
       "      <th>SPREAD</th>\n",
       "      <th>LOWER_LIMIT</th>\n",
       "      <th>UPPER_LIMIT</th>\n",
       "    </tr>\n",
       "  </thead>\n",
       "  <tbody>\n",
       "    <tr>\n",
       "      <th>0</th>\n",
       "      <td>116</td>\n",
       "      <td>141</td>\n",
       "      <td>Black</td>\n",
       "      <td>337293</td>\n",
       "      <td>10</td>\n",
       "      <td>NaN</td>\n",
       "      <td>NaN</td>\n",
       "      <td>NaN</td>\n",
       "    </tr>\n",
       "    <tr>\n",
       "      <th>1</th>\n",
       "      <td>117</td>\n",
       "      <td>142</td>\n",
       "      <td>United States</td>\n",
       "      <td>337293</td>\n",
       "      <td>215</td>\n",
       "      <td>NaN</td>\n",
       "      <td>NaN</td>\n",
       "      <td>NaN</td>\n",
       "    </tr>\n",
       "    <tr>\n",
       "      <th>2</th>\n",
       "      <td>118</td>\n",
       "      <td>143</td>\n",
       "      <td>NaN</td>\n",
       "      <td>337294</td>\n",
       "      <td>9968</td>\n",
       "      <td>NaN</td>\n",
       "      <td>NaN</td>\n",
       "      <td>NaN</td>\n",
       "    </tr>\n",
       "    <tr>\n",
       "      <th>3</th>\n",
       "      <td>119</td>\n",
       "      <td>144</td>\n",
       "      <td>&lt;=18 years</td>\n",
       "      <td>337294</td>\n",
       "      <td>0</td>\n",
       "      <td>NaN</td>\n",
       "      <td>NaN</td>\n",
       "      <td>NaN</td>\n",
       "    </tr>\n",
       "    <tr>\n",
       "      <th>4</th>\n",
       "      <td>120</td>\n",
       "      <td>144</td>\n",
       "      <td>Between 18 and 65 years</td>\n",
       "      <td>337294</td>\n",
       "      <td>8981</td>\n",
       "      <td>NaN</td>\n",
       "      <td>NaN</td>\n",
       "      <td>NaN</td>\n",
       "    </tr>\n",
       "  </tbody>\n",
       "</table>\n",
       "</div>"
      ],
      "text/plain": [
       "   BASELINE_MEASURE_CATGY_ID  BASELINE_ID           CATEGORY_TITLE  \\\n",
       "0                        116          141                    Black   \n",
       "1                        117          142            United States   \n",
       "2                        118          143                      NaN   \n",
       "3                        119          144               <=18 years   \n",
       "4                        120          144  Between 18 and 65 years   \n",
       "\n",
       "   ARM_GROUP_ID BASELINE_VALUE SPREAD LOWER_LIMIT UPPER_LIMIT  \n",
       "0        337293             10    NaN         NaN         NaN  \n",
       "1        337293            215    NaN         NaN         NaN  \n",
       "2        337294           9968    NaN         NaN         NaN  \n",
       "3        337294              0    NaN         NaN         NaN  \n",
       "4        337294           8981    NaN         NaN         NaN  "
      ]
     },
     "execution_count": 102,
     "metadata": {},
     "output_type": "execute_result"
    }
   ],
   "source": [
    "baseline = pd.read_csv('results_baseline_measure_catgy.txt', sep='|')\n",
    "baseline.head()"
   ]
  },
  {
   "cell_type": "code",
   "execution_count": 103,
   "metadata": {
    "collapsed": false
   },
   "outputs": [
    {
     "data": {
      "text/html": [
       "<div>\n",
       "<table border=\"1\" class=\"dataframe\">\n",
       "  <thead>\n",
       "    <tr style=\"text-align: right;\">\n",
       "      <th></th>\n",
       "      <th>BASELINE_ID</th>\n",
       "      <th>RSLTS_BASELINE_ID</th>\n",
       "      <th>BASELINE_MEASURE_TITLE</th>\n",
       "      <th>DESCRIPTION</th>\n",
       "      <th>UNITS_OF_MEASURE</th>\n",
       "      <th>MEASURE_TYPE</th>\n",
       "      <th>DISPERSION</th>\n",
       "    </tr>\n",
       "  </thead>\n",
       "  <tbody>\n",
       "    <tr>\n",
       "      <th>0</th>\n",
       "      <td>91</td>\n",
       "      <td>30</td>\n",
       "      <td>Gender</td>\n",
       "      <td>NaN</td>\n",
       "      <td>participants</td>\n",
       "      <td>Number</td>\n",
       "      <td>NaN</td>\n",
       "    </tr>\n",
       "    <tr>\n",
       "      <th>1</th>\n",
       "      <td>92</td>\n",
       "      <td>30</td>\n",
       "      <td>Region of Enrollment</td>\n",
       "      <td>NaN</td>\n",
       "      <td>participants</td>\n",
       "      <td>Number</td>\n",
       "      <td>NaN</td>\n",
       "    </tr>\n",
       "    <tr>\n",
       "      <th>2</th>\n",
       "      <td>93</td>\n",
       "      <td>31</td>\n",
       "      <td>Number of Participants</td>\n",
       "      <td>NaN</td>\n",
       "      <td>participants</td>\n",
       "      <td>Number</td>\n",
       "      <td>NaN</td>\n",
       "    </tr>\n",
       "    <tr>\n",
       "      <th>3</th>\n",
       "      <td>94</td>\n",
       "      <td>31</td>\n",
       "      <td>Age</td>\n",
       "      <td>NaN</td>\n",
       "      <td>years</td>\n",
       "      <td>Median</td>\n",
       "      <td>Full Range</td>\n",
       "    </tr>\n",
       "    <tr>\n",
       "      <th>4</th>\n",
       "      <td>95</td>\n",
       "      <td>31</td>\n",
       "      <td>Gender</td>\n",
       "      <td>NaN</td>\n",
       "      <td>participants</td>\n",
       "      <td>Number</td>\n",
       "      <td>NaN</td>\n",
       "    </tr>\n",
       "  </tbody>\n",
       "</table>\n",
       "</div>"
      ],
      "text/plain": [
       "  BASELINE_ID RSLTS_BASELINE_ID  BASELINE_MEASURE_TITLE DESCRIPTION  \\\n",
       "0          91                30                  Gender         NaN   \n",
       "1          92                30    Region of Enrollment         NaN   \n",
       "2          93                31  Number of Participants         NaN   \n",
       "3          94                31                     Age         NaN   \n",
       "4          95                31                  Gender         NaN   \n",
       "\n",
       "  UNITS_OF_MEASURE MEASURE_TYPE  DISPERSION  \n",
       "0     participants       Number         NaN  \n",
       "1     participants       Number         NaN  \n",
       "2     participants       Number         NaN  \n",
       "3            years       Median  Full Range  \n",
       "4     participants       Number         NaN  "
      ]
     },
     "execution_count": 103,
     "metadata": {},
     "output_type": "execute_result"
    }
   ],
   "source": [
    "baseline_measure = pd.read_csv('results_baseline_measure.txt', sep='|')\n",
    "baseline_measure.head()"
   ]
  },
  {
   "cell_type": "code",
   "execution_count": 104,
   "metadata": {
    "collapsed": false
   },
   "outputs": [
    {
     "data": {
      "text/html": [
       "<div>\n",
       "<table border=\"1\" class=\"dataframe\">\n",
       "  <thead>\n",
       "    <tr style=\"text-align: right;\">\n",
       "      <th></th>\n",
       "      <th>BASELINE_MEASURE_CATGY_ID</th>\n",
       "      <th>BASELINE_ID</th>\n",
       "      <th>CATEGORY_TITLE</th>\n",
       "      <th>ARM_GROUP_ID</th>\n",
       "      <th>BASELINE_VALUE</th>\n",
       "      <th>SPREAD</th>\n",
       "      <th>LOWER_LIMIT</th>\n",
       "      <th>UPPER_LIMIT</th>\n",
       "      <th>RSLTS_BASELINE_ID</th>\n",
       "      <th>BASELINE_MEASURE_TITLE</th>\n",
       "      <th>DESCRIPTION</th>\n",
       "      <th>UNITS_OF_MEASURE</th>\n",
       "      <th>MEASURE_TYPE</th>\n",
       "      <th>DISPERSION</th>\n",
       "    </tr>\n",
       "  </thead>\n",
       "  <tbody>\n",
       "    <tr>\n",
       "      <th>0</th>\n",
       "      <td>116</td>\n",
       "      <td>141</td>\n",
       "      <td>Black</td>\n",
       "      <td>337293</td>\n",
       "      <td>10</td>\n",
       "      <td>NaN</td>\n",
       "      <td>NaN</td>\n",
       "      <td>NaN</td>\n",
       "      <td>NaN</td>\n",
       "      <td>NaN</td>\n",
       "      <td>NaN</td>\n",
       "      <td>NaN</td>\n",
       "      <td>NaN</td>\n",
       "      <td>NaN</td>\n",
       "    </tr>\n",
       "    <tr>\n",
       "      <th>1</th>\n",
       "      <td>117</td>\n",
       "      <td>142</td>\n",
       "      <td>United States</td>\n",
       "      <td>337293</td>\n",
       "      <td>215</td>\n",
       "      <td>NaN</td>\n",
       "      <td>NaN</td>\n",
       "      <td>NaN</td>\n",
       "      <td>NaN</td>\n",
       "      <td>NaN</td>\n",
       "      <td>NaN</td>\n",
       "      <td>NaN</td>\n",
       "      <td>NaN</td>\n",
       "      <td>NaN</td>\n",
       "    </tr>\n",
       "    <tr>\n",
       "      <th>2</th>\n",
       "      <td>118</td>\n",
       "      <td>143</td>\n",
       "      <td>NaN</td>\n",
       "      <td>337294</td>\n",
       "      <td>9968</td>\n",
       "      <td>NaN</td>\n",
       "      <td>NaN</td>\n",
       "      <td>NaN</td>\n",
       "      <td>NaN</td>\n",
       "      <td>NaN</td>\n",
       "      <td>NaN</td>\n",
       "      <td>NaN</td>\n",
       "      <td>NaN</td>\n",
       "      <td>NaN</td>\n",
       "    </tr>\n",
       "    <tr>\n",
       "      <th>3</th>\n",
       "      <td>119</td>\n",
       "      <td>144</td>\n",
       "      <td>&lt;=18 years</td>\n",
       "      <td>337294</td>\n",
       "      <td>0</td>\n",
       "      <td>NaN</td>\n",
       "      <td>NaN</td>\n",
       "      <td>NaN</td>\n",
       "      <td>NaN</td>\n",
       "      <td>NaN</td>\n",
       "      <td>NaN</td>\n",
       "      <td>NaN</td>\n",
       "      <td>NaN</td>\n",
       "      <td>NaN</td>\n",
       "    </tr>\n",
       "    <tr>\n",
       "      <th>4</th>\n",
       "      <td>120</td>\n",
       "      <td>144</td>\n",
       "      <td>Between 18 and 65 years</td>\n",
       "      <td>337294</td>\n",
       "      <td>8981</td>\n",
       "      <td>NaN</td>\n",
       "      <td>NaN</td>\n",
       "      <td>NaN</td>\n",
       "      <td>NaN</td>\n",
       "      <td>NaN</td>\n",
       "      <td>NaN</td>\n",
       "      <td>NaN</td>\n",
       "      <td>NaN</td>\n",
       "      <td>NaN</td>\n",
       "    </tr>\n",
       "  </tbody>\n",
       "</table>\n",
       "</div>"
      ],
      "text/plain": [
       "   BASELINE_MEASURE_CATGY_ID  BASELINE_ID           CATEGORY_TITLE  \\\n",
       "0                        116          141                    Black   \n",
       "1                        117          142            United States   \n",
       "2                        118          143                      NaN   \n",
       "3                        119          144               <=18 years   \n",
       "4                        120          144  Between 18 and 65 years   \n",
       "\n",
       "   ARM_GROUP_ID BASELINE_VALUE SPREAD LOWER_LIMIT UPPER_LIMIT  \\\n",
       "0        337293             10    NaN         NaN         NaN   \n",
       "1        337293            215    NaN         NaN         NaN   \n",
       "2        337294           9968    NaN         NaN         NaN   \n",
       "3        337294              0    NaN         NaN         NaN   \n",
       "4        337294           8981    NaN         NaN         NaN   \n",
       "\n",
       "  RSLTS_BASELINE_ID BASELINE_MEASURE_TITLE DESCRIPTION UNITS_OF_MEASURE  \\\n",
       "0               NaN                    NaN         NaN              NaN   \n",
       "1               NaN                    NaN         NaN              NaN   \n",
       "2               NaN                    NaN         NaN              NaN   \n",
       "3               NaN                    NaN         NaN              NaN   \n",
       "4               NaN                    NaN         NaN              NaN   \n",
       "\n",
       "  MEASURE_TYPE DISPERSION  \n",
       "0          NaN        NaN  \n",
       "1          NaN        NaN  \n",
       "2          NaN        NaN  \n",
       "3          NaN        NaN  \n",
       "4          NaN        NaN  "
      ]
     },
     "execution_count": 104,
     "metadata": {},
     "output_type": "execute_result"
    }
   ],
   "source": [
    "measured = baseline.merge(baseline_measure, how='left', on='BASELINE_ID')\n",
    "measured.head()"
   ]
  },
  {
   "cell_type": "code",
   "execution_count": null,
   "metadata": {
    "collapsed": true
   },
   "outputs": [],
   "source": []
  }
 ],
 "metadata": {
  "kernelspec": {
   "display_name": "Python 3",
   "language": "python",
   "name": "python3"
  },
  "language_info": {
   "codemirror_mode": {
    "name": "ipython",
    "version": 3
   },
   "file_extension": ".py",
   "mimetype": "text/x-python",
   "name": "python",
   "nbconvert_exporter": "python",
   "pygments_lexer": "ipython3",
   "version": "3.5.2"
  }
 },
 "nbformat": 4,
 "nbformat_minor": 0
}
