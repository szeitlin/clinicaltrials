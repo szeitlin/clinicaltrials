{
 "cells": [
  {
   "cell_type": "code",
   "execution_count": 32,
   "metadata": {
    "collapsed": true
   },
   "outputs": [],
   "source": [
    "import pandas as pd\n",
    "import nltk"
   ]
  },
  {
   "cell_type": "code",
   "execution_count": 33,
   "metadata": {
    "collapsed": true
   },
   "outputs": [],
   "source": [
    "import numpy as np\n",
    "import matplotlib.pyplot as plt\n",
    "import matplotlib\n",
    "import seaborn as sns\n",
    "import statsmodels\n",
    "%matplotlib inline"
   ]
  },
  {
   "cell_type": "code",
   "execution_count": 8,
   "metadata": {
    "collapsed": false
   },
   "outputs": [],
   "source": [
    "mesh = pd.read_csv('mesh_thesaurus.txt', sep='|')\n",
    "terms = mesh['MESH_TERM']"
   ]
  },
  {
   "cell_type": "code",
   "execution_count": 15,
   "metadata": {
    "collapsed": false
   },
   "outputs": [
    {
     "data": {
      "text/html": [
       "<div>\n",
       "<table border=\"1\" class=\"dataframe\">\n",
       "  <thead>\n",
       "    <tr style=\"text-align: right;\">\n",
       "      <th></th>\n",
       "      <th>CONDITION_ID</th>\n",
       "      <th>NCT_ID</th>\n",
       "      <th>CONDITION</th>\n",
       "    </tr>\n",
       "  </thead>\n",
       "  <tbody>\n",
       "    <tr>\n",
       "      <th>0</th>\n",
       "      <td>150</td>\n",
       "      <td>NCT00000262</td>\n",
       "      <td>Substance-Related Disorders</td>\n",
       "    </tr>\n",
       "    <tr>\n",
       "      <th>1</th>\n",
       "      <td>151</td>\n",
       "      <td>NCT00000263</td>\n",
       "      <td>Opioid-Related Disorders</td>\n",
       "    </tr>\n",
       "    <tr>\n",
       "      <th>2</th>\n",
       "      <td>152</td>\n",
       "      <td>NCT00000263</td>\n",
       "      <td>Substance-Related Disorders</td>\n",
       "    </tr>\n",
       "    <tr>\n",
       "      <th>3</th>\n",
       "      <td>153</td>\n",
       "      <td>NCT00000264</td>\n",
       "      <td>Opioid-Related Disorders</td>\n",
       "    </tr>\n",
       "    <tr>\n",
       "      <th>4</th>\n",
       "      <td>154</td>\n",
       "      <td>NCT00000264</td>\n",
       "      <td>Substance-Related Disorders</td>\n",
       "    </tr>\n",
       "  </tbody>\n",
       "</table>\n",
       "</div>"
      ],
      "text/plain": [
       "   CONDITION_ID       NCT_ID                    CONDITION\n",
       "0           150  NCT00000262  Substance-Related Disorders\n",
       "1           151  NCT00000263     Opioid-Related Disorders\n",
       "2           152  NCT00000263  Substance-Related Disorders\n",
       "3           153  NCT00000264     Opioid-Related Disorders\n",
       "4           154  NCT00000264  Substance-Related Disorders"
      ]
     },
     "execution_count": 15,
     "metadata": {},
     "output_type": "execute_result"
    }
   ],
   "source": [
    "conditions = pd.read_csv('conditions.txt', sep='|')\n",
    "conditions.head()"
   ]
  },
  {
   "cell_type": "code",
   "execution_count": 16,
   "metadata": {
    "collapsed": false
   },
   "outputs": [],
   "source": [
    "conditions['len(condition)'] = [len(x) for x in conditions['CONDITION']]"
   ]
  },
  {
   "cell_type": "code",
   "execution_count": 17,
   "metadata": {
    "collapsed": false
   },
   "outputs": [],
   "source": [
    "categories = conditions[conditions['len(condition)'] < 50]"
   ]
  },
  {
   "cell_type": "code",
   "execution_count": 18,
   "metadata": {
    "collapsed": false
   },
   "outputs": [
    {
     "name": "stderr",
     "output_type": "stream",
     "text": [
      "/Users/szeitlin/anaconda/envs/clinicaltrials/lib/python3.5/site-packages/ipykernel/__main__.py:1: SettingWithCopyWarning: \n",
      "A value is trying to be set on a copy of a slice from a DataFrame.\n",
      "Try using .loc[row_indexer,col_indexer] = value instead\n",
      "\n",
      "See the caveats in the documentation: http://pandas.pydata.org/pandas-docs/stable/indexing.html#indexing-view-versus-copy\n",
      "  if __name__ == '__main__':\n"
     ]
    },
    {
     "data": {
      "text/html": [
       "<div>\n",
       "<table border=\"1\" class=\"dataframe\">\n",
       "  <thead>\n",
       "    <tr style=\"text-align: right;\">\n",
       "      <th></th>\n",
       "      <th>CONDITION_ID</th>\n",
       "      <th>NCT_ID</th>\n",
       "      <th>CONDITION</th>\n",
       "      <th>len(condition)</th>\n",
       "      <th>split descript</th>\n",
       "    </tr>\n",
       "  </thead>\n",
       "  <tbody>\n",
       "    <tr>\n",
       "      <th>0</th>\n",
       "      <td>150</td>\n",
       "      <td>NCT00000262</td>\n",
       "      <td>Substance-Related Disorders</td>\n",
       "      <td>27</td>\n",
       "      <td>2</td>\n",
       "    </tr>\n",
       "    <tr>\n",
       "      <th>1</th>\n",
       "      <td>151</td>\n",
       "      <td>NCT00000263</td>\n",
       "      <td>Opioid-Related Disorders</td>\n",
       "      <td>24</td>\n",
       "      <td>2</td>\n",
       "    </tr>\n",
       "    <tr>\n",
       "      <th>2</th>\n",
       "      <td>152</td>\n",
       "      <td>NCT00000263</td>\n",
       "      <td>Substance-Related Disorders</td>\n",
       "      <td>27</td>\n",
       "      <td>2</td>\n",
       "    </tr>\n",
       "    <tr>\n",
       "      <th>3</th>\n",
       "      <td>153</td>\n",
       "      <td>NCT00000264</td>\n",
       "      <td>Opioid-Related Disorders</td>\n",
       "      <td>24</td>\n",
       "      <td>2</td>\n",
       "    </tr>\n",
       "    <tr>\n",
       "      <th>4</th>\n",
       "      <td>154</td>\n",
       "      <td>NCT00000264</td>\n",
       "      <td>Substance-Related Disorders</td>\n",
       "      <td>27</td>\n",
       "      <td>2</td>\n",
       "    </tr>\n",
       "  </tbody>\n",
       "</table>\n",
       "</div>"
      ],
      "text/plain": [
       "   CONDITION_ID       NCT_ID                    CONDITION  len(condition)  \\\n",
       "0           150  NCT00000262  Substance-Related Disorders              27   \n",
       "1           151  NCT00000263     Opioid-Related Disorders              24   \n",
       "2           152  NCT00000263  Substance-Related Disorders              27   \n",
       "3           153  NCT00000264     Opioid-Related Disorders              24   \n",
       "4           154  NCT00000264  Substance-Related Disorders              27   \n",
       "\n",
       "   split descript  \n",
       "0               2  \n",
       "1               2  \n",
       "2               2  \n",
       "3               2  \n",
       "4               2  "
      ]
     },
     "execution_count": 18,
     "metadata": {},
     "output_type": "execute_result"
    }
   ],
   "source": [
    "categories['split descript'] = [len(x.split()) for x in categories['CONDITION']]\n",
    "categories.head()"
   ]
  },
  {
   "cell_type": "code",
   "execution_count": 19,
   "metadata": {
    "collapsed": false
   },
   "outputs": [],
   "source": [
    "def word_counter(colname):\n",
    "    \"\"\" Helper for aggregating names\"\"\"\n",
    "    word_count = dict()\n",
    "    for row in colname:\n",
    "        for x in row.split():\n",
    "            if x in word_count:\n",
    "                word_count[x] += 1\n",
    "            elif x not in word_count:\n",
    "                word_count[x] = 1\n",
    "    return word_count"
   ]
  },
  {
   "cell_type": "code",
   "execution_count": 20,
   "metadata": {
    "collapsed": false
   },
   "outputs": [],
   "source": [
    "def create_plottable_df(source_df, colname, skipwords):\n",
    "    \"\"\"\n",
    "    Reusable method for EDA.\n",
    "    :param: colname (str)\n",
    "    :param: skipwords (list of str)\n",
    "    :return: dataframe\n",
    "    \"\"\"\n",
    "    word_count = word_counter(source_df[colname])\n",
    "    wc_list = sorted(word_count.items(), key=operator.itemgetter(1), reverse=True)\n",
    "    df = pd.DataFrame(wc_list, columns=[colname, 'count'])\n",
    "    df['drop_these'] = [True if x in skipwords else False for x in df[colname]]\n",
    "    cleaned = df[df['drop_these']==False]\n",
    "    cleaned.reset_index(drop=True)\n",
    "    return cleaned"
   ]
  },
  {
   "cell_type": "code",
   "execution_count": 21,
   "metadata": {
    "collapsed": true
   },
   "outputs": [],
   "source": [
    "word_count = word_counter(conditions['CONDITION'])"
   ]
  },
  {
   "cell_type": "code",
   "execution_count": 9,
   "metadata": {
    "collapsed": false
   },
   "outputs": [],
   "source": [
    "import operator\n",
    "condition_wc_list = sorted(word_count.items(), key=operator.itemgetter(1), reverse=True)"
   ]
  },
  {
   "cell_type": "code",
   "execution_count": 10,
   "metadata": {
    "collapsed": false
   },
   "outputs": [
    {
     "data": {
      "text/plain": [
       "33.377763912178764"
      ]
     },
     "execution_count": 10,
     "metadata": {},
     "output_type": "execute_result"
    }
   ],
   "source": [
    "wc_s = pd.Series(word_count)\n",
    "wc_s.mean()"
   ]
  },
  {
   "cell_type": "code",
   "execution_count": 11,
   "metadata": {
    "collapsed": false
   },
   "outputs": [
    {
     "data": {
      "text/plain": [
       "357.3633493169491"
      ]
     },
     "execution_count": 11,
     "metadata": {},
     "output_type": "execute_result"
    }
   ],
   "source": [
    "wc_s.std()"
   ]
  },
  {
   "cell_type": "code",
   "execution_count": 32,
   "metadata": {
    "collapsed": false
   },
   "outputs": [],
   "source": [
    "top_1000 = pd.DataFrame(condition_wc_list[0:1000], columns=['condition', 'count'])"
   ]
  },
  {
   "cell_type": "code",
   "execution_count": 41,
   "metadata": {
    "collapsed": false
   },
   "outputs": [
    {
     "data": {
      "text/html": [
       "<div>\n",
       "<table border=\"1\" class=\"dataframe\">\n",
       "  <thead>\n",
       "    <tr style=\"text-align: right;\">\n",
       "      <th></th>\n",
       "      <th>condition</th>\n",
       "      <th>count</th>\n",
       "    </tr>\n",
       "  </thead>\n",
       "  <tbody>\n",
       "    <tr>\n",
       "      <th>0</th>\n",
       "      <td>Cancer</td>\n",
       "      <td>31800</td>\n",
       "    </tr>\n",
       "    <tr>\n",
       "      <th>1</th>\n",
       "      <td>Disease</td>\n",
       "      <td>16994</td>\n",
       "    </tr>\n",
       "    <tr>\n",
       "      <th>2</th>\n",
       "      <td>Stage</td>\n",
       "      <td>11275</td>\n",
       "    </tr>\n",
       "    <tr>\n",
       "      <th>3</th>\n",
       "      <td>Cell</td>\n",
       "      <td>10882</td>\n",
       "    </tr>\n",
       "    <tr>\n",
       "      <th>4</th>\n",
       "      <td>of</td>\n",
       "      <td>9919</td>\n",
       "    </tr>\n",
       "  </tbody>\n",
       "</table>\n",
       "</div>"
      ],
      "text/plain": [
       "  condition  count\n",
       "0    Cancer  31800\n",
       "1   Disease  16994\n",
       "2     Stage  11275\n",
       "3      Cell  10882\n",
       "4        of   9919"
      ]
     },
     "execution_count": 41,
     "metadata": {},
     "output_type": "execute_result"
    }
   ],
   "source": [
    "top_1000.head()"
   ]
  },
  {
   "cell_type": "code",
   "execution_count": 79,
   "metadata": {
    "collapsed": false
   },
   "outputs": [],
   "source": [
    "skipwords = ['Disease', 'Diseases', 'Stage', 'Cell', 'Of', 'of', 'in', \n",
    "             'and', 'Type', 'Acute', 'Healthy', 'Disorder', 'Disorders', 'Near', 'Time',\n",
    "            '&', 'Multiple', 'with', '2', 'the', 'With', 'IV', 'III', '1']\n"
   ]
  },
  {
   "cell_type": "code",
   "execution_count": 80,
   "metadata": {
    "collapsed": false
   },
   "outputs": [],
   "source": [
    "top_1000['drop_these'] = [True if x in skipwords else False for x in top_1000['condition'] ]"
   ]
  },
  {
   "cell_type": "code",
   "execution_count": 81,
   "metadata": {
    "collapsed": false
   },
   "outputs": [
    {
     "data": {
      "text/html": [
       "<div>\n",
       "<table border=\"1\" class=\"dataframe\">\n",
       "  <thead>\n",
       "    <tr style=\"text-align: right;\">\n",
       "      <th></th>\n",
       "      <th>condition</th>\n",
       "      <th>count</th>\n",
       "      <th>drop_these</th>\n",
       "    </tr>\n",
       "  </thead>\n",
       "  <tbody>\n",
       "    <tr>\n",
       "      <th>0</th>\n",
       "      <td>Cancer</td>\n",
       "      <td>31800</td>\n",
       "      <td>False</td>\n",
       "    </tr>\n",
       "    <tr>\n",
       "      <th>1</th>\n",
       "      <td>Disease</td>\n",
       "      <td>16994</td>\n",
       "      <td>True</td>\n",
       "    </tr>\n",
       "    <tr>\n",
       "      <th>2</th>\n",
       "      <td>Stage</td>\n",
       "      <td>11275</td>\n",
       "      <td>True</td>\n",
       "    </tr>\n",
       "    <tr>\n",
       "      <th>3</th>\n",
       "      <td>Cell</td>\n",
       "      <td>10882</td>\n",
       "      <td>True</td>\n",
       "    </tr>\n",
       "    <tr>\n",
       "      <th>4</th>\n",
       "      <td>of</td>\n",
       "      <td>9919</td>\n",
       "      <td>True</td>\n",
       "    </tr>\n",
       "  </tbody>\n",
       "</table>\n",
       "</div>"
      ],
      "text/plain": [
       "  condition  count drop_these\n",
       "0    Cancer  31800      False\n",
       "1   Disease  16994       True\n",
       "2     Stage  11275       True\n",
       "3      Cell  10882       True\n",
       "4        of   9919       True"
      ]
     },
     "execution_count": 81,
     "metadata": {},
     "output_type": "execute_result"
    }
   ],
   "source": [
    "top_1000.head()"
   ]
  },
  {
   "cell_type": "code",
   "execution_count": 82,
   "metadata": {
    "collapsed": false
   },
   "outputs": [
    {
     "data": {
      "text/html": [
       "<div>\n",
       "<table border=\"1\" class=\"dataframe\">\n",
       "  <thead>\n",
       "    <tr style=\"text-align: right;\">\n",
       "      <th></th>\n",
       "      <th>condition</th>\n",
       "      <th>count</th>\n",
       "      <th>drop_these</th>\n",
       "    </tr>\n",
       "  </thead>\n",
       "  <tbody>\n",
       "    <tr>\n",
       "      <th>0</th>\n",
       "      <td>Cancer</td>\n",
       "      <td>31800</td>\n",
       "      <td>False</td>\n",
       "    </tr>\n",
       "    <tr>\n",
       "      <th>1</th>\n",
       "      <td>Lymphoma</td>\n",
       "      <td>9679</td>\n",
       "      <td>False</td>\n",
       "    </tr>\n",
       "    <tr>\n",
       "      <th>2</th>\n",
       "      <td>Chronic</td>\n",
       "      <td>9521</td>\n",
       "      <td>False</td>\n",
       "    </tr>\n",
       "    <tr>\n",
       "      <th>3</th>\n",
       "      <td>Diabetes</td>\n",
       "      <td>9429</td>\n",
       "      <td>False</td>\n",
       "    </tr>\n",
       "    <tr>\n",
       "      <th>4</th>\n",
       "      <td>Breast</td>\n",
       "      <td>8071</td>\n",
       "      <td>False</td>\n",
       "    </tr>\n",
       "  </tbody>\n",
       "</table>\n",
       "</div>"
      ],
      "text/plain": [
       "  condition  count drop_these\n",
       "0    Cancer  31800      False\n",
       "1  Lymphoma   9679      False\n",
       "2   Chronic   9521      False\n",
       "3  Diabetes   9429      False\n",
       "4    Breast   8071      False"
      ]
     },
     "execution_count": 82,
     "metadata": {},
     "output_type": "execute_result"
    }
   ],
   "source": [
    "top_cleaned = top_1000[top_1000['drop_these']==False]\n",
    "top_cleaned.reset_index(drop=True).head()"
   ]
  },
  {
   "cell_type": "code",
   "execution_count": 83,
   "metadata": {
    "collapsed": false
   },
   "outputs": [
    {
     "data": {
      "text/plain": [
       "[None,\n",
       " None,\n",
       " None,\n",
       " None,\n",
       " None,\n",
       " None,\n",
       " None,\n",
       " None,\n",
       " None,\n",
       " None,\n",
       " None,\n",
       " None,\n",
       " None,\n",
       " None,\n",
       " None,\n",
       " None,\n",
       " None,\n",
       " None,\n",
       " None,\n",
       " None,\n",
       " None,\n",
       " None,\n",
       " None,\n",
       " None,\n",
       " None,\n",
       " None,\n",
       " None,\n",
       " None,\n",
       " None,\n",
       " None,\n",
       " None,\n",
       " None,\n",
       " None,\n",
       " None,\n",
       " None,\n",
       " None,\n",
       " None,\n",
       " None,\n",
       " None,\n",
       " None,\n",
       " None,\n",
       " None,\n",
       " None,\n",
       " None,\n",
       " None,\n",
       " None,\n",
       " None,\n",
       " None,\n",
       " None,\n",
       " None]"
      ]
     },
     "execution_count": 83,
     "metadata": {},
     "output_type": "execute_result"
    },
    {
     "data": {
      "image/png": "[encoded data removed]",
      "text/plain": [
       "<matplotlib.figure.Figure at 0x122bc03c8>"
      ]
     },
     "metadata": {},
     "output_type": "display_data"
    }
   ],
   "source": [
    "sns.set_context(\"talk\")\n",
    "sns.barplot(top_cleaned['condition'][0:50], top_cleaned['count'][0:50])\n",
    "locs, labels = plt.xticks()\n",
    "plt.setp(labels, rotation=90)"
   ]
  },
  {
   "cell_type": "code",
   "execution_count": 84,
   "metadata": {
    "collapsed": true
   },
   "outputs": [],
   "source": [
    "# would like to compare numbers of trials vs. population incidence of cancer vs. depression, Arthritis, Stroke, \n",
    "# asthma, Hypertension, childhood vs. adult cancers"
   ]
  },
  {
   "cell_type": "code",
   "execution_count": 104,
   "metadata": {
    "collapsed": true
   },
   "outputs": [],
   "source": [
    "#http://www.cdc.gov/nchs/fastats/cancer.htm 8.5% of adults who have ever been diagnosed with cancer"
   ]
  },
  {
   "cell_type": "code",
   "execution_count": 105,
   "metadata": {
    "collapsed": false
   },
   "outputs": [
    {
     "data": {
      "text/html": [
       "<div>\n",
       "<table border=\"1\" class=\"dataframe\">\n",
       "  <thead>\n",
       "    <tr style=\"text-align: right;\">\n",
       "      <th></th>\n",
       "      <th>condition</th>\n",
       "      <th>count</th>\n",
       "      <th>drop_these</th>\n",
       "    </tr>\n",
       "  </thead>\n",
       "  <tbody>\n",
       "    <tr>\n",
       "      <th>0</th>\n",
       "      <td>Cancer</td>\n",
       "      <td>31800</td>\n",
       "      <td>False</td>\n",
       "    </tr>\n",
       "  </tbody>\n",
       "</table>\n",
       "</div>"
      ],
      "text/plain": [
       "  condition  count drop_these\n",
       "0    Cancer  31800      False"
      ]
     },
     "execution_count": 105,
     "metadata": {},
     "output_type": "execute_result"
    }
   ],
   "source": [
    "top_cleaned[top_cleaned['condition']=='Cancer']"
   ]
  },
  {
   "cell_type": "code",
   "execution_count": 106,
   "metadata": {
    "collapsed": false
   },
   "outputs": [
    {
     "data": {
      "text/plain": [
       "0.0934329559777994"
      ]
     },
     "execution_count": 106,
     "metadata": {},
     "output_type": "execute_result"
    }
   ],
   "source": [
    "31800/340351"
   ]
  },
  {
   "cell_type": "code",
   "execution_count": 107,
   "metadata": {
    "collapsed": false
   },
   "outputs": [
    {
     "data": {
      "text/html": [
       "<div>\n",
       "<table border=\"1\" class=\"dataframe\">\n",
       "  <thead>\n",
       "    <tr style=\"text-align: right;\">\n",
       "      <th></th>\n",
       "      <th>condition</th>\n",
       "      <th>count</th>\n",
       "      <th>drop_these</th>\n",
       "    </tr>\n",
       "  </thead>\n",
       "  <tbody>\n",
       "    <tr>\n",
       "      <th>23</th>\n",
       "      <td>Heart</td>\n",
       "      <td>4886</td>\n",
       "      <td>False</td>\n",
       "    </tr>\n",
       "  </tbody>\n",
       "</table>\n",
       "</div>"
      ],
      "text/plain": [
       "   condition  count drop_these\n",
       "23     Heart   4886      False"
      ]
     },
     "execution_count": 107,
     "metadata": {},
     "output_type": "execute_result"
    }
   ],
   "source": [
    "#heart disease is actually the leading cause of death (cancer is #2), but not by much http://www.cdc.gov/nchs/fastats/deaths.htm\n",
    "top_cleaned[top_cleaned['condition']=='Heart']"
   ]
  },
  {
   "cell_type": "code",
   "execution_count": 108,
   "metadata": {
    "collapsed": false
   },
   "outputs": [
    {
     "data": {
      "text/plain": [
       "0.014355768015959993"
      ]
     },
     "execution_count": 108,
     "metadata": {},
     "output_type": "execute_result"
    }
   ],
   "source": [
    "4886/340351"
   ]
  },
  {
   "cell_type": "code",
   "execution_count": 85,
   "metadata": {
    "collapsed": true
   },
   "outputs": [],
   "source": [
    "#asthma prevalence is low, e.g. average these: http://www.cdc.gov/asthma/asthmadata.htm"
   ]
  },
  {
   "cell_type": "code",
   "execution_count": 86,
   "metadata": {
    "collapsed": false
   },
   "outputs": [
    {
     "data": {
      "text/plain": [
       "8.0"
      ]
     },
     "execution_count": 86,
     "metadata": {},
     "output_type": "execute_result"
    }
   ],
   "source": [
    "age_pct = (8.6 + 7.4)/2 #lazy way to do this\n",
    "age_pct"
   ]
  },
  {
   "cell_type": "code",
   "execution_count": 87,
   "metadata": {
    "collapsed": false
   },
   "outputs": [
    {
     "data": {
      "text/plain": [
       "7.65"
      ]
     },
     "execution_count": 87,
     "metadata": {},
     "output_type": "execute_result"
    }
   ],
   "source": [
    "sex_pct = (6.3 + 9)/2\n",
    "sex_pct"
   ]
  },
  {
   "cell_type": "code",
   "execution_count": 88,
   "metadata": {
    "collapsed": false
   },
   "outputs": [
    {
     "data": {
      "text/plain": [
       "8.066666666666666"
      ]
     },
     "execution_count": 88,
     "metadata": {},
     "output_type": "execute_result"
    }
   ],
   "source": [
    "race_pct = (7.6 + 9.9 + 6.7)/3\n",
    "race_pct"
   ]
  },
  {
   "cell_type": "code",
   "execution_count": 89,
   "metadata": {
    "collapsed": false
   },
   "outputs": [
    {
     "data": {
      "text/plain": [
       "(340351, 4)"
      ]
     },
     "execution_count": 89,
     "metadata": {},
     "output_type": "execute_result"
    }
   ],
   "source": [
    "#% of total trials that have asthma listed in the conditions:\n",
    "conditions.shape"
   ]
  },
  {
   "cell_type": "code",
   "execution_count": 91,
   "metadata": {
    "collapsed": false
   },
   "outputs": [
    {
     "data": {
      "text/html": [
       "<div>\n",
       "<table border=\"1\" class=\"dataframe\">\n",
       "  <thead>\n",
       "    <tr style=\"text-align: right;\">\n",
       "      <th></th>\n",
       "      <th>condition</th>\n",
       "      <th>count</th>\n",
       "      <th>drop_these</th>\n",
       "    </tr>\n",
       "  </thead>\n",
       "  <tbody>\n",
       "    <tr>\n",
       "      <th>48</th>\n",
       "      <td>Asthma</td>\n",
       "      <td>2590</td>\n",
       "      <td>False</td>\n",
       "    </tr>\n",
       "  </tbody>\n",
       "</table>\n",
       "</div>"
      ],
      "text/plain": [
       "   condition  count drop_these\n",
       "48    Asthma   2590      False"
      ]
     },
     "execution_count": 91,
     "metadata": {},
     "output_type": "execute_result"
    }
   ],
   "source": [
    "top_cleaned[top_cleaned['condition']=='Asthma']"
   ]
  },
  {
   "cell_type": "code",
   "execution_count": 92,
   "metadata": {
    "collapsed": false
   },
   "outputs": [
    {
     "data": {
      "text/plain": [
       "0.007609791068632089"
      ]
     },
     "execution_count": 92,
     "metadata": {},
     "output_type": "execute_result"
    }
   ],
   "source": [
    "freq = 2590/340351\n",
    "freq"
   ]
  },
  {
   "cell_type": "code",
   "execution_count": 95,
   "metadata": {
    "collapsed": false
   },
   "outputs": [
    {
     "data": {
      "text/html": [
       "<div>\n",
       "<table border=\"1\" class=\"dataframe\">\n",
       "  <thead>\n",
       "    <tr style=\"text-align: right;\">\n",
       "      <th></th>\n",
       "      <th>condition</th>\n",
       "      <th>count</th>\n",
       "      <th>drop_these</th>\n",
       "    </tr>\n",
       "  </thead>\n",
       "  <tbody>\n",
       "    <tr>\n",
       "      <th>62</th>\n",
       "      <td>Arthritis</td>\n",
       "      <td>2132</td>\n",
       "      <td>False</td>\n",
       "    </tr>\n",
       "  </tbody>\n",
       "</table>\n",
       "</div>"
      ],
      "text/plain": [
       "    condition  count drop_these\n",
       "62  Arthritis   2132      False"
      ]
     },
     "execution_count": 95,
     "metadata": {},
     "output_type": "execute_result"
    }
   ],
   "source": [
    "#arthritis: http://www.cdc.gov/arthritis/data_statistics/index.htm 22.7% of adults\n",
    "top_cleaned[top_cleaned['condition']=='Arthritis']"
   ]
  },
  {
   "cell_type": "code",
   "execution_count": 96,
   "metadata": {
    "collapsed": false
   },
   "outputs": [
    {
     "data": {
      "text/plain": [
       "0.006264121451090198"
      ]
     },
     "execution_count": 96,
     "metadata": {},
     "output_type": "execute_result"
    }
   ],
   "source": [
    "freq = 2132/340351\n",
    "freq"
   ]
  },
  {
   "cell_type": "code",
   "execution_count": 98,
   "metadata": {
    "collapsed": false
   },
   "outputs": [
    {
     "data": {
      "text/html": [
       "<div>\n",
       "<table border=\"1\" class=\"dataframe\">\n",
       "  <thead>\n",
       "    <tr style=\"text-align: right;\">\n",
       "      <th></th>\n",
       "      <th>condition</th>\n",
       "      <th>count</th>\n",
       "      <th>drop_these</th>\n",
       "    </tr>\n",
       "  </thead>\n",
       "  <tbody>\n",
       "    <tr>\n",
       "      <th>52</th>\n",
       "      <td>Depression</td>\n",
       "      <td>2452</td>\n",
       "      <td>False</td>\n",
       "    </tr>\n",
       "  </tbody>\n",
       "</table>\n",
       "</div>"
      ],
      "text/plain": [
       "     condition  count drop_these\n",
       "52  Depression   2452      False"
      ]
     },
     "execution_count": 98,
     "metadata": {},
     "output_type": "execute_result"
    }
   ],
   "source": [
    "#depression: http://www.cdc.gov/nchs/fastats/depression.htm morbidity 7.6% of 12 years or older\n",
    "top_cleaned[top_cleaned['condition']=='Depression']"
   ]
  },
  {
   "cell_type": "code",
   "execution_count": 99,
   "metadata": {
    "collapsed": false
   },
   "outputs": [
    {
     "data": {
      "text/plain": [
       "0.0072043272974076766"
      ]
     },
     "execution_count": 99,
     "metadata": {},
     "output_type": "execute_result"
    }
   ],
   "source": [
    "freq = 2452/340351\n",
    "freq"
   ]
  },
  {
   "cell_type": "code",
   "execution_count": 100,
   "metadata": {
    "collapsed": false
   },
   "outputs": [
    {
     "data": {
      "text/html": [
       "<div>\n",
       "<table border=\"1\" class=\"dataframe\">\n",
       "  <thead>\n",
       "    <tr style=\"text-align: right;\">\n",
       "      <th></th>\n",
       "      <th>condition</th>\n",
       "      <th>count</th>\n",
       "      <th>drop_these</th>\n",
       "    </tr>\n",
       "  </thead>\n",
       "  <tbody>\n",
       "    <tr>\n",
       "      <th>29</th>\n",
       "      <td>Hypertension</td>\n",
       "      <td>3932</td>\n",
       "      <td>False</td>\n",
       "    </tr>\n",
       "  </tbody>\n",
       "</table>\n",
       "</div>"
      ],
      "text/plain": [
       "       condition  count drop_these\n",
       "29  Hypertension   3932      False"
      ]
     },
     "execution_count": 100,
     "metadata": {},
     "output_type": "execute_result"
    }
   ],
   "source": [
    "#hypertension: http://www.cdc.gov/nchs/fastats/hypertension.htm 33.5%\n",
    "top_cleaned[top_cleaned['condition']=='Hypertension']"
   ]
  },
  {
   "cell_type": "code",
   "execution_count": 101,
   "metadata": {
    "collapsed": false
   },
   "outputs": [
    {
     "data": {
      "text/plain": [
       "0.11547384805145224"
      ]
     },
     "execution_count": 101,
     "metadata": {},
     "output_type": "execute_result"
    }
   ],
   "source": [
    "freq = 3932/34051\n",
    "freq"
   ]
  },
  {
   "cell_type": "code",
   "execution_count": 102,
   "metadata": {
    "collapsed": false
   },
   "outputs": [
    {
     "data": {
      "text/html": [
       "<div>\n",
       "<table border=\"1\" class=\"dataframe\">\n",
       "  <thead>\n",
       "    <tr style=\"text-align: right;\">\n",
       "      <th></th>\n",
       "      <th>condition</th>\n",
       "      <th>count</th>\n",
       "      <th>drop_these</th>\n",
       "    </tr>\n",
       "  </thead>\n",
       "  <tbody>\n",
       "    <tr>\n",
       "      <th>28</th>\n",
       "      <td>Obesity</td>\n",
       "      <td>4126</td>\n",
       "      <td>False</td>\n",
       "    </tr>\n",
       "  </tbody>\n",
       "</table>\n",
       "</div>"
      ],
      "text/plain": [
       "   condition  count drop_these\n",
       "28   Obesity   4126      False"
      ]
     },
     "execution_count": 102,
     "metadata": {},
     "output_type": "execute_result"
    }
   ],
   "source": [
    "#obesity: http://www.cdc.gov/nchs/fastats/obesity-overweight.htm 37.9%\n",
    "top_cleaned[top_cleaned['condition']=='Obesity']"
   ]
  },
  {
   "cell_type": "code",
   "execution_count": 103,
   "metadata": {
    "collapsed": false
   },
   "outputs": [
    {
     "data": {
      "text/plain": [
       "0.12117118439987078"
      ]
     },
     "execution_count": 103,
     "metadata": {},
     "output_type": "execute_result"
    }
   ],
   "source": [
    "freq = 4126/34051\n",
    "freq"
   ]
  },
  {
   "cell_type": "code",
   "execution_count": 3,
   "metadata": {
    "collapsed": false
   },
   "outputs": [
    {
     "data": {
      "text/html": [
       "<div>\n",
       "<table border=\"1\" class=\"dataframe\">\n",
       "  <thead>\n",
       "    <tr style=\"text-align: right;\">\n",
       "      <th></th>\n",
       "      <th>DESIGN_ID</th>\n",
       "      <th>NCT_ID</th>\n",
       "      <th>DESIGN_NAME</th>\n",
       "      <th>DESIGN_VALUE</th>\n",
       "      <th>MASKED_ROLE</th>\n",
       "    </tr>\n",
       "  </thead>\n",
       "  <tbody>\n",
       "    <tr>\n",
       "      <th>0</th>\n",
       "      <td>234</td>\n",
       "      <td>NCT00000194</td>\n",
       "      <td>Masking</td>\n",
       "      <td>Double-Blind</td>\n",
       "      <td>NaN</td>\n",
       "    </tr>\n",
       "    <tr>\n",
       "      <th>1</th>\n",
       "      <td>235</td>\n",
       "      <td>NCT00000194</td>\n",
       "      <td>Primary Purpose</td>\n",
       "      <td>Treatment</td>\n",
       "      <td>NaN</td>\n",
       "    </tr>\n",
       "    <tr>\n",
       "      <th>2</th>\n",
       "      <td>236</td>\n",
       "      <td>NCT00000195</td>\n",
       "      <td>Intervention Model</td>\n",
       "      <td>Crossover Assignment</td>\n",
       "      <td>NaN</td>\n",
       "    </tr>\n",
       "    <tr>\n",
       "      <th>3</th>\n",
       "      <td>237</td>\n",
       "      <td>NCT00000195</td>\n",
       "      <td>Masking</td>\n",
       "      <td>Double-Blind</td>\n",
       "      <td>NaN</td>\n",
       "    </tr>\n",
       "    <tr>\n",
       "      <th>4</th>\n",
       "      <td>238</td>\n",
       "      <td>NCT00000195</td>\n",
       "      <td>Primary Purpose</td>\n",
       "      <td>Treatment</td>\n",
       "      <td>NaN</td>\n",
       "    </tr>\n",
       "  </tbody>\n",
       "</table>\n",
       "</div>"
      ],
      "text/plain": [
       "   DESIGN_ID       NCT_ID         DESIGN_NAME          DESIGN_VALUE  \\\n",
       "0        234  NCT00000194             Masking          Double-Blind   \n",
       "1        235  NCT00000194     Primary Purpose             Treatment   \n",
       "2        236  NCT00000195  Intervention Model  Crossover Assignment   \n",
       "3        237  NCT00000195             Masking          Double-Blind   \n",
       "4        238  NCT00000195     Primary Purpose             Treatment   \n",
       "\n",
       "  MASKED_ROLE  \n",
       "0         NaN  \n",
       "1         NaN  \n",
       "2         NaN  \n",
       "3         NaN  \n",
       "4         NaN  "
      ]
     },
     "execution_count": 3,
     "metadata": {},
     "output_type": "execute_result"
    }
   ],
   "source": [
    "designs = pd.read_csv('designs.txt', sep='|')\n",
    "designs.head()"
   ]
  },
  {
   "cell_type": "code",
   "execution_count": null,
   "metadata": {
    "collapsed": true
   },
   "outputs": [],
   "source": [
    "designs"
   ]
  },
  {
   "cell_type": "code",
   "execution_count": 22,
   "metadata": {
    "collapsed": false
   },
   "outputs": [
    {
     "name": "stderr",
     "output_type": "stream",
     "text": [
      "/Users/szeitlin/anaconda/envs/clinicaltrials/lib/python3.5/site-packages/IPython/core/interactiveshell.py:2723: DtypeWarning: Columns (1) have mixed types. Specify dtype option on import or set low_memory=False.\n",
      "  interactivity=interactivity, compiler=compiler, result=result)\n"
     ]
    },
    {
     "data": {
      "text/html": [
       "<div>\n",
       "<table border=\"1\" class=\"dataframe\">\n",
       "  <thead>\n",
       "    <tr style=\"text-align: right;\">\n",
       "      <th></th>\n",
       "      <th>REPORTED_EVENT_CATEGORY_ID</th>\n",
       "      <th>REPORTED_EVENT_ID</th>\n",
       "      <th>CATEGORY_TITLE</th>\n",
       "      <th>CATEGORY_SUB_TITLE</th>\n",
       "      <th>CATEGORY_DESCRIPTION</th>\n",
       "      <th>CATEGORY_ASSESSMENT</th>\n",
       "    </tr>\n",
       "  </thead>\n",
       "  <tbody>\n",
       "    <tr>\n",
       "      <th>0</th>\n",
       "      <td>110</td>\n",
       "      <td>7</td>\n",
       "      <td>Blood and lymphatic system disorders</td>\n",
       "      <td>Amylase</td>\n",
       "      <td>NaN</td>\n",
       "      <td>NaN</td>\n",
       "    </tr>\n",
       "    <tr>\n",
       "      <th>1</th>\n",
       "      <td>111</td>\n",
       "      <td>7</td>\n",
       "      <td>Blood and lymphatic system disorders</td>\n",
       "      <td>Blood,Bone marrow,other</td>\n",
       "      <td>NaN</td>\n",
       "      <td>NaN</td>\n",
       "    </tr>\n",
       "    <tr>\n",
       "      <th>2</th>\n",
       "      <td>112</td>\n",
       "      <td>7</td>\n",
       "      <td>Blood and lymphatic system disorders</td>\n",
       "      <td>Fibrinogen</td>\n",
       "      <td>NaN</td>\n",
       "      <td>NaN</td>\n",
       "    </tr>\n",
       "    <tr>\n",
       "      <th>3</th>\n",
       "      <td>113</td>\n",
       "      <td>7</td>\n",
       "      <td>Blood and lymphatic system disorders</td>\n",
       "      <td>Hematuria</td>\n",
       "      <td>NaN</td>\n",
       "      <td>NaN</td>\n",
       "    </tr>\n",
       "    <tr>\n",
       "      <th>4</th>\n",
       "      <td>114</td>\n",
       "      <td>211</td>\n",
       "      <td>Immune system disorders</td>\n",
       "      <td>Thrombocytopenia</td>\n",
       "      <td>NaN</td>\n",
       "      <td>NaN</td>\n",
       "    </tr>\n",
       "  </tbody>\n",
       "</table>\n",
       "</div>"
      ],
      "text/plain": [
       "  REPORTED_EVENT_CATEGORY_ID REPORTED_EVENT_ID  \\\n",
       "0                        110                 7   \n",
       "1                        111                 7   \n",
       "2                        112                 7   \n",
       "3                        113                 7   \n",
       "4                        114               211   \n",
       "\n",
       "                         CATEGORY_TITLE       CATEGORY_SUB_TITLE  \\\n",
       "0  Blood and lymphatic system disorders                  Amylase   \n",
       "1  Blood and lymphatic system disorders  Blood,Bone marrow,other   \n",
       "2  Blood and lymphatic system disorders               Fibrinogen   \n",
       "3  Blood and lymphatic system disorders                Hematuria   \n",
       "4               Immune system disorders         Thrombocytopenia   \n",
       "\n",
       "  CATEGORY_DESCRIPTION CATEGORY_ASSESSMENT  \n",
       "0                  NaN                 NaN  \n",
       "1                  NaN                 NaN  \n",
       "2                  NaN                 NaN  \n",
       "3                  NaN                 NaN  \n",
       "4                  NaN                 NaN  "
      ]
     },
     "execution_count": 22,
     "metadata": {},
     "output_type": "execute_result"
    }
   ],
   "source": [
    "events = pd.read_csv('reported_event_ctgy.txt', sep='|')\n",
    "events.head()"
   ]
  },
  {
   "cell_type": "code",
   "execution_count": 23,
   "metadata": {
    "collapsed": false
   },
   "outputs": [],
   "source": [
    "counted_events = events.groupby('CATEGORY_TITLE').count().reset_index()"
   ]
  },
  {
   "cell_type": "code",
   "execution_count": 24,
   "metadata": {
    "collapsed": false
   },
   "outputs": [
    {
     "data": {
      "text/html": [
       "<div>\n",
       "<table border=\"1\" class=\"dataframe\">\n",
       "  <thead>\n",
       "    <tr style=\"text-align: right;\">\n",
       "      <th></th>\n",
       "      <th>CATEGORY_TITLE</th>\n",
       "      <th>REPORTED_EVENT_CATEGORY_ID</th>\n",
       "      <th>REPORTED_EVENT_ID</th>\n",
       "      <th>CATEGORY_SUB_TITLE</th>\n",
       "      <th>CATEGORY_DESCRIPTION</th>\n",
       "      <th>CATEGORY_ASSESSMENT</th>\n",
       "    </tr>\n",
       "  </thead>\n",
       "  <tbody>\n",
       "    <tr>\n",
       "      <th>0</th>\n",
       "      <td>Blood and lymphatic system disorders</td>\n",
       "      <td>27073</td>\n",
       "      <td>27073</td>\n",
       "      <td>27073</td>\n",
       "      <td>607</td>\n",
       "      <td>170</td>\n",
       "    </tr>\n",
       "    <tr>\n",
       "      <th>1</th>\n",
       "      <td>Cardiac disorders</td>\n",
       "      <td>42023</td>\n",
       "      <td>42023</td>\n",
       "      <td>42023</td>\n",
       "      <td>981</td>\n",
       "      <td>149</td>\n",
       "    </tr>\n",
       "    <tr>\n",
       "      <th>2</th>\n",
       "      <td>Congenital, familial and genetic disorders</td>\n",
       "      <td>2084</td>\n",
       "      <td>2084</td>\n",
       "      <td>2084</td>\n",
       "      <td>101</td>\n",
       "      <td>6</td>\n",
       "    </tr>\n",
       "    <tr>\n",
       "      <th>3</th>\n",
       "      <td>Ear and labyrinth disorders</td>\n",
       "      <td>6113</td>\n",
       "      <td>6113</td>\n",
       "      <td>6113</td>\n",
       "      <td>80</td>\n",
       "      <td>24</td>\n",
       "    </tr>\n",
       "    <tr>\n",
       "      <th>4</th>\n",
       "      <td>Endocrine disorders</td>\n",
       "      <td>3562</td>\n",
       "      <td>3562</td>\n",
       "      <td>3562</td>\n",
       "      <td>125</td>\n",
       "      <td>27</td>\n",
       "    </tr>\n",
       "  </tbody>\n",
       "</table>\n",
       "</div>"
      ],
      "text/plain": [
       "                               CATEGORY_TITLE  REPORTED_EVENT_CATEGORY_ID  \\\n",
       "0        Blood and lymphatic system disorders                       27073   \n",
       "1                           Cardiac disorders                       42023   \n",
       "2  Congenital, familial and genetic disorders                        2084   \n",
       "3                 Ear and labyrinth disorders                        6113   \n",
       "4                         Endocrine disorders                        3562   \n",
       "\n",
       "   REPORTED_EVENT_ID  CATEGORY_SUB_TITLE  CATEGORY_DESCRIPTION  \\\n",
       "0              27073               27073                   607   \n",
       "1              42023               42023                   981   \n",
       "2               2084                2084                   101   \n",
       "3               6113                6113                    80   \n",
       "4               3562                3562                   125   \n",
       "\n",
       "   CATEGORY_ASSESSMENT  \n",
       "0                  170  \n",
       "1                  149  \n",
       "2                    6  \n",
       "3                   24  \n",
       "4                   27  "
      ]
     },
     "execution_count": 24,
     "metadata": {},
     "output_type": "execute_result"
    }
   ],
   "source": [
    "counted_events.head()"
   ]
  },
  {
   "cell_type": "code",
   "execution_count": 124,
   "metadata": {
    "collapsed": false
   },
   "outputs": [
    {
     "data": {
      "text/plain": [
       "[None,\n",
       " None,\n",
       " None,\n",
       " None,\n",
       " None,\n",
       " None,\n",
       " None,\n",
       " None,\n",
       " None,\n",
       " None,\n",
       " None,\n",
       " None,\n",
       " None,\n",
       " None,\n",
       " None,\n",
       " None,\n",
       " None,\n",
       " None,\n",
       " None,\n",
       " None,\n",
       " None,\n",
       " None,\n",
       " None,\n",
       " None,\n",
       " None,\n",
       " None,\n",
       " None]"
      ]
     },
     "execution_count": 124,
     "metadata": {},
     "output_type": "execute_result"
    },
    {
     "data": {
      "image/png": "[encoded data removed]",
      "text/plain": [
       "<matplotlib.figure.Figure at 0x113908d68>"
      ]
     },
     "metadata": {},
     "output_type": "display_data"
    }
   ],
   "source": [
    "sns.barplot(counted_events['CATEGORY_TITLE'], counted_events['REPORTED_EVENT_CATEGORY_ID'])\n",
    "locs, labels = plt.xticks()\n",
    "plt.setp(labels, rotation=90)"
   ]
  },
  {
   "cell_type": "code",
   "execution_count": 10,
   "metadata": {
    "collapsed": false
   },
   "outputs": [
    {
     "data": {
      "text/html": [
       "<div>\n",
       "<table border=\"1\" class=\"dataframe\">\n",
       "  <thead>\n",
       "    <tr style=\"text-align: right;\">\n",
       "      <th></th>\n",
       "      <th>MILESTONE_ID</th>\n",
       "      <th>PARTICIPANT_FLOW_ID</th>\n",
       "      <th>MILESTONE_TYPE</th>\n",
       "      <th>MILESTONE_TITLE</th>\n",
       "    </tr>\n",
       "  </thead>\n",
       "  <tbody>\n",
       "    <tr>\n",
       "      <th>0</th>\n",
       "      <td>41</td>\n",
       "      <td>81</td>\n",
       "      <td>Milestone</td>\n",
       "      <td>STARTED</td>\n",
       "    </tr>\n",
       "    <tr>\n",
       "      <th>1</th>\n",
       "      <td>42</td>\n",
       "      <td>81</td>\n",
       "      <td>Milestone</td>\n",
       "      <td>COMPLETED</td>\n",
       "    </tr>\n",
       "    <tr>\n",
       "      <th>2</th>\n",
       "      <td>43</td>\n",
       "      <td>81</td>\n",
       "      <td>Milestone</td>\n",
       "      <td>NOT COMPLETED</td>\n",
       "    </tr>\n",
       "    <tr>\n",
       "      <th>3</th>\n",
       "      <td>44</td>\n",
       "      <td>82</td>\n",
       "      <td>Milestone</td>\n",
       "      <td>STARTED</td>\n",
       "    </tr>\n",
       "    <tr>\n",
       "      <th>4</th>\n",
       "      <td>45</td>\n",
       "      <td>82</td>\n",
       "      <td>Milestone</td>\n",
       "      <td>COMPLETED</td>\n",
       "    </tr>\n",
       "  </tbody>\n",
       "</table>\n",
       "</div>"
      ],
      "text/plain": [
       "   MILESTONE_ID  PARTICIPANT_FLOW_ID MILESTONE_TYPE MILESTONE_TITLE\n",
       "0            41                   81      Milestone         STARTED\n",
       "1            42                   81      Milestone       COMPLETED\n",
       "2            43                   81      Milestone   NOT COMPLETED\n",
       "3            44                   82      Milestone         STARTED\n",
       "4            45                   82      Milestone       COMPLETED"
      ]
     },
     "execution_count": 10,
     "metadata": {},
     "output_type": "execute_result"
    }
   ],
   "source": [
    "milestones = pd.read_csv('results_partflow_mlstn.txt', sep='|')\n",
    "milestones.head()"
   ]
  },
  {
   "cell_type": "code",
   "execution_count": 25,
   "metadata": {
    "collapsed": false
   },
   "outputs": [],
   "source": [
    "milestone_count = word_counter(milestones['MILESTONE_TITLE'])"
   ]
  },
  {
   "cell_type": "code",
   "execution_count": 28,
   "metadata": {
    "collapsed": false
   },
   "outputs": [],
   "source": [
    "mesh_true = pd.Series([True if x in terms else False for x in sorted(milestone_count)])"
   ]
  },
  {
   "cell_type": "code",
   "execution_count": 31,
   "metadata": {
    "collapsed": false
   },
   "outputs": [
    {
     "data": {
      "text/plain": [
       "False"
      ]
     },
     "execution_count": 31,
     "metadata": {},
     "output_type": "execute_result"
    }
   ],
   "source": [
    "'Adverse' in terms"
   ]
  },
  {
   "cell_type": "code",
   "execution_count": 116,
   "metadata": {
    "collapsed": false
   },
   "outputs": [
    {
     "data": {
      "text/plain": [
       "[('COMPLETED', 52282),\n",
       " ('NOT', 26143),\n",
       " ('STARTED', 26140),\n",
       " ('Subject', 9786),\n",
       " ('by', 9699),\n",
       " ('Withdrawal', 9564),\n",
       " ('to', 9368),\n",
       " ('Adverse', 8606),\n",
       " ('Event', 8554),\n",
       " ('Follow-up', 7414),\n",
       " ('Lost', 7311),\n",
       " ('Protocol', 4807),\n",
       " ('of', 4792),\n",
       " ('Violation', 4298),\n",
       " ('Lack', 3226),\n",
       " ('Death', 3224),\n",
       " ('Efficacy', 3116),\n",
       " ('Decision', 2924),\n",
       " ('Physician', 2543),\n",
       " ('not', 1672),\n",
       " ('Not', 1512),\n",
       " ('Study', 1417),\n",
       " ('Other', 1085),\n",
       " ('Received', 996),\n",
       " ('study', 954),\n",
       " ('Disease', 904),\n",
       " ('Treatment', 899),\n",
       " ('Treated', 778),\n",
       " ('Unspecified', 703),\n",
       " ('criteria', 645),\n",
       " ('Did', 603),\n",
       " ('Sponsor', 583),\n",
       " ('Administrative', 570),\n",
       " ('specified', 558),\n",
       " ('Criteria', 550),\n",
       " ('Drug', 542),\n",
       " ('treatment', 538),\n",
       " ('Pregnancy', 523),\n",
       " ('at', 519),\n",
       " ('Completed', 511),\n",
       " ('Progression', 474),\n",
       " ('No', 454),\n",
       " ('with', 453),\n",
       " ('Patient', 440),\n",
       " ('drug', 437),\n",
       " ('in', 433),\n",
       " ('Population', 421),\n",
       " ('for', 418),\n",
       " ('Dose', 406),\n",
       " ('progression', 406),\n",
       " ('or', 397),\n",
       " ('Non-compliance', 392),\n",
       " ('Consent', 387),\n",
       " ('Safety', 387),\n",
       " ('1', 382),\n",
       " ('Reason', 379),\n",
       " ('protocol', 359),\n",
       " ('Set', 351),\n",
       " ('Participant', 349),\n",
       " ('disease', 344),\n",
       " ('and', 343),\n",
       " ('treated', 342),\n",
       " ('Randomized', 336),\n",
       " ('consent', 335),\n",
       " ('Progressive', 332),\n",
       " ('reason', 323),\n",
       " ('Unknown', 322),\n",
       " ('Analysis', 308),\n",
       " ('Withdrew', 305),\n",
       " ('Met', 295),\n",
       " ('decision', 283),\n",
       " ('Abnormal', 283),\n",
       " ('Noncompliance', 277),\n",
       " ('but', 266),\n",
       " ('reasons', 255),\n",
       " ('Visit', 255),\n",
       " ('meet', 252),\n",
       " ('Week', 248),\n",
       " ('Ineligible', 243),\n",
       " ('medication', 239),\n",
       " ('Failure', 233),\n",
       " ('2', 231),\n",
       " ('the', 229),\n",
       " ('problems', 226),\n",
       " ('Specified', 221),\n",
       " ('due', 219),\n",
       " ('terminated', 218),\n",
       " ('Reasons', 210),\n",
       " ('Investigator', 207),\n",
       " ('Ongoing', 207),\n",
       " ('Least', 201),\n",
       " ('Eligible', 198),\n",
       " ('longer', 196),\n",
       " ('Unsatisfactory', 191),\n",
       " ('other', 190),\n",
       " ('sponsor', 186),\n",
       " ('therapeutic', 185),\n",
       " ('therapy', 180),\n",
       " ('no', 180),\n",
       " ('Refused', 180),\n",
       " ('3', 174),\n",
       " ('Other:', 171),\n",
       " ('Moved', 171),\n",
       " ('Vaccinated', 168),\n",
       " ('Terminated', 165),\n",
       " ('Full', 165),\n",
       " ('on', 165),\n",
       " ('Unable', 163),\n",
       " ('Entry', 161),\n",
       " ('Month', 161),\n",
       " ('Site', 157),\n",
       " ('deviation', 157),\n",
       " ('Discontinued', 156),\n",
       " ('did', 154),\n",
       " ('withdrew', 154),\n",
       " ('Insufficient', 153),\n",
       " ('effect', 152),\n",
       " ('-', 152),\n",
       " ('Medication', 150),\n",
       " ('failure', 147),\n",
       " ('Poor', 147),\n",
       " ('receive', 145),\n",
       " ('met', 145),\n",
       " ('compliance', 143),\n",
       " ('Failed', 142),\n",
       " ('Response', 140),\n",
       " ('Missing', 138),\n",
       " ('non-compliance', 138),\n",
       " ('Clinical', 138),\n",
       " ('data', 137),\n",
       " ('return', 136),\n",
       " ('visit', 134),\n",
       " ('event', 132),\n",
       " ('request', 131),\n",
       " ('Therapy', 129),\n",
       " ('response', 127),\n",
       " ('procedure', 125),\n",
       " ('Participants', 124),\n",
       " ('test', 123),\n",
       " ('Deviation', 122),\n",
       " ('above', 122),\n",
       " ('Never', 120),\n",
       " ('than', 117),\n",
       " ('6', 116),\n",
       " ('Withdrawn', 114),\n",
       " ('after', 112),\n",
       " ('follow-up', 111),\n",
       " ('from', 111),\n",
       " ('With', 110),\n",
       " ('withdrawal', 107),\n",
       " ('Phase', 107),\n",
       " ('12', 104),\n",
       " ('prior', 103),\n",
       " ('Screen', 103),\n",
       " ('laboratory', 102),\n",
       " ('moved', 102),\n",
       " ('Period', 101),\n",
       " ('Patients', 101),\n",
       " ('Request', 99),\n",
       " ('Personal', 99),\n",
       " ('Termination', 98),\n",
       " ('AE', 98),\n",
       " ('error', 97),\n",
       " ('before', 97),\n",
       " ('termination', 97),\n",
       " ('Toxicity', 97),\n",
       " ('Non-Compliance', 95),\n",
       " ('adverse', 94),\n",
       " ('Missed', 94),\n",
       " ('up', 94),\n",
       " ('Data', 93),\n",
       " ('Non', 93),\n",
       " ('Treat', 91),\n",
       " ('Eligibility', 91),\n",
       " ('Laboratory', 90),\n",
       " ('received', 90),\n",
       " ('4', 89),\n",
       " ('eligibility', 89),\n",
       " ('was', 88),\n",
       " ('Exposed', 84),\n",
       " ('Started', 84),\n",
       " ('continue', 84),\n",
       " ('Stopping', 83),\n",
       " ('Relapse', 83),\n",
       " ('Unclassified', 83),\n",
       " ('Meet', 83),\n",
       " ('surgery', 83),\n",
       " ('out', 82),\n",
       " ('Problems', 81),\n",
       " ('Severe', 81),\n",
       " ('subject', 80),\n",
       " ('site', 79),\n",
       " ('(ITT)', 79),\n",
       " ('withdrawn', 79),\n",
       " ('Serious', 78),\n",
       " ('ineligible', 78),\n",
       " ('24', 77),\n",
       " ('a', 77),\n",
       " ('Baseline', 77),\n",
       " ('unknown', 76),\n",
       " ('Early', 76),\n",
       " ('patient', 76),\n",
       " ('Enrolled', 75),\n",
       " ('Compliance', 75),\n",
       " ('Intent', 74),\n",
       " ('Trial', 74),\n",
       " ('Weeks', 73),\n",
       " ('One', 72),\n",
       " ('related', 71),\n",
       " ('Therapeutic', 71),\n",
       " ('Miscellaneous', 71),\n",
       " ('Condition', 71),\n",
       " ('Per', 71),\n",
       " ('transplant', 70),\n",
       " ('discontinuation', 70),\n",
       " ('toxicity', 70),\n",
       " ('Surgery', 70),\n",
       " ('trial', 68),\n",
       " ('Incorrect', 68),\n",
       " ('relapse', 68),\n",
       " ('Discretion', 67),\n",
       " ('Follow', 67),\n",
       " ('Protocol-defined', 67),\n",
       " ('Day', 66),\n",
       " ('complete', 65),\n",
       " ('Subjects', 65),\n",
       " ('Discontinuation', 65),\n",
       " ('Objective', 65),\n",
       " ('Unrelated', 64),\n",
       " ('enrollment', 63),\n",
       " ('unrelated', 62),\n",
       " ('required', 62),\n",
       " ('Longer', 62),\n",
       " ('Placebo', 62),\n",
       " ('Receive', 61),\n",
       " ('Cycle', 61),\n",
       " ('Entered', 60),\n",
       " ('Months', 60),\n",
       " ('Error', 60),\n",
       " ('during', 60),\n",
       " ('Ineligibility', 60),\n",
       " ('Loss', 59),\n",
       " ('Still', 59),\n",
       " ('(FAS)', 59),\n",
       " ('defined', 59),\n",
       " ('value(s)', 59),\n",
       " ('inclusion', 59),\n",
       " ('Due', 58),\n",
       " ('unspecified', 57),\n",
       " ('clinical', 57),\n",
       " ('+', 56),\n",
       " ('Medical', 56),\n",
       " ('status', 56),\n",
       " ('deterioration', 56),\n",
       " ('follow', 56),\n",
       " ('efficacy', 56),\n",
       " ('eligible', 56),\n",
       " ('Change', 56),\n",
       " ('Vaccination', 55),\n",
       " ('Positive', 55),\n",
       " ('closure', 54),\n",
       " ('Evaluable', 54),\n",
       " ('Worsening', 54),\n",
       " ('Exclusion', 54),\n",
       " ('Randomized,', 53),\n",
       " ('refused', 53),\n",
       " ('48', 53),\n",
       " (\"Investigator's\", 53),\n",
       " ('meets', 52),\n",
       " ('Use', 52),\n",
       " ('Began', 51),\n",
       " ('procedures', 51),\n",
       " ('Alternative', 51),\n",
       " ('mg', 50),\n",
       " ('Required', 50),\n",
       " ('result(s)', 50),\n",
       " ('blood', 49),\n",
       " ('Return', 49),\n",
       " ('exclusion', 49),\n",
       " ('discontinued', 49),\n",
       " ('completed', 49),\n",
       " ('Non-compliant', 49),\n",
       " ('Refusal', 49),\n",
       " ('unable', 48),\n",
       " ('Intervention', 48),\n",
       " ('(not', 47),\n",
       " ('Extension', 47),\n",
       " ('Related', 47),\n",
       " ('use', 47),\n",
       " ('After', 47),\n",
       " ('prohibited', 47),\n",
       " ('dose', 46),\n",
       " ('ITT', 46),\n",
       " ('But', 46),\n",
       " ('Complete', 46),\n",
       " ('Randomization', 46),\n",
       " ('take', 46),\n",
       " ('stopped', 46),\n",
       " ('/', 46),\n",
       " ('closed', 46),\n",
       " ('illness', 46),\n",
       " ('available', 45),\n",
       " ('requires', 45),\n",
       " ('another', 45),\n",
       " ('area', 45),\n",
       " ('Inappropriate', 45),\n",
       " ('cancer', 45),\n",
       " ('compliant', 45),\n",
       " ('Assessment', 45),\n",
       " ('determined', 45),\n",
       " ('started', 44),\n",
       " ('Prohibited', 44),\n",
       " ('New', 44),\n",
       " ('health', 44),\n",
       " ('Stopped', 44),\n",
       " ('Screening', 43),\n",
       " ('further', 43),\n",
       " ('Primary', 43),\n",
       " ('Various', 43),\n",
       " ('noncompliance', 43),\n",
       " ('early', 43),\n",
       " ('Modified', 42),\n",
       " ('entry', 42),\n",
       " ('per', 42),\n",
       " ('safety', 41),\n",
       " ('Excluded', 41),\n",
       " ('Technical', 41),\n",
       " ('Intercurrent', 41),\n",
       " ('device', 41),\n",
       " ('Closed', 41),\n",
       " ('visits', 41),\n",
       " ('stated', 41),\n",
       " ('Switched', 40),\n",
       " ('participate', 40),\n",
       " ('&', 40),\n",
       " ('start', 40),\n",
       " ('Intent-to-treat', 39),\n",
       " ('period', 39),\n",
       " ('time', 39),\n",
       " ('primary', 39),\n",
       " ('never', 38),\n",
       " ('Virologic', 38),\n",
       " ('Test', 38),\n",
       " ('be', 38),\n",
       " ('as', 38),\n",
       " ('Family', 38),\n",
       " ('randomized', 37),\n",
       " ('under', 37),\n",
       " ('attend', 37),\n",
       " ('Deterioration', 37),\n",
       " ('state', 37),\n",
       " ('reported', 36),\n",
       " ('loss', 36),\n",
       " (\"Sponsor's\", 36),\n",
       " ('date', 36),\n",
       " ('medical', 36),\n",
       " ('condition', 36),\n",
       " ('schedule', 36),\n",
       " ('Year', 36),\n",
       " ('results', 36),\n",
       " ('entrance', 35),\n",
       " ('without', 35),\n",
       " ('Relocation', 35),\n",
       " ('missing', 35),\n",
       " ('end', 35),\n",
       " ('specific', 35),\n",
       " ('alternative', 35),\n",
       " ('Had', 34),\n",
       " ('Unacceptable', 34),\n",
       " ('Intent-to-Treat', 34),\n",
       " ('lab', 34),\n",
       " ('End', 34),\n",
       " (\"Patient's\", 34),\n",
       " ('had', 33),\n",
       " ('Requirement', 33),\n",
       " ('Transplant', 33),\n",
       " ('To', 33),\n",
       " ('hospital', 33),\n",
       " ('Inadequate', 33),\n",
       " ('Only', 33),\n",
       " ('Illness', 33),\n",
       " ('TREATED', 33),\n",
       " ('5', 33),\n",
       " ('Second', 32),\n",
       " ('Procedure', 32),\n",
       " ('Enrollment', 32),\n",
       " ('Status', 32),\n",
       " ('Out', 32),\n",
       " ('Global', 31),\n",
       " ('symptoms', 31),\n",
       " ('fulfilled', 31),\n",
       " ('value', 31),\n",
       " ('analysis', 31),\n",
       " ('Inclusion/Exclusion', 31),\n",
       " ('days', 31),\n",
       " ('First', 31),\n",
       " ('participant', 31),\n",
       " ('Meets', 31),\n",
       " ('only', 31),\n",
       " ('screen', 31),\n",
       " ('Voluntary', 31),\n",
       " ('complicating', 30),\n",
       " ('Noncompliant', 30),\n",
       " ('Graft', 30),\n",
       " ('Closed/Terminated', 30),\n",
       " ('PI', 29),\n",
       " ('willing', 29),\n",
       " ('guardian', 29),\n",
       " ('Inclusion', 29),\n",
       " ('issue', 29),\n",
       " ('cut-off', 29),\n",
       " ('clinic', 29),\n",
       " ('values', 29),\n",
       " ('could', 29),\n",
       " ('intervention', 29),\n",
       " ('8', 29),\n",
       " ('specified)', 29),\n",
       " ('All', 29),\n",
       " ('non-compliant', 29),\n",
       " ('Closure', 28),\n",
       " ('Withdraw', 28),\n",
       " ('issues', 28),\n",
       " ('Product', 28),\n",
       " ('worsened', 28),\n",
       " ('Control', 28),\n",
       " ('pregnancy', 28),\n",
       " ('lost', 28),\n",
       " ('Symptomatic', 28),\n",
       " ('wish', 28),\n",
       " ('baseline', 28),\n",
       " ('criterion', 28),\n",
       " ('Cancer', 28),\n",
       " ('phase', 27),\n",
       " ('Continuing', 27),\n",
       " ('Continue', 27),\n",
       " ('administrative', 27),\n",
       " ('Prior', 27),\n",
       " ('Blood', 27),\n",
       " ('off', 27),\n",
       " ('randomization', 27),\n",
       " ('Cycles', 27),\n",
       " ('have', 27),\n",
       " ('done', 27),\n",
       " ('Endpoint', 27),\n",
       " ('death', 27),\n",
       " ('rescue', 27),\n",
       " ('compliance/noncompliance', 27),\n",
       " ('Incarcerated', 27),\n",
       " ('Minutes)', 27),\n",
       " ('Parent', 27),\n",
       " (\"Subject's\", 27),\n",
       " ('Device', 26),\n",
       " ('ongoing', 26),\n",
       " ('violation', 26),\n",
       " ('too', 26),\n",
       " ('Could', 26),\n",
       " ('Before', 26),\n",
       " ('F/U', 26),\n",
       " ('Administrative/Other', 26),\n",
       " ('participation', 26),\n",
       " ('Final', 26),\n",
       " ('Major', 26),\n",
       " ('From', 26),\n",
       " ('change', 26),\n",
       " ('withdraw', 26),\n",
       " ('window', 25),\n",
       " ('Study-specific', 25),\n",
       " ('lack', 25),\n",
       " ('Selection', 25),\n",
       " ('Number', 25),\n",
       " ('Dosing', 25),\n",
       " ('Protocol-specified', 25),\n",
       " ('inclusion/exclusion', 25),\n",
       " ('all', 25),\n",
       " (\"Participant's\", 25),\n",
       " ('Follow-Up', 25),\n",
       " ('classify', 25),\n",
       " ('Inability', 25),\n",
       " ('investigation', 24),\n",
       " ('investigator', 24),\n",
       " ('infection', 24),\n",
       " ('more', 24),\n",
       " ('result', 24),\n",
       " ('Caregiver', 24),\n",
       " ('On', 24),\n",
       " ('Continuation', 24),\n",
       " ('Randomised', 24),\n",
       " ('endpoint', 24),\n",
       " ('failed', 24),\n",
       " ('Completion', 24),\n",
       " ('Who', 24),\n",
       " ('reached', 23),\n",
       " ('discretion', 23),\n",
       " ('The', 23),\n",
       " ('Any', 23),\n",
       " ('16', 23),\n",
       " ('Renal', 23),\n",
       " ('Available', 23),\n",
       " ('PK', 23),\n",
       " ('Treated:', 23),\n",
       " ('MRI', 23),\n",
       " ('Another', 23),\n",
       " ('non-fatal', 23),\n",
       " ('Lab', 23),\n",
       " ('BIA', 23),\n",
       " ('Inclusion/exclusion', 22),\n",
       " ('Insurance', 22),\n",
       " ('Alive', 22),\n",
       " ('96', 22),\n",
       " ('enrolment', 22),\n",
       " ('Need', 22),\n",
       " ('left', 22),\n",
       " ('events', 22),\n",
       " ('Relocated', 22),\n",
       " ('care', 22),\n",
       " ('Incomplete', 22),\n",
       " ('Maximum', 22),\n",
       " ('Ineligible:', 22),\n",
       " ('By', 22),\n",
       " ('Low', 22),\n",
       " ('any', 22),\n",
       " ('country', 22),\n",
       " ('an', 22),\n",
       " ('Switch', 21),\n",
       " ('Informed', 21),\n",
       " ('Reached', 21),\n",
       " ('PD', 21),\n",
       " ('taking', 21),\n",
       " ('Multiple', 21),\n",
       " ('Maintenance', 21),\n",
       " ('Too', 21),\n",
       " ('Administration', 21),\n",
       " ('Elevated', 21),\n",
       " ('Cohort', 21),\n",
       " ('9-1067', 21),\n",
       " ('weeks', 21),\n",
       " ('screening', 21),\n",
       " ('reaction', 21),\n",
       " ('concomitant', 21),\n",
       " ('Parent/Caregiver', 21),\n",
       " ('product', 21),\n",
       " ('Changed', 21),\n",
       " (\"Didn't\", 21),\n",
       " ('get', 21),\n",
       " ('>', 21),\n",
       " ('Transferred', 20),\n",
       " ('Secondary', 20),\n",
       " ('Recurrence', 20),\n",
       " ('Hyperglycemia', 20),\n",
       " ('At', 20),\n",
       " ('Rescue', 20),\n",
       " ('lens', 20),\n",
       " ('low', 20),\n",
       " ('Died', 20),\n",
       " ('problem', 20),\n",
       " ('enrolled', 20),\n",
       " ('IV', 20),\n",
       " ('Value', 20),\n",
       " ('discontinue', 20),\n",
       " ('quality', 20),\n",
       " ('Time', 20),\n",
       " ('Sample', 20),\n",
       " ('Problem', 19),\n",
       " ('Included', 19),\n",
       " ('completion', 19),\n",
       " ('Post', 19),\n",
       " ('B', 19),\n",
       " ('comply', 19),\n",
       " ('requirements', 19),\n",
       " ('abnormality', 19),\n",
       " ('access', 19),\n",
       " ('Abnormality', 19),\n",
       " ('A', 19),\n",
       " ('Health', 19),\n",
       " ('administration', 19),\n",
       " ('meds', 19),\n",
       " ('ovarian', 19),\n",
       " ('home', 19),\n",
       " ('Effect', 19),\n",
       " ('non', 19),\n",
       " ('18', 19),\n",
       " ('Issues', 19),\n",
       " ('transplantation', 19),\n",
       " ('Declined', 19),\n",
       " ('Visits', 19),\n",
       " ('Premature', 19),\n",
       " ('patients', 19),\n",
       " ('10', 18),\n",
       " ('Crossover', 18),\n",
       " ('dosed', 18),\n",
       " ('Kidney', 18),\n",
       " ('dosing', 18),\n",
       " ('Chemotherapy', 18),\n",
       " ('Over', 18),\n",
       " ('Scan', 18),\n",
       " ('Up', 18),\n",
       " ('Scheduling', 18),\n",
       " ('Took', 18),\n",
       " ('were', 18),\n",
       " ('Initiated', 18),\n",
       " ('In', 18),\n",
       " ('Injection', 18),\n",
       " ('30', 18),\n",
       " ('extension', 18),\n",
       " ('found', 18),\n",
       " ('Solution', 18),\n",
       " ('report', 18),\n",
       " ('months', 18),\n",
       " ('missed', 18),\n",
       " ('Non-Compliant', 18),\n",
       " ('day', 18),\n",
       " ('non-specified', 18),\n",
       " ('Glucose', 18),\n",
       " ('KNO3', 18),\n",
       " ('52', 17),\n",
       " ('Population:', 17),\n",
       " ('Incarceration', 17),\n",
       " ('outside', 17),\n",
       " ('Exacerbation', 17),\n",
       " ('receiving', 17),\n",
       " ('family', 17),\n",
       " ('cell', 17),\n",
       " ('different', 17),\n",
       " ('Core', 17),\n",
       " ('enter', 17),\n",
       " ('glucose', 17),\n",
       " ('positive', 17),\n",
       " ('complications', 17),\n",
       " ('wrong', 17),\n",
       " ('2nd', 17),\n",
       " ('still', 17),\n",
       " ('new', 17),\n",
       " ('poor', 17),\n",
       " ('progressive', 17),\n",
       " ('refusal', 17),\n",
       " ('Complicating', 17),\n",
       " ('Oral', 16),\n",
       " ('Pt', 16),\n",
       " ('needed', 16),\n",
       " ('Days', 16),\n",
       " ('<', 16),\n",
       " ('pain', 16),\n",
       " ('meeting', 16),\n",
       " ('evaluable', 16),\n",
       " ('chemotherapy', 16),\n",
       " ('changed', 16),\n",
       " ('stopping', 16),\n",
       " ('Assigned', 16),\n",
       " ('Other,', 16),\n",
       " ('SAE,', 16),\n",
       " ('pregnant', 16),\n",
       " ('Analyzed', 16),\n",
       " ('one', 16),\n",
       " ('Found', 16),\n",
       " ('contact', 16),\n",
       " ('information', 16),\n",
       " ('Lens', 16),\n",
       " ('week', 16),\n",
       " ('7', 16),\n",
       " ('Qualifying', 16),\n",
       " ('effects', 16),\n",
       " ('Wrong', 16),\n",
       " ('prematurely', 16),\n",
       " ('Does', 16),\n",
       " ('adhere', 16),\n",
       " ('assessment', 16),\n",
       " ('vaccinated', 16),\n",
       " ('open', 16),\n",
       " ('conflict', 16),\n",
       " ('Results', 16),\n",
       " ('Progression/relapse', 16),\n",
       " ('Surgical', 16),\n",
       " ('(SAF)', 16),\n",
       " ('Alternate', 15),\n",
       " ('commercial', 15),\n",
       " ('Deviations', 15),\n",
       " ('experience', 15),\n",
       " ('participants', 15),\n",
       " ('Continued', 15),\n",
       " ('excluded', 15),\n",
       " ('those', 15),\n",
       " ('control', 15),\n",
       " ('Underwent', 15),\n",
       " ('FU', 15),\n",
       " ('Inevaluable', 15),\n",
       " ('9', 15),\n",
       " ('benefit', 15),\n",
       " ('diagnosis', 15),\n",
       " ('surgical', 15),\n",
       " ('Intention', 15),\n",
       " ('within', 15),\n",
       " ('Investigational', 15),\n",
       " ('Tumor', 15),\n",
       " ('Parent/legal', 15),\n",
       " ('personal', 15),\n",
       " ('Part', 15),\n",
       " ('want', 15),\n",
       " ('1st', 15),\n",
       " ('(PP)', 15),\n",
       " ('Confirmed', 15),\n",
       " ('Liver', 15),\n",
       " ('(PD)', 15),\n",
       " ('Developed', 15),\n",
       " ('FAS', 15),\n",
       " ('taken', 15),\n",
       " ('qualify', 15),\n",
       " ('Progression/Relapse', 15),\n",
       " ('Without', 15),\n",
       " ('Of', 15),\n",
       " ('More', 14),\n",
       " ('Open', 14),\n",
       " ('able', 14),\n",
       " ('dialysis', 14),\n",
       " ('Pain', 14),\n",
       " ('50', 14),\n",
       " ('Regimen', 14),\n",
       " ('Population)', 14),\n",
       " ('away', 14),\n",
       " ('Transfer', 14),\n",
       " ('vaccine', 14),\n",
       " ('requested', 14),\n",
       " ('Defined', 14),\n",
       " ('Enrolled,', 14),\n",
       " ('Procedures', 14),\n",
       " ('Cell', 14),\n",
       " ('Discomfort', 14),\n",
       " ('pressure', 14),\n",
       " ('Transportation', 14),\n",
       " ('collected', 14),\n",
       " ('Entrance', 14),\n",
       " ('Poor/Noncompliance', 14),\n",
       " ('transfer', 14),\n",
       " ('ended', 14),\n",
       " ('Receiving', 14),\n",
       " ('(Safety', 14),\n",
       " ('Creatinine', 14),\n",
       " ('medications', 14),\n",
       " ('Initiation', 14),\n",
       " ('Case', 14),\n",
       " ('exclusionary', 14),\n",
       " ('BP', 14),\n",
       " ('planned', 14),\n",
       " ('Fluoride', 14),\n",
       " ('Fulfilled', 14),\n",
       " ('starting', 14),\n",
       " ('Requirements', 14),\n",
       " ('is', 14),\n",
       " ('mITT', 14),\n",
       " ('Diagnosis', 14),\n",
       " ('informed', 14),\n",
       " ('Off', 14),\n",
       " ('exacerbation', 14),\n",
       " ('Increased', 14),\n",
       " ('Wish', 14),\n",
       " ('tumor', 14),\n",
       " ('Principal', 14),\n",
       " ('Implant', 13),\n",
       " ('Further', 13),\n",
       " ('given', 13),\n",
       " ('Infection', 13),\n",
       " ('Viral', 13),\n",
       " ('Collection', 13),\n",
       " ('Protocol-Defined', 13),\n",
       " ('function', 13),\n",
       " ('documentation', 13),\n",
       " ('used', 13),\n",
       " ('sample', 13),\n",
       " ('Intolerance', 13),\n",
       " ('Dropped', 13),\n",
       " ('first', 13),\n",
       " ('II', 13),\n",
       " ('Move', 13),\n",
       " ('less', 13),\n",
       " ('Infusion', 13),\n",
       " ('I', 13),\n",
       " ('Travel', 13),\n",
       " ('entered', 13),\n",
       " ('Unwilling', 13),\n",
       " ('treat', 13),\n",
       " ('During', 13),\n",
       " ('restricted', 13),\n",
       " ('high', 13),\n",
       " ('Arm', 13),\n",
       " ('failures', 13),\n",
       " ('Tx', 13),\n",
       " ('High', 13),\n",
       " ('Dosed', 13),\n",
       " ('selection', 13),\n",
       " ('Enter', 13),\n",
       " ('pt', 13),\n",
       " ('cooperate', 13),\n",
       " ('Difficulty', 13),\n",
       " ('Bone', 13),\n",
       " ('relocated', 13),\n",
       " ('travel', 13),\n",
       " ('AE,', 13),\n",
       " ('incomplete', 13),\n",
       " ('Pharmacokinetic', 13),\n",
       " ('into', 13),\n",
       " ('100', 13),\n",
       " ('known', 13),\n",
       " ('Poor/non-compliance', 12),\n",
       " ('Left', 12),\n",
       " ('Intention-to-treat', 12),\n",
       " ('Evaluation', 12),\n",
       " ('Choice', 12),\n",
       " ('requirement', 12),\n",
       " ('Performed', 12),\n",
       " ('inability', 12),\n",
       " ('Olo', 12),\n",
       " ('COPD', 12),\n",
       " ('cancelled', 12),\n",
       " ('Negative', 12),\n",
       " ('Transplantation', 12),\n",
       " ('insufficient', 12),\n",
       " ('virologic', 12),\n",
       " ('Double-blind', 12),\n",
       " ('Pressure', 12),\n",
       " ('administered', 12),\n",
       " ('ECG', 12),\n",
       " ('Events', 12),\n",
       " ('Subject/guardian', 12),\n",
       " ('Incorrectly', 12),\n",
       " ('Session', 12),\n",
       " ('Start', 12),\n",
       " ('declined', 12),\n",
       " ('progression,', 12),\n",
       " ('scheduled', 12),\n",
       " ('Uncooperative', 12),\n",
       " ('Safety,', 12),\n",
       " ('second', 12),\n",
       " ('intolerance', 12),\n",
       " ('recurrence', 12),\n",
       " ('Removal', 12),\n",
       " ('urine', 12),\n",
       " ('Schedule', 12),\n",
       " ('Label', 12),\n",
       " ('judgement', 12),\n",
       " ('Others', 12),\n",
       " ('physician', 12),\n",
       " ('active', 12),\n",
       " ('implanted', 12),\n",
       " ('Determined', 12),\n",
       " ('Lung', 12),\n",
       " ('Acute', 12),\n",
       " ('driven', 12),\n",
       " ('swallow', 12),\n",
       " ('listed', 12),\n",
       " ('work', 12),\n",
       " ('15', 12),\n",
       " ('Active', 12),\n",
       " ('post', 12),\n",
       " ('Information', 12),\n",
       " ('Risk', 12),\n",
       " ('tolerate', 12),\n",
       " ('insurance', 12),\n",
       " ('5%', 11),\n",
       " ('OTHER', 11),\n",
       " ('choice', 11),\n",
       " ('Form', 11),\n",
       " ('Consented', 11),\n",
       " ('History', 11),\n",
       " ('form', 11),\n",
       " ('(2', 11),\n",
       " ('convenience', 11),\n",
       " ('pathology', 11),\n",
       " ('Induction', 11),\n",
       " ('Group', 11),\n",
       " ('contraindicated', 11),\n",
       " ('label', 11),\n",
       " ('Scheduled', 11),\n",
       " ('(AE)', 11),\n",
       " ('month', 11),\n",
       " ('Food', 11),\n",
       " ('show', 11),\n",
       " ('tx', 11),\n",
       " ('Sodium', 11),\n",
       " ('Challenge', 11),\n",
       " ('Migrated/moved', 11),\n",
       " ('drugs', 11),\n",
       " ('performance', 11),\n",
       " ('Less', 11),\n",
       " ('limiting', 11),\n",
       " ('Discontinue', 11),\n",
       " (\"Physician's\", 11),\n",
       " ('Needed', 11),\n",
       " ('C', 11),\n",
       " ('Non-responder', 11),\n",
       " ('incorrect', 11),\n",
       " ('Planned', 11),\n",
       " ('TREATMENT', 11),\n",
       " ('level', 11),\n",
       " ('Poor/Non-compliance', 11),\n",
       " ('need', 11),\n",
       " ('Clinic', 11),\n",
       " ('Removed', 11),\n",
       " ('oral', 11),\n",
       " ('identified', 11),\n",
       " ('Amendment', 11),\n",
       " ('Symptoms', 11),\n",
       " ('Tolerability,', 11),\n",
       " ('doses', 11),\n",
       " ('Sessions', 11),\n",
       " ('Date', 11),\n",
       " ('14', 11),\n",
       " ('Years', 11),\n",
       " ('Development', 11),\n",
       " ('stent', 11),\n",
       " ('3-month', 11),\n",
       " ('Par.', 11),\n",
       " ('evaluation', 11),\n",
       " ('NVA237', 11),\n",
       " ('Hospital', 11),\n",
       " ('Pharmacodynamic', 11),\n",
       " ('PSA', 11),\n",
       " ('discharge', 11),\n",
       " ('survey', 11),\n",
       " ('Values', 11),\n",
       " ('Taking', 10),\n",
       " ('Vax', 10),\n",
       " ('record', 10),\n",
       " ('Stable', 10),\n",
       " ('Discharged', 10),\n",
       " ('symptomatic', 10),\n",
       " ('went', 10),\n",
       " ('Survey', 10),\n",
       " ('Undefined', 10),\n",
       " ('worsening', 10),\n",
       " ('Cooperate', 10),\n",
       " ('Difficult', 10),\n",
       " ('non-serious', 10),\n",
       " ('Criterion', 10),\n",
       " ('Classify', 10),\n",
       " ('Recurrent', 10),\n",
       " ('assigned', 10),\n",
       " ('regimen', 10),\n",
       " ('Poor/Non-Compliance', 10),\n",
       " ('wks', 10),\n",
       " ('moving', 10),\n",
       " ('Unavailable', 10),\n",
       " ('Pretreatment', 10),\n",
       " ('serious', 10),\n",
       " ('GSK', 10),\n",
       " ('legal', 10),\n",
       " ('Stem', 10),\n",
       " ('26', 10),\n",
       " ('consecutive', 10),\n",
       " ('final', 10),\n",
       " ('Vaccine', 10),\n",
       " ('incarcerated', 10),\n",
       " ('over', 10),\n",
       " ('Administered', 10),\n",
       " ('Pts', 10),\n",
       " ('Double-Blind', 10),\n",
       " ('13vPnC', 10),\n",
       " ('Hypoglycemia', 10),\n",
       " ('Work', 10),\n",
       " ('Phone', 10),\n",
       " ('point', 10),\n",
       " ('increase', 10),\n",
       " ('underlying', 10),\n",
       " ('migraine', 10),\n",
       " ('achieve', 10),\n",
       " ('Water', 10),\n",
       " ('age', 10),\n",
       " ('dispensed', 10),\n",
       " ('Outcome', 10),\n",
       " ('unavailable', 10),\n",
       " ('Ovarian', 10),\n",
       " ('Returned', 10),\n",
       " ('last', 10),\n",
       " ('Guardian', 10),\n",
       " ('CT', 10),\n",
       " ('Culture', 10),\n",
       " ('initiated', 10),\n",
       " ('Per-Protocol', 10),\n",
       " ('Failures', 10),\n",
       " ('type', 10),\n",
       " ('including', 10),\n",
       " ('stop', 10),\n",
       " ('Inconvenience', 10),\n",
       " ('28', 10),\n",
       " ('lung', 10),\n",
       " ('insulin', 10),\n",
       " ('(no', 10),\n",
       " ('Testosterone', 9),\n",
       " ('job', 9),\n",
       " ('Extended', 9),\n",
       " ('comfort', 9),\n",
       " ('cycle', 9),\n",
       " ('poor/non-compliance', 9),\n",
       " ('Prematurely', 9),\n",
       " ('Additional', 9),\n",
       " ('2.5%', 9),\n",
       " ('lamp', 9),\n",
       " ('wanted', 9),\n",
       " ('(10', 9),\n",
       " ('Persistent', 9),\n",
       " ('Hyperglycemic', 9),\n",
       " ('Achieved', 9),\n",
       " ...]"
      ]
     },
     "execution_count": 116,
     "metadata": {},
     "output_type": "execute_result"
    }
   ],
   "source": [
    "sorted(milestone_count.items(), key=operator.itemgetter(1), reverse=True)"
   ]
  },
  {
   "cell_type": "code",
   "execution_count": null,
   "metadata": {
    "collapsed": true
   },
   "outputs": [],
   "source": [
    "words_of_interest = ['COMPLETED', 'Completed', 'completed',\n",
    "                     'STARTED', \n",
    "                     'Adverse', 'adverse', \n",
    "                     'Relapse', 'relapse', 'Progression/relapse', 'worsening', 'Recurrent'\n",
    "                     'Pain', 'Discomfort',\n",
    "                     'Death', 'death', 'Toxicity','toxicity',\n",
    "                     'Withdrawal', 'withdrawal', 'withdrew', 'Withdrawn', 'withdrawn',\n",
    "                     'Discontinuation', 'discontinued',\n",
    "                     'Exclusion', 'exclusion',\n",
    "                     'Randomized','randomization', 'Randomised',\n",
    "                     'Incarcerated', 'incarcerated',\n",
    "                     'Treated', 'treated', 'TREATED',\n",
    "                    'Noncompliance', 'non-compliance', 'Non-Compliance', 'non-compliant', 'Non-Compliant',\n",
    "                     'Poor/non-compliance', 'Poor/Non-Compliance', 'poor/non-compliance',\n",
    "                     'Ineligible', 'ineligible',\n",
    "                     'Failure', 'failure', 'Failed', 'failed', 'failures',\n",
    "                     'Response', 'response', \n",
    "                     'Terminated', 'terminated', 'Termination', 'termination', 'Closed/Terminated',\n",
    "                     'Ongoing', \n",
    "                    'Refused', 'Discontinued', 'Declined']"
   ]
  },
  {
   "cell_type": "code",
   "execution_count": 7,
   "metadata": {
    "collapsed": false
   },
   "outputs": [
    {
     "name": "stderr",
     "output_type": "stream",
     "text": [
      "b'Skipping line 33151: expected 42 fields, saw 43\\n'\n",
      "b'Skipping line 59729: expected 42 fields, saw 43\\n'\n",
      "b'Skipping line 137282: expected 42 fields, saw 43\\n'\n",
      "b'Skipping line 210235: expected 42 fields, saw 43\\n'\n",
      "b'Skipping line 254292: expected 42 fields, saw 67\\n'\n",
      "/Users/szeitlin/anaconda/envs/clinicaltrials/lib/python3.5/site-packages/IPython/core/interactiveshell.py:2723: DtypeWarning: Columns (18,19,21,39) have mixed types. Specify dtype option on import or set low_memory=False.\n",
      "  interactivity=interactivity, compiler=compiler, result=result)\n"
     ]
    },
    {
     "data": {
      "text/html": [
       "<div>\n",
       "<table border=\"1\" class=\"dataframe\">\n",
       "  <thead>\n",
       "    <tr style=\"text-align: right;\">\n",
       "      <th></th>\n",
       "      <th>NCT_ID</th>\n",
       "      <th>DOWNLOAD_DATE</th>\n",
       "      <th>DOWNLOAD_DATE_DT</th>\n",
       "      <th>ORG_STUDY_ID</th>\n",
       "      <th>BRIEF_TITLE</th>\n",
       "      <th>OFFICIAL_TITLE</th>\n",
       "      <th>ACRONYM</th>\n",
       "      <th>SOURCE</th>\n",
       "      <th>HAS_DMC</th>\n",
       "      <th>OVERALL_STATUS</th>\n",
       "      <th>...</th>\n",
       "      <th>FIRSTRECEIVED_DATE</th>\n",
       "      <th>IS_SECTION_801</th>\n",
       "      <th>IS_FDA_REGULATED</th>\n",
       "      <th>WHY_STOPPED</th>\n",
       "      <th>HAS_EXPANDED_ACCESS</th>\n",
       "      <th>FIRSTRECEIVED_RESULTS_DATE</th>\n",
       "      <th>URL</th>\n",
       "      <th>TARGET_DURATION</th>\n",
       "      <th>STUDY_RANK</th>\n",
       "      <th>LIMITATIONS_AND_CAVEATS</th>\n",
       "    </tr>\n",
       "  </thead>\n",
       "  <tbody>\n",
       "    <tr>\n",
       "      <th>0</th>\n",
       "      <td>NCT00000105</td>\n",
       "      <td>ClinicalTrials.gov processed this data on Marc...</td>\n",
       "      <td>03/24/2016</td>\n",
       "      <td>2002LS032</td>\n",
       "      <td>Vaccination With Tetanus and KLH to Assess Imm...</td>\n",
       "      <td>Vaccination With Tetanus Toxoid and Keyhole Li...</td>\n",
       "      <td>NaN</td>\n",
       "      <td>Masonic Cancer Center, University of Minnesota</td>\n",
       "      <td>Yes</td>\n",
       "      <td>Terminated</td>\n",
       "      <td>...</td>\n",
       "      <td>NaN</td>\n",
       "      <td>NaN</td>\n",
       "      <td>NaN</td>\n",
       "      <td>NaN</td>\n",
       "      <td>NaN</td>\n",
       "      <td>NaN</td>\n",
       "      <td>NaN</td>\n",
       "      <td>NaN</td>\n",
       "      <td>NaN</td>\n",
       "      <td>NaN</td>\n",
       "    </tr>\n",
       "    <tr>\n",
       "      <th>1</th>\n",
       "      <td>-  Patients with Cancer (breast, mel...</td>\n",
       "      <td>NaN</td>\n",
       "      <td>NaN</td>\n",
       "      <td>NaN</td>\n",
       "      <td>NaN</td>\n",
       "      <td>NaN</td>\n",
       "      <td>NaN</td>\n",
       "      <td>NaN</td>\n",
       "      <td>NaN</td>\n",
       "      <td>NaN</td>\n",
       "      <td>...</td>\n",
       "      <td>NaN</td>\n",
       "      <td>NaN</td>\n",
       "      <td>NaN</td>\n",
       "      <td>NaN</td>\n",
       "      <td>NaN</td>\n",
       "      <td>NaN</td>\n",
       "      <td>NaN</td>\n",
       "      <td>NaN</td>\n",
       "      <td>NaN</td>\n",
       "      <td>NaN</td>\n",
       "    </tr>\n",
       "    <tr>\n",
       "      <th>2</th>\n",
       "      <td>-  Transplant patients (umbilical co...</td>\n",
       "      <td>NaN</td>\n",
       "      <td>NaN</td>\n",
       "      <td>NaN</td>\n",
       "      <td>NaN</td>\n",
       "      <td>NaN</td>\n",
       "      <td>NaN</td>\n",
       "      <td>NaN</td>\n",
       "      <td>NaN</td>\n",
       "      <td>NaN</td>\n",
       "      <td>...</td>\n",
       "      <td>NaN</td>\n",
       "      <td>NaN</td>\n",
       "      <td>NaN</td>\n",
       "      <td>NaN</td>\n",
       "      <td>NaN</td>\n",
       "      <td>NaN</td>\n",
       "      <td>NaN</td>\n",
       "      <td>NaN</td>\n",
       "      <td>NaN</td>\n",
       "      <td>NaN</td>\n",
       "    </tr>\n",
       "    <tr>\n",
       "      <th>3</th>\n",
       "      <td>-  Patients receiving other cancer v...</td>\n",
       "      <td>November 2012</td>\n",
       "      <td>November 6, 2012</td>\n",
       "      <td>November 3, 1999</td>\n",
       "      <td>Yes</td>\n",
       "      <td>Yes</td>\n",
       "      <td>Replaced by another study.</td>\n",
       "      <td>No</td>\n",
       "      <td>NaN</td>\n",
       "      <td>https://clinicaltrials.gov/show/NCT00000105</td>\n",
       "      <td>...</td>\n",
       "      <td>NaN</td>\n",
       "      <td>NaN</td>\n",
       "      <td>NaN</td>\n",
       "      <td>NaN</td>\n",
       "      <td>NaN</td>\n",
       "      <td>NaN</td>\n",
       "      <td>NaN</td>\n",
       "      <td>NaN</td>\n",
       "      <td>NaN</td>\n",
       "      <td>NaN</td>\n",
       "    </tr>\n",
       "    <tr>\n",
       "      <th>4</th>\n",
       "      <td>NCT00000106</td>\n",
       "      <td>ClinicalTrials.gov processed this data on Marc...</td>\n",
       "      <td>03/24/2016</td>\n",
       "      <td>NCRR-M01RR03186-9943</td>\n",
       "      <td>41.8 Degree Centigrade Whole Body Hyperthermia...</td>\n",
       "      <td>NaN</td>\n",
       "      <td>NaN</td>\n",
       "      <td>National Center for Research Resources (NCRR)</td>\n",
       "      <td>NaN</td>\n",
       "      <td>Active, not recruiting</td>\n",
       "      <td>...</td>\n",
       "      <td>January 18, 2000</td>\n",
       "      <td>NaN</td>\n",
       "      <td>NaN</td>\n",
       "      <td>NaN</td>\n",
       "      <td>No</td>\n",
       "      <td>NaN</td>\n",
       "      <td>https://clinicaltrials.gov/show/NCT00000106</td>\n",
       "      <td>NaN</td>\n",
       "      <td>211434.0</td>\n",
       "      <td>NaN</td>\n",
       "    </tr>\n",
       "  </tbody>\n",
       "</table>\n",
       "<p>5 rows × 42 columns</p>\n",
       "</div>"
      ],
      "text/plain": [
       "                                              NCT_ID  \\\n",
       "0                                        NCT00000105   \n",
       "1            -  Patients with Cancer (breast, mel...   \n",
       "2            -  Transplant patients (umbilical co...   \n",
       "3            -  Patients receiving other cancer v...   \n",
       "4                                        NCT00000106   \n",
       "\n",
       "                                       DOWNLOAD_DATE  DOWNLOAD_DATE_DT  \\\n",
       "0  ClinicalTrials.gov processed this data on Marc...        03/24/2016   \n",
       "1                                                NaN               NaN   \n",
       "2                                                NaN               NaN   \n",
       "3                                      November 2012  November 6, 2012   \n",
       "4  ClinicalTrials.gov processed this data on Marc...        03/24/2016   \n",
       "\n",
       "           ORG_STUDY_ID                                        BRIEF_TITLE  \\\n",
       "0             2002LS032  Vaccination With Tetanus and KLH to Assess Imm...   \n",
       "1                   NaN                                                NaN   \n",
       "2                   NaN                                                NaN   \n",
       "3      November 3, 1999                                                Yes   \n",
       "4  NCRR-M01RR03186-9943  41.8 Degree Centigrade Whole Body Hyperthermia...   \n",
       "\n",
       "                                      OFFICIAL_TITLE  \\\n",
       "0  Vaccination With Tetanus Toxoid and Keyhole Li...   \n",
       "1                                                NaN   \n",
       "2                                                NaN   \n",
       "3                                                Yes   \n",
       "4                                                NaN   \n",
       "\n",
       "                      ACRONYM                                          SOURCE  \\\n",
       "0                         NaN  Masonic Cancer Center, University of Minnesota   \n",
       "1                         NaN                                             NaN   \n",
       "2                         NaN                                             NaN   \n",
       "3  Replaced by another study.                                              No   \n",
       "4                         NaN   National Center for Research Resources (NCRR)   \n",
       "\n",
       "  HAS_DMC                               OVERALL_STATUS  \\\n",
       "0     Yes                                   Terminated   \n",
       "1     NaN                                          NaN   \n",
       "2     NaN                                          NaN   \n",
       "3     NaN  https://clinicaltrials.gov/show/NCT00000105   \n",
       "4     NaN                       Active, not recruiting   \n",
       "\n",
       "            ...           FIRSTRECEIVED_DATE IS_SECTION_801 IS_FDA_REGULATED  \\\n",
       "0           ...                          NaN            NaN              NaN   \n",
       "1           ...                          NaN            NaN              NaN   \n",
       "2           ...                          NaN            NaN              NaN   \n",
       "3           ...                          NaN            NaN              NaN   \n",
       "4           ...             January 18, 2000            NaN              NaN   \n",
       "\n",
       "  WHY_STOPPED HAS_EXPANDED_ACCESS FIRSTRECEIVED_RESULTS_DATE  \\\n",
       "0         NaN                 NaN                        NaN   \n",
       "1         NaN                 NaN                        NaN   \n",
       "2         NaN                 NaN                        NaN   \n",
       "3         NaN                 NaN                        NaN   \n",
       "4         NaN                  No                        NaN   \n",
       "\n",
       "                                           URL TARGET_DURATION STUDY_RANK  \\\n",
       "0                                          NaN             NaN        NaN   \n",
       "1                                          NaN             NaN        NaN   \n",
       "2                                          NaN             NaN        NaN   \n",
       "3                                          NaN             NaN        NaN   \n",
       "4  https://clinicaltrials.gov/show/NCT00000106             NaN   211434.0   \n",
       "\n",
       "  LIMITATIONS_AND_CAVEATS  \n",
       "0                     NaN  \n",
       "1                     NaN  \n",
       "2                     NaN  \n",
       "3                     NaN  \n",
       "4                     NaN  \n",
       "\n",
       "[5 rows x 42 columns]"
      ]
     },
     "execution_count": 7,
     "metadata": {},
     "output_type": "execute_result"
    }
   ],
   "source": [
    "clinical_studies = pd.read_csv('clinical_study_noclob.txt', sep='|', error_bad_lines = False)\n",
    "clinical_studies.head()"
   ]
  },
  {
   "cell_type": "code",
   "execution_count": 8,
   "metadata": {
    "collapsed": false
   },
   "outputs": [
    {
     "data": {
      "text/plain": [
       "Index(['NCT_ID', 'DOWNLOAD_DATE', 'DOWNLOAD_DATE_DT', 'ORG_STUDY_ID',\n",
       "       'BRIEF_TITLE', 'OFFICIAL_TITLE', 'ACRONYM', 'SOURCE', 'HAS_DMC',\n",
       "       'OVERALL_STATUS', 'START_DATE', 'COMPLETION_DATE',\n",
       "       'COMPLETION_DATE_TYPE', 'PRIMARY_COMPLETION_DATE',\n",
       "       'PRIMARY_COMPLETION_DATE_TYPE', 'PHASE', 'STUDY_TYPE', 'STUDY_DESIGN',\n",
       "       'NUMBER_OF_ARMS', 'NUMBER_OF_GROUPS', 'ENROLLMENT_TYPE', 'ENROLLMENT',\n",
       "       'BIOSPEC_RETENTION', 'BIOSPEC_DESCR', 'GENDER', 'MINIMUM_AGE',\n",
       "       'MAXIMUM_AGE', 'HEALTHY_VOLUNTEERS', 'SAMPLING_METHOD', 'STUDY_POP',\n",
       "       'VERIFICATION_DATE', 'LASTCHANGED_DATE', 'FIRSTRECEIVED_DATE',\n",
       "       'IS_SECTION_801', 'IS_FDA_REGULATED', 'WHY_STOPPED',\n",
       "       'HAS_EXPANDED_ACCESS', 'FIRSTRECEIVED_RESULTS_DATE', 'URL',\n",
       "       'TARGET_DURATION', 'STUDY_RANK', 'LIMITATIONS_AND_CAVEATS'],\n",
       "      dtype='object')"
      ]
     },
     "execution_count": 8,
     "metadata": {},
     "output_type": "execute_result"
    }
   ],
   "source": [
    "clinical_studies.columns"
   ]
  },
  {
   "cell_type": "code",
   "execution_count": 38,
   "metadata": {
    "collapsed": false
   },
   "outputs": [
    {
     "name": "stderr",
     "output_type": "stream",
     "text": [
      "/Users/szeitlin/anaconda/envs/clinicaltrials/lib/python3.5/site-packages/IPython/core/interactiveshell.py:2723: DtypeWarning: Columns (4,5,6,7) have mixed types. Specify dtype option on import or set low_memory=False.\n",
      "  interactivity=interactivity, compiler=compiler, result=result)\n"
     ]
    },
    {
     "data": {
      "text/html": [
       "<div>\n",
       "<table border=\"1\" class=\"dataframe\">\n",
       "  <thead>\n",
       "    <tr style=\"text-align: right;\">\n",
       "      <th></th>\n",
       "      <th>BASELINE_MEASURE_CATGY_ID</th>\n",
       "      <th>BASELINE_ID</th>\n",
       "      <th>CATEGORY_TITLE</th>\n",
       "      <th>ARM_GROUP_ID</th>\n",
       "      <th>BASELINE_VALUE</th>\n",
       "      <th>SPREAD</th>\n",
       "      <th>LOWER_LIMIT</th>\n",
       "      <th>UPPER_LIMIT</th>\n",
       "    </tr>\n",
       "  </thead>\n",
       "  <tbody>\n",
       "    <tr>\n",
       "      <th>0</th>\n",
       "      <td>116</td>\n",
       "      <td>141</td>\n",
       "      <td>Black</td>\n",
       "      <td>337293</td>\n",
       "      <td>10</td>\n",
       "      <td>NaN</td>\n",
       "      <td>NaN</td>\n",
       "      <td>NaN</td>\n",
       "    </tr>\n",
       "    <tr>\n",
       "      <th>1</th>\n",
       "      <td>117</td>\n",
       "      <td>142</td>\n",
       "      <td>United States</td>\n",
       "      <td>337293</td>\n",
       "      <td>215</td>\n",
       "      <td>NaN</td>\n",
       "      <td>NaN</td>\n",
       "      <td>NaN</td>\n",
       "    </tr>\n",
       "    <tr>\n",
       "      <th>2</th>\n",
       "      <td>118</td>\n",
       "      <td>143</td>\n",
       "      <td>NaN</td>\n",
       "      <td>337294</td>\n",
       "      <td>9968</td>\n",
       "      <td>NaN</td>\n",
       "      <td>NaN</td>\n",
       "      <td>NaN</td>\n",
       "    </tr>\n",
       "    <tr>\n",
       "      <th>3</th>\n",
       "      <td>119</td>\n",
       "      <td>144</td>\n",
       "      <td>&lt;=18 years</td>\n",
       "      <td>337294</td>\n",
       "      <td>0</td>\n",
       "      <td>NaN</td>\n",
       "      <td>NaN</td>\n",
       "      <td>NaN</td>\n",
       "    </tr>\n",
       "    <tr>\n",
       "      <th>4</th>\n",
       "      <td>120</td>\n",
       "      <td>144</td>\n",
       "      <td>Between 18 and 65 years</td>\n",
       "      <td>337294</td>\n",
       "      <td>8981</td>\n",
       "      <td>NaN</td>\n",
       "      <td>NaN</td>\n",
       "      <td>NaN</td>\n",
       "    </tr>\n",
       "  </tbody>\n",
       "</table>\n",
       "</div>"
      ],
      "text/plain": [
       "   BASELINE_MEASURE_CATGY_ID  BASELINE_ID           CATEGORY_TITLE  \\\n",
       "0                        116          141                    Black   \n",
       "1                        117          142            United States   \n",
       "2                        118          143                      NaN   \n",
       "3                        119          144               <=18 years   \n",
       "4                        120          144  Between 18 and 65 years   \n",
       "\n",
       "   ARM_GROUP_ID BASELINE_VALUE SPREAD LOWER_LIMIT UPPER_LIMIT  \n",
       "0        337293             10    NaN         NaN         NaN  \n",
       "1        337293            215    NaN         NaN         NaN  \n",
       "2        337294           9968    NaN         NaN         NaN  \n",
       "3        337294              0    NaN         NaN         NaN  \n",
       "4        337294           8981    NaN         NaN         NaN  "
      ]
     },
     "execution_count": 38,
     "metadata": {},
     "output_type": "execute_result"
    }
   ],
   "source": [
    "baseline = pd.read_csv('results_baseline_measure_catgy.txt', sep='|')\n",
    "baseline.head()"
   ]
  },
  {
   "cell_type": "code",
   "execution_count": 39,
   "metadata": {
    "collapsed": false
   },
   "outputs": [
    {
     "data": {
      "text/html": [
       "<div>\n",
       "<table border=\"1\" class=\"dataframe\">\n",
       "  <thead>\n",
       "    <tr style=\"text-align: right;\">\n",
       "      <th></th>\n",
       "      <th>BASELINE_ID</th>\n",
       "      <th>RSLTS_BASELINE_ID</th>\n",
       "      <th>BASELINE_MEASURE_TITLE</th>\n",
       "      <th>DESCRIPTION</th>\n",
       "      <th>UNITS_OF_MEASURE</th>\n",
       "      <th>MEASURE_TYPE</th>\n",
       "      <th>DISPERSION</th>\n",
       "    </tr>\n",
       "  </thead>\n",
       "  <tbody>\n",
       "    <tr>\n",
       "      <th>0</th>\n",
       "      <td>91</td>\n",
       "      <td>30</td>\n",
       "      <td>Gender</td>\n",
       "      <td>NaN</td>\n",
       "      <td>participants</td>\n",
       "      <td>Number</td>\n",
       "      <td>NaN</td>\n",
       "    </tr>\n",
       "    <tr>\n",
       "      <th>1</th>\n",
       "      <td>92</td>\n",
       "      <td>30</td>\n",
       "      <td>Region of Enrollment</td>\n",
       "      <td>NaN</td>\n",
       "      <td>participants</td>\n",
       "      <td>Number</td>\n",
       "      <td>NaN</td>\n",
       "    </tr>\n",
       "    <tr>\n",
       "      <th>2</th>\n",
       "      <td>93</td>\n",
       "      <td>31</td>\n",
       "      <td>Number of Participants</td>\n",
       "      <td>NaN</td>\n",
       "      <td>participants</td>\n",
       "      <td>Number</td>\n",
       "      <td>NaN</td>\n",
       "    </tr>\n",
       "    <tr>\n",
       "      <th>3</th>\n",
       "      <td>94</td>\n",
       "      <td>31</td>\n",
       "      <td>Age</td>\n",
       "      <td>NaN</td>\n",
       "      <td>years</td>\n",
       "      <td>Median</td>\n",
       "      <td>Full Range</td>\n",
       "    </tr>\n",
       "    <tr>\n",
       "      <th>4</th>\n",
       "      <td>95</td>\n",
       "      <td>31</td>\n",
       "      <td>Gender</td>\n",
       "      <td>NaN</td>\n",
       "      <td>participants</td>\n",
       "      <td>Number</td>\n",
       "      <td>NaN</td>\n",
       "    </tr>\n",
       "  </tbody>\n",
       "</table>\n",
       "</div>"
      ],
      "text/plain": [
       "  BASELINE_ID RSLTS_BASELINE_ID  BASELINE_MEASURE_TITLE DESCRIPTION  \\\n",
       "0          91                30                  Gender         NaN   \n",
       "1          92                30    Region of Enrollment         NaN   \n",
       "2          93                31  Number of Participants         NaN   \n",
       "3          94                31                     Age         NaN   \n",
       "4          95                31                  Gender         NaN   \n",
       "\n",
       "  UNITS_OF_MEASURE MEASURE_TYPE  DISPERSION  \n",
       "0     participants       Number         NaN  \n",
       "1     participants       Number         NaN  \n",
       "2     participants       Number         NaN  \n",
       "3            years       Median  Full Range  \n",
       "4     participants       Number         NaN  "
      ]
     },
     "execution_count": 39,
     "metadata": {},
     "output_type": "execute_result"
    }
   ],
   "source": [
    "baseline_measure = pd.read_csv('results_baseline_measure.txt', sep='|')\n",
    "baseline_measure.head()"
   ]
  },
  {
   "cell_type": "code",
   "execution_count": 44,
   "metadata": {
    "collapsed": false
   },
   "outputs": [
    {
     "data": {
      "text/html": [
       "<div>\n",
       "<table border=\"1\" class=\"dataframe\">\n",
       "  <thead>\n",
       "    <tr style=\"text-align: right;\">\n",
       "      <th></th>\n",
       "      <th>BASELINE_MEASURE_CATGY_ID</th>\n",
       "      <th>BASELINE_ID</th>\n",
       "      <th>CATEGORY_TITLE</th>\n",
       "      <th>ARM_GROUP_ID</th>\n",
       "      <th>BASELINE_VALUE</th>\n",
       "      <th>SPREAD</th>\n",
       "      <th>LOWER_LIMIT</th>\n",
       "      <th>UPPER_LIMIT</th>\n",
       "      <th>RSLTS_BASELINE_ID</th>\n",
       "      <th>BASELINE_MEASURE_TITLE</th>\n",
       "      <th>DESCRIPTION</th>\n",
       "      <th>UNITS_OF_MEASURE</th>\n",
       "      <th>MEASURE_TYPE</th>\n",
       "      <th>DISPERSION</th>\n",
       "    </tr>\n",
       "  </thead>\n",
       "  <tbody>\n",
       "    <tr>\n",
       "      <th>0</th>\n",
       "      <td>116</td>\n",
       "      <td>141</td>\n",
       "      <td>Black</td>\n",
       "      <td>337293</td>\n",
       "      <td>10</td>\n",
       "      <td>NaN</td>\n",
       "      <td>NaN</td>\n",
       "      <td>NaN</td>\n",
       "      <td>NaN</td>\n",
       "      <td>NaN</td>\n",
       "      <td>NaN</td>\n",
       "      <td>NaN</td>\n",
       "      <td>NaN</td>\n",
       "      <td>NaN</td>\n",
       "    </tr>\n",
       "    <tr>\n",
       "      <th>1</th>\n",
       "      <td>117</td>\n",
       "      <td>142</td>\n",
       "      <td>United States</td>\n",
       "      <td>337293</td>\n",
       "      <td>215</td>\n",
       "      <td>NaN</td>\n",
       "      <td>NaN</td>\n",
       "      <td>NaN</td>\n",
       "      <td>NaN</td>\n",
       "      <td>NaN</td>\n",
       "      <td>NaN</td>\n",
       "      <td>NaN</td>\n",
       "      <td>NaN</td>\n",
       "      <td>NaN</td>\n",
       "    </tr>\n",
       "    <tr>\n",
       "      <th>2</th>\n",
       "      <td>118</td>\n",
       "      <td>143</td>\n",
       "      <td>NaN</td>\n",
       "      <td>337294</td>\n",
       "      <td>9968</td>\n",
       "      <td>NaN</td>\n",
       "      <td>NaN</td>\n",
       "      <td>NaN</td>\n",
       "      <td>NaN</td>\n",
       "      <td>NaN</td>\n",
       "      <td>NaN</td>\n",
       "      <td>NaN</td>\n",
       "      <td>NaN</td>\n",
       "      <td>NaN</td>\n",
       "    </tr>\n",
       "    <tr>\n",
       "      <th>3</th>\n",
       "      <td>119</td>\n",
       "      <td>144</td>\n",
       "      <td>&lt;=18 years</td>\n",
       "      <td>337294</td>\n",
       "      <td>0</td>\n",
       "      <td>NaN</td>\n",
       "      <td>NaN</td>\n",
       "      <td>NaN</td>\n",
       "      <td>NaN</td>\n",
       "      <td>NaN</td>\n",
       "      <td>NaN</td>\n",
       "      <td>NaN</td>\n",
       "      <td>NaN</td>\n",
       "      <td>NaN</td>\n",
       "    </tr>\n",
       "    <tr>\n",
       "      <th>4</th>\n",
       "      <td>120</td>\n",
       "      <td>144</td>\n",
       "      <td>Between 18 and 65 years</td>\n",
       "      <td>337294</td>\n",
       "      <td>8981</td>\n",
       "      <td>NaN</td>\n",
       "      <td>NaN</td>\n",
       "      <td>NaN</td>\n",
       "      <td>NaN</td>\n",
       "      <td>NaN</td>\n",
       "      <td>NaN</td>\n",
       "      <td>NaN</td>\n",
       "      <td>NaN</td>\n",
       "      <td>NaN</td>\n",
       "    </tr>\n",
       "  </tbody>\n",
       "</table>\n",
       "</div>"
      ],
      "text/plain": [
       "   BASELINE_MEASURE_CATGY_ID  BASELINE_ID           CATEGORY_TITLE  \\\n",
       "0                        116          141                    Black   \n",
       "1                        117          142            United States   \n",
       "2                        118          143                      NaN   \n",
       "3                        119          144               <=18 years   \n",
       "4                        120          144  Between 18 and 65 years   \n",
       "\n",
       "   ARM_GROUP_ID BASELINE_VALUE SPREAD LOWER_LIMIT UPPER_LIMIT  \\\n",
       "0        337293             10    NaN         NaN         NaN   \n",
       "1        337293            215    NaN         NaN         NaN   \n",
       "2        337294           9968    NaN         NaN         NaN   \n",
       "3        337294              0    NaN         NaN         NaN   \n",
       "4        337294           8981    NaN         NaN         NaN   \n",
       "\n",
       "  RSLTS_BASELINE_ID BASELINE_MEASURE_TITLE DESCRIPTION UNITS_OF_MEASURE  \\\n",
       "0               NaN                    NaN         NaN              NaN   \n",
       "1               NaN                    NaN         NaN              NaN   \n",
       "2               NaN                    NaN         NaN              NaN   \n",
       "3               NaN                    NaN         NaN              NaN   \n",
       "4               NaN                    NaN         NaN              NaN   \n",
       "\n",
       "  MEASURE_TYPE DISPERSION  \n",
       "0          NaN        NaN  \n",
       "1          NaN        NaN  \n",
       "2          NaN        NaN  \n",
       "3          NaN        NaN  \n",
       "4          NaN        NaN  "
      ]
     },
     "execution_count": 44,
     "metadata": {},
     "output_type": "execute_result"
    }
   ],
   "source": [
    "measured = baseline.merge(baseline_measure, how='left', on='BASELINE_ID')\n",
    "measured.head()"
   ]
  },
  {
   "cell_type": "code",
   "execution_count": null,
   "metadata": {
    "collapsed": true
   },
   "outputs": [],
   "source": []
  }
 ],
 "metadata": {
  "kernelspec": {
   "display_name": "Python 3",
   "language": "python",
   "name": "python3"
  },
  "language_info": {
   "codemirror_mode": {
    "name": "ipython",
    "version": 3
   },
   "file_extension": ".py",
   "mimetype": "text/x-python",
   "name": "python",
   "nbconvert_exporter": "python",
   "pygments_lexer": "ipython3",
   "version": "3.5.2"
  }
 },
 "nbformat": 4,
 "nbformat_minor": 0
}
